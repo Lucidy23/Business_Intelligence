{
 "cells": [
  {
   "cell_type": "code",
   "execution_count": 4,
   "metadata": {},
   "outputs": [],
   "source": [
    "import pandas as pd\n",
    "import numpy as np\n",
    "import plotly.express as px\n",
    "import datetime"
   ]
  },
  {
   "cell_type": "code",
   "execution_count": 2,
   "metadata": {},
   "outputs": [],
   "source": [
    "# Laden der Parquet Datei in einen Dataframe\n",
    "df = pd.read_parquet('escooter_history.parquet')"
   ]
  },
  {
   "cell_type": "code",
   "execution_count": 5,
   "metadata": {},
   "outputs": [],
   "source": [
    "# Dataframe 8 Jahre zurückverschieben um Holiday und workindday konsistenz zu gewährleisten\n",
    "df[\"datetime\"] = df[\"datetime\"] - datetime.timedelta(2922)"
   ]
  },
  {
   "cell_type": "markdown",
   "metadata": {},
   "source": [
    "# Erstellung des stündlichen DF"
   ]
  },
  {
   "cell_type": "code",
   "execution_count": 6,
   "metadata": {},
   "outputs": [],
   "source": [
    "# gruppieren nach stunden summe von registrierten kunden und zählen von index\n",
    "df_count_hourly = df[['datetime','registered_customer']].resample('1H',on='datetime').agg({'datetime':'count','registered_customer':'sum'}).rename(columns={'datetime':'Bookings'})\n",
    "df_count_hourly.head()\n",
    "df_count_hourly['unregistered_customer'] = df_count_hourly['Bookings'] - df_count_hourly['registered_customer']"
   ]
  },
  {
   "cell_type": "code",
   "execution_count": 7,
   "metadata": {},
   "outputs": [],
   "source": [
    "# gruppieren nach stunden\n",
    "df_mean_hourly = df.resample('1H',on='datetime').mean()\n",
    "df_mean_hourly.drop(['registered_customer'],axis=1,inplace=True)"
   ]
  },
  {
   "cell_type": "code",
   "execution_count": 8,
   "metadata": {},
   "outputs": [
    {
     "data": {
      "text/html": [
       "<div>\n",
       "<style scoped>\n",
       "    .dataframe tbody tr th:only-of-type {\n",
       "        vertical-align: middle;\n",
       "    }\n",
       "\n",
       "    .dataframe tbody tr th {\n",
       "        vertical-align: top;\n",
       "    }\n",
       "\n",
       "    .dataframe thead th {\n",
       "        text-align: right;\n",
       "    }\n",
       "</style>\n",
       "<table border=\"1\" class=\"dataframe\">\n",
       "  <thead>\n",
       "    <tr style=\"text-align: right;\">\n",
       "      <th></th>\n",
       "      <th>datetime</th>\n",
       "      <th>Bookings</th>\n",
       "      <th>registered_customer</th>\n",
       "      <th>unregistered_customer</th>\n",
       "      <th>holiday</th>\n",
       "      <th>workingday</th>\n",
       "      <th>temp</th>\n",
       "      <th>atemp</th>\n",
       "      <th>humidity</th>\n",
       "      <th>windspeed</th>\n",
       "    </tr>\n",
       "  </thead>\n",
       "  <tbody>\n",
       "    <tr>\n",
       "      <th>0</th>\n",
       "      <td>2011-01-01 00:00:00</td>\n",
       "      <td>16</td>\n",
       "      <td>13</td>\n",
       "      <td>3</td>\n",
       "      <td>0.0</td>\n",
       "      <td>0.0</td>\n",
       "      <td>9.84</td>\n",
       "      <td>14.395</td>\n",
       "      <td>81.0</td>\n",
       "      <td>0.0</td>\n",
       "    </tr>\n",
       "    <tr>\n",
       "      <th>1</th>\n",
       "      <td>2011-01-01 01:00:00</td>\n",
       "      <td>40</td>\n",
       "      <td>32</td>\n",
       "      <td>8</td>\n",
       "      <td>0.0</td>\n",
       "      <td>0.0</td>\n",
       "      <td>9.02</td>\n",
       "      <td>13.635</td>\n",
       "      <td>80.0</td>\n",
       "      <td>0.0</td>\n",
       "    </tr>\n",
       "    <tr>\n",
       "      <th>2</th>\n",
       "      <td>2011-01-01 02:00:00</td>\n",
       "      <td>32</td>\n",
       "      <td>27</td>\n",
       "      <td>5</td>\n",
       "      <td>0.0</td>\n",
       "      <td>0.0</td>\n",
       "      <td>9.02</td>\n",
       "      <td>13.635</td>\n",
       "      <td>80.0</td>\n",
       "      <td>0.0</td>\n",
       "    </tr>\n",
       "    <tr>\n",
       "      <th>3</th>\n",
       "      <td>2011-01-01 03:00:00</td>\n",
       "      <td>13</td>\n",
       "      <td>10</td>\n",
       "      <td>3</td>\n",
       "      <td>0.0</td>\n",
       "      <td>0.0</td>\n",
       "      <td>9.84</td>\n",
       "      <td>14.395</td>\n",
       "      <td>75.0</td>\n",
       "      <td>0.0</td>\n",
       "    </tr>\n",
       "    <tr>\n",
       "      <th>4</th>\n",
       "      <td>2011-01-01 04:00:00</td>\n",
       "      <td>1</td>\n",
       "      <td>1</td>\n",
       "      <td>0</td>\n",
       "      <td>0.0</td>\n",
       "      <td>0.0</td>\n",
       "      <td>9.84</td>\n",
       "      <td>14.395</td>\n",
       "      <td>75.0</td>\n",
       "      <td>0.0</td>\n",
       "    </tr>\n",
       "  </tbody>\n",
       "</table>\n",
       "</div>"
      ],
      "text/plain": [
       "             datetime  Bookings  registered_customer  unregistered_customer  \\\n",
       "0 2011-01-01 00:00:00        16                   13                      3   \n",
       "1 2011-01-01 01:00:00        40                   32                      8   \n",
       "2 2011-01-01 02:00:00        32                   27                      5   \n",
       "3 2011-01-01 03:00:00        13                   10                      3   \n",
       "4 2011-01-01 04:00:00         1                    1                      0   \n",
       "\n",
       "   holiday  workingday  temp   atemp  humidity  windspeed  \n",
       "0      0.0         0.0  9.84  14.395      81.0        0.0  \n",
       "1      0.0         0.0  9.02  13.635      80.0        0.0  \n",
       "2      0.0         0.0  9.02  13.635      80.0        0.0  \n",
       "3      0.0         0.0  9.84  14.395      75.0        0.0  \n",
       "4      0.0         0.0  9.84  14.395      75.0        0.0  "
      ]
     },
     "execution_count": 8,
     "metadata": {},
     "output_type": "execute_result"
    }
   ],
   "source": [
    "df_hourly = pd.merge(df_count_hourly,df_mean_hourly,on='datetime').reset_index()\n",
    "df_hourly.head()"
   ]
  },
  {
   "cell_type": "code",
   "execution_count": 9,
   "metadata": {},
   "outputs": [],
   "source": [
    "#### Hinzufügen von ergänzenden Werten\n",
    "df_hourly['day_of_week'] = df_hourly['datetime'].dt.dayofweek\n",
    "df_hourly['weekday'] = df_hourly['datetime'].dt.day_name()\n",
    "season_dict = { 1 : \"Winter\", 2 : \"Spring\", 3 : \"Summer\", 4 :\"Autumn\"}\n",
    "df_hourly[\"season\"] = df_hourly[\"datetime\"].dt.month % 12 // 3 + 1\n",
    "df_hourly[\"season\"] =  df_hourly[\"season\"].map(season_dict)\n",
    "df_hourly['week_of_year'] =  df_hourly['datetime'].dt.isocalendar().week\n",
    "df_hourly['hour'] = df_hourly['datetime'].dt.hour\n",
    "df_hourly['day'] = df_hourly['datetime'].dt.day\n",
    "df_hourly['month'] = df_hourly['datetime'].dt.month\n",
    "df_hourly['year'] =  df_hourly['datetime'].dt.year\n",
    "df_hourly['date'] = df_hourly['datetime'].dt.date"
   ]
  },
  {
   "cell_type": "code",
   "execution_count": 10,
   "metadata": {},
   "outputs": [],
   "source": [
    "# löschen von Stunden an denen keine Buchung vor kam\n",
    "df_hourly = df_hourly[~(df_hourly['Bookings']==0)]"
   ]
  },
  {
   "cell_type": "markdown",
   "metadata": {},
   "source": [
    "# Erstellung des täglichen DF"
   ]
  },
  {
   "cell_type": "code",
   "execution_count": 13,
   "metadata": {},
   "outputs": [
    {
     "data": {
      "text/html": [
       "<div>\n",
       "<style scoped>\n",
       "    .dataframe tbody tr th:only-of-type {\n",
       "        vertical-align: middle;\n",
       "    }\n",
       "\n",
       "    .dataframe tbody tr th {\n",
       "        vertical-align: top;\n",
       "    }\n",
       "\n",
       "    .dataframe thead th {\n",
       "        text-align: right;\n",
       "    }\n",
       "</style>\n",
       "<table border=\"1\" class=\"dataframe\">\n",
       "  <thead>\n",
       "    <tr style=\"text-align: right;\">\n",
       "      <th></th>\n",
       "      <th>datetime</th>\n",
       "      <th>holiday</th>\n",
       "      <th>workingday</th>\n",
       "      <th>temp</th>\n",
       "      <th>atemp</th>\n",
       "      <th>humidity</th>\n",
       "      <th>windspeed</th>\n",
       "      <th>Bookings</th>\n",
       "      <th>registered_customer</th>\n",
       "      <th>unregistered_customer</th>\n",
       "    </tr>\n",
       "  </thead>\n",
       "  <tbody>\n",
       "    <tr>\n",
       "      <th>0</th>\n",
       "      <td>2011-01-01</td>\n",
       "      <td>0</td>\n",
       "      <td>0</td>\n",
       "      <td>16.489909</td>\n",
       "      <td>20.405660</td>\n",
       "      <td>79.678173</td>\n",
       "      <td>16.226271</td>\n",
       "      <td>985</td>\n",
       "      <td>654</td>\n",
       "      <td>331</td>\n",
       "    </tr>\n",
       "    <tr>\n",
       "      <th>1</th>\n",
       "      <td>2011-01-02</td>\n",
       "      <td>0</td>\n",
       "      <td>0</td>\n",
       "      <td>14.415006</td>\n",
       "      <td>16.837996</td>\n",
       "      <td>67.141074</td>\n",
       "      <td>15.875136</td>\n",
       "      <td>801</td>\n",
       "      <td>670</td>\n",
       "      <td>131</td>\n",
       "    </tr>\n",
       "    <tr>\n",
       "      <th>2</th>\n",
       "      <td>2011-01-03</td>\n",
       "      <td>0</td>\n",
       "      <td>1</td>\n",
       "      <td>8.440104</td>\n",
       "      <td>10.139789</td>\n",
       "      <td>40.287620</td>\n",
       "      <td>14.724723</td>\n",
       "      <td>1349</td>\n",
       "      <td>1229</td>\n",
       "      <td>120</td>\n",
       "    </tr>\n",
       "    <tr>\n",
       "      <th>3</th>\n",
       "      <td>2011-01-04</td>\n",
       "      <td>0</td>\n",
       "      <td>1</td>\n",
       "      <td>9.051498</td>\n",
       "      <td>11.263326</td>\n",
       "      <td>56.411012</td>\n",
       "      <td>12.351703</td>\n",
       "      <td>1562</td>\n",
       "      <td>1454</td>\n",
       "      <td>108</td>\n",
       "    </tr>\n",
       "    <tr>\n",
       "      <th>4</th>\n",
       "      <td>2011-01-05</td>\n",
       "      <td>0</td>\n",
       "      <td>1</td>\n",
       "      <td>9.649350</td>\n",
       "      <td>11.463716</td>\n",
       "      <td>38.230000</td>\n",
       "      <td>14.113181</td>\n",
       "      <td>1600</td>\n",
       "      <td>1518</td>\n",
       "      <td>82</td>\n",
       "    </tr>\n",
       "    <tr>\n",
       "      <th>...</th>\n",
       "      <td>...</td>\n",
       "      <td>...</td>\n",
       "      <td>...</td>\n",
       "      <td>...</td>\n",
       "      <td>...</td>\n",
       "      <td>...</td>\n",
       "      <td>...</td>\n",
       "      <td>...</td>\n",
       "      <td>...</td>\n",
       "      <td>...</td>\n",
       "    </tr>\n",
       "    <tr>\n",
       "      <th>726</th>\n",
       "      <td>2012-12-27</td>\n",
       "      <td>0</td>\n",
       "      <td>1</td>\n",
       "      <td>10.475495</td>\n",
       "      <td>11.515609</td>\n",
       "      <td>59.472229</td>\n",
       "      <td>22.242182</td>\n",
       "      <td>4231</td>\n",
       "      <td>4024</td>\n",
       "      <td>207</td>\n",
       "    </tr>\n",
       "    <tr>\n",
       "      <th>727</th>\n",
       "      <td>2012-12-28</td>\n",
       "      <td>0</td>\n",
       "      <td>1</td>\n",
       "      <td>10.448490</td>\n",
       "      <td>12.771144</td>\n",
       "      <td>58.453446</td>\n",
       "      <td>10.219380</td>\n",
       "      <td>4629</td>\n",
       "      <td>4381</td>\n",
       "      <td>248</td>\n",
       "    </tr>\n",
       "    <tr>\n",
       "      <th>728</th>\n",
       "      <td>2012-12-29</td>\n",
       "      <td>0</td>\n",
       "      <td>0</td>\n",
       "      <td>10.684172</td>\n",
       "      <td>12.120000</td>\n",
       "      <td>77.426304</td>\n",
       "      <td>7.881757</td>\n",
       "      <td>3087</td>\n",
       "      <td>2777</td>\n",
       "      <td>310</td>\n",
       "    </tr>\n",
       "    <tr>\n",
       "      <th>729</th>\n",
       "      <td>2012-12-30</td>\n",
       "      <td>0</td>\n",
       "      <td>0</td>\n",
       "      <td>10.983624</td>\n",
       "      <td>12.108261</td>\n",
       "      <td>44.246362</td>\n",
       "      <td>24.581467</td>\n",
       "      <td>2886</td>\n",
       "      <td>2440</td>\n",
       "      <td>446</td>\n",
       "    </tr>\n",
       "    <tr>\n",
       "      <th>730</th>\n",
       "      <td>2012-12-31</td>\n",
       "      <td>0</td>\n",
       "      <td>1</td>\n",
       "      <td>9.167559</td>\n",
       "      <td>11.673123</td>\n",
       "      <td>57.093926</td>\n",
       "      <td>9.798979</td>\n",
       "      <td>4429</td>\n",
       "      <td>4203</td>\n",
       "      <td>226</td>\n",
       "    </tr>\n",
       "  </tbody>\n",
       "</table>\n",
       "<p>731 rows × 10 columns</p>\n",
       "</div>"
      ],
      "text/plain": [
       "      datetime  holiday  workingday       temp      atemp   humidity  \\\n",
       "0   2011-01-01        0           0  16.489909  20.405660  79.678173   \n",
       "1   2011-01-02        0           0  14.415006  16.837996  67.141074   \n",
       "2   2011-01-03        0           1   8.440104  10.139789  40.287620   \n",
       "3   2011-01-04        0           1   9.051498  11.263326  56.411012   \n",
       "4   2011-01-05        0           1   9.649350  11.463716  38.230000   \n",
       "..         ...      ...         ...        ...        ...        ...   \n",
       "726 2012-12-27        0           1  10.475495  11.515609  59.472229   \n",
       "727 2012-12-28        0           1  10.448490  12.771144  58.453446   \n",
       "728 2012-12-29        0           0  10.684172  12.120000  77.426304   \n",
       "729 2012-12-30        0           0  10.983624  12.108261  44.246362   \n",
       "730 2012-12-31        0           1   9.167559  11.673123  57.093926   \n",
       "\n",
       "     windspeed  Bookings  registered_customer  unregistered_customer  \n",
       "0    16.226271       985                  654                    331  \n",
       "1    15.875136       801                  670                    131  \n",
       "2    14.724723      1349                 1229                    120  \n",
       "3    12.351703      1562                 1454                    108  \n",
       "4    14.113181      1600                 1518                     82  \n",
       "..         ...       ...                  ...                    ...  \n",
       "726  22.242182      4231                 4024                    207  \n",
       "727  10.219380      4629                 4381                    248  \n",
       "728   7.881757      3087                 2777                    310  \n",
       "729  24.581467      2886                 2440                    446  \n",
       "730   9.798979      4429                 4203                    226  \n",
       "\n",
       "[731 rows x 10 columns]"
      ]
     },
     "execution_count": 13,
     "metadata": {},
     "output_type": "execute_result"
    }
   ],
   "source": [
    "df_day = df.set_index('datetime')\n",
    "df_day.index = pd.to_datetime(df_day.index)\n",
    "df_day_mean = df_day.resample('d').mean()\n",
    "df_day_mean = df_day_mean.drop('registered_customer', axis = 1)\n",
    "df_day_bookings = df_day.resample('d')[['temp', 'registered_customer']].agg({'temp' : 'count', 'registered_customer' : 'sum'})\n",
    "df_day_bookings.columns = ['Bookings', 'registered_customer']\n",
    "df_day = pd.merge(df_day_mean.reset_index(), df_day_bookings.reset_index(), on = 'datetime')\n",
    "# df_day['weather'] = df_day['weather'].astype('int')\n",
    "df_day['unregistered_customer'] = df_day.Bookings - df_day.registered_customer\n",
    "df_day[\"holiday\"] = df_day[\"holiday\"].astype(int)\n",
    "df_day[\"workingday\"] = df_day[\"workingday\"].astype(int)\n",
    "df_day"
   ]
  },
  {
   "cell_type": "code",
   "execution_count": 14,
   "metadata": {},
   "outputs": [],
   "source": [
    "# Erstellung eines dummy DF für die Wetter-Attribute\n",
    "df_dummy = pd.get_dummies(df[['datetime', 'weather']])\n",
    "df_dummy['Datum'] = df_dummy.datetime.dt.date\n",
    "df_dummy = df_dummy.groupby(['Datum']).sum()\n",
    "df_dummy = df_dummy.reset_index()\n",
    "df_dummy['Datum'] = pd.to_datetime(df_dummy.Datum)\n",
    "\n",
    "def get_max_dummy(val):\n",
    "    st = val.idxmax()\n",
    "    val[st] = 1\n",
    "    li = ['weather_clear, few clouds', 'weather_cloudy, mist' ,'weather_heavy rain or thunderstorm or snow or ice pallets','weather_light snow or rain or thunderstorm']\n",
    "    li.remove(st)\n",
    "    for el in li:\n",
    "        val[el] = 0\n",
    "    return val\n",
    "\n",
    "df_dummyt = df_dummy.drop('Datum', axis = 1).apply(get_max_dummy, axis=1)\n",
    "df_dummy = pd.merge(df_dummy[['Datum']].reset_index(), df_dummyt.reset_index(), on='index')\n",
    "df_dummy = df_dummy.drop('index', axis = 1)\n",
    "df_dummy = df_dummy.set_index('Datum')\n",
    "df_dummy = df_dummy.astype(int)"
   ]
  },
  {
   "cell_type": "code",
   "execution_count": 15,
   "metadata": {},
   "outputs": [],
   "source": [
    "# Hinzufügen der Dummy Wetter Attribute\n",
    "df_day = pd.merge(df_day, df_dummy.reset_index(), left_on='datetime', right_on='Datum')"
   ]
  },
  {
   "cell_type": "code",
   "execution_count": 16,
   "metadata": {},
   "outputs": [
    {
     "data": {
      "text/html": [
       "<div>\n",
       "<style scoped>\n",
       "    .dataframe tbody tr th:only-of-type {\n",
       "        vertical-align: middle;\n",
       "    }\n",
       "\n",
       "    .dataframe tbody tr th {\n",
       "        vertical-align: top;\n",
       "    }\n",
       "\n",
       "    .dataframe thead th {\n",
       "        text-align: right;\n",
       "    }\n",
       "</style>\n",
       "<table border=\"1\" class=\"dataframe\">\n",
       "  <thead>\n",
       "    <tr style=\"text-align: right;\">\n",
       "      <th></th>\n",
       "      <th>datetime</th>\n",
       "      <th>holiday</th>\n",
       "      <th>workingday</th>\n",
       "      <th>temp</th>\n",
       "      <th>atemp</th>\n",
       "      <th>humidity</th>\n",
       "      <th>windspeed</th>\n",
       "      <th>Bookings</th>\n",
       "      <th>registered_customer</th>\n",
       "      <th>unregistered_customer</th>\n",
       "      <th>...</th>\n",
       "      <th>weather_cloudy, mist</th>\n",
       "      <th>weather_heacy rain or thunderstorm or snow or ice pallets</th>\n",
       "      <th>weather_light snow or rain or thunderstorm</th>\n",
       "      <th>weather_heavy rain or thunderstorm or snow or ice pallets</th>\n",
       "      <th>day_of_week</th>\n",
       "      <th>season</th>\n",
       "      <th>week_of_year</th>\n",
       "      <th>day</th>\n",
       "      <th>month</th>\n",
       "      <th>year</th>\n",
       "    </tr>\n",
       "  </thead>\n",
       "  <tbody>\n",
       "    <tr>\n",
       "      <th>0</th>\n",
       "      <td>2011-01-01</td>\n",
       "      <td>0</td>\n",
       "      <td>0</td>\n",
       "      <td>16.489909</td>\n",
       "      <td>20.405660</td>\n",
       "      <td>79.678173</td>\n",
       "      <td>16.226271</td>\n",
       "      <td>985</td>\n",
       "      <td>654</td>\n",
       "      <td>331</td>\n",
       "      <td>...</td>\n",
       "      <td>1</td>\n",
       "      <td>0</td>\n",
       "      <td>0</td>\n",
       "      <td>0</td>\n",
       "      <td>5</td>\n",
       "      <td>1</td>\n",
       "      <td>52</td>\n",
       "      <td>1</td>\n",
       "      <td>1</td>\n",
       "      <td>2011</td>\n",
       "    </tr>\n",
       "    <tr>\n",
       "      <th>1</th>\n",
       "      <td>2011-01-02</td>\n",
       "      <td>0</td>\n",
       "      <td>0</td>\n",
       "      <td>14.415006</td>\n",
       "      <td>16.837996</td>\n",
       "      <td>67.141074</td>\n",
       "      <td>15.875136</td>\n",
       "      <td>801</td>\n",
       "      <td>670</td>\n",
       "      <td>131</td>\n",
       "      <td>...</td>\n",
       "      <td>1</td>\n",
       "      <td>0</td>\n",
       "      <td>0</td>\n",
       "      <td>0</td>\n",
       "      <td>6</td>\n",
       "      <td>1</td>\n",
       "      <td>52</td>\n",
       "      <td>2</td>\n",
       "      <td>1</td>\n",
       "      <td>2011</td>\n",
       "    </tr>\n",
       "    <tr>\n",
       "      <th>2</th>\n",
       "      <td>2011-01-03</td>\n",
       "      <td>0</td>\n",
       "      <td>1</td>\n",
       "      <td>8.440104</td>\n",
       "      <td>10.139789</td>\n",
       "      <td>40.287620</td>\n",
       "      <td>14.724723</td>\n",
       "      <td>1349</td>\n",
       "      <td>1229</td>\n",
       "      <td>120</td>\n",
       "      <td>...</td>\n",
       "      <td>0</td>\n",
       "      <td>0</td>\n",
       "      <td>0</td>\n",
       "      <td>0</td>\n",
       "      <td>0</td>\n",
       "      <td>1</td>\n",
       "      <td>1</td>\n",
       "      <td>3</td>\n",
       "      <td>1</td>\n",
       "      <td>2011</td>\n",
       "    </tr>\n",
       "    <tr>\n",
       "      <th>3</th>\n",
       "      <td>2011-01-04</td>\n",
       "      <td>0</td>\n",
       "      <td>1</td>\n",
       "      <td>9.051498</td>\n",
       "      <td>11.263326</td>\n",
       "      <td>56.411012</td>\n",
       "      <td>12.351703</td>\n",
       "      <td>1562</td>\n",
       "      <td>1454</td>\n",
       "      <td>108</td>\n",
       "      <td>...</td>\n",
       "      <td>0</td>\n",
       "      <td>0</td>\n",
       "      <td>0</td>\n",
       "      <td>0</td>\n",
       "      <td>1</td>\n",
       "      <td>1</td>\n",
       "      <td>1</td>\n",
       "      <td>4</td>\n",
       "      <td>1</td>\n",
       "      <td>2011</td>\n",
       "    </tr>\n",
       "    <tr>\n",
       "      <th>4</th>\n",
       "      <td>2011-01-05</td>\n",
       "      <td>0</td>\n",
       "      <td>1</td>\n",
       "      <td>9.649350</td>\n",
       "      <td>11.463716</td>\n",
       "      <td>38.230000</td>\n",
       "      <td>14.113181</td>\n",
       "      <td>1600</td>\n",
       "      <td>1518</td>\n",
       "      <td>82</td>\n",
       "      <td>...</td>\n",
       "      <td>0</td>\n",
       "      <td>0</td>\n",
       "      <td>0</td>\n",
       "      <td>0</td>\n",
       "      <td>2</td>\n",
       "      <td>1</td>\n",
       "      <td>1</td>\n",
       "      <td>5</td>\n",
       "      <td>1</td>\n",
       "      <td>2011</td>\n",
       "    </tr>\n",
       "    <tr>\n",
       "      <th>...</th>\n",
       "      <td>...</td>\n",
       "      <td>...</td>\n",
       "      <td>...</td>\n",
       "      <td>...</td>\n",
       "      <td>...</td>\n",
       "      <td>...</td>\n",
       "      <td>...</td>\n",
       "      <td>...</td>\n",
       "      <td>...</td>\n",
       "      <td>...</td>\n",
       "      <td>...</td>\n",
       "      <td>...</td>\n",
       "      <td>...</td>\n",
       "      <td>...</td>\n",
       "      <td>...</td>\n",
       "      <td>...</td>\n",
       "      <td>...</td>\n",
       "      <td>...</td>\n",
       "      <td>...</td>\n",
       "      <td>...</td>\n",
       "      <td>...</td>\n",
       "    </tr>\n",
       "    <tr>\n",
       "      <th>726</th>\n",
       "      <td>2012-12-27</td>\n",
       "      <td>0</td>\n",
       "      <td>1</td>\n",
       "      <td>10.475495</td>\n",
       "      <td>11.515609</td>\n",
       "      <td>59.472229</td>\n",
       "      <td>22.242182</td>\n",
       "      <td>4231</td>\n",
       "      <td>4024</td>\n",
       "      <td>207</td>\n",
       "      <td>...</td>\n",
       "      <td>0</td>\n",
       "      <td>0</td>\n",
       "      <td>0</td>\n",
       "      <td>0</td>\n",
       "      <td>3</td>\n",
       "      <td>1</td>\n",
       "      <td>52</td>\n",
       "      <td>27</td>\n",
       "      <td>12</td>\n",
       "      <td>2012</td>\n",
       "    </tr>\n",
       "    <tr>\n",
       "      <th>727</th>\n",
       "      <td>2012-12-28</td>\n",
       "      <td>0</td>\n",
       "      <td>1</td>\n",
       "      <td>10.448490</td>\n",
       "      <td>12.771144</td>\n",
       "      <td>58.453446</td>\n",
       "      <td>10.219380</td>\n",
       "      <td>4629</td>\n",
       "      <td>4381</td>\n",
       "      <td>248</td>\n",
       "      <td>...</td>\n",
       "      <td>1</td>\n",
       "      <td>0</td>\n",
       "      <td>0</td>\n",
       "      <td>0</td>\n",
       "      <td>4</td>\n",
       "      <td>1</td>\n",
       "      <td>52</td>\n",
       "      <td>28</td>\n",
       "      <td>12</td>\n",
       "      <td>2012</td>\n",
       "    </tr>\n",
       "    <tr>\n",
       "      <th>728</th>\n",
       "      <td>2012-12-29</td>\n",
       "      <td>0</td>\n",
       "      <td>0</td>\n",
       "      <td>10.684172</td>\n",
       "      <td>12.120000</td>\n",
       "      <td>77.426304</td>\n",
       "      <td>7.881757</td>\n",
       "      <td>3087</td>\n",
       "      <td>2777</td>\n",
       "      <td>310</td>\n",
       "      <td>...</td>\n",
       "      <td>1</td>\n",
       "      <td>0</td>\n",
       "      <td>0</td>\n",
       "      <td>0</td>\n",
       "      <td>5</td>\n",
       "      <td>1</td>\n",
       "      <td>52</td>\n",
       "      <td>29</td>\n",
       "      <td>12</td>\n",
       "      <td>2012</td>\n",
       "    </tr>\n",
       "    <tr>\n",
       "      <th>729</th>\n",
       "      <td>2012-12-30</td>\n",
       "      <td>0</td>\n",
       "      <td>0</td>\n",
       "      <td>10.983624</td>\n",
       "      <td>12.108261</td>\n",
       "      <td>44.246362</td>\n",
       "      <td>24.581467</td>\n",
       "      <td>2886</td>\n",
       "      <td>2440</td>\n",
       "      <td>446</td>\n",
       "      <td>...</td>\n",
       "      <td>0</td>\n",
       "      <td>0</td>\n",
       "      <td>0</td>\n",
       "      <td>0</td>\n",
       "      <td>6</td>\n",
       "      <td>1</td>\n",
       "      <td>52</td>\n",
       "      <td>30</td>\n",
       "      <td>12</td>\n",
       "      <td>2012</td>\n",
       "    </tr>\n",
       "    <tr>\n",
       "      <th>730</th>\n",
       "      <td>2012-12-31</td>\n",
       "      <td>0</td>\n",
       "      <td>1</td>\n",
       "      <td>9.167559</td>\n",
       "      <td>11.673123</td>\n",
       "      <td>57.093926</td>\n",
       "      <td>9.798979</td>\n",
       "      <td>4429</td>\n",
       "      <td>4203</td>\n",
       "      <td>226</td>\n",
       "      <td>...</td>\n",
       "      <td>1</td>\n",
       "      <td>0</td>\n",
       "      <td>0</td>\n",
       "      <td>0</td>\n",
       "      <td>0</td>\n",
       "      <td>1</td>\n",
       "      <td>1</td>\n",
       "      <td>31</td>\n",
       "      <td>12</td>\n",
       "      <td>2012</td>\n",
       "    </tr>\n",
       "  </tbody>\n",
       "</table>\n",
       "<p>731 rows × 22 columns</p>\n",
       "</div>"
      ],
      "text/plain": [
       "      datetime  holiday  workingday       temp      atemp   humidity  \\\n",
       "0   2011-01-01        0           0  16.489909  20.405660  79.678173   \n",
       "1   2011-01-02        0           0  14.415006  16.837996  67.141074   \n",
       "2   2011-01-03        0           1   8.440104  10.139789  40.287620   \n",
       "3   2011-01-04        0           1   9.051498  11.263326  56.411012   \n",
       "4   2011-01-05        0           1   9.649350  11.463716  38.230000   \n",
       "..         ...      ...         ...        ...        ...        ...   \n",
       "726 2012-12-27        0           1  10.475495  11.515609  59.472229   \n",
       "727 2012-12-28        0           1  10.448490  12.771144  58.453446   \n",
       "728 2012-12-29        0           0  10.684172  12.120000  77.426304   \n",
       "729 2012-12-30        0           0  10.983624  12.108261  44.246362   \n",
       "730 2012-12-31        0           1   9.167559  11.673123  57.093926   \n",
       "\n",
       "     windspeed  Bookings  registered_customer  unregistered_customer  ...  \\\n",
       "0    16.226271       985                  654                    331  ...   \n",
       "1    15.875136       801                  670                    131  ...   \n",
       "2    14.724723      1349                 1229                    120  ...   \n",
       "3    12.351703      1562                 1454                    108  ...   \n",
       "4    14.113181      1600                 1518                     82  ...   \n",
       "..         ...       ...                  ...                    ...  ...   \n",
       "726  22.242182      4231                 4024                    207  ...   \n",
       "727  10.219380      4629                 4381                    248  ...   \n",
       "728   7.881757      3087                 2777                    310  ...   \n",
       "729  24.581467      2886                 2440                    446  ...   \n",
       "730   9.798979      4429                 4203                    226  ...   \n",
       "\n",
       "    weather_cloudy, mist  \\\n",
       "0                      1   \n",
       "1                      1   \n",
       "2                      0   \n",
       "3                      0   \n",
       "4                      0   \n",
       "..                   ...   \n",
       "726                    0   \n",
       "727                    1   \n",
       "728                    1   \n",
       "729                    0   \n",
       "730                    1   \n",
       "\n",
       "     weather_heacy rain or thunderstorm or snow or ice pallets  \\\n",
       "0                                                    0           \n",
       "1                                                    0           \n",
       "2                                                    0           \n",
       "3                                                    0           \n",
       "4                                                    0           \n",
       "..                                                 ...           \n",
       "726                                                  0           \n",
       "727                                                  0           \n",
       "728                                                  0           \n",
       "729                                                  0           \n",
       "730                                                  0           \n",
       "\n",
       "     weather_light snow or rain or thunderstorm  \\\n",
       "0                                             0   \n",
       "1                                             0   \n",
       "2                                             0   \n",
       "3                                             0   \n",
       "4                                             0   \n",
       "..                                          ...   \n",
       "726                                           0   \n",
       "727                                           0   \n",
       "728                                           0   \n",
       "729                                           0   \n",
       "730                                           0   \n",
       "\n",
       "     weather_heavy rain or thunderstorm or snow or ice pallets  day_of_week  \\\n",
       "0                                                    0                    5   \n",
       "1                                                    0                    6   \n",
       "2                                                    0                    0   \n",
       "3                                                    0                    1   \n",
       "4                                                    0                    2   \n",
       "..                                                 ...                  ...   \n",
       "726                                                  0                    3   \n",
       "727                                                  0                    4   \n",
       "728                                                  0                    5   \n",
       "729                                                  0                    6   \n",
       "730                                                  0                    0   \n",
       "\n",
       "     season  week_of_year  day  month  year  \n",
       "0         1            52    1      1  2011  \n",
       "1         1            52    2      1  2011  \n",
       "2         1             1    3      1  2011  \n",
       "3         1             1    4      1  2011  \n",
       "4         1             1    5      1  2011  \n",
       "..      ...           ...  ...    ...   ...  \n",
       "726       1            52   27     12  2012  \n",
       "727       1            52   28     12  2012  \n",
       "728       1            52   29     12  2012  \n",
       "729       1            52   30     12  2012  \n",
       "730       1             1   31     12  2012  \n",
       "\n",
       "[731 rows x 22 columns]"
      ]
     },
     "execution_count": 16,
     "metadata": {},
     "output_type": "execute_result"
    }
   ],
   "source": [
    "# Zeitwerte werden hinzugefügt\n",
    "df_day['day_of_week'] = df_day['datetime'].dt.dayofweek\n",
    "df_day['season'] =  df_day['datetime'].dt.month%12 // 3 + 1\n",
    "df_day['week_of_year'] =  df_day['datetime'].dt.isocalendar().week\n",
    "df_day['day'] = df_day['datetime'].dt.day\n",
    "df_day['month'] = df_day['datetime'].dt.month\n",
    "df_day['year'] =  df_day['datetime'].dt.year\n",
    "df_day"
   ]
  },
  {
   "cell_type": "markdown",
   "metadata": {},
   "source": [
    "# Regression"
   ]
  },
  {
   "cell_type": "code",
   "execution_count": 45,
   "metadata": {},
   "outputs": [],
   "source": [
    "df_dummy = pd.get_dummies(df[['datetime', 'weather']], columns=['weather'])\n",
    "df_dummy = df_dummy.groupby(['datetime']).mean()\n",
    "df_dummy.index = pd.to_datetime(df_dummy.index)\n",
    "df_dummy = df_dummy.resample('d').mean()\n",
    "df_dummy = df_dummy.reset_index()\n",
    "df_dummy.columns = ['datetime', 'weather_clear', 'weather_cloudy', 'weather_heavy', 'weather_snow']\n",
    "df_reg = pd.merge(df_day, df_dummy, on = 'datetime')"
   ]
  },
  {
   "cell_type": "code",
   "execution_count": 72,
   "metadata": {},
   "outputs": [
    {
     "name": "stdout",
     "output_type": "stream",
     "text": [
      "0.9425884649214492\n",
      "0.9322620457598089\n"
     ]
    }
   ],
   "source": [
    "from sklearn.preprocessing import MinMaxScaler, PolynomialFeatures\n",
    "from sklearn.linear_model import LinearRegression, Ridge, Lasso\n",
    "from sklearn.preprocessing import MinMaxScaler\n",
    "from sklearn.model_selection import train_test_split\n",
    "from sklearn.metrics import r2_score\n",
    "\n",
    "col = ['atemp', 'year', 'workingday', \n",
    "       'weather_clear',  'weather_snow', 'month'] # 'weather_clear', 'weather_cloudy', 'weather_heavy', 'weather_snow', \n",
    "xdf_wm = df_reg[col]\n",
    "xdf_wm = pd.get_dummies(xdf_wm, columns=['month', 'year'])\n",
    "ydf_wm = df_reg[['Bookings']]\n",
    "\n",
    "# Interaction Term\n",
    "poly = PolynomialFeatures(interaction_only=True)\n",
    "xdf_wm = poly.fit_transform(xdf_wm)\n",
    "\n",
    "# Linear Regression\n",
    "X_train, X_test, y_train, y_test = train_test_split(xdf_wm, ydf_wm, test_size=0.25, random_state=42)\n",
    "\n",
    "model = LinearRegression()\n",
    "model.fit(X_train, y_train)\n",
    "print(r2_score(y_train, model.predict(X_train)))\n",
    "print(r2_score(y_test, model.predict(X_test)))"
   ]
  },
  {
   "cell_type": "code",
   "execution_count": 63,
   "metadata": {},
   "outputs": [
    {
     "data": {
      "application/vnd.plotly.v1+json": {
       "config": {
        "plotlyServerURL": "https://plot.ly"
       },
       "data": [
        {
         "hovertemplate": "variable=Bookings<br>Datum=%{x}<br>value=%{y}<extra></extra>",
         "legendgroup": "Bookings",
         "line": {
          "color": "#636efa",
          "dash": "solid"
         },
         "marker": {
          "symbol": "circle"
         },
         "mode": "lines",
         "name": "Bookings",
         "showlegend": true,
         "type": "scattergl",
         "x": [
          "2011-01-01T00:00:00",
          "2011-01-02T00:00:00",
          "2011-01-03T00:00:00",
          "2011-01-04T00:00:00",
          "2011-01-05T00:00:00",
          "2011-01-06T00:00:00",
          "2011-01-07T00:00:00",
          "2011-01-08T00:00:00",
          "2011-01-09T00:00:00",
          "2011-01-10T00:00:00",
          "2011-01-11T00:00:00",
          "2011-01-12T00:00:00",
          "2011-01-13T00:00:00",
          "2011-01-14T00:00:00",
          "2011-01-15T00:00:00",
          "2011-01-16T00:00:00",
          "2011-01-17T00:00:00",
          "2011-01-18T00:00:00",
          "2011-01-19T00:00:00",
          "2011-01-20T00:00:00",
          "2011-01-21T00:00:00",
          "2011-01-22T00:00:00",
          "2011-01-23T00:00:00",
          "2011-01-24T00:00:00",
          "2011-01-25T00:00:00",
          "2011-01-26T00:00:00",
          "2011-01-27T00:00:00",
          "2011-01-28T00:00:00",
          "2011-01-29T00:00:00",
          "2011-01-30T00:00:00",
          "2011-01-31T00:00:00",
          "2011-02-01T00:00:00",
          "2011-02-02T00:00:00",
          "2011-02-03T00:00:00",
          "2011-02-04T00:00:00",
          "2011-02-05T00:00:00",
          "2011-02-06T00:00:00",
          "2011-02-07T00:00:00",
          "2011-02-08T00:00:00",
          "2011-02-09T00:00:00",
          "2011-02-10T00:00:00",
          "2011-02-11T00:00:00",
          "2011-02-12T00:00:00",
          "2011-02-13T00:00:00",
          "2011-02-14T00:00:00",
          "2011-02-15T00:00:00",
          "2011-02-16T00:00:00",
          "2011-02-17T00:00:00",
          "2011-02-18T00:00:00",
          "2011-02-19T00:00:00",
          "2011-02-20T00:00:00",
          "2011-02-21T00:00:00",
          "2011-02-22T00:00:00",
          "2011-02-23T00:00:00",
          "2011-02-24T00:00:00",
          "2011-02-25T00:00:00",
          "2011-02-26T00:00:00",
          "2011-02-27T00:00:00",
          "2011-02-28T00:00:00",
          "2011-03-01T00:00:00",
          "2011-03-02T00:00:00",
          "2011-03-03T00:00:00",
          "2011-03-04T00:00:00",
          "2011-03-05T00:00:00",
          "2011-03-06T00:00:00",
          "2011-03-07T00:00:00",
          "2011-03-08T00:00:00",
          "2011-03-09T00:00:00",
          "2011-03-10T00:00:00",
          "2011-03-11T00:00:00",
          "2011-03-12T00:00:00",
          "2011-03-13T00:00:00",
          "2011-03-14T00:00:00",
          "2011-03-15T00:00:00",
          "2011-03-16T00:00:00",
          "2011-03-17T00:00:00",
          "2011-03-18T00:00:00",
          "2011-03-19T00:00:00",
          "2011-03-20T00:00:00",
          "2011-03-21T00:00:00",
          "2011-03-22T00:00:00",
          "2011-03-23T00:00:00",
          "2011-03-24T00:00:00",
          "2011-03-25T00:00:00",
          "2011-03-26T00:00:00",
          "2011-03-27T00:00:00",
          "2011-03-28T00:00:00",
          "2011-03-29T00:00:00",
          "2011-03-30T00:00:00",
          "2011-03-31T00:00:00",
          "2011-04-01T00:00:00",
          "2011-04-02T00:00:00",
          "2011-04-03T00:00:00",
          "2011-04-04T00:00:00",
          "2011-04-05T00:00:00",
          "2011-04-06T00:00:00",
          "2011-04-07T00:00:00",
          "2011-04-08T00:00:00",
          "2011-04-09T00:00:00",
          "2011-04-10T00:00:00",
          "2011-04-11T00:00:00",
          "2011-04-12T00:00:00",
          "2011-04-13T00:00:00",
          "2011-04-14T00:00:00",
          "2011-04-15T00:00:00",
          "2011-04-16T00:00:00",
          "2011-04-17T00:00:00",
          "2011-04-18T00:00:00",
          "2011-04-19T00:00:00",
          "2011-04-20T00:00:00",
          "2011-04-21T00:00:00",
          "2011-04-22T00:00:00",
          "2011-04-23T00:00:00",
          "2011-04-24T00:00:00",
          "2011-04-25T00:00:00",
          "2011-04-26T00:00:00",
          "2011-04-27T00:00:00",
          "2011-04-28T00:00:00",
          "2011-04-29T00:00:00",
          "2011-04-30T00:00:00",
          "2011-05-01T00:00:00",
          "2011-05-02T00:00:00",
          "2011-05-03T00:00:00",
          "2011-05-04T00:00:00",
          "2011-05-05T00:00:00",
          "2011-05-06T00:00:00",
          "2011-05-07T00:00:00",
          "2011-05-08T00:00:00",
          "2011-05-09T00:00:00",
          "2011-05-10T00:00:00",
          "2011-05-11T00:00:00",
          "2011-05-12T00:00:00",
          "2011-05-13T00:00:00",
          "2011-05-14T00:00:00",
          "2011-05-15T00:00:00",
          "2011-05-16T00:00:00",
          "2011-05-17T00:00:00",
          "2011-05-18T00:00:00",
          "2011-05-19T00:00:00",
          "2011-05-20T00:00:00",
          "2011-05-21T00:00:00",
          "2011-05-22T00:00:00",
          "2011-05-23T00:00:00",
          "2011-05-24T00:00:00",
          "2011-05-25T00:00:00",
          "2011-05-26T00:00:00",
          "2011-05-27T00:00:00",
          "2011-05-28T00:00:00",
          "2011-05-29T00:00:00",
          "2011-05-30T00:00:00",
          "2011-05-31T00:00:00",
          "2011-06-01T00:00:00",
          "2011-06-02T00:00:00",
          "2011-06-03T00:00:00",
          "2011-06-04T00:00:00",
          "2011-06-05T00:00:00",
          "2011-06-06T00:00:00",
          "2011-06-07T00:00:00",
          "2011-06-08T00:00:00",
          "2011-06-09T00:00:00",
          "2011-06-10T00:00:00",
          "2011-06-11T00:00:00",
          "2011-06-12T00:00:00",
          "2011-06-13T00:00:00",
          "2011-06-14T00:00:00",
          "2011-06-15T00:00:00",
          "2011-06-16T00:00:00",
          "2011-06-17T00:00:00",
          "2011-06-18T00:00:00",
          "2011-06-19T00:00:00",
          "2011-06-20T00:00:00",
          "2011-06-21T00:00:00",
          "2011-06-22T00:00:00",
          "2011-06-23T00:00:00",
          "2011-06-24T00:00:00",
          "2011-06-25T00:00:00",
          "2011-06-26T00:00:00",
          "2011-06-27T00:00:00",
          "2011-06-28T00:00:00",
          "2011-06-29T00:00:00",
          "2011-06-30T00:00:00",
          "2011-07-01T00:00:00",
          "2011-07-02T00:00:00",
          "2011-07-03T00:00:00",
          "2011-07-04T00:00:00",
          "2011-07-05T00:00:00",
          "2011-07-06T00:00:00",
          "2011-07-07T00:00:00",
          "2011-07-08T00:00:00",
          "2011-07-09T00:00:00",
          "2011-07-10T00:00:00",
          "2011-07-11T00:00:00",
          "2011-07-12T00:00:00",
          "2011-07-13T00:00:00",
          "2011-07-14T00:00:00",
          "2011-07-15T00:00:00",
          "2011-07-16T00:00:00",
          "2011-07-17T00:00:00",
          "2011-07-18T00:00:00",
          "2011-07-19T00:00:00",
          "2011-07-20T00:00:00",
          "2011-07-21T00:00:00",
          "2011-07-22T00:00:00",
          "2011-07-23T00:00:00",
          "2011-07-24T00:00:00",
          "2011-07-25T00:00:00",
          "2011-07-26T00:00:00",
          "2011-07-27T00:00:00",
          "2011-07-28T00:00:00",
          "2011-07-29T00:00:00",
          "2011-07-30T00:00:00",
          "2011-07-31T00:00:00",
          "2011-08-01T00:00:00",
          "2011-08-02T00:00:00",
          "2011-08-03T00:00:00",
          "2011-08-04T00:00:00",
          "2011-08-05T00:00:00",
          "2011-08-06T00:00:00",
          "2011-08-07T00:00:00",
          "2011-08-08T00:00:00",
          "2011-08-09T00:00:00",
          "2011-08-10T00:00:00",
          "2011-08-11T00:00:00",
          "2011-08-12T00:00:00",
          "2011-08-13T00:00:00",
          "2011-08-14T00:00:00",
          "2011-08-15T00:00:00",
          "2011-08-16T00:00:00",
          "2011-08-17T00:00:00",
          "2011-08-18T00:00:00",
          "2011-08-19T00:00:00",
          "2011-08-20T00:00:00",
          "2011-08-21T00:00:00",
          "2011-08-22T00:00:00",
          "2011-08-23T00:00:00",
          "2011-08-24T00:00:00",
          "2011-08-25T00:00:00",
          "2011-08-26T00:00:00",
          "2011-08-27T00:00:00",
          "2011-08-28T00:00:00",
          "2011-08-29T00:00:00",
          "2011-08-30T00:00:00",
          "2011-08-31T00:00:00",
          "2011-09-01T00:00:00",
          "2011-09-02T00:00:00",
          "2011-09-03T00:00:00",
          "2011-09-04T00:00:00",
          "2011-09-05T00:00:00",
          "2011-09-06T00:00:00",
          "2011-09-07T00:00:00",
          "2011-09-08T00:00:00",
          "2011-09-09T00:00:00",
          "2011-09-10T00:00:00",
          "2011-09-11T00:00:00",
          "2011-09-12T00:00:00",
          "2011-09-13T00:00:00",
          "2011-09-14T00:00:00",
          "2011-09-15T00:00:00",
          "2011-09-16T00:00:00",
          "2011-09-17T00:00:00",
          "2011-09-18T00:00:00",
          "2011-09-19T00:00:00",
          "2011-09-20T00:00:00",
          "2011-09-21T00:00:00",
          "2011-09-22T00:00:00",
          "2011-09-23T00:00:00",
          "2011-09-24T00:00:00",
          "2011-09-25T00:00:00",
          "2011-09-26T00:00:00",
          "2011-09-27T00:00:00",
          "2011-09-28T00:00:00",
          "2011-09-29T00:00:00",
          "2011-09-30T00:00:00",
          "2011-10-01T00:00:00",
          "2011-10-02T00:00:00",
          "2011-10-03T00:00:00",
          "2011-10-04T00:00:00",
          "2011-10-05T00:00:00",
          "2011-10-06T00:00:00",
          "2011-10-07T00:00:00",
          "2011-10-08T00:00:00",
          "2011-10-09T00:00:00",
          "2011-10-10T00:00:00",
          "2011-10-11T00:00:00",
          "2011-10-12T00:00:00",
          "2011-10-13T00:00:00",
          "2011-10-14T00:00:00",
          "2011-10-15T00:00:00",
          "2011-10-16T00:00:00",
          "2011-10-17T00:00:00",
          "2011-10-18T00:00:00",
          "2011-10-19T00:00:00",
          "2011-10-20T00:00:00",
          "2011-10-21T00:00:00",
          "2011-10-22T00:00:00",
          "2011-10-23T00:00:00",
          "2011-10-24T00:00:00",
          "2011-10-25T00:00:00",
          "2011-10-26T00:00:00",
          "2011-10-27T00:00:00",
          "2011-10-28T00:00:00",
          "2011-10-29T00:00:00",
          "2011-10-30T00:00:00",
          "2011-10-31T00:00:00",
          "2011-11-01T00:00:00",
          "2011-11-02T00:00:00",
          "2011-11-03T00:00:00",
          "2011-11-04T00:00:00",
          "2011-11-05T00:00:00",
          "2011-11-06T00:00:00",
          "2011-11-07T00:00:00",
          "2011-11-08T00:00:00",
          "2011-11-09T00:00:00",
          "2011-11-10T00:00:00",
          "2011-11-11T00:00:00",
          "2011-11-12T00:00:00",
          "2011-11-13T00:00:00",
          "2011-11-14T00:00:00",
          "2011-11-15T00:00:00",
          "2011-11-16T00:00:00",
          "2011-11-17T00:00:00",
          "2011-11-18T00:00:00",
          "2011-11-19T00:00:00",
          "2011-11-20T00:00:00",
          "2011-11-21T00:00:00",
          "2011-11-22T00:00:00",
          "2011-11-23T00:00:00",
          "2011-11-24T00:00:00",
          "2011-11-25T00:00:00",
          "2011-11-26T00:00:00",
          "2011-11-27T00:00:00",
          "2011-11-28T00:00:00",
          "2011-11-29T00:00:00",
          "2011-11-30T00:00:00",
          "2011-12-01T00:00:00",
          "2011-12-02T00:00:00",
          "2011-12-03T00:00:00",
          "2011-12-04T00:00:00",
          "2011-12-05T00:00:00",
          "2011-12-06T00:00:00",
          "2011-12-07T00:00:00",
          "2011-12-08T00:00:00",
          "2011-12-09T00:00:00",
          "2011-12-10T00:00:00",
          "2011-12-11T00:00:00",
          "2011-12-12T00:00:00",
          "2011-12-13T00:00:00",
          "2011-12-14T00:00:00",
          "2011-12-15T00:00:00",
          "2011-12-16T00:00:00",
          "2011-12-17T00:00:00",
          "2011-12-18T00:00:00",
          "2011-12-19T00:00:00",
          "2011-12-20T00:00:00",
          "2011-12-21T00:00:00",
          "2011-12-22T00:00:00",
          "2011-12-23T00:00:00",
          "2011-12-24T00:00:00",
          "2011-12-25T00:00:00",
          "2011-12-26T00:00:00",
          "2011-12-27T00:00:00",
          "2011-12-28T00:00:00",
          "2011-12-29T00:00:00",
          "2011-12-30T00:00:00",
          "2011-12-31T00:00:00",
          "2012-01-01T00:00:00",
          "2012-01-02T00:00:00",
          "2012-01-03T00:00:00",
          "2012-01-04T00:00:00",
          "2012-01-05T00:00:00",
          "2012-01-06T00:00:00",
          "2012-01-07T00:00:00",
          "2012-01-08T00:00:00",
          "2012-01-09T00:00:00",
          "2012-01-10T00:00:00",
          "2012-01-11T00:00:00",
          "2012-01-12T00:00:00",
          "2012-01-13T00:00:00",
          "2012-01-14T00:00:00",
          "2012-01-15T00:00:00",
          "2012-01-16T00:00:00",
          "2012-01-17T00:00:00",
          "2012-01-18T00:00:00",
          "2012-01-19T00:00:00",
          "2012-01-20T00:00:00",
          "2012-01-21T00:00:00",
          "2012-01-22T00:00:00",
          "2012-01-23T00:00:00",
          "2012-01-24T00:00:00",
          "2012-01-25T00:00:00",
          "2012-01-26T00:00:00",
          "2012-01-27T00:00:00",
          "2012-01-28T00:00:00",
          "2012-01-29T00:00:00",
          "2012-01-30T00:00:00",
          "2012-01-31T00:00:00",
          "2012-02-01T00:00:00",
          "2012-02-02T00:00:00",
          "2012-02-03T00:00:00",
          "2012-02-04T00:00:00",
          "2012-02-05T00:00:00",
          "2012-02-06T00:00:00",
          "2012-02-07T00:00:00",
          "2012-02-08T00:00:00",
          "2012-02-09T00:00:00",
          "2012-02-10T00:00:00",
          "2012-02-11T00:00:00",
          "2012-02-12T00:00:00",
          "2012-02-13T00:00:00",
          "2012-02-14T00:00:00",
          "2012-02-15T00:00:00",
          "2012-02-16T00:00:00",
          "2012-02-17T00:00:00",
          "2012-02-18T00:00:00",
          "2012-02-19T00:00:00",
          "2012-02-20T00:00:00",
          "2012-02-21T00:00:00",
          "2012-02-22T00:00:00",
          "2012-02-23T00:00:00",
          "2012-02-24T00:00:00",
          "2012-02-25T00:00:00",
          "2012-02-26T00:00:00",
          "2012-02-27T00:00:00",
          "2012-02-28T00:00:00",
          "2012-02-29T00:00:00",
          "2012-03-01T00:00:00",
          "2012-03-02T00:00:00",
          "2012-03-03T00:00:00",
          "2012-03-04T00:00:00",
          "2012-03-05T00:00:00",
          "2012-03-06T00:00:00",
          "2012-03-07T00:00:00",
          "2012-03-08T00:00:00",
          "2012-03-09T00:00:00",
          "2012-03-10T00:00:00",
          "2012-03-11T00:00:00",
          "2012-03-12T00:00:00",
          "2012-03-13T00:00:00",
          "2012-03-14T00:00:00",
          "2012-03-15T00:00:00",
          "2012-03-16T00:00:00",
          "2012-03-17T00:00:00",
          "2012-03-18T00:00:00",
          "2012-03-19T00:00:00",
          "2012-03-20T00:00:00",
          "2012-03-21T00:00:00",
          "2012-03-22T00:00:00",
          "2012-03-23T00:00:00",
          "2012-03-24T00:00:00",
          "2012-03-25T00:00:00",
          "2012-03-26T00:00:00",
          "2012-03-27T00:00:00",
          "2012-03-28T00:00:00",
          "2012-03-29T00:00:00",
          "2012-03-30T00:00:00",
          "2012-03-31T00:00:00",
          "2012-04-01T00:00:00",
          "2012-04-02T00:00:00",
          "2012-04-03T00:00:00",
          "2012-04-04T00:00:00",
          "2012-04-05T00:00:00",
          "2012-04-06T00:00:00",
          "2012-04-07T00:00:00",
          "2012-04-08T00:00:00",
          "2012-04-09T00:00:00",
          "2012-04-10T00:00:00",
          "2012-04-11T00:00:00",
          "2012-04-12T00:00:00",
          "2012-04-13T00:00:00",
          "2012-04-14T00:00:00",
          "2012-04-15T00:00:00",
          "2012-04-16T00:00:00",
          "2012-04-17T00:00:00",
          "2012-04-18T00:00:00",
          "2012-04-19T00:00:00",
          "2012-04-20T00:00:00",
          "2012-04-21T00:00:00",
          "2012-04-22T00:00:00",
          "2012-04-23T00:00:00",
          "2012-04-24T00:00:00",
          "2012-04-25T00:00:00",
          "2012-04-26T00:00:00",
          "2012-04-27T00:00:00",
          "2012-04-28T00:00:00",
          "2012-04-29T00:00:00",
          "2012-04-30T00:00:00",
          "2012-05-01T00:00:00",
          "2012-05-02T00:00:00",
          "2012-05-03T00:00:00",
          "2012-05-04T00:00:00",
          "2012-05-05T00:00:00",
          "2012-05-06T00:00:00",
          "2012-05-07T00:00:00",
          "2012-05-08T00:00:00",
          "2012-05-09T00:00:00",
          "2012-05-10T00:00:00",
          "2012-05-11T00:00:00",
          "2012-05-12T00:00:00",
          "2012-05-13T00:00:00",
          "2012-05-14T00:00:00",
          "2012-05-15T00:00:00",
          "2012-05-16T00:00:00",
          "2012-05-17T00:00:00",
          "2012-05-18T00:00:00",
          "2012-05-19T00:00:00",
          "2012-05-20T00:00:00",
          "2012-05-21T00:00:00",
          "2012-05-22T00:00:00",
          "2012-05-23T00:00:00",
          "2012-05-24T00:00:00",
          "2012-05-25T00:00:00",
          "2012-05-26T00:00:00",
          "2012-05-27T00:00:00",
          "2012-05-28T00:00:00",
          "2012-05-29T00:00:00",
          "2012-05-30T00:00:00",
          "2012-05-31T00:00:00",
          "2012-06-01T00:00:00",
          "2012-06-02T00:00:00",
          "2012-06-03T00:00:00",
          "2012-06-04T00:00:00",
          "2012-06-05T00:00:00",
          "2012-06-06T00:00:00",
          "2012-06-07T00:00:00",
          "2012-06-08T00:00:00",
          "2012-06-09T00:00:00",
          "2012-06-10T00:00:00",
          "2012-06-11T00:00:00",
          "2012-06-12T00:00:00",
          "2012-06-13T00:00:00",
          "2012-06-14T00:00:00",
          "2012-06-15T00:00:00",
          "2012-06-16T00:00:00",
          "2012-06-17T00:00:00",
          "2012-06-18T00:00:00",
          "2012-06-19T00:00:00",
          "2012-06-20T00:00:00",
          "2012-06-21T00:00:00",
          "2012-06-22T00:00:00",
          "2012-06-23T00:00:00",
          "2012-06-24T00:00:00",
          "2012-06-25T00:00:00",
          "2012-06-26T00:00:00",
          "2012-06-27T00:00:00",
          "2012-06-28T00:00:00",
          "2012-06-29T00:00:00",
          "2012-06-30T00:00:00",
          "2012-07-01T00:00:00",
          "2012-07-02T00:00:00",
          "2012-07-03T00:00:00",
          "2012-07-04T00:00:00",
          "2012-07-05T00:00:00",
          "2012-07-06T00:00:00",
          "2012-07-07T00:00:00",
          "2012-07-08T00:00:00",
          "2012-07-09T00:00:00",
          "2012-07-10T00:00:00",
          "2012-07-11T00:00:00",
          "2012-07-12T00:00:00",
          "2012-07-13T00:00:00",
          "2012-07-14T00:00:00",
          "2012-07-15T00:00:00",
          "2012-07-16T00:00:00",
          "2012-07-17T00:00:00",
          "2012-07-18T00:00:00",
          "2012-07-19T00:00:00",
          "2012-07-20T00:00:00",
          "2012-07-21T00:00:00",
          "2012-07-22T00:00:00",
          "2012-07-23T00:00:00",
          "2012-07-24T00:00:00",
          "2012-07-25T00:00:00",
          "2012-07-26T00:00:00",
          "2012-07-27T00:00:00",
          "2012-07-28T00:00:00",
          "2012-07-29T00:00:00",
          "2012-07-30T00:00:00",
          "2012-07-31T00:00:00",
          "2012-08-01T00:00:00",
          "2012-08-02T00:00:00",
          "2012-08-03T00:00:00",
          "2012-08-04T00:00:00",
          "2012-08-05T00:00:00",
          "2012-08-06T00:00:00",
          "2012-08-07T00:00:00",
          "2012-08-08T00:00:00",
          "2012-08-09T00:00:00",
          "2012-08-10T00:00:00",
          "2012-08-11T00:00:00",
          "2012-08-12T00:00:00",
          "2012-08-13T00:00:00",
          "2012-08-14T00:00:00",
          "2012-08-15T00:00:00",
          "2012-08-16T00:00:00",
          "2012-08-17T00:00:00",
          "2012-08-18T00:00:00",
          "2012-08-19T00:00:00",
          "2012-08-20T00:00:00",
          "2012-08-21T00:00:00",
          "2012-08-22T00:00:00",
          "2012-08-23T00:00:00",
          "2012-08-24T00:00:00",
          "2012-08-25T00:00:00",
          "2012-08-26T00:00:00",
          "2012-08-27T00:00:00",
          "2012-08-28T00:00:00",
          "2012-08-29T00:00:00",
          "2012-08-30T00:00:00",
          "2012-08-31T00:00:00",
          "2012-09-01T00:00:00",
          "2012-09-02T00:00:00",
          "2012-09-03T00:00:00",
          "2012-09-04T00:00:00",
          "2012-09-05T00:00:00",
          "2012-09-06T00:00:00",
          "2012-09-07T00:00:00",
          "2012-09-08T00:00:00",
          "2012-09-09T00:00:00",
          "2012-09-10T00:00:00",
          "2012-09-11T00:00:00",
          "2012-09-12T00:00:00",
          "2012-09-13T00:00:00",
          "2012-09-14T00:00:00",
          "2012-09-15T00:00:00",
          "2012-09-16T00:00:00",
          "2012-09-17T00:00:00",
          "2012-09-18T00:00:00",
          "2012-09-19T00:00:00",
          "2012-09-20T00:00:00",
          "2012-09-21T00:00:00",
          "2012-09-22T00:00:00",
          "2012-09-23T00:00:00",
          "2012-09-24T00:00:00",
          "2012-09-25T00:00:00",
          "2012-09-26T00:00:00",
          "2012-09-27T00:00:00",
          "2012-09-28T00:00:00",
          "2012-09-29T00:00:00",
          "2012-09-30T00:00:00",
          "2012-10-01T00:00:00",
          "2012-10-02T00:00:00",
          "2012-10-03T00:00:00",
          "2012-10-04T00:00:00",
          "2012-10-05T00:00:00",
          "2012-10-06T00:00:00",
          "2012-10-07T00:00:00",
          "2012-10-08T00:00:00",
          "2012-10-09T00:00:00",
          "2012-10-10T00:00:00",
          "2012-10-11T00:00:00",
          "2012-10-12T00:00:00",
          "2012-10-13T00:00:00",
          "2012-10-14T00:00:00",
          "2012-10-15T00:00:00",
          "2012-10-16T00:00:00",
          "2012-10-17T00:00:00",
          "2012-10-18T00:00:00",
          "2012-10-19T00:00:00",
          "2012-10-20T00:00:00",
          "2012-10-21T00:00:00",
          "2012-10-22T00:00:00",
          "2012-10-23T00:00:00",
          "2012-10-24T00:00:00",
          "2012-10-25T00:00:00",
          "2012-10-26T00:00:00",
          "2012-10-27T00:00:00",
          "2012-10-28T00:00:00",
          "2012-10-29T00:00:00",
          "2012-10-30T00:00:00",
          "2012-10-31T00:00:00",
          "2012-11-01T00:00:00",
          "2012-11-02T00:00:00",
          "2012-11-03T00:00:00",
          "2012-11-04T00:00:00",
          "2012-11-05T00:00:00",
          "2012-11-06T00:00:00",
          "2012-11-07T00:00:00",
          "2012-11-08T00:00:00",
          "2012-11-09T00:00:00",
          "2012-11-10T00:00:00",
          "2012-11-11T00:00:00",
          "2012-11-12T00:00:00",
          "2012-11-13T00:00:00",
          "2012-11-14T00:00:00",
          "2012-11-15T00:00:00",
          "2012-11-16T00:00:00",
          "2012-11-17T00:00:00",
          "2012-11-18T00:00:00",
          "2012-11-19T00:00:00",
          "2012-11-20T00:00:00",
          "2012-11-21T00:00:00",
          "2012-11-22T00:00:00",
          "2012-11-23T00:00:00",
          "2012-11-24T00:00:00",
          "2012-11-25T00:00:00",
          "2012-11-26T00:00:00",
          "2012-11-27T00:00:00",
          "2012-11-28T00:00:00",
          "2012-11-29T00:00:00",
          "2012-11-30T00:00:00",
          "2012-12-01T00:00:00",
          "2012-12-02T00:00:00",
          "2012-12-03T00:00:00",
          "2012-12-04T00:00:00",
          "2012-12-05T00:00:00",
          "2012-12-06T00:00:00",
          "2012-12-07T00:00:00",
          "2012-12-08T00:00:00",
          "2012-12-09T00:00:00",
          "2012-12-10T00:00:00",
          "2012-12-11T00:00:00",
          "2012-12-12T00:00:00",
          "2012-12-13T00:00:00",
          "2012-12-14T00:00:00",
          "2012-12-15T00:00:00",
          "2012-12-16T00:00:00",
          "2012-12-17T00:00:00",
          "2012-12-18T00:00:00",
          "2012-12-19T00:00:00",
          "2012-12-20T00:00:00",
          "2012-12-21T00:00:00",
          "2012-12-22T00:00:00",
          "2012-12-23T00:00:00",
          "2012-12-24T00:00:00",
          "2012-12-25T00:00:00",
          "2012-12-26T00:00:00",
          "2012-12-27T00:00:00",
          "2012-12-28T00:00:00",
          "2012-12-29T00:00:00",
          "2012-12-30T00:00:00",
          "2012-12-31T00:00:00"
         ],
         "xaxis": "x",
         "y": [
          985,
          801,
          1349,
          1562,
          1600,
          1606,
          1510,
          959,
          822,
          1321,
          1263,
          1162,
          1406,
          1421,
          1248,
          1204,
          1000,
          683,
          1650,
          1487,
          1283,
          863,
          818,
          1206,
          1515,
          412,
          674,
          1184,
          1051,
          1086,
          1252,
          1360,
          1526,
          1550,
          1708,
          1005,
          1623,
          1712,
          1530,
          1605,
          1538,
          1746,
          1472,
          1589,
          1913,
          1815,
          2115,
          2475,
          2927,
          1635,
          1584,
          1359,
          1636,
          1788,
          1565,
          1592,
          1725,
          1826,
          1230,
          1851,
          2134,
          1685,
          1944,
          2077,
          605,
          1872,
          2133,
          1891,
          623,
          1977,
          2132,
          2417,
          2046,
          2056,
          2192,
          2744,
          3239,
          3117,
          2029,
          2713,
          2889,
          1733,
          1995,
          2271,
          2158,
          2025,
          2142,
          2488,
          1916,
          1722,
          2227,
          2252,
          3249,
          3115,
          1795,
          2808,
          3141,
          1471,
          2455,
          2895,
          3348,
          2034,
          2162,
          3267,
          3126,
          795,
          3744,
          3429,
          3204,
          3516,
          3149,
          1583,
          3165,
          3560,
          3493,
          3429,
          2726,
          3339,
          3559,
          3715,
          3351,
          4401,
          4451,
          2633,
          4433,
          4608,
          4714,
          4333,
          4362,
          4803,
          4182,
          4864,
          4105,
          3409,
          4553,
          3958,
          4123,
          3855,
          4575,
          4985,
          5472,
          4868,
          3829,
          4242,
          4660,
          4439,
          4787,
          5230,
          4446,
          4983,
          4186,
          3974,
          4968,
          5312,
          5342,
          4906,
          4548,
          4833,
          4401,
          3915,
          4586,
          4966,
          4460,
          5020,
          4891,
          5180,
          3767,
          4844,
          5119,
          4744,
          4272,
          4198,
          4472,
          4561,
          5213,
          5606,
          5402,
          4617,
          4449,
          4823,
          4982,
          5362,
          5119,
          4649,
          6043,
          4665,
          4629,
          4592,
          4040,
          5336,
          4881,
          4086,
          4258,
          4342,
          5084,
          5538,
          5923,
          5302,
          4458,
          4541,
          4279,
          3967,
          3973,
          3874,
          4040,
          3975,
          4613,
          4743,
          4570,
          3949,
          4689,
          4191,
          4266,
          4845,
          3574,
          4576,
          4866,
          4294,
          3785,
          4326,
          4602,
          4780,
          4792,
          4905,
          4150,
          3820,
          4338,
          4725,
          4694,
          3805,
          4153,
          4903,
          4054,
          4547,
          4848,
          4642,
          3704,
          4357,
          1737,
          4369,
          4606,
          4732,
          4625,
          5115,
          4727,
          4484,
          4940,
          3351,
          2710,
          1996,
          1842,
          3544,
          5345,
          5046,
          4713,
          4763,
          4785,
          3659,
          4760,
          4511,
          4274,
          4539,
          3026,
          2788,
          2933,
          2299,
          4072,
          4123,
          3835,
          3405,
          3123,
          4877,
          5026,
          2429,
          2918,
          3570,
          4456,
          4826,
          4765,
          4985,
          5409,
          5511,
          5117,
          4563,
          2416,
          2913,
          3644,
          5217,
          5041,
          4570,
          4748,
          2424,
          3966,
          4438,
          4388,
          4286,
          4120,
          4593,
          3987,
          3217,
          3567,
          1365,
          3668,
          3688,
          4068,
          4186,
          3974,
          4046,
          3926,
          3649,
          4035,
          4205,
          4109,
          2933,
          3368,
          4067,
          3717,
          4486,
          4195,
          1817,
          3053,
          3392,
          3663,
          4043,
          2693,
          2420,
          3045,
          3493,
          4291,
          3827,
          4388,
          4423,
          2846,
          3485,
          3727,
          3940,
          3614,
          3485,
          3811,
          2594,
          705,
          3322,
          3620,
          3190,
          2743,
          3310,
          3523,
          3740,
          3709,
          3577,
          2739,
          2431,
          3403,
          3967,
          1730,
          3030,
          2924,
          2589,
          2344,
          2514,
          2225,
          2792,
          2708,
          2948,
          3226,
          2294,
          1951,
          2236,
          2368,
          3272,
          4098,
          4521,
          3425,
          2376,
          3598,
          2177,
          4097,
          3214,
          2493,
          2311,
          2298,
          2935,
          3376,
          3292,
          3090,
          1877,
          2279,
          2683,
          3474,
          3638,
          3514,
          3221,
          3283,
          2568,
          3049,
          3963,
          4579,
          3761,
          4151,
          2832,
          2947,
          3784,
          4375,
          2802,
          3830,
          3831,
          2169,
          1529,
          3422,
          3922,
          4169,
          3005,
          4154,
          4318,
          2689,
          2750,
          3658,
          4130,
          4738,
          3421,
          2724,
          3129,
          3964,
          3889,
          2875,
          4990,
          3194,
          4066,
          3423,
          3333,
          3956,
          4916,
          5382,
          4569,
          4118,
          4911,
          5298,
          5847,
          6312,
          6192,
          4378,
          7836,
          5892,
          6153,
          5573,
          5580,
          6398,
          6675,
          2847,
          4277,
          5223,
          5138,
          6060,
          5763,
          4816,
          5262,
          6041,
          5936,
          6772,
          6436,
          6457,
          6460,
          6857,
          5169,
          5585,
          5918,
          4862,
          5409,
          6398,
          7460,
          7132,
          6370,
          6691,
          4367,
          6565,
          6903,
          6853,
          1855,
          2922,
          5739,
          6226,
          5254,
          6322,
          5342,
          6408,
          5484,
          5740,
          6169,
          6421,
          6296,
          6883,
          6359,
          6273,
          5728,
          4717,
          6572,
          7030,
          7429,
          6118,
          2843,
          5115,
          7424,
          7384,
          7639,
          8294,
          6875,
          4686,
          5943,
          5228,
          6622,
          6793,
          6803,
          6002,
          6481,
          5831,
          6592,
          7179,
          4127,
          8120,
          7641,
          6998,
          7001,
          7055,
          7494,
          7736,
          7498,
          6598,
          6664,
          4972,
          7421,
          7363,
          7665,
          7702,
          6978,
          5099,
          6825,
          6481,
          6500,
          6615,
          7522,
          6594,
          6892,
          7254,
          7233,
          7274,
          5619,
          6304,
          5531,
          6227,
          6660,
          7403,
          6241,
          6207,
          4840,
          4672,
          6569,
          6290,
          7264,
          7446,
          7499,
          6969,
          6031,
          6830,
          6786,
          5713,
          6591,
          4955,
          3468,
          6139,
          6475,
          6758,
          7289,
          6460,
          6797,
          6897,
          6446,
          6662,
          6708,
          7580,
          7261,
          7175,
          6824,
          5464,
          7013,
          7273,
          7534,
          7286,
          5786,
          6299,
          6544,
          6883,
          6784,
          7347,
          7605,
          7148,
          7865,
          4549,
          5948,
          6901,
          6623,
          7278,
          7249,
          6402,
          4258,
          6583,
          7177,
          7462,
          7440,
          7248,
          6140,
          5810,
          6034,
          6864,
          7112,
          6203,
          7504,
          5976,
          8227,
          7525,
          7767,
          7870,
          7804,
          8009,
          8714,
          7333,
          6869,
          4073,
          7591,
          7724,
          7972,
          8088,
          7178,
          7311,
          7950,
          7703,
          7012,
          7423,
          7898,
          6894,
          6778,
          4639,
          7572,
          7328,
          8156,
          7965,
          3510,
          5478,
          6392,
          7691,
          7570,
          7282,
          7109,
          6639,
          5875,
          7534,
          7461,
          7509,
          5424,
          7678,
          6965,
          7473,
          7942,
          7785,
          6170,
          6321,
          7181,
          4521,
          22,
          1745,
          5970,
          5986,
          5847,
          5138,
          5107,
          5259,
          5686,
          5035,
          5315,
          5992,
          6536,
          6852,
          6269,
          4094,
          5495,
          5445,
          5698,
          5629,
          4669,
          5499,
          5912,
          6012,
          5309,
          6153,
          4122,
          3762,
          5507,
          3480,
          5465,
          5547,
          5619,
          5191,
          4649,
          6234,
          6606,
          5729,
          5375,
          5008,
          5582,
          3228,
          5170,
          5501,
          5319,
          5532,
          5611,
          5047,
          3786,
          4585,
          5557,
          5267,
          4821,
          4476,
          3360,
          3805,
          3322,
          4577,
          1424,
          4231,
          4629,
          3087,
          2886,
          4429
         ],
         "yaxis": "y"
        },
        {
         "hovertemplate": "variable=Prediction<br>Datum=%{x}<br>value=%{y}<extra></extra>",
         "legendgroup": "Prediction",
         "line": {
          "color": "#EF553B",
          "dash": "solid"
         },
         "marker": {
          "symbol": "circle"
         },
         "mode": "lines",
         "name": "Prediction",
         "showlegend": true,
         "type": "scattergl",
         "x": [
          "2011-01-01T00:00:00",
          "2011-01-02T00:00:00",
          "2011-01-03T00:00:00",
          "2011-01-04T00:00:00",
          "2011-01-05T00:00:00",
          "2011-01-06T00:00:00",
          "2011-01-07T00:00:00",
          "2011-01-08T00:00:00",
          "2011-01-09T00:00:00",
          "2011-01-10T00:00:00",
          "2011-01-11T00:00:00",
          "2011-01-12T00:00:00",
          "2011-01-13T00:00:00",
          "2011-01-14T00:00:00",
          "2011-01-15T00:00:00",
          "2011-01-16T00:00:00",
          "2011-01-17T00:00:00",
          "2011-01-18T00:00:00",
          "2011-01-19T00:00:00",
          "2011-01-20T00:00:00",
          "2011-01-21T00:00:00",
          "2011-01-22T00:00:00",
          "2011-01-23T00:00:00",
          "2011-01-24T00:00:00",
          "2011-01-25T00:00:00",
          "2011-01-26T00:00:00",
          "2011-01-27T00:00:00",
          "2011-01-28T00:00:00",
          "2011-01-29T00:00:00",
          "2011-01-30T00:00:00",
          "2011-01-31T00:00:00",
          "2011-02-01T00:00:00",
          "2011-02-02T00:00:00",
          "2011-02-03T00:00:00",
          "2011-02-04T00:00:00",
          "2011-02-05T00:00:00",
          "2011-02-06T00:00:00",
          "2011-02-07T00:00:00",
          "2011-02-08T00:00:00",
          "2011-02-09T00:00:00",
          "2011-02-10T00:00:00",
          "2011-02-11T00:00:00",
          "2011-02-12T00:00:00",
          "2011-02-13T00:00:00",
          "2011-02-14T00:00:00",
          "2011-02-15T00:00:00",
          "2011-02-16T00:00:00",
          "2011-02-17T00:00:00",
          "2011-02-18T00:00:00",
          "2011-02-19T00:00:00",
          "2011-02-20T00:00:00",
          "2011-02-21T00:00:00",
          "2011-02-22T00:00:00",
          "2011-02-23T00:00:00",
          "2011-02-24T00:00:00",
          "2011-02-25T00:00:00",
          "2011-02-26T00:00:00",
          "2011-02-27T00:00:00",
          "2011-02-28T00:00:00",
          "2011-03-01T00:00:00",
          "2011-03-02T00:00:00",
          "2011-03-03T00:00:00",
          "2011-03-04T00:00:00",
          "2011-03-05T00:00:00",
          "2011-03-06T00:00:00",
          "2011-03-07T00:00:00",
          "2011-03-08T00:00:00",
          "2011-03-09T00:00:00",
          "2011-03-10T00:00:00",
          "2011-03-11T00:00:00",
          "2011-03-12T00:00:00",
          "2011-03-13T00:00:00",
          "2011-03-14T00:00:00",
          "2011-03-15T00:00:00",
          "2011-03-16T00:00:00",
          "2011-03-17T00:00:00",
          "2011-03-18T00:00:00",
          "2011-03-19T00:00:00",
          "2011-03-20T00:00:00",
          "2011-03-21T00:00:00",
          "2011-03-22T00:00:00",
          "2011-03-23T00:00:00",
          "2011-03-24T00:00:00",
          "2011-03-25T00:00:00",
          "2011-03-26T00:00:00",
          "2011-03-27T00:00:00",
          "2011-03-28T00:00:00",
          "2011-03-29T00:00:00",
          "2011-03-30T00:00:00",
          "2011-03-31T00:00:00",
          "2011-04-01T00:00:00",
          "2011-04-02T00:00:00",
          "2011-04-03T00:00:00",
          "2011-04-04T00:00:00",
          "2011-04-05T00:00:00",
          "2011-04-06T00:00:00",
          "2011-04-07T00:00:00",
          "2011-04-08T00:00:00",
          "2011-04-09T00:00:00",
          "2011-04-10T00:00:00",
          "2011-04-11T00:00:00",
          "2011-04-12T00:00:00",
          "2011-04-13T00:00:00",
          "2011-04-14T00:00:00",
          "2011-04-15T00:00:00",
          "2011-04-16T00:00:00",
          "2011-04-17T00:00:00",
          "2011-04-18T00:00:00",
          "2011-04-19T00:00:00",
          "2011-04-20T00:00:00",
          "2011-04-21T00:00:00",
          "2011-04-22T00:00:00",
          "2011-04-23T00:00:00",
          "2011-04-24T00:00:00",
          "2011-04-25T00:00:00",
          "2011-04-26T00:00:00",
          "2011-04-27T00:00:00",
          "2011-04-28T00:00:00",
          "2011-04-29T00:00:00",
          "2011-04-30T00:00:00",
          "2011-05-01T00:00:00",
          "2011-05-02T00:00:00",
          "2011-05-03T00:00:00",
          "2011-05-04T00:00:00",
          "2011-05-05T00:00:00",
          "2011-05-06T00:00:00",
          "2011-05-07T00:00:00",
          "2011-05-08T00:00:00",
          "2011-05-09T00:00:00",
          "2011-05-10T00:00:00",
          "2011-05-11T00:00:00",
          "2011-05-12T00:00:00",
          "2011-05-13T00:00:00",
          "2011-05-14T00:00:00",
          "2011-05-15T00:00:00",
          "2011-05-16T00:00:00",
          "2011-05-17T00:00:00",
          "2011-05-18T00:00:00",
          "2011-05-19T00:00:00",
          "2011-05-20T00:00:00",
          "2011-05-21T00:00:00",
          "2011-05-22T00:00:00",
          "2011-05-23T00:00:00",
          "2011-05-24T00:00:00",
          "2011-05-25T00:00:00",
          "2011-05-26T00:00:00",
          "2011-05-27T00:00:00",
          "2011-05-28T00:00:00",
          "2011-05-29T00:00:00",
          "2011-05-30T00:00:00",
          "2011-05-31T00:00:00",
          "2011-06-01T00:00:00",
          "2011-06-02T00:00:00",
          "2011-06-03T00:00:00",
          "2011-06-04T00:00:00",
          "2011-06-05T00:00:00",
          "2011-06-06T00:00:00",
          "2011-06-07T00:00:00",
          "2011-06-08T00:00:00",
          "2011-06-09T00:00:00",
          "2011-06-10T00:00:00",
          "2011-06-11T00:00:00",
          "2011-06-12T00:00:00",
          "2011-06-13T00:00:00",
          "2011-06-14T00:00:00",
          "2011-06-15T00:00:00",
          "2011-06-16T00:00:00",
          "2011-06-17T00:00:00",
          "2011-06-18T00:00:00",
          "2011-06-19T00:00:00",
          "2011-06-20T00:00:00",
          "2011-06-21T00:00:00",
          "2011-06-22T00:00:00",
          "2011-06-23T00:00:00",
          "2011-06-24T00:00:00",
          "2011-06-25T00:00:00",
          "2011-06-26T00:00:00",
          "2011-06-27T00:00:00",
          "2011-06-28T00:00:00",
          "2011-06-29T00:00:00",
          "2011-06-30T00:00:00",
          "2011-07-01T00:00:00",
          "2011-07-02T00:00:00",
          "2011-07-03T00:00:00",
          "2011-07-04T00:00:00",
          "2011-07-05T00:00:00",
          "2011-07-06T00:00:00",
          "2011-07-07T00:00:00",
          "2011-07-08T00:00:00",
          "2011-07-09T00:00:00",
          "2011-07-10T00:00:00",
          "2011-07-11T00:00:00",
          "2011-07-12T00:00:00",
          "2011-07-13T00:00:00",
          "2011-07-14T00:00:00",
          "2011-07-15T00:00:00",
          "2011-07-16T00:00:00",
          "2011-07-17T00:00:00",
          "2011-07-18T00:00:00",
          "2011-07-19T00:00:00",
          "2011-07-20T00:00:00",
          "2011-07-21T00:00:00",
          "2011-07-22T00:00:00",
          "2011-07-23T00:00:00",
          "2011-07-24T00:00:00",
          "2011-07-25T00:00:00",
          "2011-07-26T00:00:00",
          "2011-07-27T00:00:00",
          "2011-07-28T00:00:00",
          "2011-07-29T00:00:00",
          "2011-07-30T00:00:00",
          "2011-07-31T00:00:00",
          "2011-08-01T00:00:00",
          "2011-08-02T00:00:00",
          "2011-08-03T00:00:00",
          "2011-08-04T00:00:00",
          "2011-08-05T00:00:00",
          "2011-08-06T00:00:00",
          "2011-08-07T00:00:00",
          "2011-08-08T00:00:00",
          "2011-08-09T00:00:00",
          "2011-08-10T00:00:00",
          "2011-08-11T00:00:00",
          "2011-08-12T00:00:00",
          "2011-08-13T00:00:00",
          "2011-08-14T00:00:00",
          "2011-08-15T00:00:00",
          "2011-08-16T00:00:00",
          "2011-08-17T00:00:00",
          "2011-08-18T00:00:00",
          "2011-08-19T00:00:00",
          "2011-08-20T00:00:00",
          "2011-08-21T00:00:00",
          "2011-08-22T00:00:00",
          "2011-08-23T00:00:00",
          "2011-08-24T00:00:00",
          "2011-08-25T00:00:00",
          "2011-08-26T00:00:00",
          "2011-08-27T00:00:00",
          "2011-08-28T00:00:00",
          "2011-08-29T00:00:00",
          "2011-08-30T00:00:00",
          "2011-08-31T00:00:00",
          "2011-09-01T00:00:00",
          "2011-09-02T00:00:00",
          "2011-09-03T00:00:00",
          "2011-09-04T00:00:00",
          "2011-09-05T00:00:00",
          "2011-09-06T00:00:00",
          "2011-09-07T00:00:00",
          "2011-09-08T00:00:00",
          "2011-09-09T00:00:00",
          "2011-09-10T00:00:00",
          "2011-09-11T00:00:00",
          "2011-09-12T00:00:00",
          "2011-09-13T00:00:00",
          "2011-09-14T00:00:00",
          "2011-09-15T00:00:00",
          "2011-09-16T00:00:00",
          "2011-09-17T00:00:00",
          "2011-09-18T00:00:00",
          "2011-09-19T00:00:00",
          "2011-09-20T00:00:00",
          "2011-09-21T00:00:00",
          "2011-09-22T00:00:00",
          "2011-09-23T00:00:00",
          "2011-09-24T00:00:00",
          "2011-09-25T00:00:00",
          "2011-09-26T00:00:00",
          "2011-09-27T00:00:00",
          "2011-09-28T00:00:00",
          "2011-09-29T00:00:00",
          "2011-09-30T00:00:00",
          "2011-10-01T00:00:00",
          "2011-10-02T00:00:00",
          "2011-10-03T00:00:00",
          "2011-10-04T00:00:00",
          "2011-10-05T00:00:00",
          "2011-10-06T00:00:00",
          "2011-10-07T00:00:00",
          "2011-10-08T00:00:00",
          "2011-10-09T00:00:00",
          "2011-10-10T00:00:00",
          "2011-10-11T00:00:00",
          "2011-10-12T00:00:00",
          "2011-10-13T00:00:00",
          "2011-10-14T00:00:00",
          "2011-10-15T00:00:00",
          "2011-10-16T00:00:00",
          "2011-10-17T00:00:00",
          "2011-10-18T00:00:00",
          "2011-10-19T00:00:00",
          "2011-10-20T00:00:00",
          "2011-10-21T00:00:00",
          "2011-10-22T00:00:00",
          "2011-10-23T00:00:00",
          "2011-10-24T00:00:00",
          "2011-10-25T00:00:00",
          "2011-10-26T00:00:00",
          "2011-10-27T00:00:00",
          "2011-10-28T00:00:00",
          "2011-10-29T00:00:00",
          "2011-10-30T00:00:00",
          "2011-10-31T00:00:00",
          "2011-11-01T00:00:00",
          "2011-11-02T00:00:00",
          "2011-11-03T00:00:00",
          "2011-11-04T00:00:00",
          "2011-11-05T00:00:00",
          "2011-11-06T00:00:00",
          "2011-11-07T00:00:00",
          "2011-11-08T00:00:00",
          "2011-11-09T00:00:00",
          "2011-11-10T00:00:00",
          "2011-11-11T00:00:00",
          "2011-11-12T00:00:00",
          "2011-11-13T00:00:00",
          "2011-11-14T00:00:00",
          "2011-11-15T00:00:00",
          "2011-11-16T00:00:00",
          "2011-11-17T00:00:00",
          "2011-11-18T00:00:00",
          "2011-11-19T00:00:00",
          "2011-11-20T00:00:00",
          "2011-11-21T00:00:00",
          "2011-11-22T00:00:00",
          "2011-11-23T00:00:00",
          "2011-11-24T00:00:00",
          "2011-11-25T00:00:00",
          "2011-11-26T00:00:00",
          "2011-11-27T00:00:00",
          "2011-11-28T00:00:00",
          "2011-11-29T00:00:00",
          "2011-11-30T00:00:00",
          "2011-12-01T00:00:00",
          "2011-12-02T00:00:00",
          "2011-12-03T00:00:00",
          "2011-12-04T00:00:00",
          "2011-12-05T00:00:00",
          "2011-12-06T00:00:00",
          "2011-12-07T00:00:00",
          "2011-12-08T00:00:00",
          "2011-12-09T00:00:00",
          "2011-12-10T00:00:00",
          "2011-12-11T00:00:00",
          "2011-12-12T00:00:00",
          "2011-12-13T00:00:00",
          "2011-12-14T00:00:00",
          "2011-12-15T00:00:00",
          "2011-12-16T00:00:00",
          "2011-12-17T00:00:00",
          "2011-12-18T00:00:00",
          "2011-12-19T00:00:00",
          "2011-12-20T00:00:00",
          "2011-12-21T00:00:00",
          "2011-12-22T00:00:00",
          "2011-12-23T00:00:00",
          "2011-12-24T00:00:00",
          "2011-12-25T00:00:00",
          "2011-12-26T00:00:00",
          "2011-12-27T00:00:00",
          "2011-12-28T00:00:00",
          "2011-12-29T00:00:00",
          "2011-12-30T00:00:00",
          "2011-12-31T00:00:00",
          "2012-01-01T00:00:00",
          "2012-01-02T00:00:00",
          "2012-01-03T00:00:00",
          "2012-01-04T00:00:00",
          "2012-01-05T00:00:00",
          "2012-01-06T00:00:00",
          "2012-01-07T00:00:00",
          "2012-01-08T00:00:00",
          "2012-01-09T00:00:00",
          "2012-01-10T00:00:00",
          "2012-01-11T00:00:00",
          "2012-01-12T00:00:00",
          "2012-01-13T00:00:00",
          "2012-01-14T00:00:00",
          "2012-01-15T00:00:00",
          "2012-01-16T00:00:00",
          "2012-01-17T00:00:00",
          "2012-01-18T00:00:00",
          "2012-01-19T00:00:00",
          "2012-01-20T00:00:00",
          "2012-01-21T00:00:00",
          "2012-01-22T00:00:00",
          "2012-01-23T00:00:00",
          "2012-01-24T00:00:00",
          "2012-01-25T00:00:00",
          "2012-01-26T00:00:00",
          "2012-01-27T00:00:00",
          "2012-01-28T00:00:00",
          "2012-01-29T00:00:00",
          "2012-01-30T00:00:00",
          "2012-01-31T00:00:00",
          "2012-02-01T00:00:00",
          "2012-02-02T00:00:00",
          "2012-02-03T00:00:00",
          "2012-02-04T00:00:00",
          "2012-02-05T00:00:00",
          "2012-02-06T00:00:00",
          "2012-02-07T00:00:00",
          "2012-02-08T00:00:00",
          "2012-02-09T00:00:00",
          "2012-02-10T00:00:00",
          "2012-02-11T00:00:00",
          "2012-02-12T00:00:00",
          "2012-02-13T00:00:00",
          "2012-02-14T00:00:00",
          "2012-02-15T00:00:00",
          "2012-02-16T00:00:00",
          "2012-02-17T00:00:00",
          "2012-02-18T00:00:00",
          "2012-02-19T00:00:00",
          "2012-02-20T00:00:00",
          "2012-02-21T00:00:00",
          "2012-02-22T00:00:00",
          "2012-02-23T00:00:00",
          "2012-02-24T00:00:00",
          "2012-02-25T00:00:00",
          "2012-02-26T00:00:00",
          "2012-02-27T00:00:00",
          "2012-02-28T00:00:00",
          "2012-02-29T00:00:00",
          "2012-03-01T00:00:00",
          "2012-03-02T00:00:00",
          "2012-03-03T00:00:00",
          "2012-03-04T00:00:00",
          "2012-03-05T00:00:00",
          "2012-03-06T00:00:00",
          "2012-03-07T00:00:00",
          "2012-03-08T00:00:00",
          "2012-03-09T00:00:00",
          "2012-03-10T00:00:00",
          "2012-03-11T00:00:00",
          "2012-03-12T00:00:00",
          "2012-03-13T00:00:00",
          "2012-03-14T00:00:00",
          "2012-03-15T00:00:00",
          "2012-03-16T00:00:00",
          "2012-03-17T00:00:00",
          "2012-03-18T00:00:00",
          "2012-03-19T00:00:00",
          "2012-03-20T00:00:00",
          "2012-03-21T00:00:00",
          "2012-03-22T00:00:00",
          "2012-03-23T00:00:00",
          "2012-03-24T00:00:00",
          "2012-03-25T00:00:00",
          "2012-03-26T00:00:00",
          "2012-03-27T00:00:00",
          "2012-03-28T00:00:00",
          "2012-03-29T00:00:00",
          "2012-03-30T00:00:00",
          "2012-03-31T00:00:00",
          "2012-04-01T00:00:00",
          "2012-04-02T00:00:00",
          "2012-04-03T00:00:00",
          "2012-04-04T00:00:00",
          "2012-04-05T00:00:00",
          "2012-04-06T00:00:00",
          "2012-04-07T00:00:00",
          "2012-04-08T00:00:00",
          "2012-04-09T00:00:00",
          "2012-04-10T00:00:00",
          "2012-04-11T00:00:00",
          "2012-04-12T00:00:00",
          "2012-04-13T00:00:00",
          "2012-04-14T00:00:00",
          "2012-04-15T00:00:00",
          "2012-04-16T00:00:00",
          "2012-04-17T00:00:00",
          "2012-04-18T00:00:00",
          "2012-04-19T00:00:00",
          "2012-04-20T00:00:00",
          "2012-04-21T00:00:00",
          "2012-04-22T00:00:00",
          "2012-04-23T00:00:00",
          "2012-04-24T00:00:00",
          "2012-04-25T00:00:00",
          "2012-04-26T00:00:00",
          "2012-04-27T00:00:00",
          "2012-04-28T00:00:00",
          "2012-04-29T00:00:00",
          "2012-04-30T00:00:00",
          "2012-05-01T00:00:00",
          "2012-05-02T00:00:00",
          "2012-05-03T00:00:00",
          "2012-05-04T00:00:00",
          "2012-05-05T00:00:00",
          "2012-05-06T00:00:00",
          "2012-05-07T00:00:00",
          "2012-05-08T00:00:00",
          "2012-05-09T00:00:00",
          "2012-05-10T00:00:00",
          "2012-05-11T00:00:00",
          "2012-05-12T00:00:00",
          "2012-05-13T00:00:00",
          "2012-05-14T00:00:00",
          "2012-05-15T00:00:00",
          "2012-05-16T00:00:00",
          "2012-05-17T00:00:00",
          "2012-05-18T00:00:00",
          "2012-05-19T00:00:00",
          "2012-05-20T00:00:00",
          "2012-05-21T00:00:00",
          "2012-05-22T00:00:00",
          "2012-05-23T00:00:00",
          "2012-05-24T00:00:00",
          "2012-05-25T00:00:00",
          "2012-05-26T00:00:00",
          "2012-05-27T00:00:00",
          "2012-05-28T00:00:00",
          "2012-05-29T00:00:00",
          "2012-05-30T00:00:00",
          "2012-05-31T00:00:00",
          "2012-06-01T00:00:00",
          "2012-06-02T00:00:00",
          "2012-06-03T00:00:00",
          "2012-06-04T00:00:00",
          "2012-06-05T00:00:00",
          "2012-06-06T00:00:00",
          "2012-06-07T00:00:00",
          "2012-06-08T00:00:00",
          "2012-06-09T00:00:00",
          "2012-06-10T00:00:00",
          "2012-06-11T00:00:00",
          "2012-06-12T00:00:00",
          "2012-06-13T00:00:00",
          "2012-06-14T00:00:00",
          "2012-06-15T00:00:00",
          "2012-06-16T00:00:00",
          "2012-06-17T00:00:00",
          "2012-06-18T00:00:00",
          "2012-06-19T00:00:00",
          "2012-06-20T00:00:00",
          "2012-06-21T00:00:00",
          "2012-06-22T00:00:00",
          "2012-06-23T00:00:00",
          "2012-06-24T00:00:00",
          "2012-06-25T00:00:00",
          "2012-06-26T00:00:00",
          "2012-06-27T00:00:00",
          "2012-06-28T00:00:00",
          "2012-06-29T00:00:00",
          "2012-06-30T00:00:00",
          "2012-07-01T00:00:00",
          "2012-07-02T00:00:00",
          "2012-07-03T00:00:00",
          "2012-07-04T00:00:00",
          "2012-07-05T00:00:00",
          "2012-07-06T00:00:00",
          "2012-07-07T00:00:00",
          "2012-07-08T00:00:00",
          "2012-07-09T00:00:00",
          "2012-07-10T00:00:00",
          "2012-07-11T00:00:00",
          "2012-07-12T00:00:00",
          "2012-07-13T00:00:00",
          "2012-07-14T00:00:00",
          "2012-07-15T00:00:00",
          "2012-07-16T00:00:00",
          "2012-07-17T00:00:00",
          "2012-07-18T00:00:00",
          "2012-07-19T00:00:00",
          "2012-07-20T00:00:00",
          "2012-07-21T00:00:00",
          "2012-07-22T00:00:00",
          "2012-07-23T00:00:00",
          "2012-07-24T00:00:00",
          "2012-07-25T00:00:00",
          "2012-07-26T00:00:00",
          "2012-07-27T00:00:00",
          "2012-07-28T00:00:00",
          "2012-07-29T00:00:00",
          "2012-07-30T00:00:00",
          "2012-07-31T00:00:00",
          "2012-08-01T00:00:00",
          "2012-08-02T00:00:00",
          "2012-08-03T00:00:00",
          "2012-08-04T00:00:00",
          "2012-08-05T00:00:00",
          "2012-08-06T00:00:00",
          "2012-08-07T00:00:00",
          "2012-08-08T00:00:00",
          "2012-08-09T00:00:00",
          "2012-08-10T00:00:00",
          "2012-08-11T00:00:00",
          "2012-08-12T00:00:00",
          "2012-08-13T00:00:00",
          "2012-08-14T00:00:00",
          "2012-08-15T00:00:00",
          "2012-08-16T00:00:00",
          "2012-08-17T00:00:00",
          "2012-08-18T00:00:00",
          "2012-08-19T00:00:00",
          "2012-08-20T00:00:00",
          "2012-08-21T00:00:00",
          "2012-08-22T00:00:00",
          "2012-08-23T00:00:00",
          "2012-08-24T00:00:00",
          "2012-08-25T00:00:00",
          "2012-08-26T00:00:00",
          "2012-08-27T00:00:00",
          "2012-08-28T00:00:00",
          "2012-08-29T00:00:00",
          "2012-08-30T00:00:00",
          "2012-08-31T00:00:00",
          "2012-09-01T00:00:00",
          "2012-09-02T00:00:00",
          "2012-09-03T00:00:00",
          "2012-09-04T00:00:00",
          "2012-09-05T00:00:00",
          "2012-09-06T00:00:00",
          "2012-09-07T00:00:00",
          "2012-09-08T00:00:00",
          "2012-09-09T00:00:00",
          "2012-09-10T00:00:00",
          "2012-09-11T00:00:00",
          "2012-09-12T00:00:00",
          "2012-09-13T00:00:00",
          "2012-09-14T00:00:00",
          "2012-09-15T00:00:00",
          "2012-09-16T00:00:00",
          "2012-09-17T00:00:00",
          "2012-09-18T00:00:00",
          "2012-09-19T00:00:00",
          "2012-09-20T00:00:00",
          "2012-09-21T00:00:00",
          "2012-09-22T00:00:00",
          "2012-09-23T00:00:00",
          "2012-09-24T00:00:00",
          "2012-09-25T00:00:00",
          "2012-09-26T00:00:00",
          "2012-09-27T00:00:00",
          "2012-09-28T00:00:00",
          "2012-09-29T00:00:00",
          "2012-09-30T00:00:00",
          "2012-10-01T00:00:00",
          "2012-10-02T00:00:00",
          "2012-10-03T00:00:00",
          "2012-10-04T00:00:00",
          "2012-10-05T00:00:00",
          "2012-10-06T00:00:00",
          "2012-10-07T00:00:00",
          "2012-10-08T00:00:00",
          "2012-10-09T00:00:00",
          "2012-10-10T00:00:00",
          "2012-10-11T00:00:00",
          "2012-10-12T00:00:00",
          "2012-10-13T00:00:00",
          "2012-10-14T00:00:00",
          "2012-10-15T00:00:00",
          "2012-10-16T00:00:00",
          "2012-10-17T00:00:00",
          "2012-10-18T00:00:00",
          "2012-10-19T00:00:00",
          "2012-10-20T00:00:00",
          "2012-10-21T00:00:00",
          "2012-10-22T00:00:00",
          "2012-10-23T00:00:00",
          "2012-10-24T00:00:00",
          "2012-10-25T00:00:00",
          "2012-10-26T00:00:00",
          "2012-10-27T00:00:00",
          "2012-10-28T00:00:00",
          "2012-10-29T00:00:00",
          "2012-10-30T00:00:00",
          "2012-10-31T00:00:00",
          "2012-11-01T00:00:00",
          "2012-11-02T00:00:00",
          "2012-11-03T00:00:00",
          "2012-11-04T00:00:00",
          "2012-11-05T00:00:00",
          "2012-11-06T00:00:00",
          "2012-11-07T00:00:00",
          "2012-11-08T00:00:00",
          "2012-11-09T00:00:00",
          "2012-11-10T00:00:00",
          "2012-11-11T00:00:00",
          "2012-11-12T00:00:00",
          "2012-11-13T00:00:00",
          "2012-11-14T00:00:00",
          "2012-11-15T00:00:00",
          "2012-11-16T00:00:00",
          "2012-11-17T00:00:00",
          "2012-11-18T00:00:00",
          "2012-11-19T00:00:00",
          "2012-11-20T00:00:00",
          "2012-11-21T00:00:00",
          "2012-11-22T00:00:00",
          "2012-11-23T00:00:00",
          "2012-11-24T00:00:00",
          "2012-11-25T00:00:00",
          "2012-11-26T00:00:00",
          "2012-11-27T00:00:00",
          "2012-11-28T00:00:00",
          "2012-11-29T00:00:00",
          "2012-11-30T00:00:00",
          "2012-12-01T00:00:00",
          "2012-12-02T00:00:00",
          "2012-12-03T00:00:00",
          "2012-12-04T00:00:00",
          "2012-12-05T00:00:00",
          "2012-12-06T00:00:00",
          "2012-12-07T00:00:00",
          "2012-12-08T00:00:00",
          "2012-12-09T00:00:00",
          "2012-12-10T00:00:00",
          "2012-12-11T00:00:00",
          "2012-12-12T00:00:00",
          "2012-12-13T00:00:00",
          "2012-12-14T00:00:00",
          "2012-12-15T00:00:00",
          "2012-12-16T00:00:00",
          "2012-12-17T00:00:00",
          "2012-12-18T00:00:00",
          "2012-12-19T00:00:00",
          "2012-12-20T00:00:00",
          "2012-12-21T00:00:00",
          "2012-12-22T00:00:00",
          "2012-12-23T00:00:00",
          "2012-12-24T00:00:00",
          "2012-12-25T00:00:00",
          "2012-12-26T00:00:00",
          "2012-12-27T00:00:00",
          "2012-12-28T00:00:00",
          "2012-12-29T00:00:00",
          "2012-12-30T00:00:00",
          "2012-12-31T00:00:00"
         ],
         "xaxis": "x",
         "y": [
          1169.7510725180425,
          719.724546289254,
          1386.6198530551,
          1364.5046600543935,
          1364.7658076334303,
          1329.046519504591,
          1306.8190373247776,
          929.8675443827428,
          956.91354217771,
          1335.1335592232238,
          1020.9355727438884,
          1418.4973146648172,
          1409.810823588824,
          1379.5338749088896,
          1133.2425925660211,
          1012.9332326562983,
          879.3297302042944,
          1241.0539347738672,
          1271.5779813906288,
          1279.9497450811346,
          1421.2724024378351,
          937.8603176368164,
          940.304555133912,
          1406.320595732424,
          1279.4071344606646,
          229.55893384946057,
          1367.8624434383457,
          1043.386698506269,
          1054.7940110666655,
          1075.7323376531915,
          1171.80516612684,
          1523.5123415461185,
          1598.5377700486142,
          1615.594005433659,
          1695.5532977481257,
          889.3669313186833,
          1669.6692963409662,
          1923.695551665794,
          1612.0913095909684,
          1358.0134350788178,
          1528.095821531616,
          1737.2799398039433,
          1470.898722363102,
          1943.8850240766624,
          2171.2463830307893,
          1799.4842644479888,
          2002.11993228315,
          2287.777873285941,
          2490.3889735145003,
          1975.6407610920016,
          1763.793134432277,
          1413.4100189039707,
          1583.049145273699,
          1824.2486129240392,
          1499.0750232736036,
          1302.4129269354596,
          1759.9570745473923,
          1942.6916814128294,
          1489.9908323201826,
          2141.4129224048565,
          2457.3323182757426,
          1877.773523554549,
          2021.100670102649,
          2797.686096596969,
          1988.303195892209,
          2060.4512528664122,
          2178.8390565608447,
          1784.4068054199354,
          413.1129941070931,
          2056.529405027908,
          2456.066756280365,
          2674.0501237180074,
          2327.435673978489,
          2015.700063155743,
          2293.1326663512145,
          2637.4943174214463,
          3123.5887181559256,
          2888.295632182869,
          2381.7304508188913,
          2530.489814548803,
          2658.4865915841283,
          1606.634718474215,
          1577.9705246704711,
          1966.735781729546,
          2009.6378439018526,
          1880.7978360762104,
          2038.5008793723787,
          2268.5722045193734,
          1511.9331603453707,
          1001.7894249714309,
          2609.09433145537,
          2213.064010953558,
          3019.062941230859,
          3189.2871626113506,
          2445.998962200324,
          3165.936652526623,
          2996.3319227822117,
          1088.983599537934,
          2550.2847301521365,
          3176.5608735739097,
          3211.205710204241,
          1323.0165818034031,
          2433.8726457066914,
          3299.088632057002,
          3273.965740671874,
          1217.1342830527374,
          3465.6019740492475,
          3173.86638686056,
          2682.2043786240974,
          3404.437413104933,
          3056.5732098787835,
          1050.0211314134315,
          3390.719263153274,
          3469.0013147119225,
          3438.1579383784006,
          3467.9765043898906,
          2639.084188635664,
          3146.279025273198,
          3169.7407106915216,
          3484.114769993451,
          4164.215323179302,
          4206.2662251832335,
          4322.652164406485,
          4002.433297081282,
          4572.880979999367,
          3875.9246892067627,
          4636.940966402036,
          4620.878673535766,
          4684.972433152414,
          4325.217332306022,
          4643.017205350059,
          4273.772529219853,
          2746.625657091301,
          3011.8894270976084,
          4581.08867836003,
          3946.0602268940606,
          4051.256321157643,
          3618.1368752579756,
          3803.475714559068,
          4360.022678554926,
          5037.363167647382,
          4736.14045960133,
          4039.594475945269,
          3752.167120242766,
          4751.858751131568,
          4683.370041033149,
          4352.973041157797,
          5245.612246947287,
          5140.773364255724,
          5428.449125402178,
          4965.244633678003,
          4323.454277467351,
          4990.792660921959,
          4910.923659019321,
          4976.276620806483,
          5051.291383469159,
          4990.75785062688,
          4681.017506617904,
          5000.8675477969455,
          4503.9153111377145,
          4900.063061055971,
          5227.227328090717,
          4704.413602381368,
          4987.863473549358,
          4494.016055409073,
          4988.314819072724,
          3585.220158388803,
          3771.7081643354213,
          5010.3497657057815,
          4602.480318070181,
          4261.623770841887,
          4398.1465476146695,
          4615.374884538467,
          4434.451688542257,
          4956.261864824249,
          5233.905561225996,
          5109.173641802845,
          4650.852163369175,
          3934.3051320031373,
          4986.009830966419,
          4991.24841685345,
          4760.34973477158,
          4744.944374035102,
          4096.872905314301,
          4678.671805150557,
          4687.154877125246,
          4423.038234206699,
          4628.436884970898,
          4212.099739159138,
          4740.923592509271,
          4749.1032387349815,
          4633.606453024964,
          4644.891519363551,
          4428.788183310819,
          4793.735033994402,
          4773.233007820279,
          4738.678311391946,
          4745.81916686001,
          4675.492061815233,
          4470.090844915438,
          4595.004417909868,
          4461.406470917815,
          4209.367260563355,
          4772.188939694536,
          4766.886231778462,
          4579.452036400065,
          4695.906343614656,
          4723.430069863729,
          4629.01580785471,
          4538.6633317208125,
          4754.062345775587,
          4755.431270561112,
          4639.611077481361,
          4730.5022529095695,
          3146.0170736878026,
          4619.886054367088,
          4604.567567031703,
          3634.5963909648126,
          3677.332386132738,
          4674.531937383248,
          4689.598441591133,
          4622.369375454061,
          4579.012577421512,
          4585.842595383969,
          4040.6395458789457,
          3665.7506135150784,
          4372.773598069058,
          4580.40216455677,
          4613.76286583478,
          3949.466577742682,
          4322.128824874049,
          4246.338016290528,
          4059.8465360927266,
          4541.213018981934,
          4535.622058063464,
          4570.63472682895,
          4363.037487955664,
          4633.312318219223,
          2346.2777343735816,
          4114.841731442364,
          4522.1794654717705,
          4525.000459238161,
          4548.713089855617,
          4469.0367627581745,
          4206.745188467305,
          4443.449592262098,
          4988.735777193237,
          4107.748176778763,
          2603.6502706991605,
          1617.2856623091222,
          2041.3761379694613,
          4057.862694105938,
          4901.5842943147945,
          4850.139132784185,
          4734.827071918323,
          4733.413268153834,
          4593.3624151260665,
          3803.5403669007424,
          4090.3866369423836,
          4283.784895253955,
          4384.490815207939,
          3945.8037396129794,
          3993.4945104371122,
          3059.9617683157103,
          3989.3168348813824,
          2838.7430371808896,
          4531.436142219627,
          4499.162834198678,
          4492.171471573187,
          3946.145886251266,
          3145.7272536839237,
          4700.488185978213,
          4604.773888304449,
          2832.9727633468647,
          2469.0369513287114,
          3144.909528904403,
          4618.233057445821,
          4933.944904876295,
          4611.388282305822,
          4848.468241416979,
          5284.779370790596,
          5349.685382354369,
          5336.117869375754,
          4315.716766747245,
          2638.29920278782,
          3248.2125614541956,
          4217.611516297322,
          5131.811076457247,
          5185.530751484056,
          4583.436336481551,
          4694.977339653772,
          1956.439064885088,
          4164.709407844657,
          4130.393187580032,
          4461.565629549292,
          4637.526406603153,
          4116.898029607979,
          4557.2291975283315,
          3967.8587227084463,
          3429.8440515098378,
          3182.862934838641,
          1303.2756825315828,
          4134.306071443671,
          3835.134619924022,
          3937.744104601054,
          3910.9611408194523,
          3958.9525250963866,
          3880.326118642646,
          3545.9027811102483,
          3818.5967560201325,
          3943.2061990367556,
          4042.875973189294,
          3979.494081826117,
          3261.1189064168157,
          3242.2639497756763,
          3903.4024173666003,
          4271.30835148257,
          4554.755269086167,
          4187.508788059396,
          2110.4386534945393,
          2876.9784123466275,
          3360.487791760672,
          3628.566510887924,
          4320.841596908473,
          3012.132307418749,
          2117.2585731112304,
          3706.8670003930633,
          3833.698019899488,
          3913.1446926040435,
          3980.373641937635,
          4409.769506305549,
          4321.952301314368,
          3345.983001284879,
          3365.88082758635,
          3349.592938456706,
          3456.4831419705934,
          3048.547253459713,
          3173.711509466331,
          3551.1920847855235,
          2502.1429197036327,
          794.8065326048385,
          3181.4669589734535,
          3373.814991220486,
          2734.3517718409475,
          2785.960818022556,
          3055.181891070418,
          3317.2342234858834,
          3239.086074901075,
          3408.107551309822,
          3196.702288259904,
          2494.9398242776933,
          2664.3935395109806,
          3286.874256051961,
          3518.029865987959,
          3054.0052342522426,
          3333.4749510378124,
          3446.6550939092176,
          2833.0321583297455,
          2850.584818658191,
          2971.9533159440134,
          2535.084684268365,
          3209.1378793474373,
          3099.1207328239657,
          3316.057099575929,
          3413.425673586946,
          2900.433450040722,
          2668.82253350313,
          3232.839239769034,
          2962.8307634499956,
          3417.805884423834,
          3676.9649611457044,
          3322.7776987030015,
          3059.2601559946143,
          2613.5036112371035,
          3536.7156076254705,
          2512.293507857732,
          3564.7683302898513,
          3397.586858278662,
          2534.5283925764434,
          2446.2492334096332,
          2466.1757896169647,
          3205.905324066287,
          3443.1966419289815,
          3247.970077252277,
          3104.6221747291975,
          1796.73561633104,
          1884.7479205757613,
          2724.7854515441313,
          3613.5280642457,
          3510.136331637178,
          3464.2593087954756,
          3295.3324101829853,
          3033.8982414438087,
          2817.903930768788,
          3510.1716170984196,
          3747.2283593921147,
          4138.018592864687,
          3346.65629480371,
          4015.0745467287397,
          2711.729603050334,
          2973.782745496359,
          3949.403054997989,
          4260.897125703708,
          2673.3194014389433,
          3759.5174873632295,
          3437.309013874228,
          1764.7686830468565,
          1944.5581574915116,
          3695.359886102261,
          3977.4486746765206,
          4160.6319240003095,
          2867.3239003465337,
          4172.656089502765,
          3721.536855682273,
          2909.4330284682605,
          3098.80909500456,
          3871.828022928896,
          4405.705954684239,
          4590.111043862389,
          3641.830668109351,
          2810.629175523008,
          3193.852755734214,
          4404.370840388758,
          4165.4377578149915,
          3043.5559966046644,
          5748.041439759346,
          4182.353269924773,
          4874.750108935725,
          4093.9352868114215,
          3386.4758789955886,
          4513.134278027868,
          5423.147243702,
          6051.347530702405,
          4938.126856432169,
          4160.564625802595,
          5038.776136783338,
          5720.347967888662,
          6171.714770442909,
          6292.422068075345,
          6164.604949757729,
          4338.798061916603,
          5978.003703093646,
          5354.135605061823,
          6247.770168020222,
          6007.9221121334185,
          5620.52289491284,
          6159.280204060639,
          6309.134308868125,
          3367.303258072181,
          5051.704007793444,
          5526.949140019431,
          4995.018902248732,
          5770.535217802398,
          5694.57976641544,
          4489.241359302419,
          5142.936962348199,
          5442.771771506706,
          6148.11889974572,
          6494.03542082573,
          6325.31772951607,
          6132.502422718554,
          6113.758981439635,
          6075.442341341333,
          6485.996220435382,
          6239.900779258886,
          6313.736415177817,
          4928.243306178762,
          6099.59608905413,
          6323.07814581291,
          6249.259894790316,
          6851.647507483977,
          6968.351778629746,
          6914.175934262137,
          4085.7834379852707,
          6352.716641822999,
          6671.0564996457115,
          6395.572407207805,
          1847.166720227544,
          3513.336162263906,
          6164.385027389843,
          6479.987154105078,
          5241.594635925576,
          6271.89662038841,
          4765.894136609691,
          6161.17879697013,
          5808.815086380432,
          6545.057487688534,
          6192.903229871882,
          5832.9911512795625,
          6604.1810048842835,
          5852.988187988285,
          6023.763448200354,
          5843.43275232572,
          5057.729069426995,
          5104.015696400067,
          6557.537287702635,
          6761.774783474657,
          6580.947003752824,
          6784.100573453175,
          3916.338851504237,
          5735.703860659983,
          6935.709676314165,
          6867.6526992527915,
          6861.913227256359,
          6944.891455688446,
          6879.535720733914,
          5322.186150921341,
          6305.615057826519,
          5327.899734285308,
          6786.706580029737,
          6932.819123309114,
          7100.700031786235,
          6974.093346619779,
          7587.9110038508325,
          6900.259073754793,
          6428.203973337135,
          7105.451894276033,
          4543.726108402014,
          6747.151570423802,
          6848.5016069832545,
          7033.753187571021,
          6429.551083614305,
          6385.352725387586,
          7035.777648011932,
          7108.573168575883,
          7065.728157096334,
          7171.55131095909,
          6569.064638186713,
          5537.256187991241,
          6743.976023865727,
          7011.959643129823,
          7095.718214622693,
          6598.333163564135,
          6787.436968475246,
          5386.43685538884,
          7061.626919210225,
          7220.010128044739,
          7385.739124266581,
          6816.136433269997,
          7122.047692178076,
          7145.269520178538,
          7148.989916239789,
          7071.782504753914,
          7200.619797222355,
          7287.422101227172,
          7053.866736363326,
          7180.122911927899,
          6471.06785025696,
          6775.295788401559,
          6245.205299170328,
          6572.62798177825,
          6781.494344609833,
          6863.2156307107725,
          6696.980429071679,
          5994.070738553571,
          6096.538911561169,
          5550.556768697834,
          6487.697120346066,
          6704.106962082815,
          6276.152891062221,
          5816.039943161606,
          6151.313611204694,
          5929.289734614716,
          6708.325263459847,
          6529.326813943779,
          6410.500149935562,
          5147.553850607006,
          3727.2335175394524,
          6047.969642365234,
          6658.880795258194,
          6724.273698813297,
          6731.475111566616,
          6795.386822854719,
          6846.284047575142,
          6422.074981452483,
          6351.749533732141,
          6610.435808721491,
          6061.975988594205,
          6598.505471918784,
          7393.097345416332,
          7374.916197648766,
          6846.628994705814,
          6545.893225728858,
          6779.848388480835,
          6822.767407008783,
          7219.506346832217,
          7283.83933202791,
          6652.1495138544005,
          5585.02753650579,
          6253.866261303314,
          7139.088534707062,
          6572.387790239198,
          7025.393920856375,
          7156.481241661005,
          5090.364265545186,
          6055.504182437828,
          4813.943039319713,
          6744.386407963201,
          6691.135326912036,
          5823.764052349827,
          7020.552213181081,
          6873.317270152381,
          5197.480441424845,
          4775.127352563899,
          7195.752013161322,
          7122.89602323584,
          7047.683278132076,
          7146.755503772592,
          7315.062549661736,
          6887.34969641957,
          5496.518210844737,
          7492.01163300531,
          7822.440557875413,
          7906.475507591411,
          6913.43612278316,
          7931.335625390425,
          6402.505197001535,
          7410.803342809673,
          7657.99784595863,
          7635.886594095748,
          7676.158699642311,
          7688.348940094088,
          7252.2991083058405,
          7169.866334416374,
          7364.359882158037,
          6652.1423665396305,
          5523.04184431455,
          7524.248690003098,
          7566.7091020324015,
          7669.2478768251085,
          7548.677040919182,
          7116.308436143726,
          7444.244579364946,
          7625.479325663935,
          7617.825964569996,
          6938.466174255044,
          6133.57900833207,
          7184.026060993911,
          7042.599373028767,
          5561.1379402552275,
          3283.9341312575643,
          7706.413143727214,
          7755.201415816339,
          8006.39297458202,
          7541.24556056967,
          4583.667539398566,
          4771.941350943246,
          6120.144579335759,
          7222.964316971732,
          6772.951541755639,
          6880.611036627869,
          6409.181868885002,
          7554.548839859221,
          5991.188010857514,
          6977.572755066381,
          6670.2246702495395,
          6899.336141058322,
          6285.412467544644,
          7017.312839770765,
          6963.619980131362,
          7389.023495246246,
          7522.035206258487,
          7570.959031070011,
          7045.508512436068,
          6670.1314529413285,
          7129.66448695689,
          5090.514597387695,
          2249.2766482746047,
          3821.995204858543,
          5757.802973850397,
          4846.00166828522,
          5771.074992157491,
          4792.844511746651,
          5289.400323953628,
          5375.415672450876,
          5320.054198070106,
          4641.546314805642,
          5827.553668065137,
          5993.289372585327,
          6003.443868655441,
          6270.97592146622,
          6321.466946724532,
          5034.375875240092,
          5413.848076700302,
          5210.668996435362,
          5727.965549441642,
          5343.410685224121,
          5285.088660241405,
          5736.060221429476,
          5772.891505977474,
          5953.110251520043,
          5521.3052897176,
          6062.6442085249755,
          4261.270209657136,
          4299.171978985649,
          5905.277694577974,
          4251.066938895304,
          5328.405051806499,
          5456.127441415587,
          5477.092936470499,
          4490.48430348067,
          4573.676086372958,
          6208.158663465346,
          6163.071939826084,
          5461.858656132277,
          5074.139619083086,
          4761.581082592077,
          5001.671226084567,
          3053.081758904912,
          5361.4093979734425,
          5142.399223460159,
          4787.399909274347,
          5287.821085742153,
          5354.341275537358,
          4837.748192428366,
          4528.119473213914,
          5132.170441347822,
          5618.25768163644,
          5591.031432072932,
          4522.957669903632,
          4646.63384981291,
          4028.686018183555,
          4297.434143008139,
          3584.236738030268,
          4310.747174180015,
          1961.5666786574218,
          4598.911178628585,
          4658.639843433579,
          3224.2356299956164,
          3927.1264106467042,
          4502.301615242809
         ],
         "yaxis": "y"
        }
       ],
       "layout": {
        "legend": {
         "title": {
          "text": "variable"
         },
         "tracegroupgap": 0
        },
        "template": {
         "data": {
          "bar": [
           {
            "error_x": {
             "color": "#2a3f5f"
            },
            "error_y": {
             "color": "#2a3f5f"
            },
            "marker": {
             "line": {
              "color": "#E5ECF6",
              "width": 0.5
             },
             "pattern": {
              "fillmode": "overlay",
              "size": 10,
              "solidity": 0.2
             }
            },
            "type": "bar"
           }
          ],
          "barpolar": [
           {
            "marker": {
             "line": {
              "color": "#E5ECF6",
              "width": 0.5
             },
             "pattern": {
              "fillmode": "overlay",
              "size": 10,
              "solidity": 0.2
             }
            },
            "type": "barpolar"
           }
          ],
          "carpet": [
           {
            "aaxis": {
             "endlinecolor": "#2a3f5f",
             "gridcolor": "white",
             "linecolor": "white",
             "minorgridcolor": "white",
             "startlinecolor": "#2a3f5f"
            },
            "baxis": {
             "endlinecolor": "#2a3f5f",
             "gridcolor": "white",
             "linecolor": "white",
             "minorgridcolor": "white",
             "startlinecolor": "#2a3f5f"
            },
            "type": "carpet"
           }
          ],
          "choropleth": [
           {
            "colorbar": {
             "outlinewidth": 0,
             "ticks": ""
            },
            "type": "choropleth"
           }
          ],
          "contour": [
           {
            "colorbar": {
             "outlinewidth": 0,
             "ticks": ""
            },
            "colorscale": [
             [
              0,
              "#0d0887"
             ],
             [
              0.1111111111111111,
              "#46039f"
             ],
             [
              0.2222222222222222,
              "#7201a8"
             ],
             [
              0.3333333333333333,
              "#9c179e"
             ],
             [
              0.4444444444444444,
              "#bd3786"
             ],
             [
              0.5555555555555556,
              "#d8576b"
             ],
             [
              0.6666666666666666,
              "#ed7953"
             ],
             [
              0.7777777777777778,
              "#fb9f3a"
             ],
             [
              0.8888888888888888,
              "#fdca26"
             ],
             [
              1,
              "#f0f921"
             ]
            ],
            "type": "contour"
           }
          ],
          "contourcarpet": [
           {
            "colorbar": {
             "outlinewidth": 0,
             "ticks": ""
            },
            "type": "contourcarpet"
           }
          ],
          "heatmap": [
           {
            "colorbar": {
             "outlinewidth": 0,
             "ticks": ""
            },
            "colorscale": [
             [
              0,
              "#0d0887"
             ],
             [
              0.1111111111111111,
              "#46039f"
             ],
             [
              0.2222222222222222,
              "#7201a8"
             ],
             [
              0.3333333333333333,
              "#9c179e"
             ],
             [
              0.4444444444444444,
              "#bd3786"
             ],
             [
              0.5555555555555556,
              "#d8576b"
             ],
             [
              0.6666666666666666,
              "#ed7953"
             ],
             [
              0.7777777777777778,
              "#fb9f3a"
             ],
             [
              0.8888888888888888,
              "#fdca26"
             ],
             [
              1,
              "#f0f921"
             ]
            ],
            "type": "heatmap"
           }
          ],
          "heatmapgl": [
           {
            "colorbar": {
             "outlinewidth": 0,
             "ticks": ""
            },
            "colorscale": [
             [
              0,
              "#0d0887"
             ],
             [
              0.1111111111111111,
              "#46039f"
             ],
             [
              0.2222222222222222,
              "#7201a8"
             ],
             [
              0.3333333333333333,
              "#9c179e"
             ],
             [
              0.4444444444444444,
              "#bd3786"
             ],
             [
              0.5555555555555556,
              "#d8576b"
             ],
             [
              0.6666666666666666,
              "#ed7953"
             ],
             [
              0.7777777777777778,
              "#fb9f3a"
             ],
             [
              0.8888888888888888,
              "#fdca26"
             ],
             [
              1,
              "#f0f921"
             ]
            ],
            "type": "heatmapgl"
           }
          ],
          "histogram": [
           {
            "marker": {
             "pattern": {
              "fillmode": "overlay",
              "size": 10,
              "solidity": 0.2
             }
            },
            "type": "histogram"
           }
          ],
          "histogram2d": [
           {
            "colorbar": {
             "outlinewidth": 0,
             "ticks": ""
            },
            "colorscale": [
             [
              0,
              "#0d0887"
             ],
             [
              0.1111111111111111,
              "#46039f"
             ],
             [
              0.2222222222222222,
              "#7201a8"
             ],
             [
              0.3333333333333333,
              "#9c179e"
             ],
             [
              0.4444444444444444,
              "#bd3786"
             ],
             [
              0.5555555555555556,
              "#d8576b"
             ],
             [
              0.6666666666666666,
              "#ed7953"
             ],
             [
              0.7777777777777778,
              "#fb9f3a"
             ],
             [
              0.8888888888888888,
              "#fdca26"
             ],
             [
              1,
              "#f0f921"
             ]
            ],
            "type": "histogram2d"
           }
          ],
          "histogram2dcontour": [
           {
            "colorbar": {
             "outlinewidth": 0,
             "ticks": ""
            },
            "colorscale": [
             [
              0,
              "#0d0887"
             ],
             [
              0.1111111111111111,
              "#46039f"
             ],
             [
              0.2222222222222222,
              "#7201a8"
             ],
             [
              0.3333333333333333,
              "#9c179e"
             ],
             [
              0.4444444444444444,
              "#bd3786"
             ],
             [
              0.5555555555555556,
              "#d8576b"
             ],
             [
              0.6666666666666666,
              "#ed7953"
             ],
             [
              0.7777777777777778,
              "#fb9f3a"
             ],
             [
              0.8888888888888888,
              "#fdca26"
             ],
             [
              1,
              "#f0f921"
             ]
            ],
            "type": "histogram2dcontour"
           }
          ],
          "mesh3d": [
           {
            "colorbar": {
             "outlinewidth": 0,
             "ticks": ""
            },
            "type": "mesh3d"
           }
          ],
          "parcoords": [
           {
            "line": {
             "colorbar": {
              "outlinewidth": 0,
              "ticks": ""
             }
            },
            "type": "parcoords"
           }
          ],
          "pie": [
           {
            "automargin": true,
            "type": "pie"
           }
          ],
          "scatter": [
           {
            "marker": {
             "colorbar": {
              "outlinewidth": 0,
              "ticks": ""
             }
            },
            "type": "scatter"
           }
          ],
          "scatter3d": [
           {
            "line": {
             "colorbar": {
              "outlinewidth": 0,
              "ticks": ""
             }
            },
            "marker": {
             "colorbar": {
              "outlinewidth": 0,
              "ticks": ""
             }
            },
            "type": "scatter3d"
           }
          ],
          "scattercarpet": [
           {
            "marker": {
             "colorbar": {
              "outlinewidth": 0,
              "ticks": ""
             }
            },
            "type": "scattercarpet"
           }
          ],
          "scattergeo": [
           {
            "marker": {
             "colorbar": {
              "outlinewidth": 0,
              "ticks": ""
             }
            },
            "type": "scattergeo"
           }
          ],
          "scattergl": [
           {
            "marker": {
             "colorbar": {
              "outlinewidth": 0,
              "ticks": ""
             }
            },
            "type": "scattergl"
           }
          ],
          "scattermapbox": [
           {
            "marker": {
             "colorbar": {
              "outlinewidth": 0,
              "ticks": ""
             }
            },
            "type": "scattermapbox"
           }
          ],
          "scatterpolar": [
           {
            "marker": {
             "colorbar": {
              "outlinewidth": 0,
              "ticks": ""
             }
            },
            "type": "scatterpolar"
           }
          ],
          "scatterpolargl": [
           {
            "marker": {
             "colorbar": {
              "outlinewidth": 0,
              "ticks": ""
             }
            },
            "type": "scatterpolargl"
           }
          ],
          "scatterternary": [
           {
            "marker": {
             "colorbar": {
              "outlinewidth": 0,
              "ticks": ""
             }
            },
            "type": "scatterternary"
           }
          ],
          "surface": [
           {
            "colorbar": {
             "outlinewidth": 0,
             "ticks": ""
            },
            "colorscale": [
             [
              0,
              "#0d0887"
             ],
             [
              0.1111111111111111,
              "#46039f"
             ],
             [
              0.2222222222222222,
              "#7201a8"
             ],
             [
              0.3333333333333333,
              "#9c179e"
             ],
             [
              0.4444444444444444,
              "#bd3786"
             ],
             [
              0.5555555555555556,
              "#d8576b"
             ],
             [
              0.6666666666666666,
              "#ed7953"
             ],
             [
              0.7777777777777778,
              "#fb9f3a"
             ],
             [
              0.8888888888888888,
              "#fdca26"
             ],
             [
              1,
              "#f0f921"
             ]
            ],
            "type": "surface"
           }
          ],
          "table": [
           {
            "cells": {
             "fill": {
              "color": "#EBF0F8"
             },
             "line": {
              "color": "white"
             }
            },
            "header": {
             "fill": {
              "color": "#C8D4E3"
             },
             "line": {
              "color": "white"
             }
            },
            "type": "table"
           }
          ]
         },
         "layout": {
          "annotationdefaults": {
           "arrowcolor": "#2a3f5f",
           "arrowhead": 0,
           "arrowwidth": 1
          },
          "autotypenumbers": "strict",
          "coloraxis": {
           "colorbar": {
            "outlinewidth": 0,
            "ticks": ""
           }
          },
          "colorscale": {
           "diverging": [
            [
             0,
             "#8e0152"
            ],
            [
             0.1,
             "#c51b7d"
            ],
            [
             0.2,
             "#de77ae"
            ],
            [
             0.3,
             "#f1b6da"
            ],
            [
             0.4,
             "#fde0ef"
            ],
            [
             0.5,
             "#f7f7f7"
            ],
            [
             0.6,
             "#e6f5d0"
            ],
            [
             0.7,
             "#b8e186"
            ],
            [
             0.8,
             "#7fbc41"
            ],
            [
             0.9,
             "#4d9221"
            ],
            [
             1,
             "#276419"
            ]
           ],
           "sequential": [
            [
             0,
             "#0d0887"
            ],
            [
             0.1111111111111111,
             "#46039f"
            ],
            [
             0.2222222222222222,
             "#7201a8"
            ],
            [
             0.3333333333333333,
             "#9c179e"
            ],
            [
             0.4444444444444444,
             "#bd3786"
            ],
            [
             0.5555555555555556,
             "#d8576b"
            ],
            [
             0.6666666666666666,
             "#ed7953"
            ],
            [
             0.7777777777777778,
             "#fb9f3a"
            ],
            [
             0.8888888888888888,
             "#fdca26"
            ],
            [
             1,
             "#f0f921"
            ]
           ],
           "sequentialminus": [
            [
             0,
             "#0d0887"
            ],
            [
             0.1111111111111111,
             "#46039f"
            ],
            [
             0.2222222222222222,
             "#7201a8"
            ],
            [
             0.3333333333333333,
             "#9c179e"
            ],
            [
             0.4444444444444444,
             "#bd3786"
            ],
            [
             0.5555555555555556,
             "#d8576b"
            ],
            [
             0.6666666666666666,
             "#ed7953"
            ],
            [
             0.7777777777777778,
             "#fb9f3a"
            ],
            [
             0.8888888888888888,
             "#fdca26"
            ],
            [
             1,
             "#f0f921"
            ]
           ]
          },
          "colorway": [
           "#636efa",
           "#EF553B",
           "#00cc96",
           "#ab63fa",
           "#FFA15A",
           "#19d3f3",
           "#FF6692",
           "#B6E880",
           "#FF97FF",
           "#FECB52"
          ],
          "font": {
           "color": "#2a3f5f"
          },
          "geo": {
           "bgcolor": "white",
           "lakecolor": "white",
           "landcolor": "#E5ECF6",
           "showlakes": true,
           "showland": true,
           "subunitcolor": "white"
          },
          "hoverlabel": {
           "align": "left"
          },
          "hovermode": "closest",
          "mapbox": {
           "style": "light"
          },
          "paper_bgcolor": "white",
          "plot_bgcolor": "#E5ECF6",
          "polar": {
           "angularaxis": {
            "gridcolor": "white",
            "linecolor": "white",
            "ticks": ""
           },
           "bgcolor": "#E5ECF6",
           "radialaxis": {
            "gridcolor": "white",
            "linecolor": "white",
            "ticks": ""
           }
          },
          "scene": {
           "xaxis": {
            "backgroundcolor": "#E5ECF6",
            "gridcolor": "white",
            "gridwidth": 2,
            "linecolor": "white",
            "showbackground": true,
            "ticks": "",
            "zerolinecolor": "white"
           },
           "yaxis": {
            "backgroundcolor": "#E5ECF6",
            "gridcolor": "white",
            "gridwidth": 2,
            "linecolor": "white",
            "showbackground": true,
            "ticks": "",
            "zerolinecolor": "white"
           },
           "zaxis": {
            "backgroundcolor": "#E5ECF6",
            "gridcolor": "white",
            "gridwidth": 2,
            "linecolor": "white",
            "showbackground": true,
            "ticks": "",
            "zerolinecolor": "white"
           }
          },
          "shapedefaults": {
           "line": {
            "color": "#2a3f5f"
           }
          },
          "ternary": {
           "aaxis": {
            "gridcolor": "white",
            "linecolor": "white",
            "ticks": ""
           },
           "baxis": {
            "gridcolor": "white",
            "linecolor": "white",
            "ticks": ""
           },
           "bgcolor": "#E5ECF6",
           "caxis": {
            "gridcolor": "white",
            "linecolor": "white",
            "ticks": ""
           }
          },
          "title": {
           "x": 0.05
          },
          "xaxis": {
           "automargin": true,
           "gridcolor": "white",
           "linecolor": "white",
           "ticks": "",
           "title": {
            "standoff": 15
           },
           "zerolinecolor": "white",
           "zerolinewidth": 2
          },
          "yaxis": {
           "automargin": true,
           "gridcolor": "white",
           "linecolor": "white",
           "ticks": "",
           "title": {
            "standoff": 15
           },
           "zerolinecolor": "white",
           "zerolinewidth": 2
          }
         }
        },
        "title": {
         "text": "Vergleich zwischen Modell und eigentlichen Werten"
        },
        "xaxis": {
         "anchor": "y",
         "domain": [
          0,
          1
         ],
         "title": {
          "text": "Datum"
         }
        },
        "yaxis": {
         "anchor": "x",
         "domain": [
          0,
          1
         ],
         "title": {
          "text": "value"
         }
        }
       }
      }
     },
     "metadata": {},
     "output_type": "display_data"
    }
   ],
   "source": [
    "df_day['Prediction'] = model.predict(xdf_wm)\n",
    "px.line(df_day, x = 'Datum', y = ['Bookings', 'Prediction'], title = 'Vergleich zwischen Modell und eigentlichen Werten')"
   ]
  },
  {
   "cell_type": "markdown",
   "metadata": {},
   "source": [
    "# Stündlich"
   ]
  },
  {
   "cell_type": "code",
   "execution_count": 49,
   "metadata": {},
   "outputs": [],
   "source": [
    "df_dummy = pd.get_dummies(df[['datetime', 'weather']], columns=['weather'])\n",
    "df_dummy = df_dummy.groupby(['datetime']).mean()\n",
    "df_dummy.index = pd.to_datetime(df_dummy.index)\n",
    "df_dummy = df_dummy.resample('h').mean()\n",
    "df_dummy = df_dummy.reset_index()\n",
    "df_hourlyy = pd.merge(df_hourly, df_dummy, on = 'datetime')\n"
   ]
  },
  {
   "cell_type": "code",
   "execution_count": 81,
   "metadata": {},
   "outputs": [
    {
     "name": "stdout",
     "output_type": "stream",
     "text": [
      "0.9005240607036361\n",
      "0.8867733408024304\n"
     ]
    }
   ],
   "source": [
    "from sklearn.preprocessing import MinMaxScaler, PolynomialFeatures\n",
    "\n",
    "col = ['atemp', 'humidity','windspeed', 'year','workingday', \n",
    "       'month', 'hour', 'weather_clear, few clouds', 'weather_light snow or rain or thunderstorm']\n",
    "xdf_wm = df_hourlyy[col]\n",
    "ydf_wm = df_hourlyy[['Bookings']]\n",
    "xdf_wm = pd.get_dummies(xdf_wm, columns=['month', 'hour'])\n",
    "\n",
    "# Interaction Term\n",
    "poly = PolynomialFeatures(interaction_only=True)\n",
    "xdf_wm = poly.fit_transform(xdf_wm)\n",
    "\n",
    "# Linear Regression\n",
    "X_train, X_test, y_train, y_test = train_test_split(xdf_wm, ydf_wm, test_size=0.35, random_state=42)\n",
    "\n",
    "model = Ridge()\n",
    "model.fit(X_train, y_train)\n",
    "print(r2_score(y_train, model.predict(X_train)))\n",
    "print(r2_score(y_test, model.predict(X_test)))"
   ]
  },
  {
   "cell_type": "code",
   "execution_count": 82,
   "metadata": {},
   "outputs": [
    {
     "name": "stdout",
     "output_type": "stream",
     "text": [
      "0.9037802841941104\n"
     ]
    }
   ],
   "source": [
    "df_hourlyy['Prediction'] = model.predict(xdf_wm).round()\n",
    "df_hourlyy.head()\n",
    "def get_null(val):\n",
    "    if val < 0:\n",
    "        return 0\n",
    "    else:\n",
    "        return val\n",
    "df_hourlyy['Prediction'] = df_hourlyy['Prediction'].apply(get_null)\n",
    "# print(r2_score(df_hourlyy['Bookings'], df_hourlyy['Prediction']))"
   ]
  },
  {
   "cell_type": "code",
   "execution_count": 52,
   "metadata": {},
   "outputs": [
    {
     "data": {
      "application/vnd.plotly.v1+json": {
       "config": {
        "plotlyServerURL": "https://plot.ly"
       },
       "data": [
        {
         "hovertemplate": "datetime=%{x}<br>Bookings=%{y}<extra></extra>",
         "legendgroup": "",
         "line": {
          "color": "#636efa",
          "dash": "solid"
         },
         "marker": {
          "symbol": "circle"
         },
         "mode": "lines",
         "name": "",
         "orientation": "v",
         "showlegend": false,
         "type": "scatter",
         "x": [
          "2011-08-08T00:00:00",
          "2011-08-08T01:00:00",
          "2011-08-08T02:00:00",
          "2011-08-08T03:00:00",
          "2011-08-08T04:00:00",
          "2011-08-08T05:00:00",
          "2011-08-08T06:00:00",
          "2011-08-08T07:00:00",
          "2011-08-08T08:00:00",
          "2011-08-08T09:00:00",
          "2011-08-08T10:00:00",
          "2011-08-08T11:00:00",
          "2011-08-08T12:00:00",
          "2011-08-08T13:00:00",
          "2011-08-08T14:00:00",
          "2011-08-08T15:00:00",
          "2011-08-08T16:00:00",
          "2011-08-08T17:00:00",
          "2011-08-08T18:00:00",
          "2011-08-08T19:00:00",
          "2011-08-08T20:00:00",
          "2011-08-08T21:00:00",
          "2011-08-08T22:00:00",
          "2011-08-08T23:00:00",
          "2011-08-09T00:00:00",
          "2011-08-09T01:00:00",
          "2011-08-09T02:00:00",
          "2011-08-09T03:00:00",
          "2011-08-09T04:00:00",
          "2011-08-09T05:00:00",
          "2011-08-09T06:00:00",
          "2011-08-09T07:00:00",
          "2011-08-09T08:00:00",
          "2011-08-09T09:00:00",
          "2011-08-09T10:00:00",
          "2011-08-09T11:00:00",
          "2011-08-09T12:00:00",
          "2011-08-09T13:00:00",
          "2011-08-09T14:00:00",
          "2011-08-09T15:00:00",
          "2011-08-09T16:00:00",
          "2011-08-09T17:00:00",
          "2011-08-09T18:00:00",
          "2011-08-09T19:00:00",
          "2011-08-09T20:00:00",
          "2011-08-09T21:00:00",
          "2011-08-09T22:00:00",
          "2011-08-09T23:00:00",
          "2011-08-10T00:00:00",
          "2011-08-10T01:00:00",
          "2011-08-10T02:00:00",
          "2011-08-10T03:00:00",
          "2011-08-10T04:00:00",
          "2011-08-10T05:00:00",
          "2011-08-10T06:00:00",
          "2011-08-10T07:00:00",
          "2011-08-10T08:00:00",
          "2011-08-10T09:00:00",
          "2011-08-10T10:00:00",
          "2011-08-10T11:00:00",
          "2011-08-10T12:00:00",
          "2011-08-10T13:00:00",
          "2011-08-10T14:00:00",
          "2011-08-10T15:00:00",
          "2011-08-10T16:00:00",
          "2011-08-10T17:00:00",
          "2011-08-10T18:00:00",
          "2011-08-10T19:00:00",
          "2011-08-10T20:00:00",
          "2011-08-10T21:00:00",
          "2011-08-10T22:00:00",
          "2011-08-10T23:00:00",
          "2011-08-11T00:00:00",
          "2011-08-11T01:00:00",
          "2011-08-11T02:00:00",
          "2011-08-11T03:00:00",
          "2011-08-11T04:00:00",
          "2011-08-11T05:00:00",
          "2011-08-11T06:00:00",
          "2011-08-11T07:00:00",
          "2011-08-11T08:00:00",
          "2011-08-11T09:00:00",
          "2011-08-11T10:00:00",
          "2011-08-11T11:00:00",
          "2011-08-11T12:00:00",
          "2011-08-11T13:00:00",
          "2011-08-11T14:00:00",
          "2011-08-11T15:00:00",
          "2011-08-11T16:00:00",
          "2011-08-11T17:00:00",
          "2011-08-11T18:00:00",
          "2011-08-11T19:00:00",
          "2011-08-11T20:00:00",
          "2011-08-11T21:00:00",
          "2011-08-11T22:00:00",
          "2011-08-11T23:00:00",
          "2011-08-12T00:00:00",
          "2011-08-12T01:00:00",
          "2011-08-12T02:00:00",
          "2011-08-12T03:00:00",
          "2011-08-12T04:00:00",
          "2011-08-12T05:00:00",
          "2011-08-12T06:00:00",
          "2011-08-12T07:00:00",
          "2011-08-12T08:00:00",
          "2011-08-12T09:00:00",
          "2011-08-12T10:00:00",
          "2011-08-12T11:00:00",
          "2011-08-12T12:00:00",
          "2011-08-12T13:00:00",
          "2011-08-12T14:00:00",
          "2011-08-12T15:00:00",
          "2011-08-12T16:00:00",
          "2011-08-12T17:00:00",
          "2011-08-12T18:00:00",
          "2011-08-12T19:00:00",
          "2011-08-12T20:00:00",
          "2011-08-12T21:00:00",
          "2011-08-12T22:00:00",
          "2011-08-12T23:00:00",
          "2011-08-13T00:00:00",
          "2011-08-13T01:00:00",
          "2011-08-13T02:00:00",
          "2011-08-13T03:00:00",
          "2011-08-13T04:00:00",
          "2011-08-13T05:00:00",
          "2011-08-13T06:00:00",
          "2011-08-13T07:00:00",
          "2011-08-13T08:00:00",
          "2011-08-13T09:00:00",
          "2011-08-13T10:00:00",
          "2011-08-13T11:00:00",
          "2011-08-13T12:00:00",
          "2011-08-13T13:00:00",
          "2011-08-13T14:00:00",
          "2011-08-13T15:00:00",
          "2011-08-13T16:00:00",
          "2011-08-13T17:00:00",
          "2011-08-13T18:00:00",
          "2011-08-13T19:00:00",
          "2011-08-13T20:00:00",
          "2011-08-13T21:00:00",
          "2011-08-13T22:00:00",
          "2011-08-13T23:00:00",
          "2011-08-14T00:00:00",
          "2011-08-14T01:00:00",
          "2011-08-14T02:00:00",
          "2011-08-14T03:00:00",
          "2011-08-14T04:00:00",
          "2011-08-14T05:00:00",
          "2011-08-14T06:00:00",
          "2011-08-14T07:00:00",
          "2011-08-14T08:00:00",
          "2011-08-14T09:00:00",
          "2011-08-14T10:00:00",
          "2011-08-14T11:00:00",
          "2011-08-14T12:00:00",
          "2011-08-14T13:00:00",
          "2011-08-14T14:00:00",
          "2011-08-14T15:00:00",
          "2011-08-14T16:00:00",
          "2011-08-14T17:00:00",
          "2011-08-14T18:00:00",
          "2011-08-14T19:00:00",
          "2011-08-14T20:00:00",
          "2011-08-14T21:00:00",
          "2011-08-14T22:00:00",
          "2011-08-14T23:00:00"
         ],
         "xaxis": "x",
         "y": [
          30,
          12,
          7,
          1,
          10,
          15,
          95,
          267,
          349,
          183,
          124,
          179,
          182,
          151,
          150,
          126,
          282,
          527,
          529,
          416,
          286,
          186,
          147,
          72,
          35,
          14,
          12,
          3,
          7,
          30,
          101,
          343,
          392,
          175,
          144,
          149,
          185,
          175,
          148,
          164,
          285,
          532,
          585,
          371,
          292,
          230,
          155,
          75,
          37,
          17,
          11,
          4,
          5,
          32,
          119,
          305,
          399,
          180,
          113,
          149,
          240,
          191,
          178,
          194,
          282,
          584,
          559,
          413,
          312,
          209,
          139,
          108,
          46,
          26,
          11,
          9,
          5,
          25,
          106,
          307,
          390,
          197,
          132,
          187,
          214,
          217,
          142,
          178,
          298,
          582,
          571,
          371,
          288,
          206,
          157,
          127,
          65,
          23,
          15,
          9,
          5,
          26,
          76,
          264,
          426,
          205,
          130,
          156,
          222,
          253,
          186,
          249,
          334,
          516,
          465,
          385,
          287,
          226,
          231,
          151,
          84,
          77,
          74,
          27,
          10,
          18,
          22,
          44,
          118,
          208,
          260,
          314,
          421,
          153,
          259,
          358,
          281,
          269,
          292,
          237,
          183,
          167,
          154,
          120,
          90,
          73,
          62,
          27,
          3,
          10,
          6,
          24,
          41,
          103,
          183,
          198,
          281,
          377,
          370,
          331,
          292,
          329,
          347,
          259,
          193,
          155,
          39,
          27
         ],
         "yaxis": "y"
        },
        {
         "line": {
          "dash": "dot"
         },
         "name": "Trend",
         "type": "scatter",
         "x": [
          "2011-08-08T00:00:00",
          "2011-08-08T01:00:00",
          "2011-08-08T02:00:00",
          "2011-08-08T03:00:00",
          "2011-08-08T04:00:00",
          "2011-08-08T05:00:00",
          "2011-08-08T06:00:00",
          "2011-08-08T07:00:00",
          "2011-08-08T08:00:00",
          "2011-08-08T09:00:00",
          "2011-08-08T10:00:00",
          "2011-08-08T11:00:00",
          "2011-08-08T12:00:00",
          "2011-08-08T13:00:00",
          "2011-08-08T14:00:00",
          "2011-08-08T15:00:00",
          "2011-08-08T16:00:00",
          "2011-08-08T17:00:00",
          "2011-08-08T18:00:00",
          "2011-08-08T19:00:00",
          "2011-08-08T20:00:00",
          "2011-08-08T21:00:00",
          "2011-08-08T22:00:00",
          "2011-08-08T23:00:00",
          "2011-08-09T00:00:00",
          "2011-08-09T01:00:00",
          "2011-08-09T02:00:00",
          "2011-08-09T03:00:00",
          "2011-08-09T04:00:00",
          "2011-08-09T05:00:00",
          "2011-08-09T06:00:00",
          "2011-08-09T07:00:00",
          "2011-08-09T08:00:00",
          "2011-08-09T09:00:00",
          "2011-08-09T10:00:00",
          "2011-08-09T11:00:00",
          "2011-08-09T12:00:00",
          "2011-08-09T13:00:00",
          "2011-08-09T14:00:00",
          "2011-08-09T15:00:00",
          "2011-08-09T16:00:00",
          "2011-08-09T17:00:00",
          "2011-08-09T18:00:00",
          "2011-08-09T19:00:00",
          "2011-08-09T20:00:00",
          "2011-08-09T21:00:00",
          "2011-08-09T22:00:00",
          "2011-08-09T23:00:00",
          "2011-08-10T00:00:00",
          "2011-08-10T01:00:00",
          "2011-08-10T02:00:00",
          "2011-08-10T03:00:00",
          "2011-08-10T04:00:00",
          "2011-08-10T05:00:00",
          "2011-08-10T06:00:00",
          "2011-08-10T07:00:00",
          "2011-08-10T08:00:00",
          "2011-08-10T09:00:00",
          "2011-08-10T10:00:00",
          "2011-08-10T11:00:00",
          "2011-08-10T12:00:00",
          "2011-08-10T13:00:00",
          "2011-08-10T14:00:00",
          "2011-08-10T15:00:00",
          "2011-08-10T16:00:00",
          "2011-08-10T17:00:00",
          "2011-08-10T18:00:00",
          "2011-08-10T19:00:00",
          "2011-08-10T20:00:00",
          "2011-08-10T21:00:00",
          "2011-08-10T22:00:00",
          "2011-08-10T23:00:00",
          "2011-08-11T00:00:00",
          "2011-08-11T01:00:00",
          "2011-08-11T02:00:00",
          "2011-08-11T03:00:00",
          "2011-08-11T04:00:00",
          "2011-08-11T05:00:00",
          "2011-08-11T06:00:00",
          "2011-08-11T07:00:00",
          "2011-08-11T08:00:00",
          "2011-08-11T09:00:00",
          "2011-08-11T10:00:00",
          "2011-08-11T11:00:00",
          "2011-08-11T12:00:00",
          "2011-08-11T13:00:00",
          "2011-08-11T14:00:00",
          "2011-08-11T15:00:00",
          "2011-08-11T16:00:00",
          "2011-08-11T17:00:00",
          "2011-08-11T18:00:00",
          "2011-08-11T19:00:00",
          "2011-08-11T20:00:00",
          "2011-08-11T21:00:00",
          "2011-08-11T22:00:00",
          "2011-08-11T23:00:00",
          "2011-08-12T00:00:00",
          "2011-08-12T01:00:00",
          "2011-08-12T02:00:00",
          "2011-08-12T03:00:00",
          "2011-08-12T04:00:00",
          "2011-08-12T05:00:00",
          "2011-08-12T06:00:00",
          "2011-08-12T07:00:00",
          "2011-08-12T08:00:00",
          "2011-08-12T09:00:00",
          "2011-08-12T10:00:00",
          "2011-08-12T11:00:00",
          "2011-08-12T12:00:00",
          "2011-08-12T13:00:00",
          "2011-08-12T14:00:00",
          "2011-08-12T15:00:00",
          "2011-08-12T16:00:00",
          "2011-08-12T17:00:00",
          "2011-08-12T18:00:00",
          "2011-08-12T19:00:00",
          "2011-08-12T20:00:00",
          "2011-08-12T21:00:00",
          "2011-08-12T22:00:00",
          "2011-08-12T23:00:00",
          "2011-08-13T00:00:00",
          "2011-08-13T01:00:00",
          "2011-08-13T02:00:00",
          "2011-08-13T03:00:00",
          "2011-08-13T04:00:00",
          "2011-08-13T05:00:00",
          "2011-08-13T06:00:00",
          "2011-08-13T07:00:00",
          "2011-08-13T08:00:00",
          "2011-08-13T09:00:00",
          "2011-08-13T10:00:00",
          "2011-08-13T11:00:00",
          "2011-08-13T12:00:00",
          "2011-08-13T13:00:00",
          "2011-08-13T14:00:00",
          "2011-08-13T15:00:00",
          "2011-08-13T16:00:00",
          "2011-08-13T17:00:00",
          "2011-08-13T18:00:00",
          "2011-08-13T19:00:00",
          "2011-08-13T20:00:00",
          "2011-08-13T21:00:00",
          "2011-08-13T22:00:00",
          "2011-08-13T23:00:00",
          "2011-08-14T00:00:00",
          "2011-08-14T01:00:00",
          "2011-08-14T02:00:00",
          "2011-08-14T03:00:00",
          "2011-08-14T04:00:00",
          "2011-08-14T05:00:00",
          "2011-08-14T06:00:00",
          "2011-08-14T07:00:00",
          "2011-08-14T08:00:00",
          "2011-08-14T09:00:00",
          "2011-08-14T10:00:00",
          "2011-08-14T11:00:00",
          "2011-08-14T12:00:00",
          "2011-08-14T13:00:00",
          "2011-08-14T14:00:00",
          "2011-08-14T15:00:00",
          "2011-08-14T16:00:00",
          "2011-08-14T17:00:00",
          "2011-08-14T18:00:00",
          "2011-08-14T19:00:00",
          "2011-08-14T20:00:00",
          "2011-08-14T21:00:00",
          "2011-08-14T22:00:00",
          "2011-08-14T23:00:00"
         ],
         "y": [
          2,
          0,
          0,
          0,
          0,
          0,
          86,
          311,
          498,
          231,
          144,
          156,
          215,
          210,
          178,
          199,
          330,
          652,
          635,
          461,
          309,
          216,
          150,
          81,
          0,
          0,
          0,
          0,
          0,
          0,
          79,
          297,
          515,
          244,
          143,
          143,
          207,
          211,
          177,
          202,
          330,
          607,
          594,
          452,
          321,
          227,
          160,
          94,
          16,
          0,
          0,
          0,
          0,
          0,
          86,
          312,
          518,
          239,
          149,
          166,
          223,
          219,
          190,
          217,
          349,
          674,
          655,
          473,
          325,
          237,
          167,
          100,
          19,
          0,
          0,
          0,
          0,
          0,
          91,
          317,
          529,
          250,
          164,
          177,
          233,
          232,
          191,
          220,
          346,
          661,
          650,
          453,
          318,
          223,
          159,
          99,
          22,
          0,
          0,
          0,
          0,
          0,
          100,
          329,
          534,
          254,
          163,
          183,
          245,
          243,
          195,
          220,
          349,
          667,
          611,
          443,
          316,
          223,
          158,
          93,
          69,
          63,
          13,
          0,
          0,
          0,
          0,
          59,
          148,
          157,
          243,
          292,
          281,
          328,
          312,
          212,
          327,
          332,
          304,
          241,
          184,
          132,
          100,
          68,
          49,
          46,
          32,
          0,
          0,
          0,
          0,
          24,
          68,
          57,
          235,
          266,
          321,
          328,
          313,
          317,
          352,
          383,
          347,
          281,
          209,
          54,
          46,
          56
         ]
        }
       ],
       "layout": {
        "legend": {
         "tracegroupgap": 0
        },
        "template": {
         "data": {
          "bar": [
           {
            "error_x": {
             "color": "#2a3f5f"
            },
            "error_y": {
             "color": "#2a3f5f"
            },
            "marker": {
             "line": {
              "color": "#E5ECF6",
              "width": 0.5
             },
             "pattern": {
              "fillmode": "overlay",
              "size": 10,
              "solidity": 0.2
             }
            },
            "type": "bar"
           }
          ],
          "barpolar": [
           {
            "marker": {
             "line": {
              "color": "#E5ECF6",
              "width": 0.5
             },
             "pattern": {
              "fillmode": "overlay",
              "size": 10,
              "solidity": 0.2
             }
            },
            "type": "barpolar"
           }
          ],
          "carpet": [
           {
            "aaxis": {
             "endlinecolor": "#2a3f5f",
             "gridcolor": "white",
             "linecolor": "white",
             "minorgridcolor": "white",
             "startlinecolor": "#2a3f5f"
            },
            "baxis": {
             "endlinecolor": "#2a3f5f",
             "gridcolor": "white",
             "linecolor": "white",
             "minorgridcolor": "white",
             "startlinecolor": "#2a3f5f"
            },
            "type": "carpet"
           }
          ],
          "choropleth": [
           {
            "colorbar": {
             "outlinewidth": 0,
             "ticks": ""
            },
            "type": "choropleth"
           }
          ],
          "contour": [
           {
            "colorbar": {
             "outlinewidth": 0,
             "ticks": ""
            },
            "colorscale": [
             [
              0,
              "#0d0887"
             ],
             [
              0.1111111111111111,
              "#46039f"
             ],
             [
              0.2222222222222222,
              "#7201a8"
             ],
             [
              0.3333333333333333,
              "#9c179e"
             ],
             [
              0.4444444444444444,
              "#bd3786"
             ],
             [
              0.5555555555555556,
              "#d8576b"
             ],
             [
              0.6666666666666666,
              "#ed7953"
             ],
             [
              0.7777777777777778,
              "#fb9f3a"
             ],
             [
              0.8888888888888888,
              "#fdca26"
             ],
             [
              1,
              "#f0f921"
             ]
            ],
            "type": "contour"
           }
          ],
          "contourcarpet": [
           {
            "colorbar": {
             "outlinewidth": 0,
             "ticks": ""
            },
            "type": "contourcarpet"
           }
          ],
          "heatmap": [
           {
            "colorbar": {
             "outlinewidth": 0,
             "ticks": ""
            },
            "colorscale": [
             [
              0,
              "#0d0887"
             ],
             [
              0.1111111111111111,
              "#46039f"
             ],
             [
              0.2222222222222222,
              "#7201a8"
             ],
             [
              0.3333333333333333,
              "#9c179e"
             ],
             [
              0.4444444444444444,
              "#bd3786"
             ],
             [
              0.5555555555555556,
              "#d8576b"
             ],
             [
              0.6666666666666666,
              "#ed7953"
             ],
             [
              0.7777777777777778,
              "#fb9f3a"
             ],
             [
              0.8888888888888888,
              "#fdca26"
             ],
             [
              1,
              "#f0f921"
             ]
            ],
            "type": "heatmap"
           }
          ],
          "heatmapgl": [
           {
            "colorbar": {
             "outlinewidth": 0,
             "ticks": ""
            },
            "colorscale": [
             [
              0,
              "#0d0887"
             ],
             [
              0.1111111111111111,
              "#46039f"
             ],
             [
              0.2222222222222222,
              "#7201a8"
             ],
             [
              0.3333333333333333,
              "#9c179e"
             ],
             [
              0.4444444444444444,
              "#bd3786"
             ],
             [
              0.5555555555555556,
              "#d8576b"
             ],
             [
              0.6666666666666666,
              "#ed7953"
             ],
             [
              0.7777777777777778,
              "#fb9f3a"
             ],
             [
              0.8888888888888888,
              "#fdca26"
             ],
             [
              1,
              "#f0f921"
             ]
            ],
            "type": "heatmapgl"
           }
          ],
          "histogram": [
           {
            "marker": {
             "pattern": {
              "fillmode": "overlay",
              "size": 10,
              "solidity": 0.2
             }
            },
            "type": "histogram"
           }
          ],
          "histogram2d": [
           {
            "colorbar": {
             "outlinewidth": 0,
             "ticks": ""
            },
            "colorscale": [
             [
              0,
              "#0d0887"
             ],
             [
              0.1111111111111111,
              "#46039f"
             ],
             [
              0.2222222222222222,
              "#7201a8"
             ],
             [
              0.3333333333333333,
              "#9c179e"
             ],
             [
              0.4444444444444444,
              "#bd3786"
             ],
             [
              0.5555555555555556,
              "#d8576b"
             ],
             [
              0.6666666666666666,
              "#ed7953"
             ],
             [
              0.7777777777777778,
              "#fb9f3a"
             ],
             [
              0.8888888888888888,
              "#fdca26"
             ],
             [
              1,
              "#f0f921"
             ]
            ],
            "type": "histogram2d"
           }
          ],
          "histogram2dcontour": [
           {
            "colorbar": {
             "outlinewidth": 0,
             "ticks": ""
            },
            "colorscale": [
             [
              0,
              "#0d0887"
             ],
             [
              0.1111111111111111,
              "#46039f"
             ],
             [
              0.2222222222222222,
              "#7201a8"
             ],
             [
              0.3333333333333333,
              "#9c179e"
             ],
             [
              0.4444444444444444,
              "#bd3786"
             ],
             [
              0.5555555555555556,
              "#d8576b"
             ],
             [
              0.6666666666666666,
              "#ed7953"
             ],
             [
              0.7777777777777778,
              "#fb9f3a"
             ],
             [
              0.8888888888888888,
              "#fdca26"
             ],
             [
              1,
              "#f0f921"
             ]
            ],
            "type": "histogram2dcontour"
           }
          ],
          "mesh3d": [
           {
            "colorbar": {
             "outlinewidth": 0,
             "ticks": ""
            },
            "type": "mesh3d"
           }
          ],
          "parcoords": [
           {
            "line": {
             "colorbar": {
              "outlinewidth": 0,
              "ticks": ""
             }
            },
            "type": "parcoords"
           }
          ],
          "pie": [
           {
            "automargin": true,
            "type": "pie"
           }
          ],
          "scatter": [
           {
            "marker": {
             "colorbar": {
              "outlinewidth": 0,
              "ticks": ""
             }
            },
            "type": "scatter"
           }
          ],
          "scatter3d": [
           {
            "line": {
             "colorbar": {
              "outlinewidth": 0,
              "ticks": ""
             }
            },
            "marker": {
             "colorbar": {
              "outlinewidth": 0,
              "ticks": ""
             }
            },
            "type": "scatter3d"
           }
          ],
          "scattercarpet": [
           {
            "marker": {
             "colorbar": {
              "outlinewidth": 0,
              "ticks": ""
             }
            },
            "type": "scattercarpet"
           }
          ],
          "scattergeo": [
           {
            "marker": {
             "colorbar": {
              "outlinewidth": 0,
              "ticks": ""
             }
            },
            "type": "scattergeo"
           }
          ],
          "scattergl": [
           {
            "marker": {
             "colorbar": {
              "outlinewidth": 0,
              "ticks": ""
             }
            },
            "type": "scattergl"
           }
          ],
          "scattermapbox": [
           {
            "marker": {
             "colorbar": {
              "outlinewidth": 0,
              "ticks": ""
             }
            },
            "type": "scattermapbox"
           }
          ],
          "scatterpolar": [
           {
            "marker": {
             "colorbar": {
              "outlinewidth": 0,
              "ticks": ""
             }
            },
            "type": "scatterpolar"
           }
          ],
          "scatterpolargl": [
           {
            "marker": {
             "colorbar": {
              "outlinewidth": 0,
              "ticks": ""
             }
            },
            "type": "scatterpolargl"
           }
          ],
          "scatterternary": [
           {
            "marker": {
             "colorbar": {
              "outlinewidth": 0,
              "ticks": ""
             }
            },
            "type": "scatterternary"
           }
          ],
          "surface": [
           {
            "colorbar": {
             "outlinewidth": 0,
             "ticks": ""
            },
            "colorscale": [
             [
              0,
              "#0d0887"
             ],
             [
              0.1111111111111111,
              "#46039f"
             ],
             [
              0.2222222222222222,
              "#7201a8"
             ],
             [
              0.3333333333333333,
              "#9c179e"
             ],
             [
              0.4444444444444444,
              "#bd3786"
             ],
             [
              0.5555555555555556,
              "#d8576b"
             ],
             [
              0.6666666666666666,
              "#ed7953"
             ],
             [
              0.7777777777777778,
              "#fb9f3a"
             ],
             [
              0.8888888888888888,
              "#fdca26"
             ],
             [
              1,
              "#f0f921"
             ]
            ],
            "type": "surface"
           }
          ],
          "table": [
           {
            "cells": {
             "fill": {
              "color": "#EBF0F8"
             },
             "line": {
              "color": "white"
             }
            },
            "header": {
             "fill": {
              "color": "#C8D4E3"
             },
             "line": {
              "color": "white"
             }
            },
            "type": "table"
           }
          ]
         },
         "layout": {
          "annotationdefaults": {
           "arrowcolor": "#2a3f5f",
           "arrowhead": 0,
           "arrowwidth": 1
          },
          "autotypenumbers": "strict",
          "coloraxis": {
           "colorbar": {
            "outlinewidth": 0,
            "ticks": ""
           }
          },
          "colorscale": {
           "diverging": [
            [
             0,
             "#8e0152"
            ],
            [
             0.1,
             "#c51b7d"
            ],
            [
             0.2,
             "#de77ae"
            ],
            [
             0.3,
             "#f1b6da"
            ],
            [
             0.4,
             "#fde0ef"
            ],
            [
             0.5,
             "#f7f7f7"
            ],
            [
             0.6,
             "#e6f5d0"
            ],
            [
             0.7,
             "#b8e186"
            ],
            [
             0.8,
             "#7fbc41"
            ],
            [
             0.9,
             "#4d9221"
            ],
            [
             1,
             "#276419"
            ]
           ],
           "sequential": [
            [
             0,
             "#0d0887"
            ],
            [
             0.1111111111111111,
             "#46039f"
            ],
            [
             0.2222222222222222,
             "#7201a8"
            ],
            [
             0.3333333333333333,
             "#9c179e"
            ],
            [
             0.4444444444444444,
             "#bd3786"
            ],
            [
             0.5555555555555556,
             "#d8576b"
            ],
            [
             0.6666666666666666,
             "#ed7953"
            ],
            [
             0.7777777777777778,
             "#fb9f3a"
            ],
            [
             0.8888888888888888,
             "#fdca26"
            ],
            [
             1,
             "#f0f921"
            ]
           ],
           "sequentialminus": [
            [
             0,
             "#0d0887"
            ],
            [
             0.1111111111111111,
             "#46039f"
            ],
            [
             0.2222222222222222,
             "#7201a8"
            ],
            [
             0.3333333333333333,
             "#9c179e"
            ],
            [
             0.4444444444444444,
             "#bd3786"
            ],
            [
             0.5555555555555556,
             "#d8576b"
            ],
            [
             0.6666666666666666,
             "#ed7953"
            ],
            [
             0.7777777777777778,
             "#fb9f3a"
            ],
            [
             0.8888888888888888,
             "#fdca26"
            ],
            [
             1,
             "#f0f921"
            ]
           ]
          },
          "colorway": [
           "#636efa",
           "#EF553B",
           "#00cc96",
           "#ab63fa",
           "#FFA15A",
           "#19d3f3",
           "#FF6692",
           "#B6E880",
           "#FF97FF",
           "#FECB52"
          ],
          "font": {
           "color": "#2a3f5f"
          },
          "geo": {
           "bgcolor": "white",
           "lakecolor": "white",
           "landcolor": "#E5ECF6",
           "showlakes": true,
           "showland": true,
           "subunitcolor": "white"
          },
          "hoverlabel": {
           "align": "left"
          },
          "hovermode": "closest",
          "mapbox": {
           "style": "light"
          },
          "paper_bgcolor": "white",
          "plot_bgcolor": "#E5ECF6",
          "polar": {
           "angularaxis": {
            "gridcolor": "white",
            "linecolor": "white",
            "ticks": ""
           },
           "bgcolor": "#E5ECF6",
           "radialaxis": {
            "gridcolor": "white",
            "linecolor": "white",
            "ticks": ""
           }
          },
          "scene": {
           "xaxis": {
            "backgroundcolor": "#E5ECF6",
            "gridcolor": "white",
            "gridwidth": 2,
            "linecolor": "white",
            "showbackground": true,
            "ticks": "",
            "zerolinecolor": "white"
           },
           "yaxis": {
            "backgroundcolor": "#E5ECF6",
            "gridcolor": "white",
            "gridwidth": 2,
            "linecolor": "white",
            "showbackground": true,
            "ticks": "",
            "zerolinecolor": "white"
           },
           "zaxis": {
            "backgroundcolor": "#E5ECF6",
            "gridcolor": "white",
            "gridwidth": 2,
            "linecolor": "white",
            "showbackground": true,
            "ticks": "",
            "zerolinecolor": "white"
           }
          },
          "shapedefaults": {
           "line": {
            "color": "#2a3f5f"
           }
          },
          "ternary": {
           "aaxis": {
            "gridcolor": "white",
            "linecolor": "white",
            "ticks": ""
           },
           "baxis": {
            "gridcolor": "white",
            "linecolor": "white",
            "ticks": ""
           },
           "bgcolor": "#E5ECF6",
           "caxis": {
            "gridcolor": "white",
            "linecolor": "white",
            "ticks": ""
           }
          },
          "title": {
           "x": 0.05
          },
          "xaxis": {
           "automargin": true,
           "gridcolor": "white",
           "linecolor": "white",
           "ticks": "",
           "title": {
            "standoff": 15
           },
           "zerolinecolor": "white",
           "zerolinewidth": 2
          },
          "yaxis": {
           "automargin": true,
           "gridcolor": "white",
           "linecolor": "white",
           "ticks": "",
           "title": {
            "standoff": 15
           },
           "zerolinecolor": "white",
           "zerolinewidth": 2
          }
         }
        },
        "title": {
         "text": "Vergleich zwischen den stündlichen Bookings und der Prognose in der Kalenderwoche 32 im Jahr 2011"
        },
        "xaxis": {
         "anchor": "y",
         "domain": [
          0,
          1
         ],
         "title": {
          "text": "datetime"
         }
        },
        "yaxis": {
         "anchor": "x",
         "domain": [
          0,
          1
         ],
         "title": {
          "text": "Bookings"
         }
        }
       }
      }
     },
     "metadata": {},
     "output_type": "display_data"
    }
   ],
   "source": [
    "mask = (df_hourlyy['year'] == 2011) & (df_hourlyy['month'] == 8) & (df_hourlyy['week_of_year'] == 32)\n",
    "fig = px.line(df_hourlyy[mask].reset_index(), x = 'datetime', y = 'Bookings',\n",
    "        title = 'Vergleich zwischen den stündlichen Bookings und der Prognose in der Kalenderwoche 32 im Jahr 2011')\n",
    "fig.add_scatter(x = df_hourlyy[mask].reset_index()['datetime'], y = df_hourlyy[mask]['Prediction'], line = {'dash' : 'dot'}, name='Trend')\n"
   ]
  },
  {
   "cell_type": "code",
   "execution_count": 56,
   "metadata": {},
   "outputs": [
    {
     "data": {
      "text/html": [
       "<div>\n",
       "<style scoped>\n",
       "    .dataframe tbody tr th:only-of-type {\n",
       "        vertical-align: middle;\n",
       "    }\n",
       "\n",
       "    .dataframe tbody tr th {\n",
       "        vertical-align: top;\n",
       "    }\n",
       "\n",
       "    .dataframe thead th {\n",
       "        text-align: right;\n",
       "    }\n",
       "</style>\n",
       "<table border=\"1\" class=\"dataframe\">\n",
       "  <thead>\n",
       "    <tr style=\"text-align: right;\">\n",
       "      <th></th>\n",
       "      <th>Bookings</th>\n",
       "    </tr>\n",
       "    <tr>\n",
       "      <th>datetime</th>\n",
       "      <th></th>\n",
       "    </tr>\n",
       "  </thead>\n",
       "  <tbody>\n",
       "    <tr>\n",
       "      <th>2011-01-31</th>\n",
       "      <td>36383</td>\n",
       "    </tr>\n",
       "    <tr>\n",
       "      <th>2011-02-28</th>\n",
       "      <td>47149</td>\n",
       "    </tr>\n",
       "    <tr>\n",
       "      <th>2011-03-31</th>\n",
       "      <td>64816</td>\n",
       "    </tr>\n",
       "    <tr>\n",
       "      <th>2011-04-30</th>\n",
       "      <td>85751</td>\n",
       "    </tr>\n",
       "    <tr>\n",
       "      <th>2011-05-31</th>\n",
       "      <td>135840</td>\n",
       "    </tr>\n",
       "    <tr>\n",
       "      <th>2011-06-30</th>\n",
       "      <td>142371</td>\n",
       "    </tr>\n",
       "    <tr>\n",
       "      <th>2011-07-31</th>\n",
       "      <td>143711</td>\n",
       "    </tr>\n",
       "    <tr>\n",
       "      <th>2011-08-31</th>\n",
       "      <td>134420</td>\n",
       "    </tr>\n",
       "    <tr>\n",
       "      <th>2011-09-30</th>\n",
       "      <td>118611</td>\n",
       "    </tr>\n",
       "    <tr>\n",
       "      <th>2011-10-31</th>\n",
       "      <td>124805</td>\n",
       "    </tr>\n",
       "    <tr>\n",
       "      <th>2011-11-30</th>\n",
       "      <td>109843</td>\n",
       "    </tr>\n",
       "    <tr>\n",
       "      <th>2011-12-31</th>\n",
       "      <td>94180</td>\n",
       "    </tr>\n",
       "    <tr>\n",
       "      <th>2012-01-31</th>\n",
       "      <td>92971</td>\n",
       "    </tr>\n",
       "    <tr>\n",
       "      <th>2012-02-29</th>\n",
       "      <td>101547</td>\n",
       "    </tr>\n",
       "    <tr>\n",
       "      <th>2012-03-31</th>\n",
       "      <td>158378</td>\n",
       "    </tr>\n",
       "    <tr>\n",
       "      <th>2012-04-30</th>\n",
       "      <td>176193</td>\n",
       "    </tr>\n",
       "    <tr>\n",
       "      <th>2012-05-31</th>\n",
       "      <td>195469</td>\n",
       "    </tr>\n",
       "    <tr>\n",
       "      <th>2012-06-30</th>\n",
       "      <td>205245</td>\n",
       "    </tr>\n",
       "    <tr>\n",
       "      <th>2012-07-31</th>\n",
       "      <td>196823</td>\n",
       "    </tr>\n",
       "    <tr>\n",
       "      <th>2012-08-31</th>\n",
       "      <td>210789</td>\n",
       "    </tr>\n",
       "    <tr>\n",
       "      <th>2012-09-30</th>\n",
       "      <td>216578</td>\n",
       "    </tr>\n",
       "    <tr>\n",
       "      <th>2012-10-31</th>\n",
       "      <td>197685</td>\n",
       "    </tr>\n",
       "    <tr>\n",
       "      <th>2012-11-30</th>\n",
       "      <td>162439</td>\n",
       "    </tr>\n",
       "    <tr>\n",
       "      <th>2012-12-31</th>\n",
       "      <td>144024</td>\n",
       "    </tr>\n",
       "  </tbody>\n",
       "</table>\n",
       "</div>"
      ],
      "text/plain": [
       "            Bookings\n",
       "datetime            \n",
       "2011-01-31     36383\n",
       "2011-02-28     47149\n",
       "2011-03-31     64816\n",
       "2011-04-30     85751\n",
       "2011-05-31    135840\n",
       "2011-06-30    142371\n",
       "2011-07-31    143711\n",
       "2011-08-31    134420\n",
       "2011-09-30    118611\n",
       "2011-10-31    124805\n",
       "2011-11-30    109843\n",
       "2011-12-31     94180\n",
       "2012-01-31     92971\n",
       "2012-02-29    101547\n",
       "2012-03-31    158378\n",
       "2012-04-30    176193\n",
       "2012-05-31    195469\n",
       "2012-06-30    205245\n",
       "2012-07-31    196823\n",
       "2012-08-31    210789\n",
       "2012-09-30    216578\n",
       "2012-10-31    197685\n",
       "2012-11-30    162439\n",
       "2012-12-31    144024"
      ]
     },
     "execution_count": 56,
     "metadata": {},
     "output_type": "execute_result"
    }
   ],
   "source": [
    "df_hourly_series = df_hourly.set_index('datetime')\n",
    "df_hourly_series = df_hourly_series.resample('m')[['Bookings']].sum()\n",
    "df_hourly_series"
   ]
  },
  {
   "cell_type": "markdown",
   "metadata": {},
   "source": [
    "# Zeitreihenanalyse"
   ]
  },
  {
   "cell_type": "code",
   "execution_count": 24,
   "metadata": {},
   "outputs": [],
   "source": [
    "# Resample des DF auf den Monat\n",
    "df_time = df.set_index('datetime') \n",
    "df_time.index = pd.to_datetime(df_time.index) # Sichergehen, dass Index das richtige Format hat. \n",
    "df_time = df_time.resample('M').count()[['temp']]\n",
    "df_time.columns = ['Bookings']\n",
    "df_time['Vorheriger_Monat'] = df_time['Bookings'].shift()\n",
    "\n",
    "# Einfügen von Mulitplikativen und Additiven Unterschieden\n",
    "df_time['Mul'] = df_time['Bookings'] / df_time['Vorheriger_Monat']\n",
    "df_time['Add'] = df_time['Bookings'] - df_time['Vorheriger_Monat']\n",
    "\n",
    "# Einfügen des Rolling Average\n",
    "df_time['Rol_avg'] = df_time['Bookings'].rolling(window = 3).mean()\n",
    "df_time['Monat_t'] = range(1,25)"
   ]
  },
  {
   "cell_type": "code",
   "execution_count": 26,
   "metadata": {},
   "outputs": [
    {
     "name": "stdout",
     "output_type": "stream",
     "text": [
      "Regressionsfunktion aus Statistik : y = ax + b\n",
      "Koeffizient a = 5760.29\n",
      "Koeffizient b = 65330.56\n"
     ]
    }
   ],
   "source": [
    "# Ermittlung der Regressionsgerade\n",
    "from sklearn.linear_model import LinearRegression\n",
    "\n",
    "X = df_time[['Monat_t']]\n",
    "y = df_time[['Bookings']]\n",
    "\n",
    "model = LinearRegression(fit_intercept=True) # Verschiebung auf der y-Achse wird zugelassen\n",
    "model.fit(X,y)\n",
    "df_time['Prediction'] = model.predict(X)\n",
    "print('Regressionsfunktion aus Statistik : y = ax + b')\n",
    "print(f\"Koeffizient a = {round(float(model.coef_), 2)}\")\n",
    "print(f\"Koeffizient b = {round(float(model.intercept_), 2)}\")"
   ]
  },
  {
   "cell_type": "code",
   "execution_count": 28,
   "metadata": {},
   "outputs": [],
   "source": [
    "# Visualierung des Unterschieds zwischen den Trendgeraden und den monatlichen Werten\n",
    "df_time['Unterschied_Prognose'] = df_time['Bookings'] - df_time['Prediction']\n",
    "\n",
    "# Ermittlung der Saisonalen Einflüsse\n",
    "df_time['Monat'] = pd.DatetimeIndex(df_time.index).month # Monat wird aus dem Index extrahiert. \n",
    "\n",
    "# Gruppierung nach dem Monat liefert die durschnittliche Abweichung pro Monat\n",
    "df_time_seasonal = df_time.groupby(['Monat'], as_index=False)[['Unterschied_Prognose']].mean()\n",
    "df_time_seasonal.columns = ['Monat', 'Saisonale_Komponente']\n",
    "\n",
    "# Die durchschnittliche Abweichung wird dem df hinzugefügt\n",
    "df_time_sc = pd.merge(df_time.reset_index(), df_time_seasonal, on = 'Monat').sort_values('datetime')\n",
    "df_time_sc = df_time_sc.set_index('datetime')\n",
    "\n",
    "# durch Addition des Trends mit den monatlichen Werten ergibt sich ein erster Verlauf\n",
    "df_time_sc['Seasonal_Prediction'] = df_time_sc['Prediction'] + df_time_sc['Saisonale_Komponente']"
   ]
  },
  {
   "cell_type": "code",
   "execution_count": 29,
   "metadata": {},
   "outputs": [
    {
     "data": {
      "text/html": [
       "<div>\n",
       "<style scoped>\n",
       "    .dataframe tbody tr th:only-of-type {\n",
       "        vertical-align: middle;\n",
       "    }\n",
       "\n",
       "    .dataframe tbody tr th {\n",
       "        vertical-align: top;\n",
       "    }\n",
       "\n",
       "    .dataframe thead th {\n",
       "        text-align: right;\n",
       "    }\n",
       "</style>\n",
       "<table border=\"1\" class=\"dataframe\">\n",
       "  <thead>\n",
       "    <tr style=\"text-align: right;\">\n",
       "      <th></th>\n",
       "      <th>Jahr</th>\n",
       "      <th>Monat</th>\n",
       "      <th>Monat_t</th>\n",
       "      <th>Prediction</th>\n",
       "      <th>Saisonale_Komponente</th>\n",
       "      <th>Seasonal_Prediction</th>\n",
       "    </tr>\n",
       "    <tr>\n",
       "      <th>datetime</th>\n",
       "      <th></th>\n",
       "      <th></th>\n",
       "      <th></th>\n",
       "      <th></th>\n",
       "      <th></th>\n",
       "      <th></th>\n",
       "    </tr>\n",
       "  </thead>\n",
       "  <tbody>\n",
       "    <tr>\n",
       "      <th>2013-01-31</th>\n",
       "      <td>2013</td>\n",
       "      <td>1</td>\n",
       "      <td>25</td>\n",
       "      <td>209337.855072</td>\n",
       "      <td>-40975.603768</td>\n",
       "      <td>168362.251304</td>\n",
       "    </tr>\n",
       "    <tr>\n",
       "      <th>2013-02-28</th>\n",
       "      <td>2013</td>\n",
       "      <td>2</td>\n",
       "      <td>26</td>\n",
       "      <td>215098.146812</td>\n",
       "      <td>-37064.895507</td>\n",
       "      <td>178033.251304</td>\n",
       "    </tr>\n",
       "    <tr>\n",
       "      <th>2013-03-31</th>\n",
       "      <td>2013</td>\n",
       "      <td>3</td>\n",
       "      <td>27</td>\n",
       "      <td>220858.438551</td>\n",
       "      <td>-5576.187246</td>\n",
       "      <td>215282.251304</td>\n",
       "    </tr>\n",
       "    <tr>\n",
       "      <th>2013-04-30</th>\n",
       "      <td>2013</td>\n",
       "      <td>4</td>\n",
       "      <td>28</td>\n",
       "      <td>226618.730290</td>\n",
       "      <td>8038.521014</td>\n",
       "      <td>234657.251304</td>\n",
       "    </tr>\n",
       "    <tr>\n",
       "      <th>2013-05-31</th>\n",
       "      <td>2013</td>\n",
       "      <td>5</td>\n",
       "      <td>29</td>\n",
       "      <td>232379.022029</td>\n",
       "      <td>36960.729275</td>\n",
       "      <td>269339.751304</td>\n",
       "    </tr>\n",
       "    <tr>\n",
       "      <th>2013-06-30</th>\n",
       "      <td>2013</td>\n",
       "      <td>6</td>\n",
       "      <td>30</td>\n",
       "      <td>238139.313768</td>\n",
       "      <td>39353.937536</td>\n",
       "      <td>277493.251304</td>\n",
       "    </tr>\n",
       "    <tr>\n",
       "      <th>2013-07-31</th>\n",
       "      <td>2013</td>\n",
       "      <td>7</td>\n",
       "      <td>31</td>\n",
       "      <td>243899.605507</td>\n",
       "      <td>30052.645797</td>\n",
       "      <td>273952.251304</td>\n",
       "    </tr>\n",
       "    <tr>\n",
       "      <th>2013-08-31</th>\n",
       "      <td>2013</td>\n",
       "      <td>8</td>\n",
       "      <td>32</td>\n",
       "      <td>249659.897246</td>\n",
       "      <td>26629.854058</td>\n",
       "      <td>276289.751304</td>\n",
       "    </tr>\n",
       "    <tr>\n",
       "      <th>2013-09-30</th>\n",
       "      <td>2013</td>\n",
       "      <td>9</td>\n",
       "      <td>33</td>\n",
       "      <td>255420.188986</td>\n",
       "      <td>15859.562319</td>\n",
       "      <td>271279.751304</td>\n",
       "    </tr>\n",
       "    <tr>\n",
       "      <th>2013-10-31</th>\n",
       "      <td>2013</td>\n",
       "      <td>10</td>\n",
       "      <td>34</td>\n",
       "      <td>261180.480725</td>\n",
       "      <td>3749.770580</td>\n",
       "      <td>264930.251304</td>\n",
       "    </tr>\n",
       "    <tr>\n",
       "      <th>2013-11-30</th>\n",
       "      <td>2013</td>\n",
       "      <td>11</td>\n",
       "      <td>35</td>\n",
       "      <td>266940.772464</td>\n",
       "      <td>-27114.521159</td>\n",
       "      <td>239826.251304</td>\n",
       "    </tr>\n",
       "    <tr>\n",
       "      <th>2013-12-31</th>\n",
       "      <td>2013</td>\n",
       "      <td>12</td>\n",
       "      <td>36</td>\n",
       "      <td>272701.064203</td>\n",
       "      <td>-49913.812899</td>\n",
       "      <td>222787.251304</td>\n",
       "    </tr>\n",
       "  </tbody>\n",
       "</table>\n",
       "</div>"
      ],
      "text/plain": [
       "            Jahr  Monat  Monat_t     Prediction  Saisonale_Komponente  \\\n",
       "datetime                                                                \n",
       "2013-01-31  2013      1       25  209337.855072         -40975.603768   \n",
       "2013-02-28  2013      2       26  215098.146812         -37064.895507   \n",
       "2013-03-31  2013      3       27  220858.438551          -5576.187246   \n",
       "2013-04-30  2013      4       28  226618.730290           8038.521014   \n",
       "2013-05-31  2013      5       29  232379.022029          36960.729275   \n",
       "2013-06-30  2013      6       30  238139.313768          39353.937536   \n",
       "2013-07-31  2013      7       31  243899.605507          30052.645797   \n",
       "2013-08-31  2013      8       32  249659.897246          26629.854058   \n",
       "2013-09-30  2013      9       33  255420.188986          15859.562319   \n",
       "2013-10-31  2013     10       34  261180.480725           3749.770580   \n",
       "2013-11-30  2013     11       35  266940.772464         -27114.521159   \n",
       "2013-12-31  2013     12       36  272701.064203         -49913.812899   \n",
       "\n",
       "            Seasonal_Prediction  \n",
       "datetime                         \n",
       "2013-01-31        168362.251304  \n",
       "2013-02-28        178033.251304  \n",
       "2013-03-31        215282.251304  \n",
       "2013-04-30        234657.251304  \n",
       "2013-05-31        269339.751304  \n",
       "2013-06-30        277493.251304  \n",
       "2013-07-31        273952.251304  \n",
       "2013-08-31        276289.751304  \n",
       "2013-09-30        271279.751304  \n",
       "2013-10-31        264930.251304  \n",
       "2013-11-30        239826.251304  \n",
       "2013-12-31        222787.251304  "
      ]
     },
     "execution_count": 29,
     "metadata": {},
     "output_type": "execute_result"
    }
   ],
   "source": [
    "# Erstellung eines DF welcher das Jahr 2013 enthält\n",
    "df_2013_22 = pd.DataFrame(pd.date_range(start = '2013-01-01', end='2013-12-31', freq='M'))\n",
    "df_2013_22.columns = ['datetime']\n",
    "df_2013_22['Jahr'] = df_2013_22.datetime.dt.year\n",
    "df_2013_22['Monat'] = df_2013_22.datetime.dt.month\n",
    "df_2013_22['Monat_t'] = range(25,37)  \n",
    "\n",
    "# Bildung der Trendgerade\n",
    "df_2013_22['Prediction'] = model.predict(df_2013_22[['Monat_t']])\n",
    "\n",
    "# monatliche Abweichungen werden zum df hinzugefügt und addiert\n",
    "df_2013_22 = pd.merge(df_2013_22, df_time_seasonal, on='Monat').sort_values('datetime')\n",
    "df_2013_22['Seasonal_Prediction'] = df_2013_22['Prediction'] + df_2013_22['Saisonale_Komponente']\n",
    "df_2013_22['datetime'] = pd.to_datetime(df_2013_22['datetime'])\n",
    "df_2013_22 = df_2013_22.set_index('datetime')\n",
    "df_2013_22"
   ]
  },
  {
   "cell_type": "code",
   "execution_count": 33,
   "metadata": {},
   "outputs": [],
   "source": [
    "# die Prognose für das Jahr 2013 wird an den monatlichen DF angeheftet\n",
    "df_viz = df_time_sc[['Bookings', 'Seasonal_Prediction', 'Prediction']]\n",
    "df_viz = pd.concat([df_viz, df_2013_22[['Seasonal_Prediction', 'Prediction']]])\n",
    "# df_viz"
   ]
  },
  {
   "cell_type": "code",
   "execution_count": 36,
   "metadata": {},
   "outputs": [],
   "source": [
    "from statsmodels.tsa.holtwinters import ExponentialSmoothing\n",
    "from statsmodels.tsa.ar_model import AutoReg\n",
    "import warnings\n",
    "warnings.filterwarnings(\"ignore\")\n",
    "\n",
    "model1 = ExponentialSmoothing(df_time_sc['Bookings'],\n",
    "                             freq = 'M',\n",
    "                             trend = 'add', \n",
    "                             seasonal = 'add',\n",
    "                             seasonal_periods = 12).fit(smoothing_level = 0.9)\n",
    "\n",
    "model2 = ExponentialSmoothing(df_time_sc['Bookings'],\n",
    "                             freq = 'M',\n",
    "                             trend = 'add', \n",
    "                             seasonal = 'add',\n",
    "                             seasonal_periods = 12).fit(smoothing_level = 0.1)\n",
    "\n",
    "df_time_sc.index = pd.to_datetime(df_time_sc.index)\n",
    "\n",
    "model_autoreg = AutoReg(df_time_sc['Bookings'],None,trend='ct', seasonal=True, period = 12) # period in DF information\n",
    "res = model_autoreg.fit()\n",
    "\n",
    "\n",
    "df_viz['Exponential_Smoothing0.9'] = model1.predict(start = 0, end = 36)\n",
    "df_viz['Exponential_Smoothing0.1'] = model2.predict(start = 0, end = 36)\n",
    "df_viz['AutoReg'] = res.predict(start = 0, end = 36)"
   ]
  },
  {
   "cell_type": "code",
   "execution_count": 41,
   "metadata": {},
   "outputs": [
    {
     "data": {
      "application/vnd.plotly.v1+json": {
       "config": {
        "plotlyServerURL": "https://plot.ly"
       },
       "data": [
        {
         "hovertemplate": "datetime=%{x}<br>Bookings=%{y}<extra></extra>",
         "legendgroup": "",
         "line": {
          "color": "lightGreen",
          "width": 0.3
         },
         "marker": {
          "symbol": "circle"
         },
         "mode": "lines",
         "name": "",
         "orientation": "v",
         "showlegend": false,
         "stackgroup": "1",
         "type": "scatter",
         "x": [
          "2011-01-31T00:00:00",
          "2011-02-28T00:00:00",
          "2011-03-31T00:00:00",
          "2011-04-30T00:00:00",
          "2011-05-31T00:00:00",
          "2011-06-30T00:00:00",
          "2011-07-31T00:00:00",
          "2011-08-31T00:00:00",
          "2011-09-30T00:00:00",
          "2011-10-31T00:00:00",
          "2011-11-30T00:00:00",
          "2011-12-31T00:00:00",
          "2012-01-31T00:00:00",
          "2012-02-29T00:00:00",
          "2012-03-31T00:00:00",
          "2012-04-30T00:00:00",
          "2012-05-31T00:00:00",
          "2012-06-30T00:00:00",
          "2012-07-31T00:00:00",
          "2012-08-31T00:00:00",
          "2012-09-30T00:00:00",
          "2012-10-31T00:00:00",
          "2012-11-30T00:00:00",
          "2012-12-31T00:00:00"
         ],
         "xaxis": "x",
         "y": [
          36383,
          47149,
          64816,
          85751,
          135840,
          142371,
          143711,
          134420,
          118611,
          124805,
          109843,
          94180,
          92971,
          101547,
          158378,
          176193,
          195469,
          205245,
          196823,
          210789,
          216578,
          197685,
          162439,
          144024
         ],
         "yaxis": "y"
        },
        {
         "line": {
          "dash": "dot"
         },
         "name": "Trend",
         "type": "scatter",
         "x": [
          "2011-01-31T00:00:00",
          "2011-02-28T00:00:00",
          "2011-03-31T00:00:00",
          "2011-04-30T00:00:00",
          "2011-05-31T00:00:00",
          "2011-06-30T00:00:00",
          "2011-07-31T00:00:00",
          "2011-08-31T00:00:00",
          "2011-09-30T00:00:00",
          "2011-10-31T00:00:00",
          "2011-11-30T00:00:00",
          "2011-12-31T00:00:00",
          "2012-01-31T00:00:00",
          "2012-02-29T00:00:00",
          "2012-03-31T00:00:00",
          "2012-04-30T00:00:00",
          "2012-05-31T00:00:00",
          "2012-06-30T00:00:00",
          "2012-07-31T00:00:00",
          "2012-08-31T00:00:00",
          "2012-09-30T00:00:00",
          "2012-10-31T00:00:00",
          "2012-11-30T00:00:00",
          "2012-12-31T00:00:00",
          "2013-01-31T00:00:00",
          "2013-02-28T00:00:00",
          "2013-03-31T00:00:00",
          "2013-04-30T00:00:00",
          "2013-05-31T00:00:00",
          "2013-06-30T00:00:00",
          "2013-07-31T00:00:00",
          "2013-08-31T00:00:00",
          "2013-09-30T00:00:00",
          "2013-10-31T00:00:00",
          "2013-11-30T00:00:00",
          "2013-12-31T00:00:00"
         ],
         "y": [
          71090.85333333335,
          76851.14507246378,
          82611.4368115942,
          88371.72855072466,
          94132.02028985508,
          99892.31202898551,
          105652.60376811595,
          111412.89550724639,
          117173.18724637682,
          122933.47898550726,
          128693.7707246377,
          134454.06246376812,
          140214.35420289857,
          145974.645942029,
          151734.9376811594,
          157495.22942028986,
          163255.5211594203,
          169015.81289855074,
          174776.10463768116,
          180536.3963768116,
          186296.68811594203,
          192056.97985507245,
          197817.2715942029,
          203577.56333333332,
          209337.85507246378,
          215098.1468115942,
          220858.43855072465,
          226618.73028985507,
          232379.02202898552,
          238139.31376811594,
          243899.6055072464,
          249659.89724637682,
          255420.18898550724,
          261180.4807246377,
          266940.77246376814,
          272701.06420289853
         ]
        },
        {
         "line": {
          "color": "purple"
         },
         "name": "Prognose",
         "type": "scatter",
         "x": [
          "2011-01-31T00:00:00",
          "2011-02-28T00:00:00",
          "2011-03-31T00:00:00",
          "2011-04-30T00:00:00",
          "2011-05-31T00:00:00",
          "2011-06-30T00:00:00",
          "2011-07-31T00:00:00",
          "2011-08-31T00:00:00",
          "2011-09-30T00:00:00",
          "2011-10-31T00:00:00",
          "2011-11-30T00:00:00",
          "2011-12-31T00:00:00",
          "2012-01-31T00:00:00",
          "2012-02-29T00:00:00",
          "2012-03-31T00:00:00",
          "2012-04-30T00:00:00",
          "2012-05-31T00:00:00",
          "2012-06-30T00:00:00",
          "2012-07-31T00:00:00",
          "2012-08-31T00:00:00",
          "2012-09-30T00:00:00",
          "2012-10-31T00:00:00",
          "2012-11-30T00:00:00",
          "2012-12-31T00:00:00",
          "2013-01-31T00:00:00",
          "2013-02-28T00:00:00",
          "2013-03-31T00:00:00",
          "2013-04-30T00:00:00",
          "2013-05-31T00:00:00",
          "2013-06-30T00:00:00",
          "2013-07-31T00:00:00",
          "2013-08-31T00:00:00",
          "2013-09-30T00:00:00",
          "2013-10-31T00:00:00",
          "2013-11-30T00:00:00",
          "2013-12-31T00:00:00"
         ],
         "y": [
          30499.45833333336,
          40170.458333333314,
          77419.45833333327,
          96794.45833333327,
          131476.95833333326,
          139630.45833333326,
          136089.45833333328,
          138426.95833333314,
          133416.95833333328,
          127067.45833333323,
          101963.4583333332,
          84924.45833333323,
          98854.5416666666,
          108525.54166666654,
          145774.54166666648,
          165149.5416666665,
          199832.04166666648,
          207985.5416666665,
          204444.5416666665,
          206782.04166666637,
          201772.0416666665,
          195422.54166666645,
          170318.54166666642,
          153279.54166666645,
          167209.62499999983,
          176880.62499999977,
          214129.6249999997,
          233504.6249999997,
          268187.1249999997,
          276340.6249999997,
          272799.6249999997,
          275137.1249999996,
          270127.1249999997,
          263777.62499999965,
          238673.62499999965,
          221634.62499999968
         ]
        },
        {
         "line": {
          "color": "blue"
         },
         "name": "Exponentielle_Glättung_0.9",
         "type": "scatter",
         "x": [
          "2011-01-31T00:00:00",
          "2011-02-28T00:00:00",
          "2011-03-31T00:00:00",
          "2011-04-30T00:00:00",
          "2011-05-31T00:00:00",
          "2011-06-30T00:00:00",
          "2011-07-31T00:00:00",
          "2011-08-31T00:00:00",
          "2011-09-30T00:00:00",
          "2011-10-31T00:00:00",
          "2011-11-30T00:00:00",
          "2011-12-31T00:00:00",
          "2012-01-31T00:00:00",
          "2012-02-29T00:00:00",
          "2012-03-31T00:00:00",
          "2012-04-30T00:00:00",
          "2012-05-31T00:00:00",
          "2012-06-30T00:00:00",
          "2012-07-31T00:00:00",
          "2012-08-31T00:00:00",
          "2012-09-30T00:00:00",
          "2012-10-31T00:00:00",
          "2012-11-30T00:00:00",
          "2012-12-31T00:00:00",
          "2013-01-31T00:00:00",
          "2013-02-28T00:00:00",
          "2013-03-31T00:00:00",
          "2013-04-30T00:00:00",
          "2013-05-31T00:00:00",
          "2013-06-30T00:00:00",
          "2013-07-31T00:00:00",
          "2013-08-31T00:00:00",
          "2013-09-30T00:00:00",
          "2013-10-31T00:00:00",
          "2013-11-30T00:00:00",
          "2013-12-31T00:00:00"
         ],
         "y": [
          57778.12316919186,
          47598.1928485164,
          102653.62011529722,
          85018.56855145645,
          105451.31766992417,
          144171.2749855896,
          150791.81947972105,
          136326.17690814208,
          118450.55152156418,
          122936.77766772604,
          109226.28228283743,
          94839.87464074249,
          92728.11648632967,
          103223.34879906088,
          154828.04127388075,
          176893.52512177516,
          197940.6844354241,
          205087.62347961878,
          213113.90064254453,
          190596.36518731617,
          192757.59412174203,
          218770.38809381565,
          184351.28776612887,
          149535.5159206954,
          143014.50666986537,
          153075.94176451705,
          206415.526019613,
          224920.87344177434,
          246387.0145739937,
          255825.25762964776,
          262617.7087922577,
          256956.82303091174,
          241053.8386263427,
          242683.55273952396,
          227067.68995671868,
          213278.56417924448
         ]
        },
        {
         "line": {
          "color": "#2E8B57"
         },
         "name": "Exponentielle_Glättung_0.1",
         "type": "scatter",
         "x": [
          "2011-01-31T00:00:00",
          "2011-02-28T00:00:00",
          "2011-03-31T00:00:00",
          "2011-04-30T00:00:00",
          "2011-05-31T00:00:00",
          "2011-06-30T00:00:00",
          "2011-07-31T00:00:00",
          "2011-08-31T00:00:00",
          "2011-09-30T00:00:00",
          "2011-10-31T00:00:00",
          "2011-11-30T00:00:00",
          "2011-12-31T00:00:00",
          "2012-01-31T00:00:00",
          "2012-02-29T00:00:00",
          "2012-03-31T00:00:00",
          "2012-04-30T00:00:00",
          "2012-05-31T00:00:00",
          "2012-06-30T00:00:00",
          "2012-07-31T00:00:00",
          "2012-08-31T00:00:00",
          "2012-09-30T00:00:00",
          "2012-10-31T00:00:00",
          "2012-11-30T00:00:00",
          "2012-12-31T00:00:00",
          "2013-01-31T00:00:00",
          "2013-02-28T00:00:00",
          "2013-03-31T00:00:00",
          "2013-04-30T00:00:00",
          "2013-05-31T00:00:00",
          "2013-06-30T00:00:00",
          "2013-07-31T00:00:00",
          "2013-08-31T00:00:00",
          "2013-09-30T00:00:00",
          "2013-10-31T00:00:00",
          "2013-11-30T00:00:00",
          "2013-12-31T00:00:00"
         ],
         "y": [
          57778.12316919186,
          64634.82378352718,
          118124.8624505881,
          128724.07802367026,
          143355.33723186882,
          152930.47072531906,
          158993.2023598949,
          148156.2951211521,
          129302.56142016932,
          131166.6442157144,
          113669.33736850445,
          96841.79724429807,
          94727.41242025484,
          102038.36885127143,
          155659.17337145397,
          170983.49977382264,
          190076.75397439866,
          200499.90016632015,
          207767.66635412056,
          197106.06316769385,
          180968.52665143882,
          187823.7427592136,
          172434.0423889026,
          155417.42275476552,
          152784.64652859073,
          160642.24131772478,
          214696.94184281604,
          230108.21387396628,
          248985.01438128325,
          259124.98939055056,
          266060.10830913286,
          256926.32393561953,
          239727.94502773322,
          242798.78494091076,
          226147.98638469254,
          210087.25737161894
         ]
        }
       ],
       "layout": {
        "legend": {
         "tracegroupgap": 0
        },
        "template": {
         "data": {
          "bar": [
           {
            "error_x": {
             "color": "#2a3f5f"
            },
            "error_y": {
             "color": "#2a3f5f"
            },
            "marker": {
             "line": {
              "color": "#E5ECF6",
              "width": 0.5
             },
             "pattern": {
              "fillmode": "overlay",
              "size": 10,
              "solidity": 0.2
             }
            },
            "type": "bar"
           }
          ],
          "barpolar": [
           {
            "marker": {
             "line": {
              "color": "#E5ECF6",
              "width": 0.5
             },
             "pattern": {
              "fillmode": "overlay",
              "size": 10,
              "solidity": 0.2
             }
            },
            "type": "barpolar"
           }
          ],
          "carpet": [
           {
            "aaxis": {
             "endlinecolor": "#2a3f5f",
             "gridcolor": "white",
             "linecolor": "white",
             "minorgridcolor": "white",
             "startlinecolor": "#2a3f5f"
            },
            "baxis": {
             "endlinecolor": "#2a3f5f",
             "gridcolor": "white",
             "linecolor": "white",
             "minorgridcolor": "white",
             "startlinecolor": "#2a3f5f"
            },
            "type": "carpet"
           }
          ],
          "choropleth": [
           {
            "colorbar": {
             "outlinewidth": 0,
             "ticks": ""
            },
            "type": "choropleth"
           }
          ],
          "contour": [
           {
            "colorbar": {
             "outlinewidth": 0,
             "ticks": ""
            },
            "colorscale": [
             [
              0,
              "#0d0887"
             ],
             [
              0.1111111111111111,
              "#46039f"
             ],
             [
              0.2222222222222222,
              "#7201a8"
             ],
             [
              0.3333333333333333,
              "#9c179e"
             ],
             [
              0.4444444444444444,
              "#bd3786"
             ],
             [
              0.5555555555555556,
              "#d8576b"
             ],
             [
              0.6666666666666666,
              "#ed7953"
             ],
             [
              0.7777777777777778,
              "#fb9f3a"
             ],
             [
              0.8888888888888888,
              "#fdca26"
             ],
             [
              1,
              "#f0f921"
             ]
            ],
            "type": "contour"
           }
          ],
          "contourcarpet": [
           {
            "colorbar": {
             "outlinewidth": 0,
             "ticks": ""
            },
            "type": "contourcarpet"
           }
          ],
          "heatmap": [
           {
            "colorbar": {
             "outlinewidth": 0,
             "ticks": ""
            },
            "colorscale": [
             [
              0,
              "#0d0887"
             ],
             [
              0.1111111111111111,
              "#46039f"
             ],
             [
              0.2222222222222222,
              "#7201a8"
             ],
             [
              0.3333333333333333,
              "#9c179e"
             ],
             [
              0.4444444444444444,
              "#bd3786"
             ],
             [
              0.5555555555555556,
              "#d8576b"
             ],
             [
              0.6666666666666666,
              "#ed7953"
             ],
             [
              0.7777777777777778,
              "#fb9f3a"
             ],
             [
              0.8888888888888888,
              "#fdca26"
             ],
             [
              1,
              "#f0f921"
             ]
            ],
            "type": "heatmap"
           }
          ],
          "heatmapgl": [
           {
            "colorbar": {
             "outlinewidth": 0,
             "ticks": ""
            },
            "colorscale": [
             [
              0,
              "#0d0887"
             ],
             [
              0.1111111111111111,
              "#46039f"
             ],
             [
              0.2222222222222222,
              "#7201a8"
             ],
             [
              0.3333333333333333,
              "#9c179e"
             ],
             [
              0.4444444444444444,
              "#bd3786"
             ],
             [
              0.5555555555555556,
              "#d8576b"
             ],
             [
              0.6666666666666666,
              "#ed7953"
             ],
             [
              0.7777777777777778,
              "#fb9f3a"
             ],
             [
              0.8888888888888888,
              "#fdca26"
             ],
             [
              1,
              "#f0f921"
             ]
            ],
            "type": "heatmapgl"
           }
          ],
          "histogram": [
           {
            "marker": {
             "pattern": {
              "fillmode": "overlay",
              "size": 10,
              "solidity": 0.2
             }
            },
            "type": "histogram"
           }
          ],
          "histogram2d": [
           {
            "colorbar": {
             "outlinewidth": 0,
             "ticks": ""
            },
            "colorscale": [
             [
              0,
              "#0d0887"
             ],
             [
              0.1111111111111111,
              "#46039f"
             ],
             [
              0.2222222222222222,
              "#7201a8"
             ],
             [
              0.3333333333333333,
              "#9c179e"
             ],
             [
              0.4444444444444444,
              "#bd3786"
             ],
             [
              0.5555555555555556,
              "#d8576b"
             ],
             [
              0.6666666666666666,
              "#ed7953"
             ],
             [
              0.7777777777777778,
              "#fb9f3a"
             ],
             [
              0.8888888888888888,
              "#fdca26"
             ],
             [
              1,
              "#f0f921"
             ]
            ],
            "type": "histogram2d"
           }
          ],
          "histogram2dcontour": [
           {
            "colorbar": {
             "outlinewidth": 0,
             "ticks": ""
            },
            "colorscale": [
             [
              0,
              "#0d0887"
             ],
             [
              0.1111111111111111,
              "#46039f"
             ],
             [
              0.2222222222222222,
              "#7201a8"
             ],
             [
              0.3333333333333333,
              "#9c179e"
             ],
             [
              0.4444444444444444,
              "#bd3786"
             ],
             [
              0.5555555555555556,
              "#d8576b"
             ],
             [
              0.6666666666666666,
              "#ed7953"
             ],
             [
              0.7777777777777778,
              "#fb9f3a"
             ],
             [
              0.8888888888888888,
              "#fdca26"
             ],
             [
              1,
              "#f0f921"
             ]
            ],
            "type": "histogram2dcontour"
           }
          ],
          "mesh3d": [
           {
            "colorbar": {
             "outlinewidth": 0,
             "ticks": ""
            },
            "type": "mesh3d"
           }
          ],
          "parcoords": [
           {
            "line": {
             "colorbar": {
              "outlinewidth": 0,
              "ticks": ""
             }
            },
            "type": "parcoords"
           }
          ],
          "pie": [
           {
            "automargin": true,
            "type": "pie"
           }
          ],
          "scatter": [
           {
            "marker": {
             "colorbar": {
              "outlinewidth": 0,
              "ticks": ""
             }
            },
            "type": "scatter"
           }
          ],
          "scatter3d": [
           {
            "line": {
             "colorbar": {
              "outlinewidth": 0,
              "ticks": ""
             }
            },
            "marker": {
             "colorbar": {
              "outlinewidth": 0,
              "ticks": ""
             }
            },
            "type": "scatter3d"
           }
          ],
          "scattercarpet": [
           {
            "marker": {
             "colorbar": {
              "outlinewidth": 0,
              "ticks": ""
             }
            },
            "type": "scattercarpet"
           }
          ],
          "scattergeo": [
           {
            "marker": {
             "colorbar": {
              "outlinewidth": 0,
              "ticks": ""
             }
            },
            "type": "scattergeo"
           }
          ],
          "scattergl": [
           {
            "marker": {
             "colorbar": {
              "outlinewidth": 0,
              "ticks": ""
             }
            },
            "type": "scattergl"
           }
          ],
          "scattermapbox": [
           {
            "marker": {
             "colorbar": {
              "outlinewidth": 0,
              "ticks": ""
             }
            },
            "type": "scattermapbox"
           }
          ],
          "scatterpolar": [
           {
            "marker": {
             "colorbar": {
              "outlinewidth": 0,
              "ticks": ""
             }
            },
            "type": "scatterpolar"
           }
          ],
          "scatterpolargl": [
           {
            "marker": {
             "colorbar": {
              "outlinewidth": 0,
              "ticks": ""
             }
            },
            "type": "scatterpolargl"
           }
          ],
          "scatterternary": [
           {
            "marker": {
             "colorbar": {
              "outlinewidth": 0,
              "ticks": ""
             }
            },
            "type": "scatterternary"
           }
          ],
          "surface": [
           {
            "colorbar": {
             "outlinewidth": 0,
             "ticks": ""
            },
            "colorscale": [
             [
              0,
              "#0d0887"
             ],
             [
              0.1111111111111111,
              "#46039f"
             ],
             [
              0.2222222222222222,
              "#7201a8"
             ],
             [
              0.3333333333333333,
              "#9c179e"
             ],
             [
              0.4444444444444444,
              "#bd3786"
             ],
             [
              0.5555555555555556,
              "#d8576b"
             ],
             [
              0.6666666666666666,
              "#ed7953"
             ],
             [
              0.7777777777777778,
              "#fb9f3a"
             ],
             [
              0.8888888888888888,
              "#fdca26"
             ],
             [
              1,
              "#f0f921"
             ]
            ],
            "type": "surface"
           }
          ],
          "table": [
           {
            "cells": {
             "fill": {
              "color": "#EBF0F8"
             },
             "line": {
              "color": "white"
             }
            },
            "header": {
             "fill": {
              "color": "#C8D4E3"
             },
             "line": {
              "color": "white"
             }
            },
            "type": "table"
           }
          ]
         },
         "layout": {
          "annotationdefaults": {
           "arrowcolor": "#2a3f5f",
           "arrowhead": 0,
           "arrowwidth": 1
          },
          "autotypenumbers": "strict",
          "coloraxis": {
           "colorbar": {
            "outlinewidth": 0,
            "ticks": ""
           }
          },
          "colorscale": {
           "diverging": [
            [
             0,
             "#8e0152"
            ],
            [
             0.1,
             "#c51b7d"
            ],
            [
             0.2,
             "#de77ae"
            ],
            [
             0.3,
             "#f1b6da"
            ],
            [
             0.4,
             "#fde0ef"
            ],
            [
             0.5,
             "#f7f7f7"
            ],
            [
             0.6,
             "#e6f5d0"
            ],
            [
             0.7,
             "#b8e186"
            ],
            [
             0.8,
             "#7fbc41"
            ],
            [
             0.9,
             "#4d9221"
            ],
            [
             1,
             "#276419"
            ]
           ],
           "sequential": [
            [
             0,
             "#0d0887"
            ],
            [
             0.1111111111111111,
             "#46039f"
            ],
            [
             0.2222222222222222,
             "#7201a8"
            ],
            [
             0.3333333333333333,
             "#9c179e"
            ],
            [
             0.4444444444444444,
             "#bd3786"
            ],
            [
             0.5555555555555556,
             "#d8576b"
            ],
            [
             0.6666666666666666,
             "#ed7953"
            ],
            [
             0.7777777777777778,
             "#fb9f3a"
            ],
            [
             0.8888888888888888,
             "#fdca26"
            ],
            [
             1,
             "#f0f921"
            ]
           ],
           "sequentialminus": [
            [
             0,
             "#0d0887"
            ],
            [
             0.1111111111111111,
             "#46039f"
            ],
            [
             0.2222222222222222,
             "#7201a8"
            ],
            [
             0.3333333333333333,
             "#9c179e"
            ],
            [
             0.4444444444444444,
             "#bd3786"
            ],
            [
             0.5555555555555556,
             "#d8576b"
            ],
            [
             0.6666666666666666,
             "#ed7953"
            ],
            [
             0.7777777777777778,
             "#fb9f3a"
            ],
            [
             0.8888888888888888,
             "#fdca26"
            ],
            [
             1,
             "#f0f921"
            ]
           ]
          },
          "colorway": [
           "#636efa",
           "#EF553B",
           "#00cc96",
           "#ab63fa",
           "#FFA15A",
           "#19d3f3",
           "#FF6692",
           "#B6E880",
           "#FF97FF",
           "#FECB52"
          ],
          "font": {
           "color": "#2a3f5f"
          },
          "geo": {
           "bgcolor": "white",
           "lakecolor": "white",
           "landcolor": "#E5ECF6",
           "showlakes": true,
           "showland": true,
           "subunitcolor": "white"
          },
          "hoverlabel": {
           "align": "left"
          },
          "hovermode": "closest",
          "mapbox": {
           "style": "light"
          },
          "paper_bgcolor": "white",
          "plot_bgcolor": "#E5ECF6",
          "polar": {
           "angularaxis": {
            "gridcolor": "white",
            "linecolor": "white",
            "ticks": ""
           },
           "bgcolor": "#E5ECF6",
           "radialaxis": {
            "gridcolor": "white",
            "linecolor": "white",
            "ticks": ""
           }
          },
          "scene": {
           "xaxis": {
            "backgroundcolor": "#E5ECF6",
            "gridcolor": "white",
            "gridwidth": 2,
            "linecolor": "white",
            "showbackground": true,
            "ticks": "",
            "zerolinecolor": "white"
           },
           "yaxis": {
            "backgroundcolor": "#E5ECF6",
            "gridcolor": "white",
            "gridwidth": 2,
            "linecolor": "white",
            "showbackground": true,
            "ticks": "",
            "zerolinecolor": "white"
           },
           "zaxis": {
            "backgroundcolor": "#E5ECF6",
            "gridcolor": "white",
            "gridwidth": 2,
            "linecolor": "white",
            "showbackground": true,
            "ticks": "",
            "zerolinecolor": "white"
           }
          },
          "shapedefaults": {
           "line": {
            "color": "#2a3f5f"
           }
          },
          "ternary": {
           "aaxis": {
            "gridcolor": "white",
            "linecolor": "white",
            "ticks": ""
           },
           "baxis": {
            "gridcolor": "white",
            "linecolor": "white",
            "ticks": ""
           },
           "bgcolor": "#E5ECF6",
           "caxis": {
            "gridcolor": "white",
            "linecolor": "white",
            "ticks": ""
           }
          },
          "title": {
           "x": 0.05
          },
          "xaxis": {
           "automargin": true,
           "gridcolor": "white",
           "linecolor": "white",
           "ticks": "",
           "title": {
            "standoff": 15
           },
           "zerolinecolor": "white",
           "zerolinewidth": 2
          },
          "yaxis": {
           "automargin": true,
           "gridcolor": "white",
           "linecolor": "white",
           "ticks": "",
           "title": {
            "standoff": 15
           },
           "zerolinecolor": "white",
           "zerolinewidth": 2
          }
         }
        },
        "title": {
         "text": "Bookings bis 2013 und Trend/Vorhersage bis Ende 2013"
        },
        "xaxis": {
         "anchor": "y",
         "domain": [
          0,
          1
         ],
         "title": {
          "text": "datetime"
         }
        },
        "yaxis": {
         "anchor": "x",
         "domain": [
          0,
          1
         ],
         "title": {
          "text": "Bookings"
         }
        }
       }
      }
     },
     "metadata": {},
     "output_type": "display_data"
    }
   ],
   "source": [
    "fig = px.area(df_viz.loc[ : '2012'], y = 'Bookings',\n",
    "        title='Bookings bis 2013 und Trend/Vorhersage bis Ende 2013')\n",
    "\n",
    "fig.update_traces(line = {'color' : 'lightGreen', 'width' : 0.3})\n",
    "\n",
    "fig.add_scatter(x = df_viz.reset_index()['datetime'], y = df_viz.reset_index()['Prediction'], line = {'dash' : 'dot'}, name='Trend')\n",
    "fig.add_scatter(x = df_viz.reset_index()['datetime'], y = df_viz.reset_index()['AutoReg'], line = {'color' : 'purple'}, name='Prognose' )\n",
    "fig.add_scatter(x = df_viz.reset_index()['datetime'], y = df_viz.reset_index()['Exponential_Smoothing0.9'], line = {'color' : 'blue'}, name='Exponentielle_Glättung_0.9')\n",
    "fig.add_scatter(x = df_viz.reset_index()['datetime'], y = df_viz.reset_index()['Exponential_Smoothing0.1'], line = {'color' : '#2E8B57'}, name='Exponentielle_Glättung_0.1')\n",
    "\n",
    "\n",
    "fig.show()"
   ]
  },
  {
   "cell_type": "code",
   "execution_count": 42,
   "metadata": {},
   "outputs": [
    {
     "name": "stdout",
     "output_type": "stream",
     "text": [
      "Max von 2013 : 2013-06-30 00:00:00 mit 276340.6249999997 Bookings\n",
      "Min von 2013 : 2013-01-31 00:00:00 mit 167209.62499999983 Bookings\n",
      "Durchschnitt von 2013 : Average = 239866.833333333 Bookings\n",
      "Summe von 2013 : Summe = 2878401.999999996 Bookings\n",
      "Die Prozentuale Veränderung gegenüber 2012 : 39.85%\n"
     ]
    }
   ],
   "source": [
    "print(f\"Max von 2013 : {df_viz.loc['2013' : ]['AutoReg'].idxmax()} mit {df_viz.loc['2013' : ]['AutoReg'].max()} Bookings\")\n",
    "print(f\"Min von 2013 : {df_viz.loc['2013' : ]['AutoReg'].idxmin()} mit {df_viz.loc['2013' : ]['AutoReg'].min()} Bookings\")\n",
    "print(f\"Durchschnitt von 2013 : Average = {df_viz.loc['2013' : ]['AutoReg'].mean()} Bookings\")\n",
    "print(f\"Summe von 2013 : Summe = {df_viz.loc['2013' : ]['AutoReg'].sum()} Bookings\")\n",
    "print(f\"Die Prozentuale Veränderung gegenüber 2012 : {round((df_viz.loc['2013' : ]['AutoReg'].sum() / df_viz.loc['2012']['Bookings'].sum() -1 ) * 100,2)}%\")"
   ]
  }
 ],
 "metadata": {
  "interpreter": {
   "hash": "51d60c119124f741a687b1c9c7404f83aa7620649b12eb80d0b07318bd3c0fa6"
  },
  "kernelspec": {
   "display_name": "Python 3.7.10 64-bit ('asdf': conda)",
   "language": "python",
   "name": "python3"
  },
  "language_info": {
   "codemirror_mode": {
    "name": "ipython",
    "version": 3
   },
   "file_extension": ".py",
   "mimetype": "text/x-python",
   "name": "python",
   "nbconvert_exporter": "python",
   "pygments_lexer": "ipython3",
   "version": "3.7.10"
  },
  "orig_nbformat": 4
 },
 "nbformat": 4,
 "nbformat_minor": 2
}
