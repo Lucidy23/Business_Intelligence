{
 "cells": [
  {
   "cell_type": "code",
   "execution_count": 4,
   "metadata": {},
   "outputs": [],
   "source": [
    "import pandas as pd\n",
    "import numpy as np\n",
    "import plotly.express as px\n",
    "import seaborn as sns\n",
    "import matplotlib.pyplot as plt\n",
    "from sklearn.preprocessing import LabelEncoder\n",
    "import datetime"
   ]
  },
  {
   "cell_type": "code",
   "execution_count": 5,
   "metadata": {},
   "outputs": [],
   "source": [
    "# Laden der Parquet Datei in einen Dataframe\n",
    "df = pd.read_parquet('escooter_history.parquet')"
   ]
  },
  {
   "cell_type": "code",
   "execution_count": 6,
   "metadata": {},
   "outputs": [
    {
     "data": {
      "text/html": [
       "<div>\n",
       "<style scoped>\n",
       "    .dataframe tbody tr th:only-of-type {\n",
       "        vertical-align: middle;\n",
       "    }\n",
       "\n",
       "    .dataframe tbody tr th {\n",
       "        vertical-align: top;\n",
       "    }\n",
       "\n",
       "    .dataframe thead th {\n",
       "        text-align: right;\n",
       "    }\n",
       "</style>\n",
       "<table border=\"1\" class=\"dataframe\">\n",
       "  <thead>\n",
       "    <tr style=\"text-align: right;\">\n",
       "      <th></th>\n",
       "      <th>datetime</th>\n",
       "      <th>holiday</th>\n",
       "      <th>workingday</th>\n",
       "      <th>weather</th>\n",
       "      <th>temp</th>\n",
       "      <th>atemp</th>\n",
       "      <th>humidity</th>\n",
       "      <th>windspeed</th>\n",
       "      <th>registered_customer</th>\n",
       "    </tr>\n",
       "  </thead>\n",
       "  <tbody>\n",
       "    <tr>\n",
       "      <th>0</th>\n",
       "      <td>2019-01-01 00:00:09</td>\n",
       "      <td>0</td>\n",
       "      <td>0</td>\n",
       "      <td>clear, few clouds</td>\n",
       "      <td>9.84</td>\n",
       "      <td>14.395</td>\n",
       "      <td>81</td>\n",
       "      <td>0.0</td>\n",
       "      <td>True</td>\n",
       "    </tr>\n",
       "    <tr>\n",
       "      <th>1</th>\n",
       "      <td>2019-01-01 00:00:41</td>\n",
       "      <td>0</td>\n",
       "      <td>0</td>\n",
       "      <td>clear, few clouds</td>\n",
       "      <td>9.84</td>\n",
       "      <td>14.395</td>\n",
       "      <td>81</td>\n",
       "      <td>0.0</td>\n",
       "      <td>True</td>\n",
       "    </tr>\n",
       "    <tr>\n",
       "      <th>2</th>\n",
       "      <td>2019-01-01 00:01:20</td>\n",
       "      <td>0</td>\n",
       "      <td>0</td>\n",
       "      <td>clear, few clouds</td>\n",
       "      <td>9.84</td>\n",
       "      <td>14.395</td>\n",
       "      <td>81</td>\n",
       "      <td>0.0</td>\n",
       "      <td>True</td>\n",
       "    </tr>\n",
       "    <tr>\n",
       "      <th>3</th>\n",
       "      <td>2019-01-01 00:04:12</td>\n",
       "      <td>0</td>\n",
       "      <td>0</td>\n",
       "      <td>clear, few clouds</td>\n",
       "      <td>9.84</td>\n",
       "      <td>14.395</td>\n",
       "      <td>81</td>\n",
       "      <td>0.0</td>\n",
       "      <td>True</td>\n",
       "    </tr>\n",
       "    <tr>\n",
       "      <th>4</th>\n",
       "      <td>2019-01-01 00:15:19</td>\n",
       "      <td>0</td>\n",
       "      <td>0</td>\n",
       "      <td>clear, few clouds</td>\n",
       "      <td>9.84</td>\n",
       "      <td>14.395</td>\n",
       "      <td>81</td>\n",
       "      <td>0.0</td>\n",
       "      <td>True</td>\n",
       "    </tr>\n",
       "  </tbody>\n",
       "</table>\n",
       "</div>"
      ],
      "text/plain": [
       "             datetime  holiday  workingday            weather  temp   atemp  \\\n",
       "0 2019-01-01 00:00:09        0           0  clear, few clouds  9.84  14.395   \n",
       "1 2019-01-01 00:00:41        0           0  clear, few clouds  9.84  14.395   \n",
       "2 2019-01-01 00:01:20        0           0  clear, few clouds  9.84  14.395   \n",
       "3 2019-01-01 00:04:12        0           0  clear, few clouds  9.84  14.395   \n",
       "4 2019-01-01 00:15:19        0           0  clear, few clouds  9.84  14.395   \n",
       "\n",
       "   humidity  windspeed  registered_customer  \n",
       "0        81        0.0                 True  \n",
       "1        81        0.0                 True  \n",
       "2        81        0.0                 True  \n",
       "3        81        0.0                 True  \n",
       "4        81        0.0                 True  "
      ]
     },
     "execution_count": 6,
     "metadata": {},
     "output_type": "execute_result"
    }
   ],
   "source": [
    "# Übersicht des DF\n",
    "df.head()"
   ]
  },
  {
   "cell_type": "code",
   "execution_count": 7,
   "metadata": {},
   "outputs": [
    {
     "name": "stdout",
     "output_type": "stream",
     "text": [
      "<class 'pandas.core.frame.DataFrame'>\n",
      "RangeIndex: 3296021 entries, 0 to 3296020\n",
      "Data columns (total 9 columns):\n",
      " #   Column               Dtype         \n",
      "---  ------               -----         \n",
      " 0   datetime             datetime64[ns]\n",
      " 1   holiday              int64         \n",
      " 2   workingday           int64         \n",
      " 3   weather              object        \n",
      " 4   temp                 float64       \n",
      " 5   atemp                float64       \n",
      " 6   humidity             int64         \n",
      " 7   windspeed            float64       \n",
      " 8   registered_customer  boolean       \n",
      "dtypes: boolean(1), datetime64[ns](1), float64(3), int64(3), object(1)\n",
      "memory usage: 207.5+ MB\n"
     ]
    }
   ],
   "source": [
    "# Ausweisung der Datentypen der Spalten\n",
    "df.info()"
   ]
  },
  {
   "cell_type": "markdown",
   "metadata": {},
   "source": []
  },
  {
   "cell_type": "code",
   "execution_count": 8,
   "metadata": {},
   "outputs": [
    {
     "data": {
      "text/plain": [
       "datetime               0\n",
       "holiday                0\n",
       "workingday             0\n",
       "weather                0\n",
       "temp                   0\n",
       "atemp                  0\n",
       "humidity               0\n",
       "windspeed              0\n",
       "registered_customer    0\n",
       "dtype: int64"
      ]
     },
     "execution_count": 8,
     "metadata": {},
     "output_type": "execute_result"
    }
   ],
   "source": [
    "# Prüfung nach Null-Werten\n",
    "df.isna().sum()"
   ]
  },
  {
   "cell_type": "code",
   "execution_count": 9,
   "metadata": {},
   "outputs": [
    {
     "data": {
      "text/html": [
       "<div>\n",
       "<style scoped>\n",
       "    .dataframe tbody tr th:only-of-type {\n",
       "        vertical-align: middle;\n",
       "    }\n",
       "\n",
       "    .dataframe tbody tr th {\n",
       "        vertical-align: top;\n",
       "    }\n",
       "\n",
       "    .dataframe thead th {\n",
       "        text-align: right;\n",
       "    }\n",
       "</style>\n",
       "<table border=\"1\" class=\"dataframe\">\n",
       "  <thead>\n",
       "    <tr style=\"text-align: right;\">\n",
       "      <th></th>\n",
       "      <th>datetime</th>\n",
       "      <th>holiday</th>\n",
       "      <th>workingday</th>\n",
       "      <th>weather</th>\n",
       "      <th>temp</th>\n",
       "      <th>atemp</th>\n",
       "      <th>humidity</th>\n",
       "      <th>windspeed</th>\n",
       "      <th>registered_customer</th>\n",
       "    </tr>\n",
       "  </thead>\n",
       "  <tbody>\n",
       "    <tr>\n",
       "      <th>316</th>\n",
       "      <td>2019-01-01 13:04:33</td>\n",
       "      <td>0</td>\n",
       "      <td>0</td>\n",
       "      <td>cloudy, mist</td>\n",
       "      <td>18.86</td>\n",
       "      <td>22.725</td>\n",
       "      <td>72</td>\n",
       "      <td>19.9995</td>\n",
       "      <td>False</td>\n",
       "    </tr>\n",
       "    <tr>\n",
       "      <th>344</th>\n",
       "      <td>2019-01-01 13:19:33</td>\n",
       "      <td>0</td>\n",
       "      <td>0</td>\n",
       "      <td>cloudy, mist</td>\n",
       "      <td>18.86</td>\n",
       "      <td>22.725</td>\n",
       "      <td>72</td>\n",
       "      <td>19.9995</td>\n",
       "      <td>False</td>\n",
       "    </tr>\n",
       "    <tr>\n",
       "      <th>510</th>\n",
       "      <td>2019-01-01 15:01:26</td>\n",
       "      <td>0</td>\n",
       "      <td>0</td>\n",
       "      <td>cloudy, mist</td>\n",
       "      <td>18.04</td>\n",
       "      <td>21.970</td>\n",
       "      <td>77</td>\n",
       "      <td>19.9995</td>\n",
       "      <td>True</td>\n",
       "    </tr>\n",
       "    <tr>\n",
       "      <th>681</th>\n",
       "      <td>2019-01-01 16:42:26</td>\n",
       "      <td>0</td>\n",
       "      <td>0</td>\n",
       "      <td>cloudy, mist</td>\n",
       "      <td>17.22</td>\n",
       "      <td>21.210</td>\n",
       "      <td>82</td>\n",
       "      <td>19.9995</td>\n",
       "      <td>False</td>\n",
       "    </tr>\n",
       "    <tr>\n",
       "      <th>1090</th>\n",
       "      <td>2019-01-02 10:21:44</td>\n",
       "      <td>0</td>\n",
       "      <td>0</td>\n",
       "      <td>cloudy, mist</td>\n",
       "      <td>14.76</td>\n",
       "      <td>17.425</td>\n",
       "      <td>81</td>\n",
       "      <td>15.0013</td>\n",
       "      <td>True</td>\n",
       "    </tr>\n",
       "    <tr>\n",
       "      <th>...</th>\n",
       "      <td>...</td>\n",
       "      <td>...</td>\n",
       "      <td>...</td>\n",
       "      <td>...</td>\n",
       "      <td>...</td>\n",
       "      <td>...</td>\n",
       "      <td>...</td>\n",
       "      <td>...</td>\n",
       "      <td>...</td>\n",
       "    </tr>\n",
       "    <tr>\n",
       "      <th>3295716</th>\n",
       "      <td>2020-12-31 21:05:45</td>\n",
       "      <td>0</td>\n",
       "      <td>1</td>\n",
       "      <td>clear, few clouds</td>\n",
       "      <td>10.66</td>\n",
       "      <td>12.880</td>\n",
       "      <td>60</td>\n",
       "      <td>11.0014</td>\n",
       "      <td>True</td>\n",
       "    </tr>\n",
       "    <tr>\n",
       "      <th>3295743</th>\n",
       "      <td>2020-12-31 21:15:41</td>\n",
       "      <td>0</td>\n",
       "      <td>1</td>\n",
       "      <td>clear, few clouds</td>\n",
       "      <td>10.66</td>\n",
       "      <td>12.880</td>\n",
       "      <td>60</td>\n",
       "      <td>11.0014</td>\n",
       "      <td>True</td>\n",
       "    </tr>\n",
       "    <tr>\n",
       "      <th>3295801</th>\n",
       "      <td>2020-12-31 21:40:34</td>\n",
       "      <td>0</td>\n",
       "      <td>1</td>\n",
       "      <td>clear, few clouds</td>\n",
       "      <td>10.66</td>\n",
       "      <td>12.880</td>\n",
       "      <td>60</td>\n",
       "      <td>11.0014</td>\n",
       "      <td>True</td>\n",
       "    </tr>\n",
       "    <tr>\n",
       "      <th>3295826</th>\n",
       "      <td>2020-12-31 21:50:21</td>\n",
       "      <td>0</td>\n",
       "      <td>1</td>\n",
       "      <td>clear, few clouds</td>\n",
       "      <td>10.66</td>\n",
       "      <td>12.880</td>\n",
       "      <td>60</td>\n",
       "      <td>11.0014</td>\n",
       "      <td>True</td>\n",
       "    </tr>\n",
       "    <tr>\n",
       "      <th>3295887</th>\n",
       "      <td>2020-12-31 22:21:30</td>\n",
       "      <td>0</td>\n",
       "      <td>1</td>\n",
       "      <td>clear, few clouds</td>\n",
       "      <td>10.66</td>\n",
       "      <td>13.635</td>\n",
       "      <td>56</td>\n",
       "      <td>8.9981</td>\n",
       "      <td>True</td>\n",
       "    </tr>\n",
       "  </tbody>\n",
       "</table>\n",
       "<p>115668 rows × 9 columns</p>\n",
       "</div>"
      ],
      "text/plain": [
       "                   datetime  holiday  workingday            weather   temp  \\\n",
       "316     2019-01-01 13:04:33        0           0       cloudy, mist  18.86   \n",
       "344     2019-01-01 13:19:33        0           0       cloudy, mist  18.86   \n",
       "510     2019-01-01 15:01:26        0           0       cloudy, mist  18.04   \n",
       "681     2019-01-01 16:42:26        0           0       cloudy, mist  17.22   \n",
       "1090    2019-01-02 10:21:44        0           0       cloudy, mist  14.76   \n",
       "...                     ...      ...         ...                ...    ...   \n",
       "3295716 2020-12-31 21:05:45        0           1  clear, few clouds  10.66   \n",
       "3295743 2020-12-31 21:15:41        0           1  clear, few clouds  10.66   \n",
       "3295801 2020-12-31 21:40:34        0           1  clear, few clouds  10.66   \n",
       "3295826 2020-12-31 21:50:21        0           1  clear, few clouds  10.66   \n",
       "3295887 2020-12-31 22:21:30        0           1  clear, few clouds  10.66   \n",
       "\n",
       "          atemp  humidity  windspeed  registered_customer  \n",
       "316      22.725        72    19.9995                False  \n",
       "344      22.725        72    19.9995                False  \n",
       "510      21.970        77    19.9995                 True  \n",
       "681      21.210        82    19.9995                False  \n",
       "1090     17.425        81    15.0013                 True  \n",
       "...         ...       ...        ...                  ...  \n",
       "3295716  12.880        60    11.0014                 True  \n",
       "3295743  12.880        60    11.0014                 True  \n",
       "3295801  12.880        60    11.0014                 True  \n",
       "3295826  12.880        60    11.0014                 True  \n",
       "3295887  13.635        56     8.9981                 True  \n",
       "\n",
       "[115668 rows x 9 columns]"
      ]
     },
     "execution_count": 9,
     "metadata": {},
     "output_type": "execute_result"
    }
   ],
   "source": [
    "#Prüfen nach Duplikaten\n",
    "df_dup = df[df.duplicated()]\n",
    "df_dup"
   ]
  },
  {
   "cell_type": "code",
   "execution_count": 10,
   "metadata": {},
   "outputs": [],
   "source": [
    "df[\"datetime\"] = df[\"datetime\"] - datetime.timedelta(2922)"
   ]
  },
  {
   "cell_type": "code",
   "execution_count": 11,
   "metadata": {},
   "outputs": [
    {
     "data": {
      "text/html": [
       "<div>\n",
       "<style scoped>\n",
       "    .dataframe tbody tr th:only-of-type {\n",
       "        vertical-align: middle;\n",
       "    }\n",
       "\n",
       "    .dataframe tbody tr th {\n",
       "        vertical-align: top;\n",
       "    }\n",
       "\n",
       "    .dataframe thead th {\n",
       "        text-align: right;\n",
       "    }\n",
       "</style>\n",
       "<table border=\"1\" class=\"dataframe\">\n",
       "  <thead>\n",
       "    <tr style=\"text-align: right;\">\n",
       "      <th></th>\n",
       "      <th>count</th>\n",
       "      <th>%</th>\n",
       "    </tr>\n",
       "    <tr>\n",
       "      <th>datetime</th>\n",
       "      <th></th>\n",
       "      <th></th>\n",
       "    </tr>\n",
       "  </thead>\n",
       "  <tbody>\n",
       "    <tr>\n",
       "      <th>0</th>\n",
       "      <td>333</td>\n",
       "      <td>0.287893</td>\n",
       "    </tr>\n",
       "    <tr>\n",
       "      <th>1</th>\n",
       "      <td>138</td>\n",
       "      <td>0.119307</td>\n",
       "    </tr>\n",
       "    <tr>\n",
       "      <th>2</th>\n",
       "      <td>77</td>\n",
       "      <td>0.066570</td>\n",
       "    </tr>\n",
       "    <tr>\n",
       "      <th>3</th>\n",
       "      <td>11</td>\n",
       "      <td>0.009510</td>\n",
       "    </tr>\n",
       "    <tr>\n",
       "      <th>4</th>\n",
       "      <td>4</td>\n",
       "      <td>0.003458</td>\n",
       "    </tr>\n",
       "    <tr>\n",
       "      <th>5</th>\n",
       "      <td>37</td>\n",
       "      <td>0.031988</td>\n",
       "    </tr>\n",
       "    <tr>\n",
       "      <th>6</th>\n",
       "      <td>792</td>\n",
       "      <td>0.684718</td>\n",
       "    </tr>\n",
       "    <tr>\n",
       "      <th>7</th>\n",
       "      <td>6135</td>\n",
       "      <td>5.303973</td>\n",
       "    </tr>\n",
       "    <tr>\n",
       "      <th>8</th>\n",
       "      <td>16029</td>\n",
       "      <td>13.857765</td>\n",
       "    </tr>\n",
       "    <tr>\n",
       "      <th>9</th>\n",
       "      <td>4398</td>\n",
       "      <td>3.802262</td>\n",
       "    </tr>\n",
       "    <tr>\n",
       "      <th>10</th>\n",
       "      <td>2307</td>\n",
       "      <td>1.994502</td>\n",
       "    </tr>\n",
       "    <tr>\n",
       "      <th>11</th>\n",
       "      <td>3399</td>\n",
       "      <td>2.938583</td>\n",
       "    </tr>\n",
       "    <tr>\n",
       "      <th>12</th>\n",
       "      <td>4947</td>\n",
       "      <td>4.276896</td>\n",
       "    </tr>\n",
       "    <tr>\n",
       "      <th>13</th>\n",
       "      <td>4959</td>\n",
       "      <td>4.287270</td>\n",
       "    </tr>\n",
       "    <tr>\n",
       "      <th>14</th>\n",
       "      <td>4254</td>\n",
       "      <td>3.677767</td>\n",
       "    </tr>\n",
       "    <tr>\n",
       "      <th>15</th>\n",
       "      <td>4802</td>\n",
       "      <td>4.151537</td>\n",
       "    </tr>\n",
       "    <tr>\n",
       "      <th>16</th>\n",
       "      <td>7386</td>\n",
       "      <td>6.385517</td>\n",
       "    </tr>\n",
       "    <tr>\n",
       "      <th>17</th>\n",
       "      <td>19687</td>\n",
       "      <td>17.020265</td>\n",
       "    </tr>\n",
       "    <tr>\n",
       "      <th>18</th>\n",
       "      <td>17255</td>\n",
       "      <td>14.917695</td>\n",
       "    </tr>\n",
       "    <tr>\n",
       "      <th>19</th>\n",
       "      <td>9191</td>\n",
       "      <td>7.946018</td>\n",
       "    </tr>\n",
       "    <tr>\n",
       "      <th>20</th>\n",
       "      <td>4602</td>\n",
       "      <td>3.978628</td>\n",
       "    </tr>\n",
       "    <tr>\n",
       "      <th>21</th>\n",
       "      <td>2639</td>\n",
       "      <td>2.281530</td>\n",
       "    </tr>\n",
       "    <tr>\n",
       "      <th>22</th>\n",
       "      <td>1591</td>\n",
       "      <td>1.375488</td>\n",
       "    </tr>\n",
       "    <tr>\n",
       "      <th>23</th>\n",
       "      <td>695</td>\n",
       "      <td>0.600858</td>\n",
       "    </tr>\n",
       "  </tbody>\n",
       "</table>\n",
       "</div>"
      ],
      "text/plain": [
       "          count          %\n",
       "datetime                  \n",
       "0           333   0.287893\n",
       "1           138   0.119307\n",
       "2            77   0.066570\n",
       "3            11   0.009510\n",
       "4             4   0.003458\n",
       "5            37   0.031988\n",
       "6           792   0.684718\n",
       "7          6135   5.303973\n",
       "8         16029  13.857765\n",
       "9          4398   3.802262\n",
       "10         2307   1.994502\n",
       "11         3399   2.938583\n",
       "12         4947   4.276896\n",
       "13         4959   4.287270\n",
       "14         4254   3.677767\n",
       "15         4802   4.151537\n",
       "16         7386   6.385517\n",
       "17        19687  17.020265\n",
       "18        17255  14.917695\n",
       "19         9191   7.946018\n",
       "20         4602   3.978628\n",
       "21         2639   2.281530\n",
       "22         1591   1.375488\n",
       "23          695   0.600858"
      ]
     },
     "execution_count": 11,
     "metadata": {},
     "output_type": "execute_result"
    }
   ],
   "source": [
    "dup_hourly = df_dup[['holiday']].groupby(df['datetime'].dt.hour).count().rename(columns={'holiday':'count'})\n",
    "dup_hourly['%'] = dup_hourly['count'] / dup_hourly['count'].sum() * 100\n",
    "dup_hourly"
   ]
  },
  {
   "cell_type": "markdown",
   "metadata": {},
   "source": [
    " Das Ergebniss scheint plausibel zu sein, da die meisten Duplikate während der Rush-Hour vorkommen, deswegen behalten wir die Duplikate im DF"
   ]
  },
  {
   "cell_type": "code",
   "execution_count": 12,
   "metadata": {},
   "outputs": [
    {
     "data": {
      "application/vnd.plotly.v1+json": {
       "config": {
        "plotlyServerURL": "https://plot.ly"
       },
       "data": [
        {
         "alignmentgroup": "True",
         "hovertemplate": "datetime=%{x}<br>%=%{y}<extra></extra>",
         "legendgroup": "",
         "marker": {
          "color": "#636efa",
          "pattern": {
           "shape": ""
          }
         },
         "name": "",
         "offsetgroup": "",
         "orientation": "v",
         "showlegend": false,
         "textposition": "auto",
         "type": "bar",
         "x": [
          0,
          1,
          2,
          3,
          4,
          5,
          6,
          7,
          8,
          9,
          10,
          11,
          12,
          13,
          14,
          15,
          16,
          17,
          18,
          19,
          20,
          21,
          22,
          23
         ],
         "xaxis": "x",
         "y": [
          0.2878929349517585,
          0.1193069820520801,
          0.06656983781166788,
          0.009509976830238269,
          0.0034581733928139157,
          0.03198810388352872,
          0.6847183317771552,
          5.303973441228344,
          13.857765328353564,
          3.8022616453989,
          1.9945015043054257,
          2.938582840543625,
          4.27689594356261,
          4.287270463741052,
          3.6777674032575995,
          4.151537158073106,
          6.385517169830895,
          17.02026489608189,
          14.917695473251028,
          7.946017913338174,
          3.9786284884324097,
          2.2815298959089807,
          1.3754884669917349,
          0.6008576270014179
         ],
         "yaxis": "y"
        }
       ],
       "layout": {
        "barmode": "relative",
        "legend": {
         "tracegroupgap": 0
        },
        "margin": {
         "t": 60
        },
        "template": {
         "data": {
          "bar": [
           {
            "error_x": {
             "color": "#2a3f5f"
            },
            "error_y": {
             "color": "#2a3f5f"
            },
            "marker": {
             "line": {
              "color": "#E5ECF6",
              "width": 0.5
             },
             "pattern": {
              "fillmode": "overlay",
              "size": 10,
              "solidity": 0.2
             }
            },
            "type": "bar"
           }
          ],
          "barpolar": [
           {
            "marker": {
             "line": {
              "color": "#E5ECF6",
              "width": 0.5
             },
             "pattern": {
              "fillmode": "overlay",
              "size": 10,
              "solidity": 0.2
             }
            },
            "type": "barpolar"
           }
          ],
          "carpet": [
           {
            "aaxis": {
             "endlinecolor": "#2a3f5f",
             "gridcolor": "white",
             "linecolor": "white",
             "minorgridcolor": "white",
             "startlinecolor": "#2a3f5f"
            },
            "baxis": {
             "endlinecolor": "#2a3f5f",
             "gridcolor": "white",
             "linecolor": "white",
             "minorgridcolor": "white",
             "startlinecolor": "#2a3f5f"
            },
            "type": "carpet"
           }
          ],
          "choropleth": [
           {
            "colorbar": {
             "outlinewidth": 0,
             "ticks": ""
            },
            "type": "choropleth"
           }
          ],
          "contour": [
           {
            "colorbar": {
             "outlinewidth": 0,
             "ticks": ""
            },
            "colorscale": [
             [
              0,
              "#0d0887"
             ],
             [
              0.1111111111111111,
              "#46039f"
             ],
             [
              0.2222222222222222,
              "#7201a8"
             ],
             [
              0.3333333333333333,
              "#9c179e"
             ],
             [
              0.4444444444444444,
              "#bd3786"
             ],
             [
              0.5555555555555556,
              "#d8576b"
             ],
             [
              0.6666666666666666,
              "#ed7953"
             ],
             [
              0.7777777777777778,
              "#fb9f3a"
             ],
             [
              0.8888888888888888,
              "#fdca26"
             ],
             [
              1,
              "#f0f921"
             ]
            ],
            "type": "contour"
           }
          ],
          "contourcarpet": [
           {
            "colorbar": {
             "outlinewidth": 0,
             "ticks": ""
            },
            "type": "contourcarpet"
           }
          ],
          "heatmap": [
           {
            "colorbar": {
             "outlinewidth": 0,
             "ticks": ""
            },
            "colorscale": [
             [
              0,
              "#0d0887"
             ],
             [
              0.1111111111111111,
              "#46039f"
             ],
             [
              0.2222222222222222,
              "#7201a8"
             ],
             [
              0.3333333333333333,
              "#9c179e"
             ],
             [
              0.4444444444444444,
              "#bd3786"
             ],
             [
              0.5555555555555556,
              "#d8576b"
             ],
             [
              0.6666666666666666,
              "#ed7953"
             ],
             [
              0.7777777777777778,
              "#fb9f3a"
             ],
             [
              0.8888888888888888,
              "#fdca26"
             ],
             [
              1,
              "#f0f921"
             ]
            ],
            "type": "heatmap"
           }
          ],
          "heatmapgl": [
           {
            "colorbar": {
             "outlinewidth": 0,
             "ticks": ""
            },
            "colorscale": [
             [
              0,
              "#0d0887"
             ],
             [
              0.1111111111111111,
              "#46039f"
             ],
             [
              0.2222222222222222,
              "#7201a8"
             ],
             [
              0.3333333333333333,
              "#9c179e"
             ],
             [
              0.4444444444444444,
              "#bd3786"
             ],
             [
              0.5555555555555556,
              "#d8576b"
             ],
             [
              0.6666666666666666,
              "#ed7953"
             ],
             [
              0.7777777777777778,
              "#fb9f3a"
             ],
             [
              0.8888888888888888,
              "#fdca26"
             ],
             [
              1,
              "#f0f921"
             ]
            ],
            "type": "heatmapgl"
           }
          ],
          "histogram": [
           {
            "marker": {
             "pattern": {
              "fillmode": "overlay",
              "size": 10,
              "solidity": 0.2
             }
            },
            "type": "histogram"
           }
          ],
          "histogram2d": [
           {
            "colorbar": {
             "outlinewidth": 0,
             "ticks": ""
            },
            "colorscale": [
             [
              0,
              "#0d0887"
             ],
             [
              0.1111111111111111,
              "#46039f"
             ],
             [
              0.2222222222222222,
              "#7201a8"
             ],
             [
              0.3333333333333333,
              "#9c179e"
             ],
             [
              0.4444444444444444,
              "#bd3786"
             ],
             [
              0.5555555555555556,
              "#d8576b"
             ],
             [
              0.6666666666666666,
              "#ed7953"
             ],
             [
              0.7777777777777778,
              "#fb9f3a"
             ],
             [
              0.8888888888888888,
              "#fdca26"
             ],
             [
              1,
              "#f0f921"
             ]
            ],
            "type": "histogram2d"
           }
          ],
          "histogram2dcontour": [
           {
            "colorbar": {
             "outlinewidth": 0,
             "ticks": ""
            },
            "colorscale": [
             [
              0,
              "#0d0887"
             ],
             [
              0.1111111111111111,
              "#46039f"
             ],
             [
              0.2222222222222222,
              "#7201a8"
             ],
             [
              0.3333333333333333,
              "#9c179e"
             ],
             [
              0.4444444444444444,
              "#bd3786"
             ],
             [
              0.5555555555555556,
              "#d8576b"
             ],
             [
              0.6666666666666666,
              "#ed7953"
             ],
             [
              0.7777777777777778,
              "#fb9f3a"
             ],
             [
              0.8888888888888888,
              "#fdca26"
             ],
             [
              1,
              "#f0f921"
             ]
            ],
            "type": "histogram2dcontour"
           }
          ],
          "mesh3d": [
           {
            "colorbar": {
             "outlinewidth": 0,
             "ticks": ""
            },
            "type": "mesh3d"
           }
          ],
          "parcoords": [
           {
            "line": {
             "colorbar": {
              "outlinewidth": 0,
              "ticks": ""
             }
            },
            "type": "parcoords"
           }
          ],
          "pie": [
           {
            "automargin": true,
            "type": "pie"
           }
          ],
          "scatter": [
           {
            "marker": {
             "colorbar": {
              "outlinewidth": 0,
              "ticks": ""
             }
            },
            "type": "scatter"
           }
          ],
          "scatter3d": [
           {
            "line": {
             "colorbar": {
              "outlinewidth": 0,
              "ticks": ""
             }
            },
            "marker": {
             "colorbar": {
              "outlinewidth": 0,
              "ticks": ""
             }
            },
            "type": "scatter3d"
           }
          ],
          "scattercarpet": [
           {
            "marker": {
             "colorbar": {
              "outlinewidth": 0,
              "ticks": ""
             }
            },
            "type": "scattercarpet"
           }
          ],
          "scattergeo": [
           {
            "marker": {
             "colorbar": {
              "outlinewidth": 0,
              "ticks": ""
             }
            },
            "type": "scattergeo"
           }
          ],
          "scattergl": [
           {
            "marker": {
             "colorbar": {
              "outlinewidth": 0,
              "ticks": ""
             }
            },
            "type": "scattergl"
           }
          ],
          "scattermapbox": [
           {
            "marker": {
             "colorbar": {
              "outlinewidth": 0,
              "ticks": ""
             }
            },
            "type": "scattermapbox"
           }
          ],
          "scatterpolar": [
           {
            "marker": {
             "colorbar": {
              "outlinewidth": 0,
              "ticks": ""
             }
            },
            "type": "scatterpolar"
           }
          ],
          "scatterpolargl": [
           {
            "marker": {
             "colorbar": {
              "outlinewidth": 0,
              "ticks": ""
             }
            },
            "type": "scatterpolargl"
           }
          ],
          "scatterternary": [
           {
            "marker": {
             "colorbar": {
              "outlinewidth": 0,
              "ticks": ""
             }
            },
            "type": "scatterternary"
           }
          ],
          "surface": [
           {
            "colorbar": {
             "outlinewidth": 0,
             "ticks": ""
            },
            "colorscale": [
             [
              0,
              "#0d0887"
             ],
             [
              0.1111111111111111,
              "#46039f"
             ],
             [
              0.2222222222222222,
              "#7201a8"
             ],
             [
              0.3333333333333333,
              "#9c179e"
             ],
             [
              0.4444444444444444,
              "#bd3786"
             ],
             [
              0.5555555555555556,
              "#d8576b"
             ],
             [
              0.6666666666666666,
              "#ed7953"
             ],
             [
              0.7777777777777778,
              "#fb9f3a"
             ],
             [
              0.8888888888888888,
              "#fdca26"
             ],
             [
              1,
              "#f0f921"
             ]
            ],
            "type": "surface"
           }
          ],
          "table": [
           {
            "cells": {
             "fill": {
              "color": "#EBF0F8"
             },
             "line": {
              "color": "white"
             }
            },
            "header": {
             "fill": {
              "color": "#C8D4E3"
             },
             "line": {
              "color": "white"
             }
            },
            "type": "table"
           }
          ]
         },
         "layout": {
          "annotationdefaults": {
           "arrowcolor": "#2a3f5f",
           "arrowhead": 0,
           "arrowwidth": 1
          },
          "autotypenumbers": "strict",
          "coloraxis": {
           "colorbar": {
            "outlinewidth": 0,
            "ticks": ""
           }
          },
          "colorscale": {
           "diverging": [
            [
             0,
             "#8e0152"
            ],
            [
             0.1,
             "#c51b7d"
            ],
            [
             0.2,
             "#de77ae"
            ],
            [
             0.3,
             "#f1b6da"
            ],
            [
             0.4,
             "#fde0ef"
            ],
            [
             0.5,
             "#f7f7f7"
            ],
            [
             0.6,
             "#e6f5d0"
            ],
            [
             0.7,
             "#b8e186"
            ],
            [
             0.8,
             "#7fbc41"
            ],
            [
             0.9,
             "#4d9221"
            ],
            [
             1,
             "#276419"
            ]
           ],
           "sequential": [
            [
             0,
             "#0d0887"
            ],
            [
             0.1111111111111111,
             "#46039f"
            ],
            [
             0.2222222222222222,
             "#7201a8"
            ],
            [
             0.3333333333333333,
             "#9c179e"
            ],
            [
             0.4444444444444444,
             "#bd3786"
            ],
            [
             0.5555555555555556,
             "#d8576b"
            ],
            [
             0.6666666666666666,
             "#ed7953"
            ],
            [
             0.7777777777777778,
             "#fb9f3a"
            ],
            [
             0.8888888888888888,
             "#fdca26"
            ],
            [
             1,
             "#f0f921"
            ]
           ],
           "sequentialminus": [
            [
             0,
             "#0d0887"
            ],
            [
             0.1111111111111111,
             "#46039f"
            ],
            [
             0.2222222222222222,
             "#7201a8"
            ],
            [
             0.3333333333333333,
             "#9c179e"
            ],
            [
             0.4444444444444444,
             "#bd3786"
            ],
            [
             0.5555555555555556,
             "#d8576b"
            ],
            [
             0.6666666666666666,
             "#ed7953"
            ],
            [
             0.7777777777777778,
             "#fb9f3a"
            ],
            [
             0.8888888888888888,
             "#fdca26"
            ],
            [
             1,
             "#f0f921"
            ]
           ]
          },
          "colorway": [
           "#636efa",
           "#EF553B",
           "#00cc96",
           "#ab63fa",
           "#FFA15A",
           "#19d3f3",
           "#FF6692",
           "#B6E880",
           "#FF97FF",
           "#FECB52"
          ],
          "font": {
           "color": "#2a3f5f"
          },
          "geo": {
           "bgcolor": "white",
           "lakecolor": "white",
           "landcolor": "#E5ECF6",
           "showlakes": true,
           "showland": true,
           "subunitcolor": "white"
          },
          "hoverlabel": {
           "align": "left"
          },
          "hovermode": "closest",
          "mapbox": {
           "style": "light"
          },
          "paper_bgcolor": "white",
          "plot_bgcolor": "#E5ECF6",
          "polar": {
           "angularaxis": {
            "gridcolor": "white",
            "linecolor": "white",
            "ticks": ""
           },
           "bgcolor": "#E5ECF6",
           "radialaxis": {
            "gridcolor": "white",
            "linecolor": "white",
            "ticks": ""
           }
          },
          "scene": {
           "xaxis": {
            "backgroundcolor": "#E5ECF6",
            "gridcolor": "white",
            "gridwidth": 2,
            "linecolor": "white",
            "showbackground": true,
            "ticks": "",
            "zerolinecolor": "white"
           },
           "yaxis": {
            "backgroundcolor": "#E5ECF6",
            "gridcolor": "white",
            "gridwidth": 2,
            "linecolor": "white",
            "showbackground": true,
            "ticks": "",
            "zerolinecolor": "white"
           },
           "zaxis": {
            "backgroundcolor": "#E5ECF6",
            "gridcolor": "white",
            "gridwidth": 2,
            "linecolor": "white",
            "showbackground": true,
            "ticks": "",
            "zerolinecolor": "white"
           }
          },
          "shapedefaults": {
           "line": {
            "color": "#2a3f5f"
           }
          },
          "ternary": {
           "aaxis": {
            "gridcolor": "white",
            "linecolor": "white",
            "ticks": ""
           },
           "baxis": {
            "gridcolor": "white",
            "linecolor": "white",
            "ticks": ""
           },
           "bgcolor": "#E5ECF6",
           "caxis": {
            "gridcolor": "white",
            "linecolor": "white",
            "ticks": ""
           }
          },
          "title": {
           "x": 0.05
          },
          "xaxis": {
           "automargin": true,
           "gridcolor": "white",
           "linecolor": "white",
           "ticks": "",
           "title": {
            "standoff": 15
           },
           "zerolinecolor": "white",
           "zerolinewidth": 2
          },
          "yaxis": {
           "automargin": true,
           "gridcolor": "white",
           "linecolor": "white",
           "ticks": "",
           "title": {
            "standoff": 15
           },
           "zerolinecolor": "white",
           "zerolinewidth": 2
          }
         }
        },
        "xaxis": {
         "anchor": "y",
         "domain": [
          0,
          1
         ],
         "title": {
          "text": "datetime"
         }
        },
        "yaxis": {
         "anchor": "x",
         "domain": [
          0,
          1
         ],
         "title": {
          "text": "%"
         }
        }
       }
      }
     },
     "metadata": {},
     "output_type": "display_data"
    }
   ],
   "source": [
    "px.bar(dup_hourly.reset_index(), x = 'datetime', y = '%')"
   ]
  },
  {
   "cell_type": "code",
   "execution_count": 13,
   "metadata": {},
   "outputs": [
    {
     "data": {
      "text/plain": [
       "array(['clear, few clouds', 'cloudy, mist',\n",
       "       'light snow or rain or thunderstorm',\n",
       "       'heavy rain or thunderstorm or snow or ice pallets'], dtype=object)"
      ]
     },
     "execution_count": 13,
     "metadata": {},
     "output_type": "execute_result"
    }
   ],
   "source": [
    "df['weather'] = df['weather'].replace({'heacy rain or thunderstorm or snow or ice pallets' : 'heavy rain or thunderstorm or snow or ice pallets'})\n",
    "df['weather'].unique()"
   ]
  },
  {
   "cell_type": "code",
   "execution_count": 14,
   "metadata": {},
   "outputs": [
    {
     "data": {
      "text/html": [
       "<div>\n",
       "<style scoped>\n",
       "    .dataframe tbody tr th:only-of-type {\n",
       "        vertical-align: middle;\n",
       "    }\n",
       "\n",
       "    .dataframe tbody tr th {\n",
       "        vertical-align: top;\n",
       "    }\n",
       "\n",
       "    .dataframe thead th {\n",
       "        text-align: right;\n",
       "    }\n",
       "</style>\n",
       "<table border=\"1\" class=\"dataframe\">\n",
       "  <thead>\n",
       "    <tr style=\"text-align: right;\">\n",
       "      <th></th>\n",
       "      <th>datetime</th>\n",
       "      <th>holiday</th>\n",
       "      <th>workingday</th>\n",
       "      <th>temp</th>\n",
       "      <th>atemp</th>\n",
       "      <th>humidity</th>\n",
       "      <th>windspeed</th>\n",
       "      <th>registered_customer</th>\n",
       "    </tr>\n",
       "    <tr>\n",
       "      <th>weather</th>\n",
       "      <th></th>\n",
       "      <th></th>\n",
       "      <th></th>\n",
       "      <th></th>\n",
       "      <th></th>\n",
       "      <th></th>\n",
       "      <th></th>\n",
       "      <th></th>\n",
       "    </tr>\n",
       "  </thead>\n",
       "  <tbody>\n",
       "    <tr>\n",
       "      <th>clear, few clouds</th>\n",
       "      <td>2344884</td>\n",
       "      <td>2344884</td>\n",
       "      <td>2344884</td>\n",
       "      <td>2344884</td>\n",
       "      <td>2344884</td>\n",
       "      <td>2344884</td>\n",
       "      <td>2344884</td>\n",
       "      <td>2344884</td>\n",
       "    </tr>\n",
       "    <tr>\n",
       "      <th>cloudy, mist</th>\n",
       "      <td>794925</td>\n",
       "      <td>794925</td>\n",
       "      <td>794925</td>\n",
       "      <td>794925</td>\n",
       "      <td>794925</td>\n",
       "      <td>794925</td>\n",
       "      <td>794925</td>\n",
       "      <td>794925</td>\n",
       "    </tr>\n",
       "    <tr>\n",
       "      <th>heavy rain or thunderstorm or snow or ice pallets</th>\n",
       "      <td>240</td>\n",
       "      <td>240</td>\n",
       "      <td>240</td>\n",
       "      <td>240</td>\n",
       "      <td>240</td>\n",
       "      <td>240</td>\n",
       "      <td>240</td>\n",
       "      <td>240</td>\n",
       "    </tr>\n",
       "    <tr>\n",
       "      <th>light snow or rain or thunderstorm</th>\n",
       "      <td>155972</td>\n",
       "      <td>155972</td>\n",
       "      <td>155972</td>\n",
       "      <td>155972</td>\n",
       "      <td>155972</td>\n",
       "      <td>155972</td>\n",
       "      <td>155972</td>\n",
       "      <td>155972</td>\n",
       "    </tr>\n",
       "  </tbody>\n",
       "</table>\n",
       "</div>"
      ],
      "text/plain": [
       "                                                   datetime  holiday  \\\n",
       "weather                                                                \n",
       "clear, few clouds                                   2344884  2344884   \n",
       "cloudy, mist                                         794925   794925   \n",
       "heavy rain or thunderstorm or snow or ice pallets       240      240   \n",
       "light snow or rain or thunderstorm                   155972   155972   \n",
       "\n",
       "                                                   workingday     temp  \\\n",
       "weather                                                                  \n",
       "clear, few clouds                                     2344884  2344884   \n",
       "cloudy, mist                                           794925   794925   \n",
       "heavy rain or thunderstorm or snow or ice pallets         240      240   \n",
       "light snow or rain or thunderstorm                     155972   155972   \n",
       "\n",
       "                                                     atemp  humidity  \\\n",
       "weather                                                                \n",
       "clear, few clouds                                  2344884   2344884   \n",
       "cloudy, mist                                        794925    794925   \n",
       "heavy rain or thunderstorm or snow or ice pallets      240       240   \n",
       "light snow or rain or thunderstorm                  155972    155972   \n",
       "\n",
       "                                                   windspeed  \\\n",
       "weather                                                        \n",
       "clear, few clouds                                    2344884   \n",
       "cloudy, mist                                          794925   \n",
       "heavy rain or thunderstorm or snow or ice pallets        240   \n",
       "light snow or rain or thunderstorm                    155972   \n",
       "\n",
       "                                                   registered_customer  \n",
       "weather                                                                 \n",
       "clear, few clouds                                              2344884  \n",
       "cloudy, mist                                                    794925  \n",
       "heavy rain or thunderstorm or snow or ice pallets                  240  \n",
       "light snow or rain or thunderstorm                              155972  "
      ]
     },
     "execution_count": 14,
     "metadata": {},
     "output_type": "execute_result"
    }
   ],
   "source": [
    "# casting registered_customer as int\n",
    "df['registered_customer'] = df['registered_customer'].astype(int)\n",
    "# CATEGORICAL DATA?\n",
    "df.groupby(df['weather']).count()"
   ]
  },
  {
   "cell_type": "code",
   "execution_count": 15,
   "metadata": {},
   "outputs": [
    {
     "data": {
      "text/html": [
       "<div>\n",
       "<style scoped>\n",
       "    .dataframe tbody tr th:only-of-type {\n",
       "        vertical-align: middle;\n",
       "    }\n",
       "\n",
       "    .dataframe tbody tr th {\n",
       "        vertical-align: top;\n",
       "    }\n",
       "\n",
       "    .dataframe thead th {\n",
       "        text-align: right;\n",
       "    }\n",
       "</style>\n",
       "<table border=\"1\" class=\"dataframe\">\n",
       "  <thead>\n",
       "    <tr style=\"text-align: right;\">\n",
       "      <th></th>\n",
       "      <th>weather_clear, few clouds</th>\n",
       "      <th>weather_cloudy, mist</th>\n",
       "      <th>weather_heavy rain or thunderstorm or snow or ice pallets</th>\n",
       "      <th>weather_light snow or rain or thunderstorm</th>\n",
       "    </tr>\n",
       "    <tr>\n",
       "      <th>Datum</th>\n",
       "      <th></th>\n",
       "      <th></th>\n",
       "      <th></th>\n",
       "      <th></th>\n",
       "    </tr>\n",
       "  </thead>\n",
       "  <tbody>\n",
       "    <tr>\n",
       "      <th>2011-01-01</th>\n",
       "      <td>0.0</td>\n",
       "      <td>1.0</td>\n",
       "      <td>0.0</td>\n",
       "      <td>0.0</td>\n",
       "    </tr>\n",
       "    <tr>\n",
       "      <th>2011-01-02</th>\n",
       "      <td>0.0</td>\n",
       "      <td>1.0</td>\n",
       "      <td>0.0</td>\n",
       "      <td>0.0</td>\n",
       "    </tr>\n",
       "    <tr>\n",
       "      <th>2011-01-03</th>\n",
       "      <td>1.0</td>\n",
       "      <td>0.0</td>\n",
       "      <td>0.0</td>\n",
       "      <td>0.0</td>\n",
       "    </tr>\n",
       "    <tr>\n",
       "      <th>2011-01-04</th>\n",
       "      <td>1.0</td>\n",
       "      <td>0.0</td>\n",
       "      <td>0.0</td>\n",
       "      <td>0.0</td>\n",
       "    </tr>\n",
       "    <tr>\n",
       "      <th>2011-01-05</th>\n",
       "      <td>1.0</td>\n",
       "      <td>0.0</td>\n",
       "      <td>0.0</td>\n",
       "      <td>0.0</td>\n",
       "    </tr>\n",
       "    <tr>\n",
       "      <th>...</th>\n",
       "      <td>...</td>\n",
       "      <td>...</td>\n",
       "      <td>...</td>\n",
       "      <td>...</td>\n",
       "    </tr>\n",
       "    <tr>\n",
       "      <th>2012-12-27</th>\n",
       "      <td>1.0</td>\n",
       "      <td>0.0</td>\n",
       "      <td>0.0</td>\n",
       "      <td>0.0</td>\n",
       "    </tr>\n",
       "    <tr>\n",
       "      <th>2012-12-28</th>\n",
       "      <td>0.0</td>\n",
       "      <td>1.0</td>\n",
       "      <td>0.0</td>\n",
       "      <td>0.0</td>\n",
       "    </tr>\n",
       "    <tr>\n",
       "      <th>2012-12-29</th>\n",
       "      <td>0.0</td>\n",
       "      <td>1.0</td>\n",
       "      <td>0.0</td>\n",
       "      <td>0.0</td>\n",
       "    </tr>\n",
       "    <tr>\n",
       "      <th>2012-12-30</th>\n",
       "      <td>1.0</td>\n",
       "      <td>0.0</td>\n",
       "      <td>0.0</td>\n",
       "      <td>0.0</td>\n",
       "    </tr>\n",
       "    <tr>\n",
       "      <th>2012-12-31</th>\n",
       "      <td>0.0</td>\n",
       "      <td>1.0</td>\n",
       "      <td>0.0</td>\n",
       "      <td>0.0</td>\n",
       "    </tr>\n",
       "  </tbody>\n",
       "</table>\n",
       "<p>731 rows × 4 columns</p>\n",
       "</div>"
      ],
      "text/plain": [
       "            weather_clear, few clouds  weather_cloudy, mist  \\\n",
       "Datum                                                         \n",
       "2011-01-01                        0.0                   1.0   \n",
       "2011-01-02                        0.0                   1.0   \n",
       "2011-01-03                        1.0                   0.0   \n",
       "2011-01-04                        1.0                   0.0   \n",
       "2011-01-05                        1.0                   0.0   \n",
       "...                               ...                   ...   \n",
       "2012-12-27                        1.0                   0.0   \n",
       "2012-12-28                        0.0                   1.0   \n",
       "2012-12-29                        0.0                   1.0   \n",
       "2012-12-30                        1.0                   0.0   \n",
       "2012-12-31                        0.0                   1.0   \n",
       "\n",
       "            weather_heavy rain or thunderstorm or snow or ice pallets  \\\n",
       "Datum                                                                   \n",
       "2011-01-01                                                0.0           \n",
       "2011-01-02                                                0.0           \n",
       "2011-01-03                                                0.0           \n",
       "2011-01-04                                                0.0           \n",
       "2011-01-05                                                0.0           \n",
       "...                                                       ...           \n",
       "2012-12-27                                                0.0           \n",
       "2012-12-28                                                0.0           \n",
       "2012-12-29                                                0.0           \n",
       "2012-12-30                                                0.0           \n",
       "2012-12-31                                                0.0           \n",
       "\n",
       "            weather_light snow or rain or thunderstorm  \n",
       "Datum                                                   \n",
       "2011-01-01                                         0.0  \n",
       "2011-01-02                                         0.0  \n",
       "2011-01-03                                         0.0  \n",
       "2011-01-04                                         0.0  \n",
       "2011-01-05                                         0.0  \n",
       "...                                                ...  \n",
       "2012-12-27                                         0.0  \n",
       "2012-12-28                                         0.0  \n",
       "2012-12-29                                         0.0  \n",
       "2012-12-30                                         0.0  \n",
       "2012-12-31                                         0.0  \n",
       "\n",
       "[731 rows x 4 columns]"
      ]
     },
     "execution_count": 15,
     "metadata": {},
     "output_type": "execute_result"
    }
   ],
   "source": [
    "# Erstellung eines dummy DF für die Wetter-Attribute\n",
    "df_dummy = pd.get_dummies(df[['datetime', 'weather']])\n",
    "df_dummy['Datum'] = df_dummy.datetime.dt.date\n",
    "df_dummy = df_dummy.groupby(['Datum']).sum()\n",
    "df_dummy = df_dummy.reset_index()\n",
    "df_dummy['Datum'] = pd.to_datetime(df_dummy.Datum)\n",
    "\n",
    "def get_max_dummy(val):\n",
    "    st = val.idxmax()\n",
    "    val[st] = 1\n",
    "    li = ['weather_clear, few clouds', 'weather_cloudy, mist' ,'weather_heavy rain or thunderstorm or snow or ice pallets','weather_light snow or rain or thunderstorm']\n",
    "    li.remove(st)\n",
    "    for el in li:\n",
    "        val[el] = 0\n",
    "    return val\n",
    "\n",
    "df_dummyt = df_dummy.drop('Datum', axis = 1).apply(get_max_dummy, axis=1)\n",
    "df_dummy = pd.merge(df_dummy[['Datum']].reset_index(), df_dummyt.reset_index(), on='index')\n",
    "df_dummy = df_dummy.drop('index', axis = 1)\n",
    "df_dummy = df_dummy.set_index('Datum')\n",
    "df_dummy"
   ]
  },
  {
   "cell_type": "code",
   "execution_count": 16,
   "metadata": {},
   "outputs": [
    {
     "data": {
      "text/plain": [
       "0          0\n",
       "1          0\n",
       "2          0\n",
       "3          0\n",
       "4          0\n",
       "          ..\n",
       "3296016    0\n",
       "3296017    0\n",
       "3296018    0\n",
       "3296019    0\n",
       "3296020    0\n",
       "Name: weather, Length: 3296021, dtype: int64"
      ]
     },
     "execution_count": 16,
     "metadata": {},
     "output_type": "execute_result"
    }
   ],
   "source": [
    "# encode weather using map\n",
    "### SCHREIBFEHLER verbessern\n",
    "df['weather'] = df['weather'].map({'clear, few clouds':0,'cloudy, mist':1,'light snow or rain or thunderstorm':2,'heavy rain or thunderstorm or snow or ice pallets':3})\n",
    "df['weather']"
   ]
  },
  {
   "cell_type": "code",
   "execution_count": 17,
   "metadata": {},
   "outputs": [],
   "source": [
    "df_count_hourly = df[['datetime','registered_customer']].resample('1H',on='datetime').agg({'datetime':'count','registered_customer':'sum'}).rename(columns={'datetime':'Bookings'})\n",
    "df_count_hourly.head()\n",
    "df_count_hourly['unregistered_customer'] = df_count_hourly['Bookings'] - df_count_hourly['registered_customer']"
   ]
  },
  {
   "cell_type": "code",
   "execution_count": 18,
   "metadata": {},
   "outputs": [],
   "source": [
    "df_mean_hourly = df.resample('1H',on='datetime').mean()\n",
    "df_mean_hourly.drop(['registered_customer'],axis=1,inplace=True)"
   ]
  },
  {
   "cell_type": "code",
   "execution_count": 19,
   "metadata": {},
   "outputs": [
    {
     "data": {
      "text/html": [
       "<div>\n",
       "<style scoped>\n",
       "    .dataframe tbody tr th:only-of-type {\n",
       "        vertical-align: middle;\n",
       "    }\n",
       "\n",
       "    .dataframe tbody tr th {\n",
       "        vertical-align: top;\n",
       "    }\n",
       "\n",
       "    .dataframe thead th {\n",
       "        text-align: right;\n",
       "    }\n",
       "</style>\n",
       "<table border=\"1\" class=\"dataframe\">\n",
       "  <thead>\n",
       "    <tr style=\"text-align: right;\">\n",
       "      <th></th>\n",
       "      <th>datetime</th>\n",
       "      <th>Bookings</th>\n",
       "      <th>registered_customer</th>\n",
       "      <th>unregistered_customer</th>\n",
       "      <th>holiday</th>\n",
       "      <th>workingday</th>\n",
       "      <th>weather</th>\n",
       "      <th>temp</th>\n",
       "      <th>atemp</th>\n",
       "      <th>humidity</th>\n",
       "      <th>windspeed</th>\n",
       "    </tr>\n",
       "  </thead>\n",
       "  <tbody>\n",
       "    <tr>\n",
       "      <th>0</th>\n",
       "      <td>2011-01-01 00:00:00</td>\n",
       "      <td>16</td>\n",
       "      <td>13</td>\n",
       "      <td>3</td>\n",
       "      <td>0.0</td>\n",
       "      <td>0.0</td>\n",
       "      <td>0.0</td>\n",
       "      <td>9.84</td>\n",
       "      <td>14.395</td>\n",
       "      <td>81.0</td>\n",
       "      <td>0.0</td>\n",
       "    </tr>\n",
       "    <tr>\n",
       "      <th>1</th>\n",
       "      <td>2011-01-01 01:00:00</td>\n",
       "      <td>40</td>\n",
       "      <td>32</td>\n",
       "      <td>8</td>\n",
       "      <td>0.0</td>\n",
       "      <td>0.0</td>\n",
       "      <td>0.0</td>\n",
       "      <td>9.02</td>\n",
       "      <td>13.635</td>\n",
       "      <td>80.0</td>\n",
       "      <td>0.0</td>\n",
       "    </tr>\n",
       "    <tr>\n",
       "      <th>2</th>\n",
       "      <td>2011-01-01 02:00:00</td>\n",
       "      <td>32</td>\n",
       "      <td>27</td>\n",
       "      <td>5</td>\n",
       "      <td>0.0</td>\n",
       "      <td>0.0</td>\n",
       "      <td>0.0</td>\n",
       "      <td>9.02</td>\n",
       "      <td>13.635</td>\n",
       "      <td>80.0</td>\n",
       "      <td>0.0</td>\n",
       "    </tr>\n",
       "    <tr>\n",
       "      <th>3</th>\n",
       "      <td>2011-01-01 03:00:00</td>\n",
       "      <td>13</td>\n",
       "      <td>10</td>\n",
       "      <td>3</td>\n",
       "      <td>0.0</td>\n",
       "      <td>0.0</td>\n",
       "      <td>0.0</td>\n",
       "      <td>9.84</td>\n",
       "      <td>14.395</td>\n",
       "      <td>75.0</td>\n",
       "      <td>0.0</td>\n",
       "    </tr>\n",
       "    <tr>\n",
       "      <th>4</th>\n",
       "      <td>2011-01-01 04:00:00</td>\n",
       "      <td>1</td>\n",
       "      <td>1</td>\n",
       "      <td>0</td>\n",
       "      <td>0.0</td>\n",
       "      <td>0.0</td>\n",
       "      <td>0.0</td>\n",
       "      <td>9.84</td>\n",
       "      <td>14.395</td>\n",
       "      <td>75.0</td>\n",
       "      <td>0.0</td>\n",
       "    </tr>\n",
       "  </tbody>\n",
       "</table>\n",
       "</div>"
      ],
      "text/plain": [
       "             datetime  Bookings  registered_customer  unregistered_customer  \\\n",
       "0 2011-01-01 00:00:00        16                   13                      3   \n",
       "1 2011-01-01 01:00:00        40                   32                      8   \n",
       "2 2011-01-01 02:00:00        32                   27                      5   \n",
       "3 2011-01-01 03:00:00        13                   10                      3   \n",
       "4 2011-01-01 04:00:00         1                    1                      0   \n",
       "\n",
       "   holiday  workingday  weather  temp   atemp  humidity  windspeed  \n",
       "0      0.0         0.0      0.0  9.84  14.395      81.0        0.0  \n",
       "1      0.0         0.0      0.0  9.02  13.635      80.0        0.0  \n",
       "2      0.0         0.0      0.0  9.02  13.635      80.0        0.0  \n",
       "3      0.0         0.0      0.0  9.84  14.395      75.0        0.0  \n",
       "4      0.0         0.0      0.0  9.84  14.395      75.0        0.0  "
      ]
     },
     "execution_count": 19,
     "metadata": {},
     "output_type": "execute_result"
    }
   ],
   "source": [
    "df_hourly = pd.merge(df_count_hourly,df_mean_hourly,on='datetime').reset_index()\n",
    "df_hourly.head()"
   ]
  },
  {
   "cell_type": "code",
   "execution_count": 20,
   "metadata": {},
   "outputs": [],
   "source": [
    "#### löschen von unnötigen spalten\n",
    "df_hourly['day_of_week'] = df_hourly['datetime'].dt.dayofweek\n",
    "df_hourly['weekday'] = df_hourly['datetime'].dt.day_name()\n",
    "season_dict = { 1 : \"Winter\", 2 : \"Spring\", 3 : \"Summer\", 4 :\"Autumn\"}\n",
    "df_hourly[\"season\"] = df_hourly[\"datetime\"].dt.month % 12 // 3 + 1\n",
    "df_hourly[\"season\"] =  df_hourly[\"season\"].map(season_dict)\n",
    "df_hourly['week_of_year'] =  df_hourly['datetime'].dt.isocalendar().week\n",
    "df_hourly['hour'] = df_hourly['datetime'].dt.hour\n",
    "df_hourly['day'] = df_hourly['datetime'].dt.day\n",
    "df_hourly['month'] = df_hourly['datetime'].dt.month\n",
    "df_hourly['year'] =  df_hourly['datetime'].dt.year\n",
    "df_hourly['date'] = df_hourly['datetime'].dt.date\n",
    "\n",
    "#df_hourly['weekday'] = df['weekday'].map({''})"
   ]
  },
  {
   "cell_type": "code",
   "execution_count": 21,
   "metadata": {},
   "outputs": [
    {
     "data": {
      "text/html": [
       "<div>\n",
       "<style scoped>\n",
       "    .dataframe tbody tr th:only-of-type {\n",
       "        vertical-align: middle;\n",
       "    }\n",
       "\n",
       "    .dataframe tbody tr th {\n",
       "        vertical-align: top;\n",
       "    }\n",
       "\n",
       "    .dataframe thead th {\n",
       "        text-align: right;\n",
       "    }\n",
       "</style>\n",
       "<table border=\"1\" class=\"dataframe\">\n",
       "  <thead>\n",
       "    <tr style=\"text-align: right;\">\n",
       "      <th></th>\n",
       "      <th>datetime</th>\n",
       "      <th>Bookings</th>\n",
       "      <th>registered_customer</th>\n",
       "      <th>unregistered_customer</th>\n",
       "      <th>holiday</th>\n",
       "      <th>workingday</th>\n",
       "      <th>weather</th>\n",
       "      <th>temp</th>\n",
       "      <th>atemp</th>\n",
       "      <th>humidity</th>\n",
       "      <th>windspeed</th>\n",
       "      <th>day_of_week</th>\n",
       "      <th>weekday</th>\n",
       "      <th>season</th>\n",
       "      <th>week_of_year</th>\n",
       "      <th>hour</th>\n",
       "      <th>day</th>\n",
       "      <th>month</th>\n",
       "      <th>year</th>\n",
       "      <th>date</th>\n",
       "    </tr>\n",
       "  </thead>\n",
       "  <tbody>\n",
       "    <tr>\n",
       "      <th>0</th>\n",
       "      <td>2011-01-01 00:00:00</td>\n",
       "      <td>16</td>\n",
       "      <td>13</td>\n",
       "      <td>3</td>\n",
       "      <td>0.0</td>\n",
       "      <td>0.0</td>\n",
       "      <td>0.0</td>\n",
       "      <td>9.84</td>\n",
       "      <td>14.395</td>\n",
       "      <td>81.0</td>\n",
       "      <td>0.0</td>\n",
       "      <td>5</td>\n",
       "      <td>Saturday</td>\n",
       "      <td>Winter</td>\n",
       "      <td>52</td>\n",
       "      <td>0</td>\n",
       "      <td>1</td>\n",
       "      <td>1</td>\n",
       "      <td>2011</td>\n",
       "      <td>2011-01-01</td>\n",
       "    </tr>\n",
       "    <tr>\n",
       "      <th>1</th>\n",
       "      <td>2011-01-01 01:00:00</td>\n",
       "      <td>40</td>\n",
       "      <td>32</td>\n",
       "      <td>8</td>\n",
       "      <td>0.0</td>\n",
       "      <td>0.0</td>\n",
       "      <td>0.0</td>\n",
       "      <td>9.02</td>\n",
       "      <td>13.635</td>\n",
       "      <td>80.0</td>\n",
       "      <td>0.0</td>\n",
       "      <td>5</td>\n",
       "      <td>Saturday</td>\n",
       "      <td>Winter</td>\n",
       "      <td>52</td>\n",
       "      <td>1</td>\n",
       "      <td>1</td>\n",
       "      <td>1</td>\n",
       "      <td>2011</td>\n",
       "      <td>2011-01-01</td>\n",
       "    </tr>\n",
       "    <tr>\n",
       "      <th>2</th>\n",
       "      <td>2011-01-01 02:00:00</td>\n",
       "      <td>32</td>\n",
       "      <td>27</td>\n",
       "      <td>5</td>\n",
       "      <td>0.0</td>\n",
       "      <td>0.0</td>\n",
       "      <td>0.0</td>\n",
       "      <td>9.02</td>\n",
       "      <td>13.635</td>\n",
       "      <td>80.0</td>\n",
       "      <td>0.0</td>\n",
       "      <td>5</td>\n",
       "      <td>Saturday</td>\n",
       "      <td>Winter</td>\n",
       "      <td>52</td>\n",
       "      <td>2</td>\n",
       "      <td>1</td>\n",
       "      <td>1</td>\n",
       "      <td>2011</td>\n",
       "      <td>2011-01-01</td>\n",
       "    </tr>\n",
       "    <tr>\n",
       "      <th>3</th>\n",
       "      <td>2011-01-01 03:00:00</td>\n",
       "      <td>13</td>\n",
       "      <td>10</td>\n",
       "      <td>3</td>\n",
       "      <td>0.0</td>\n",
       "      <td>0.0</td>\n",
       "      <td>0.0</td>\n",
       "      <td>9.84</td>\n",
       "      <td>14.395</td>\n",
       "      <td>75.0</td>\n",
       "      <td>0.0</td>\n",
       "      <td>5</td>\n",
       "      <td>Saturday</td>\n",
       "      <td>Winter</td>\n",
       "      <td>52</td>\n",
       "      <td>3</td>\n",
       "      <td>1</td>\n",
       "      <td>1</td>\n",
       "      <td>2011</td>\n",
       "      <td>2011-01-01</td>\n",
       "    </tr>\n",
       "    <tr>\n",
       "      <th>4</th>\n",
       "      <td>2011-01-01 04:00:00</td>\n",
       "      <td>1</td>\n",
       "      <td>1</td>\n",
       "      <td>0</td>\n",
       "      <td>0.0</td>\n",
       "      <td>0.0</td>\n",
       "      <td>0.0</td>\n",
       "      <td>9.84</td>\n",
       "      <td>14.395</td>\n",
       "      <td>75.0</td>\n",
       "      <td>0.0</td>\n",
       "      <td>5</td>\n",
       "      <td>Saturday</td>\n",
       "      <td>Winter</td>\n",
       "      <td>52</td>\n",
       "      <td>4</td>\n",
       "      <td>1</td>\n",
       "      <td>1</td>\n",
       "      <td>2011</td>\n",
       "      <td>2011-01-01</td>\n",
       "    </tr>\n",
       "  </tbody>\n",
       "</table>\n",
       "</div>"
      ],
      "text/plain": [
       "             datetime  Bookings  registered_customer  unregistered_customer  \\\n",
       "0 2011-01-01 00:00:00        16                   13                      3   \n",
       "1 2011-01-01 01:00:00        40                   32                      8   \n",
       "2 2011-01-01 02:00:00        32                   27                      5   \n",
       "3 2011-01-01 03:00:00        13                   10                      3   \n",
       "4 2011-01-01 04:00:00         1                    1                      0   \n",
       "\n",
       "   holiday  workingday  weather  temp   atemp  humidity  windspeed  \\\n",
       "0      0.0         0.0      0.0  9.84  14.395      81.0        0.0   \n",
       "1      0.0         0.0      0.0  9.02  13.635      80.0        0.0   \n",
       "2      0.0         0.0      0.0  9.02  13.635      80.0        0.0   \n",
       "3      0.0         0.0      0.0  9.84  14.395      75.0        0.0   \n",
       "4      0.0         0.0      0.0  9.84  14.395      75.0        0.0   \n",
       "\n",
       "   day_of_week   weekday  season  week_of_year  hour  day  month  year  \\\n",
       "0            5  Saturday  Winter            52     0    1      1  2011   \n",
       "1            5  Saturday  Winter            52     1    1      1  2011   \n",
       "2            5  Saturday  Winter            52     2    1      1  2011   \n",
       "3            5  Saturday  Winter            52     3    1      1  2011   \n",
       "4            5  Saturday  Winter            52     4    1      1  2011   \n",
       "\n",
       "         date  \n",
       "0  2011-01-01  \n",
       "1  2011-01-01  \n",
       "2  2011-01-01  \n",
       "3  2011-01-01  \n",
       "4  2011-01-01  "
      ]
     },
     "execution_count": 21,
     "metadata": {},
     "output_type": "execute_result"
    }
   ],
   "source": [
    "df_hourly.head()"
   ]
  },
  {
   "cell_type": "code",
   "execution_count": 22,
   "metadata": {},
   "outputs": [
    {
     "data": {
      "text/plain": [
       "array([5, 6, 0, 1, 2, 3, 4], dtype=int64)"
      ]
     },
     "execution_count": 22,
     "metadata": {},
     "output_type": "execute_result"
    }
   ],
   "source": [
    "df_hourly['day_of_week'].unique()"
   ]
  },
  {
   "cell_type": "code",
   "execution_count": 23,
   "metadata": {},
   "outputs": [
    {
     "data": {
      "text/html": [
       "<div>\n",
       "<style scoped>\n",
       "    .dataframe tbody tr th:only-of-type {\n",
       "        vertical-align: middle;\n",
       "    }\n",
       "\n",
       "    .dataframe tbody tr th {\n",
       "        vertical-align: top;\n",
       "    }\n",
       "\n",
       "    .dataframe thead th {\n",
       "        text-align: right;\n",
       "    }\n",
       "</style>\n",
       "<table border=\"1\" class=\"dataframe\">\n",
       "  <thead>\n",
       "    <tr style=\"text-align: right;\">\n",
       "      <th></th>\n",
       "      <th>count</th>\n",
       "      <th>mean</th>\n",
       "      <th>std</th>\n",
       "      <th>min</th>\n",
       "      <th>25%</th>\n",
       "      <th>50%</th>\n",
       "      <th>75%</th>\n",
       "      <th>max</th>\n",
       "    </tr>\n",
       "  </thead>\n",
       "  <tbody>\n",
       "    <tr>\n",
       "      <th>Bookings</th>\n",
       "      <td>17544.0</td>\n",
       "      <td>187.871694</td>\n",
       "      <td>179.670220</td>\n",
       "      <td>0.00</td>\n",
       "      <td>40.0000</td>\n",
       "      <td>141.000</td>\n",
       "      <td>277.0000</td>\n",
       "      <td>1075.0000</td>\n",
       "    </tr>\n",
       "    <tr>\n",
       "      <th>registered_customer</th>\n",
       "      <td>17544.0</td>\n",
       "      <td>152.711696</td>\n",
       "      <td>149.862761</td>\n",
       "      <td>0.00</td>\n",
       "      <td>34.0000</td>\n",
       "      <td>116.000</td>\n",
       "      <td>217.0000</td>\n",
       "      <td>954.0000</td>\n",
       "    </tr>\n",
       "    <tr>\n",
       "      <th>unregistered_customer</th>\n",
       "      <td>17544.0</td>\n",
       "      <td>35.159998</td>\n",
       "      <td>48.456757</td>\n",
       "      <td>0.00</td>\n",
       "      <td>4.0000</td>\n",
       "      <td>16.000</td>\n",
       "      <td>48.0000</td>\n",
       "      <td>367.0000</td>\n",
       "    </tr>\n",
       "    <tr>\n",
       "      <th>holiday</th>\n",
       "      <td>17379.0</td>\n",
       "      <td>0.028770</td>\n",
       "      <td>0.167165</td>\n",
       "      <td>0.00</td>\n",
       "      <td>0.0000</td>\n",
       "      <td>0.000</td>\n",
       "      <td>0.0000</td>\n",
       "      <td>1.0000</td>\n",
       "    </tr>\n",
       "    <tr>\n",
       "      <th>workingday</th>\n",
       "      <td>17379.0</td>\n",
       "      <td>0.682721</td>\n",
       "      <td>0.465431</td>\n",
       "      <td>0.00</td>\n",
       "      <td>0.0000</td>\n",
       "      <td>1.000</td>\n",
       "      <td>1.0000</td>\n",
       "      <td>1.0000</td>\n",
       "    </tr>\n",
       "    <tr>\n",
       "      <th>weather</th>\n",
       "      <td>17379.0</td>\n",
       "      <td>0.425283</td>\n",
       "      <td>0.639357</td>\n",
       "      <td>0.00</td>\n",
       "      <td>0.0000</td>\n",
       "      <td>0.000</td>\n",
       "      <td>1.0000</td>\n",
       "      <td>3.0000</td>\n",
       "    </tr>\n",
       "    <tr>\n",
       "      <th>temp</th>\n",
       "      <td>17379.0</td>\n",
       "      <td>20.376474</td>\n",
       "      <td>7.894801</td>\n",
       "      <td>0.82</td>\n",
       "      <td>13.9400</td>\n",
       "      <td>20.500</td>\n",
       "      <td>27.0600</td>\n",
       "      <td>41.0000</td>\n",
       "    </tr>\n",
       "    <tr>\n",
       "      <th>atemp</th>\n",
       "      <td>17379.0</td>\n",
       "      <td>23.788755</td>\n",
       "      <td>8.592511</td>\n",
       "      <td>0.00</td>\n",
       "      <td>16.6650</td>\n",
       "      <td>24.240</td>\n",
       "      <td>31.0600</td>\n",
       "      <td>50.0000</td>\n",
       "    </tr>\n",
       "    <tr>\n",
       "      <th>humidity</th>\n",
       "      <td>17379.0</td>\n",
       "      <td>62.722884</td>\n",
       "      <td>19.292983</td>\n",
       "      <td>0.00</td>\n",
       "      <td>48.0000</td>\n",
       "      <td>63.000</td>\n",
       "      <td>78.0000</td>\n",
       "      <td>100.0000</td>\n",
       "    </tr>\n",
       "    <tr>\n",
       "      <th>windspeed</th>\n",
       "      <td>17379.0</td>\n",
       "      <td>12.736540</td>\n",
       "      <td>8.196795</td>\n",
       "      <td>0.00</td>\n",
       "      <td>7.0015</td>\n",
       "      <td>12.998</td>\n",
       "      <td>16.9979</td>\n",
       "      <td>56.9969</td>\n",
       "    </tr>\n",
       "    <tr>\n",
       "      <th>day_of_week</th>\n",
       "      <td>17544.0</td>\n",
       "      <td>3.002736</td>\n",
       "      <td>2.003472</td>\n",
       "      <td>0.00</td>\n",
       "      <td>1.0000</td>\n",
       "      <td>3.000</td>\n",
       "      <td>5.0000</td>\n",
       "      <td>6.0000</td>\n",
       "    </tr>\n",
       "    <tr>\n",
       "      <th>week_of_year</th>\n",
       "      <td>17544.0</td>\n",
       "      <td>26.534884</td>\n",
       "      <td>15.066715</td>\n",
       "      <td>1.00</td>\n",
       "      <td>13.0000</td>\n",
       "      <td>27.000</td>\n",
       "      <td>40.0000</td>\n",
       "      <td>52.0000</td>\n",
       "    </tr>\n",
       "    <tr>\n",
       "      <th>hour</th>\n",
       "      <td>17544.0</td>\n",
       "      <td>11.500000</td>\n",
       "      <td>6.922384</td>\n",
       "      <td>0.00</td>\n",
       "      <td>5.7500</td>\n",
       "      <td>11.500</td>\n",
       "      <td>17.2500</td>\n",
       "      <td>23.0000</td>\n",
       "    </tr>\n",
       "    <tr>\n",
       "      <th>day</th>\n",
       "      <td>17544.0</td>\n",
       "      <td>15.738714</td>\n",
       "      <td>8.804172</td>\n",
       "      <td>1.00</td>\n",
       "      <td>8.0000</td>\n",
       "      <td>16.000</td>\n",
       "      <td>23.0000</td>\n",
       "      <td>31.0000</td>\n",
       "    </tr>\n",
       "    <tr>\n",
       "      <th>month</th>\n",
       "      <td>17544.0</td>\n",
       "      <td>6.519836</td>\n",
       "      <td>3.449649</td>\n",
       "      <td>1.00</td>\n",
       "      <td>4.0000</td>\n",
       "      <td>7.000</td>\n",
       "      <td>10.0000</td>\n",
       "      <td>12.0000</td>\n",
       "    </tr>\n",
       "    <tr>\n",
       "      <th>year</th>\n",
       "      <td>17544.0</td>\n",
       "      <td>2011.500684</td>\n",
       "      <td>0.500014</td>\n",
       "      <td>2011.00</td>\n",
       "      <td>2011.0000</td>\n",
       "      <td>2012.000</td>\n",
       "      <td>2012.0000</td>\n",
       "      <td>2012.0000</td>\n",
       "    </tr>\n",
       "  </tbody>\n",
       "</table>\n",
       "</div>"
      ],
      "text/plain": [
       "                         count         mean         std      min        25%  \\\n",
       "Bookings               17544.0   187.871694  179.670220     0.00    40.0000   \n",
       "registered_customer    17544.0   152.711696  149.862761     0.00    34.0000   \n",
       "unregistered_customer  17544.0    35.159998   48.456757     0.00     4.0000   \n",
       "holiday                17379.0     0.028770    0.167165     0.00     0.0000   \n",
       "workingday             17379.0     0.682721    0.465431     0.00     0.0000   \n",
       "weather                17379.0     0.425283    0.639357     0.00     0.0000   \n",
       "temp                   17379.0    20.376474    7.894801     0.82    13.9400   \n",
       "atemp                  17379.0    23.788755    8.592511     0.00    16.6650   \n",
       "humidity               17379.0    62.722884   19.292983     0.00    48.0000   \n",
       "windspeed              17379.0    12.736540    8.196795     0.00     7.0015   \n",
       "day_of_week            17544.0     3.002736    2.003472     0.00     1.0000   \n",
       "week_of_year           17544.0    26.534884   15.066715     1.00    13.0000   \n",
       "hour                   17544.0    11.500000    6.922384     0.00     5.7500   \n",
       "day                    17544.0    15.738714    8.804172     1.00     8.0000   \n",
       "month                  17544.0     6.519836    3.449649     1.00     4.0000   \n",
       "year                   17544.0  2011.500684    0.500014  2011.00  2011.0000   \n",
       "\n",
       "                            50%        75%        max  \n",
       "Bookings                141.000   277.0000  1075.0000  \n",
       "registered_customer     116.000   217.0000   954.0000  \n",
       "unregistered_customer    16.000    48.0000   367.0000  \n",
       "holiday                   0.000     0.0000     1.0000  \n",
       "workingday                1.000     1.0000     1.0000  \n",
       "weather                   0.000     1.0000     3.0000  \n",
       "temp                     20.500    27.0600    41.0000  \n",
       "atemp                    24.240    31.0600    50.0000  \n",
       "humidity                 63.000    78.0000   100.0000  \n",
       "windspeed                12.998    16.9979    56.9969  \n",
       "day_of_week               3.000     5.0000     6.0000  \n",
       "week_of_year             27.000    40.0000    52.0000  \n",
       "hour                     11.500    17.2500    23.0000  \n",
       "day                      16.000    23.0000    31.0000  \n",
       "month                     7.000    10.0000    12.0000  \n",
       "year                   2012.000  2012.0000  2012.0000  "
      ]
     },
     "execution_count": 23,
     "metadata": {},
     "output_type": "execute_result"
    }
   ],
   "source": [
    "df_hourly.describe().T"
   ]
  },
  {
   "cell_type": "code",
   "execution_count": 24,
   "metadata": {},
   "outputs": [
    {
     "data": {
      "text/html": [
       "<div>\n",
       "<style scoped>\n",
       "    .dataframe tbody tr th:only-of-type {\n",
       "        vertical-align: middle;\n",
       "    }\n",
       "\n",
       "    .dataframe tbody tr th {\n",
       "        vertical-align: top;\n",
       "    }\n",
       "\n",
       "    .dataframe thead th {\n",
       "        text-align: right;\n",
       "    }\n",
       "</style>\n",
       "<table border=\"1\" class=\"dataframe\">\n",
       "  <thead>\n",
       "    <tr style=\"text-align: right;\">\n",
       "      <th></th>\n",
       "      <th>datetime</th>\n",
       "      <th>Bookings</th>\n",
       "      <th>registered_customer</th>\n",
       "      <th>unregistered_customer</th>\n",
       "      <th>holiday</th>\n",
       "      <th>workingday</th>\n",
       "      <th>weather</th>\n",
       "      <th>temp</th>\n",
       "      <th>atemp</th>\n",
       "      <th>humidity</th>\n",
       "      <th>windspeed</th>\n",
       "      <th>day_of_week</th>\n",
       "      <th>weekday</th>\n",
       "      <th>season</th>\n",
       "      <th>week_of_year</th>\n",
       "      <th>hour</th>\n",
       "      <th>day</th>\n",
       "      <th>month</th>\n",
       "      <th>year</th>\n",
       "      <th>date</th>\n",
       "    </tr>\n",
       "  </thead>\n",
       "  <tbody>\n",
       "    <tr>\n",
       "      <th>0</th>\n",
       "      <td>2011-01-01 00:00:00</td>\n",
       "      <td>16</td>\n",
       "      <td>13</td>\n",
       "      <td>3</td>\n",
       "      <td>0.0</td>\n",
       "      <td>0.0</td>\n",
       "      <td>0.0</td>\n",
       "      <td>9.84</td>\n",
       "      <td>14.395</td>\n",
       "      <td>81.0</td>\n",
       "      <td>0.0000</td>\n",
       "      <td>5</td>\n",
       "      <td>Saturday</td>\n",
       "      <td>Winter</td>\n",
       "      <td>52</td>\n",
       "      <td>0</td>\n",
       "      <td>1</td>\n",
       "      <td>1</td>\n",
       "      <td>2011</td>\n",
       "      <td>2011-01-01</td>\n",
       "    </tr>\n",
       "    <tr>\n",
       "      <th>1</th>\n",
       "      <td>2011-01-01 01:00:00</td>\n",
       "      <td>40</td>\n",
       "      <td>32</td>\n",
       "      <td>8</td>\n",
       "      <td>0.0</td>\n",
       "      <td>0.0</td>\n",
       "      <td>0.0</td>\n",
       "      <td>9.02</td>\n",
       "      <td>13.635</td>\n",
       "      <td>80.0</td>\n",
       "      <td>0.0000</td>\n",
       "      <td>5</td>\n",
       "      <td>Saturday</td>\n",
       "      <td>Winter</td>\n",
       "      <td>52</td>\n",
       "      <td>1</td>\n",
       "      <td>1</td>\n",
       "      <td>1</td>\n",
       "      <td>2011</td>\n",
       "      <td>2011-01-01</td>\n",
       "    </tr>\n",
       "    <tr>\n",
       "      <th>2</th>\n",
       "      <td>2011-01-01 02:00:00</td>\n",
       "      <td>32</td>\n",
       "      <td>27</td>\n",
       "      <td>5</td>\n",
       "      <td>0.0</td>\n",
       "      <td>0.0</td>\n",
       "      <td>0.0</td>\n",
       "      <td>9.02</td>\n",
       "      <td>13.635</td>\n",
       "      <td>80.0</td>\n",
       "      <td>0.0000</td>\n",
       "      <td>5</td>\n",
       "      <td>Saturday</td>\n",
       "      <td>Winter</td>\n",
       "      <td>52</td>\n",
       "      <td>2</td>\n",
       "      <td>1</td>\n",
       "      <td>1</td>\n",
       "      <td>2011</td>\n",
       "      <td>2011-01-01</td>\n",
       "    </tr>\n",
       "    <tr>\n",
       "      <th>3</th>\n",
       "      <td>2011-01-01 03:00:00</td>\n",
       "      <td>13</td>\n",
       "      <td>10</td>\n",
       "      <td>3</td>\n",
       "      <td>0.0</td>\n",
       "      <td>0.0</td>\n",
       "      <td>0.0</td>\n",
       "      <td>9.84</td>\n",
       "      <td>14.395</td>\n",
       "      <td>75.0</td>\n",
       "      <td>0.0000</td>\n",
       "      <td>5</td>\n",
       "      <td>Saturday</td>\n",
       "      <td>Winter</td>\n",
       "      <td>52</td>\n",
       "      <td>3</td>\n",
       "      <td>1</td>\n",
       "      <td>1</td>\n",
       "      <td>2011</td>\n",
       "      <td>2011-01-01</td>\n",
       "    </tr>\n",
       "    <tr>\n",
       "      <th>4</th>\n",
       "      <td>2011-01-01 04:00:00</td>\n",
       "      <td>1</td>\n",
       "      <td>1</td>\n",
       "      <td>0</td>\n",
       "      <td>0.0</td>\n",
       "      <td>0.0</td>\n",
       "      <td>0.0</td>\n",
       "      <td>9.84</td>\n",
       "      <td>14.395</td>\n",
       "      <td>75.0</td>\n",
       "      <td>0.0000</td>\n",
       "      <td>5</td>\n",
       "      <td>Saturday</td>\n",
       "      <td>Winter</td>\n",
       "      <td>52</td>\n",
       "      <td>4</td>\n",
       "      <td>1</td>\n",
       "      <td>1</td>\n",
       "      <td>2011</td>\n",
       "      <td>2011-01-01</td>\n",
       "    </tr>\n",
       "    <tr>\n",
       "      <th>...</th>\n",
       "      <td>...</td>\n",
       "      <td>...</td>\n",
       "      <td>...</td>\n",
       "      <td>...</td>\n",
       "      <td>...</td>\n",
       "      <td>...</td>\n",
       "      <td>...</td>\n",
       "      <td>...</td>\n",
       "      <td>...</td>\n",
       "      <td>...</td>\n",
       "      <td>...</td>\n",
       "      <td>...</td>\n",
       "      <td>...</td>\n",
       "      <td>...</td>\n",
       "      <td>...</td>\n",
       "      <td>...</td>\n",
       "      <td>...</td>\n",
       "      <td>...</td>\n",
       "      <td>...</td>\n",
       "      <td>...</td>\n",
       "    </tr>\n",
       "    <tr>\n",
       "      <th>17539</th>\n",
       "      <td>2012-12-31 19:00:00</td>\n",
       "      <td>306</td>\n",
       "      <td>299</td>\n",
       "      <td>7</td>\n",
       "      <td>0.0</td>\n",
       "      <td>1.0</td>\n",
       "      <td>1.0</td>\n",
       "      <td>10.66</td>\n",
       "      <td>12.880</td>\n",
       "      <td>60.0</td>\n",
       "      <td>11.0014</td>\n",
       "      <td>0</td>\n",
       "      <td>Monday</td>\n",
       "      <td>Winter</td>\n",
       "      <td>1</td>\n",
       "      <td>19</td>\n",
       "      <td>31</td>\n",
       "      <td>12</td>\n",
       "      <td>2012</td>\n",
       "      <td>2012-12-31</td>\n",
       "    </tr>\n",
       "    <tr>\n",
       "      <th>17540</th>\n",
       "      <td>2012-12-31 20:00:00</td>\n",
       "      <td>204</td>\n",
       "      <td>199</td>\n",
       "      <td>5</td>\n",
       "      <td>0.0</td>\n",
       "      <td>1.0</td>\n",
       "      <td>1.0</td>\n",
       "      <td>10.66</td>\n",
       "      <td>12.880</td>\n",
       "      <td>60.0</td>\n",
       "      <td>11.0014</td>\n",
       "      <td>0</td>\n",
       "      <td>Monday</td>\n",
       "      <td>Winter</td>\n",
       "      <td>1</td>\n",
       "      <td>20</td>\n",
       "      <td>31</td>\n",
       "      <td>12</td>\n",
       "      <td>2012</td>\n",
       "      <td>2012-12-31</td>\n",
       "    </tr>\n",
       "    <tr>\n",
       "      <th>17541</th>\n",
       "      <td>2012-12-31 21:00:00</td>\n",
       "      <td>149</td>\n",
       "      <td>146</td>\n",
       "      <td>3</td>\n",
       "      <td>0.0</td>\n",
       "      <td>1.0</td>\n",
       "      <td>0.0</td>\n",
       "      <td>10.66</td>\n",
       "      <td>12.880</td>\n",
       "      <td>60.0</td>\n",
       "      <td>11.0014</td>\n",
       "      <td>0</td>\n",
       "      <td>Monday</td>\n",
       "      <td>Winter</td>\n",
       "      <td>1</td>\n",
       "      <td>21</td>\n",
       "      <td>31</td>\n",
       "      <td>12</td>\n",
       "      <td>2012</td>\n",
       "      <td>2012-12-31</td>\n",
       "    </tr>\n",
       "    <tr>\n",
       "      <th>17542</th>\n",
       "      <td>2012-12-31 22:00:00</td>\n",
       "      <td>114</td>\n",
       "      <td>109</td>\n",
       "      <td>5</td>\n",
       "      <td>0.0</td>\n",
       "      <td>1.0</td>\n",
       "      <td>0.0</td>\n",
       "      <td>10.66</td>\n",
       "      <td>13.635</td>\n",
       "      <td>56.0</td>\n",
       "      <td>8.9981</td>\n",
       "      <td>0</td>\n",
       "      <td>Monday</td>\n",
       "      <td>Winter</td>\n",
       "      <td>1</td>\n",
       "      <td>22</td>\n",
       "      <td>31</td>\n",
       "      <td>12</td>\n",
       "      <td>2012</td>\n",
       "      <td>2012-12-31</td>\n",
       "    </tr>\n",
       "    <tr>\n",
       "      <th>17543</th>\n",
       "      <td>2012-12-31 23:00:00</td>\n",
       "      <td>60</td>\n",
       "      <td>57</td>\n",
       "      <td>3</td>\n",
       "      <td>0.0</td>\n",
       "      <td>1.0</td>\n",
       "      <td>0.0</td>\n",
       "      <td>10.66</td>\n",
       "      <td>13.635</td>\n",
       "      <td>65.0</td>\n",
       "      <td>8.9981</td>\n",
       "      <td>0</td>\n",
       "      <td>Monday</td>\n",
       "      <td>Winter</td>\n",
       "      <td>1</td>\n",
       "      <td>23</td>\n",
       "      <td>31</td>\n",
       "      <td>12</td>\n",
       "      <td>2012</td>\n",
       "      <td>2012-12-31</td>\n",
       "    </tr>\n",
       "  </tbody>\n",
       "</table>\n",
       "<p>17379 rows × 20 columns</p>\n",
       "</div>"
      ],
      "text/plain": [
       "                 datetime  Bookings  registered_customer  \\\n",
       "0     2011-01-01 00:00:00        16                   13   \n",
       "1     2011-01-01 01:00:00        40                   32   \n",
       "2     2011-01-01 02:00:00        32                   27   \n",
       "3     2011-01-01 03:00:00        13                   10   \n",
       "4     2011-01-01 04:00:00         1                    1   \n",
       "...                   ...       ...                  ...   \n",
       "17539 2012-12-31 19:00:00       306                  299   \n",
       "17540 2012-12-31 20:00:00       204                  199   \n",
       "17541 2012-12-31 21:00:00       149                  146   \n",
       "17542 2012-12-31 22:00:00       114                  109   \n",
       "17543 2012-12-31 23:00:00        60                   57   \n",
       "\n",
       "       unregistered_customer  holiday  workingday  weather   temp   atemp  \\\n",
       "0                          3      0.0         0.0      0.0   9.84  14.395   \n",
       "1                          8      0.0         0.0      0.0   9.02  13.635   \n",
       "2                          5      0.0         0.0      0.0   9.02  13.635   \n",
       "3                          3      0.0         0.0      0.0   9.84  14.395   \n",
       "4                          0      0.0         0.0      0.0   9.84  14.395   \n",
       "...                      ...      ...         ...      ...    ...     ...   \n",
       "17539                      7      0.0         1.0      1.0  10.66  12.880   \n",
       "17540                      5      0.0         1.0      1.0  10.66  12.880   \n",
       "17541                      3      0.0         1.0      0.0  10.66  12.880   \n",
       "17542                      5      0.0         1.0      0.0  10.66  13.635   \n",
       "17543                      3      0.0         1.0      0.0  10.66  13.635   \n",
       "\n",
       "       humidity  windspeed  day_of_week   weekday  season  week_of_year  hour  \\\n",
       "0          81.0     0.0000            5  Saturday  Winter            52     0   \n",
       "1          80.0     0.0000            5  Saturday  Winter            52     1   \n",
       "2          80.0     0.0000            5  Saturday  Winter            52     2   \n",
       "3          75.0     0.0000            5  Saturday  Winter            52     3   \n",
       "4          75.0     0.0000            5  Saturday  Winter            52     4   \n",
       "...         ...        ...          ...       ...     ...           ...   ...   \n",
       "17539      60.0    11.0014            0    Monday  Winter             1    19   \n",
       "17540      60.0    11.0014            0    Monday  Winter             1    20   \n",
       "17541      60.0    11.0014            0    Monday  Winter             1    21   \n",
       "17542      56.0     8.9981            0    Monday  Winter             1    22   \n",
       "17543      65.0     8.9981            0    Monday  Winter             1    23   \n",
       "\n",
       "       day  month  year        date  \n",
       "0        1      1  2011  2011-01-01  \n",
       "1        1      1  2011  2011-01-01  \n",
       "2        1      1  2011  2011-01-01  \n",
       "3        1      1  2011  2011-01-01  \n",
       "4        1      1  2011  2011-01-01  \n",
       "...    ...    ...   ...         ...  \n",
       "17539   31     12  2012  2012-12-31  \n",
       "17540   31     12  2012  2012-12-31  \n",
       "17541   31     12  2012  2012-12-31  \n",
       "17542   31     12  2012  2012-12-31  \n",
       "17543   31     12  2012  2012-12-31  \n",
       "\n",
       "[17379 rows x 20 columns]"
      ]
     },
     "execution_count": 24,
     "metadata": {},
     "output_type": "execute_result"
    }
   ],
   "source": [
    "# drop columns where no bookings happend\n",
    "df_hourly = df_hourly[~(df_hourly['Bookings']==0)]\n",
    "df_hourly\n",
    "#df_hourly.fillna(method='ffill',inplace=True)"
   ]
  },
  {
   "cell_type": "code",
   "execution_count": 25,
   "metadata": {},
   "outputs": [],
   "source": [
    "#drop datetime not needed right now()\n",
    "df_hourly = df_hourly.drop(['datetime'],axis=1)"
   ]
  },
  {
   "cell_type": "code",
   "execution_count": 26,
   "metadata": {},
   "outputs": [
    {
     "name": "stdout",
     "output_type": "stream",
     "text": [
      "<class 'pandas.core.frame.DataFrame'>\n",
      "Int64Index: 17379 entries, 0 to 17543\n",
      "Data columns (total 19 columns):\n",
      " #   Column                 Non-Null Count  Dtype  \n",
      "---  ------                 --------------  -----  \n",
      " 0   Bookings               17379 non-null  int64  \n",
      " 1   registered_customer    17379 non-null  int32  \n",
      " 2   unregistered_customer  17379 non-null  int64  \n",
      " 3   holiday                17379 non-null  float64\n",
      " 4   workingday             17379 non-null  float64\n",
      " 5   weather                17379 non-null  float64\n",
      " 6   temp                   17379 non-null  float64\n",
      " 7   atemp                  17379 non-null  float64\n",
      " 8   humidity               17379 non-null  float64\n",
      " 9   windspeed              17379 non-null  float64\n",
      " 10  day_of_week            17379 non-null  int64  \n",
      " 11  weekday                17379 non-null  object \n",
      " 12  season                 17379 non-null  object \n",
      " 13  week_of_year           17379 non-null  UInt32 \n",
      " 14  hour                   17379 non-null  int64  \n",
      " 15  day                    17379 non-null  int64  \n",
      " 16  month                  17379 non-null  int64  \n",
      " 17  year                   17379 non-null  int64  \n",
      " 18  date                   17379 non-null  object \n",
      "dtypes: UInt32(1), float64(7), int32(1), int64(7), object(3)\n",
      "memory usage: 2.5+ MB\n"
     ]
    }
   ],
   "source": [
    "df_hourly.info()"
   ]
  },
  {
   "cell_type": "markdown",
   "metadata": {},
   "source": [
    "### DataFrame erstellen basierend auf täglichen Werten"
   ]
  },
  {
   "cell_type": "code",
   "execution_count": 27,
   "metadata": {},
   "outputs": [
    {
     "data": {
      "text/html": [
       "<div>\n",
       "<style scoped>\n",
       "    .dataframe tbody tr th:only-of-type {\n",
       "        vertical-align: middle;\n",
       "    }\n",
       "\n",
       "    .dataframe tbody tr th {\n",
       "        vertical-align: top;\n",
       "    }\n",
       "\n",
       "    .dataframe thead th {\n",
       "        text-align: right;\n",
       "    }\n",
       "</style>\n",
       "<table border=\"1\" class=\"dataframe\">\n",
       "  <thead>\n",
       "    <tr style=\"text-align: right;\">\n",
       "      <th></th>\n",
       "      <th>datetime</th>\n",
       "      <th>holiday</th>\n",
       "      <th>workingday</th>\n",
       "      <th>weather</th>\n",
       "      <th>temp</th>\n",
       "      <th>atemp</th>\n",
       "      <th>humidity</th>\n",
       "      <th>windspeed</th>\n",
       "      <th>Bookings</th>\n",
       "      <th>registered_customer</th>\n",
       "      <th>unregistered_customer</th>\n",
       "    </tr>\n",
       "  </thead>\n",
       "  <tbody>\n",
       "    <tr>\n",
       "      <th>0</th>\n",
       "      <td>2011-01-01</td>\n",
       "      <td>0.0</td>\n",
       "      <td>0.0</td>\n",
       "      <td>0</td>\n",
       "      <td>16.489909</td>\n",
       "      <td>20.405660</td>\n",
       "      <td>79.678173</td>\n",
       "      <td>16.226271</td>\n",
       "      <td>985</td>\n",
       "      <td>654</td>\n",
       "      <td>331</td>\n",
       "    </tr>\n",
       "    <tr>\n",
       "      <th>1</th>\n",
       "      <td>2011-01-02</td>\n",
       "      <td>0.0</td>\n",
       "      <td>0.0</td>\n",
       "      <td>1</td>\n",
       "      <td>14.415006</td>\n",
       "      <td>16.837996</td>\n",
       "      <td>67.141074</td>\n",
       "      <td>15.875136</td>\n",
       "      <td>801</td>\n",
       "      <td>670</td>\n",
       "      <td>131</td>\n",
       "    </tr>\n",
       "    <tr>\n",
       "      <th>2</th>\n",
       "      <td>2011-01-03</td>\n",
       "      <td>0.0</td>\n",
       "      <td>1.0</td>\n",
       "      <td>0</td>\n",
       "      <td>8.440104</td>\n",
       "      <td>10.139789</td>\n",
       "      <td>40.287620</td>\n",
       "      <td>14.724723</td>\n",
       "      <td>1349</td>\n",
       "      <td>1229</td>\n",
       "      <td>120</td>\n",
       "    </tr>\n",
       "    <tr>\n",
       "      <th>3</th>\n",
       "      <td>2011-01-04</td>\n",
       "      <td>0.0</td>\n",
       "      <td>1.0</td>\n",
       "      <td>0</td>\n",
       "      <td>9.051498</td>\n",
       "      <td>11.263326</td>\n",
       "      <td>56.411012</td>\n",
       "      <td>12.351703</td>\n",
       "      <td>1562</td>\n",
       "      <td>1454</td>\n",
       "      <td>108</td>\n",
       "    </tr>\n",
       "    <tr>\n",
       "      <th>4</th>\n",
       "      <td>2011-01-05</td>\n",
       "      <td>0.0</td>\n",
       "      <td>1.0</td>\n",
       "      <td>0</td>\n",
       "      <td>9.649350</td>\n",
       "      <td>11.463716</td>\n",
       "      <td>38.230000</td>\n",
       "      <td>14.113182</td>\n",
       "      <td>1600</td>\n",
       "      <td>1518</td>\n",
       "      <td>82</td>\n",
       "    </tr>\n",
       "    <tr>\n",
       "      <th>...</th>\n",
       "      <td>...</td>\n",
       "      <td>...</td>\n",
       "      <td>...</td>\n",
       "      <td>...</td>\n",
       "      <td>...</td>\n",
       "      <td>...</td>\n",
       "      <td>...</td>\n",
       "      <td>...</td>\n",
       "      <td>...</td>\n",
       "      <td>...</td>\n",
       "      <td>...</td>\n",
       "    </tr>\n",
       "    <tr>\n",
       "      <th>726</th>\n",
       "      <td>2012-12-27</td>\n",
       "      <td>0.0</td>\n",
       "      <td>1.0</td>\n",
       "      <td>0</td>\n",
       "      <td>10.475495</td>\n",
       "      <td>11.515609</td>\n",
       "      <td>59.472229</td>\n",
       "      <td>22.242182</td>\n",
       "      <td>4231</td>\n",
       "      <td>4024</td>\n",
       "      <td>207</td>\n",
       "    </tr>\n",
       "    <tr>\n",
       "      <th>727</th>\n",
       "      <td>2012-12-28</td>\n",
       "      <td>0.0</td>\n",
       "      <td>1.0</td>\n",
       "      <td>0</td>\n",
       "      <td>10.448490</td>\n",
       "      <td>12.771144</td>\n",
       "      <td>58.453446</td>\n",
       "      <td>10.219380</td>\n",
       "      <td>4629</td>\n",
       "      <td>4381</td>\n",
       "      <td>248</td>\n",
       "    </tr>\n",
       "    <tr>\n",
       "      <th>728</th>\n",
       "      <td>2012-12-29</td>\n",
       "      <td>0.0</td>\n",
       "      <td>0.0</td>\n",
       "      <td>0</td>\n",
       "      <td>10.684172</td>\n",
       "      <td>12.120000</td>\n",
       "      <td>77.426304</td>\n",
       "      <td>7.881757</td>\n",
       "      <td>3087</td>\n",
       "      <td>2777</td>\n",
       "      <td>310</td>\n",
       "    </tr>\n",
       "    <tr>\n",
       "      <th>729</th>\n",
       "      <td>2012-12-30</td>\n",
       "      <td>0.0</td>\n",
       "      <td>0.0</td>\n",
       "      <td>0</td>\n",
       "      <td>10.983624</td>\n",
       "      <td>12.108261</td>\n",
       "      <td>44.246362</td>\n",
       "      <td>24.581467</td>\n",
       "      <td>2886</td>\n",
       "      <td>2440</td>\n",
       "      <td>446</td>\n",
       "    </tr>\n",
       "    <tr>\n",
       "      <th>730</th>\n",
       "      <td>2012-12-31</td>\n",
       "      <td>0.0</td>\n",
       "      <td>1.0</td>\n",
       "      <td>0</td>\n",
       "      <td>9.167559</td>\n",
       "      <td>11.673123</td>\n",
       "      <td>57.093926</td>\n",
       "      <td>9.798979</td>\n",
       "      <td>4429</td>\n",
       "      <td>4203</td>\n",
       "      <td>226</td>\n",
       "    </tr>\n",
       "  </tbody>\n",
       "</table>\n",
       "<p>731 rows × 11 columns</p>\n",
       "</div>"
      ],
      "text/plain": [
       "      datetime  holiday  workingday  weather       temp      atemp   humidity  \\\n",
       "0   2011-01-01      0.0         0.0        0  16.489909  20.405660  79.678173   \n",
       "1   2011-01-02      0.0         0.0        1  14.415006  16.837996  67.141074   \n",
       "2   2011-01-03      0.0         1.0        0   8.440104  10.139789  40.287620   \n",
       "3   2011-01-04      0.0         1.0        0   9.051498  11.263326  56.411012   \n",
       "4   2011-01-05      0.0         1.0        0   9.649350  11.463716  38.230000   \n",
       "..         ...      ...         ...      ...        ...        ...        ...   \n",
       "726 2012-12-27      0.0         1.0        0  10.475495  11.515609  59.472229   \n",
       "727 2012-12-28      0.0         1.0        0  10.448490  12.771144  58.453446   \n",
       "728 2012-12-29      0.0         0.0        0  10.684172  12.120000  77.426304   \n",
       "729 2012-12-30      0.0         0.0        0  10.983624  12.108261  44.246362   \n",
       "730 2012-12-31      0.0         1.0        0   9.167559  11.673123  57.093926   \n",
       "\n",
       "     windspeed  Bookings  registered_customer  unregistered_customer  \n",
       "0    16.226271       985                  654                    331  \n",
       "1    15.875136       801                  670                    131  \n",
       "2    14.724723      1349                 1229                    120  \n",
       "3    12.351703      1562                 1454                    108  \n",
       "4    14.113182      1600                 1518                     82  \n",
       "..         ...       ...                  ...                    ...  \n",
       "726  22.242182      4231                 4024                    207  \n",
       "727  10.219380      4629                 4381                    248  \n",
       "728   7.881757      3087                 2777                    310  \n",
       "729  24.581467      2886                 2440                    446  \n",
       "730   9.798979      4429                 4203                    226  \n",
       "\n",
       "[731 rows x 11 columns]"
      ]
     },
     "execution_count": 27,
     "metadata": {},
     "output_type": "execute_result"
    }
   ],
   "source": [
    "df_day = df.set_index('datetime')\n",
    "df_day.index = pd.to_datetime(df_day.index)\n",
    "df_day_mean = df_day.resample('d').mean()\n",
    "df_day_mean = df_day_mean.drop('registered_customer', axis = 1)\n",
    "df_day_bookings = df_day.resample('d')[['temp', 'registered_customer']].agg({'temp' : 'count', 'registered_customer' : 'sum'})\n",
    "df_day_bookings.columns = ['Bookings', 'registered_customer']\n",
    "df_day = pd.merge(df_day_mean.reset_index(), df_day_bookings.reset_index(), on = 'datetime')\n",
    "df_day['weather'] = df_day['weather'].astype('int')\n",
    "df_day['unregistered_customer'] = df_day.Bookings - df_day.registered_customer\n",
    "df_day"
   ]
  },
  {
   "cell_type": "code",
   "execution_count": 28,
   "metadata": {},
   "outputs": [],
   "source": [
    "# Hinzufügen der Dummy Wetter Attribute\n",
    "df_day = pd.merge(df_day, df_dummy.reset_index(), left_on='datetime', right_on='Datum')"
   ]
  },
  {
   "cell_type": "code",
   "execution_count": 29,
   "metadata": {},
   "outputs": [
    {
     "data": {
      "text/html": [
       "<div>\n",
       "<style scoped>\n",
       "    .dataframe tbody tr th:only-of-type {\n",
       "        vertical-align: middle;\n",
       "    }\n",
       "\n",
       "    .dataframe tbody tr th {\n",
       "        vertical-align: top;\n",
       "    }\n",
       "\n",
       "    .dataframe thead th {\n",
       "        text-align: right;\n",
       "    }\n",
       "</style>\n",
       "<table border=\"1\" class=\"dataframe\">\n",
       "  <thead>\n",
       "    <tr style=\"text-align: right;\">\n",
       "      <th></th>\n",
       "      <th>datetime</th>\n",
       "      <th>holiday</th>\n",
       "      <th>workingday</th>\n",
       "      <th>weather</th>\n",
       "      <th>temp</th>\n",
       "      <th>atemp</th>\n",
       "      <th>humidity</th>\n",
       "      <th>windspeed</th>\n",
       "      <th>Bookings</th>\n",
       "      <th>registered_customer</th>\n",
       "      <th>...</th>\n",
       "      <th>weather_clear, few clouds</th>\n",
       "      <th>weather_cloudy, mist</th>\n",
       "      <th>weather_heavy rain or thunderstorm or snow or ice pallets</th>\n",
       "      <th>weather_light snow or rain or thunderstorm</th>\n",
       "      <th>day_of_week</th>\n",
       "      <th>season</th>\n",
       "      <th>week_of_year</th>\n",
       "      <th>day</th>\n",
       "      <th>month</th>\n",
       "      <th>year</th>\n",
       "    </tr>\n",
       "  </thead>\n",
       "  <tbody>\n",
       "    <tr>\n",
       "      <th>0</th>\n",
       "      <td>2011-01-01</td>\n",
       "      <td>0.0</td>\n",
       "      <td>0.0</td>\n",
       "      <td>0</td>\n",
       "      <td>16.489909</td>\n",
       "      <td>20.405660</td>\n",
       "      <td>79.678173</td>\n",
       "      <td>16.226271</td>\n",
       "      <td>985</td>\n",
       "      <td>654</td>\n",
       "      <td>...</td>\n",
       "      <td>0.0</td>\n",
       "      <td>1.0</td>\n",
       "      <td>0.0</td>\n",
       "      <td>0.0</td>\n",
       "      <td>5</td>\n",
       "      <td>1</td>\n",
       "      <td>52</td>\n",
       "      <td>1</td>\n",
       "      <td>1</td>\n",
       "      <td>2011</td>\n",
       "    </tr>\n",
       "    <tr>\n",
       "      <th>1</th>\n",
       "      <td>2011-01-02</td>\n",
       "      <td>0.0</td>\n",
       "      <td>0.0</td>\n",
       "      <td>1</td>\n",
       "      <td>14.415006</td>\n",
       "      <td>16.837996</td>\n",
       "      <td>67.141074</td>\n",
       "      <td>15.875136</td>\n",
       "      <td>801</td>\n",
       "      <td>670</td>\n",
       "      <td>...</td>\n",
       "      <td>0.0</td>\n",
       "      <td>1.0</td>\n",
       "      <td>0.0</td>\n",
       "      <td>0.0</td>\n",
       "      <td>6</td>\n",
       "      <td>1</td>\n",
       "      <td>52</td>\n",
       "      <td>2</td>\n",
       "      <td>1</td>\n",
       "      <td>2011</td>\n",
       "    </tr>\n",
       "    <tr>\n",
       "      <th>2</th>\n",
       "      <td>2011-01-03</td>\n",
       "      <td>0.0</td>\n",
       "      <td>1.0</td>\n",
       "      <td>0</td>\n",
       "      <td>8.440104</td>\n",
       "      <td>10.139789</td>\n",
       "      <td>40.287620</td>\n",
       "      <td>14.724723</td>\n",
       "      <td>1349</td>\n",
       "      <td>1229</td>\n",
       "      <td>...</td>\n",
       "      <td>1.0</td>\n",
       "      <td>0.0</td>\n",
       "      <td>0.0</td>\n",
       "      <td>0.0</td>\n",
       "      <td>0</td>\n",
       "      <td>1</td>\n",
       "      <td>1</td>\n",
       "      <td>3</td>\n",
       "      <td>1</td>\n",
       "      <td>2011</td>\n",
       "    </tr>\n",
       "    <tr>\n",
       "      <th>3</th>\n",
       "      <td>2011-01-04</td>\n",
       "      <td>0.0</td>\n",
       "      <td>1.0</td>\n",
       "      <td>0</td>\n",
       "      <td>9.051498</td>\n",
       "      <td>11.263326</td>\n",
       "      <td>56.411012</td>\n",
       "      <td>12.351703</td>\n",
       "      <td>1562</td>\n",
       "      <td>1454</td>\n",
       "      <td>...</td>\n",
       "      <td>1.0</td>\n",
       "      <td>0.0</td>\n",
       "      <td>0.0</td>\n",
       "      <td>0.0</td>\n",
       "      <td>1</td>\n",
       "      <td>1</td>\n",
       "      <td>1</td>\n",
       "      <td>4</td>\n",
       "      <td>1</td>\n",
       "      <td>2011</td>\n",
       "    </tr>\n",
       "    <tr>\n",
       "      <th>4</th>\n",
       "      <td>2011-01-05</td>\n",
       "      <td>0.0</td>\n",
       "      <td>1.0</td>\n",
       "      <td>0</td>\n",
       "      <td>9.649350</td>\n",
       "      <td>11.463716</td>\n",
       "      <td>38.230000</td>\n",
       "      <td>14.113182</td>\n",
       "      <td>1600</td>\n",
       "      <td>1518</td>\n",
       "      <td>...</td>\n",
       "      <td>1.0</td>\n",
       "      <td>0.0</td>\n",
       "      <td>0.0</td>\n",
       "      <td>0.0</td>\n",
       "      <td>2</td>\n",
       "      <td>1</td>\n",
       "      <td>1</td>\n",
       "      <td>5</td>\n",
       "      <td>1</td>\n",
       "      <td>2011</td>\n",
       "    </tr>\n",
       "    <tr>\n",
       "      <th>...</th>\n",
       "      <td>...</td>\n",
       "      <td>...</td>\n",
       "      <td>...</td>\n",
       "      <td>...</td>\n",
       "      <td>...</td>\n",
       "      <td>...</td>\n",
       "      <td>...</td>\n",
       "      <td>...</td>\n",
       "      <td>...</td>\n",
       "      <td>...</td>\n",
       "      <td>...</td>\n",
       "      <td>...</td>\n",
       "      <td>...</td>\n",
       "      <td>...</td>\n",
       "      <td>...</td>\n",
       "      <td>...</td>\n",
       "      <td>...</td>\n",
       "      <td>...</td>\n",
       "      <td>...</td>\n",
       "      <td>...</td>\n",
       "      <td>...</td>\n",
       "    </tr>\n",
       "    <tr>\n",
       "      <th>726</th>\n",
       "      <td>2012-12-27</td>\n",
       "      <td>0.0</td>\n",
       "      <td>1.0</td>\n",
       "      <td>0</td>\n",
       "      <td>10.475495</td>\n",
       "      <td>11.515609</td>\n",
       "      <td>59.472229</td>\n",
       "      <td>22.242182</td>\n",
       "      <td>4231</td>\n",
       "      <td>4024</td>\n",
       "      <td>...</td>\n",
       "      <td>1.0</td>\n",
       "      <td>0.0</td>\n",
       "      <td>0.0</td>\n",
       "      <td>0.0</td>\n",
       "      <td>3</td>\n",
       "      <td>1</td>\n",
       "      <td>52</td>\n",
       "      <td>27</td>\n",
       "      <td>12</td>\n",
       "      <td>2012</td>\n",
       "    </tr>\n",
       "    <tr>\n",
       "      <th>727</th>\n",
       "      <td>2012-12-28</td>\n",
       "      <td>0.0</td>\n",
       "      <td>1.0</td>\n",
       "      <td>0</td>\n",
       "      <td>10.448490</td>\n",
       "      <td>12.771144</td>\n",
       "      <td>58.453446</td>\n",
       "      <td>10.219380</td>\n",
       "      <td>4629</td>\n",
       "      <td>4381</td>\n",
       "      <td>...</td>\n",
       "      <td>0.0</td>\n",
       "      <td>1.0</td>\n",
       "      <td>0.0</td>\n",
       "      <td>0.0</td>\n",
       "      <td>4</td>\n",
       "      <td>1</td>\n",
       "      <td>52</td>\n",
       "      <td>28</td>\n",
       "      <td>12</td>\n",
       "      <td>2012</td>\n",
       "    </tr>\n",
       "    <tr>\n",
       "      <th>728</th>\n",
       "      <td>2012-12-29</td>\n",
       "      <td>0.0</td>\n",
       "      <td>0.0</td>\n",
       "      <td>0</td>\n",
       "      <td>10.684172</td>\n",
       "      <td>12.120000</td>\n",
       "      <td>77.426304</td>\n",
       "      <td>7.881757</td>\n",
       "      <td>3087</td>\n",
       "      <td>2777</td>\n",
       "      <td>...</td>\n",
       "      <td>0.0</td>\n",
       "      <td>1.0</td>\n",
       "      <td>0.0</td>\n",
       "      <td>0.0</td>\n",
       "      <td>5</td>\n",
       "      <td>1</td>\n",
       "      <td>52</td>\n",
       "      <td>29</td>\n",
       "      <td>12</td>\n",
       "      <td>2012</td>\n",
       "    </tr>\n",
       "    <tr>\n",
       "      <th>729</th>\n",
       "      <td>2012-12-30</td>\n",
       "      <td>0.0</td>\n",
       "      <td>0.0</td>\n",
       "      <td>0</td>\n",
       "      <td>10.983624</td>\n",
       "      <td>12.108261</td>\n",
       "      <td>44.246362</td>\n",
       "      <td>24.581467</td>\n",
       "      <td>2886</td>\n",
       "      <td>2440</td>\n",
       "      <td>...</td>\n",
       "      <td>1.0</td>\n",
       "      <td>0.0</td>\n",
       "      <td>0.0</td>\n",
       "      <td>0.0</td>\n",
       "      <td>6</td>\n",
       "      <td>1</td>\n",
       "      <td>52</td>\n",
       "      <td>30</td>\n",
       "      <td>12</td>\n",
       "      <td>2012</td>\n",
       "    </tr>\n",
       "    <tr>\n",
       "      <th>730</th>\n",
       "      <td>2012-12-31</td>\n",
       "      <td>0.0</td>\n",
       "      <td>1.0</td>\n",
       "      <td>0</td>\n",
       "      <td>9.167559</td>\n",
       "      <td>11.673123</td>\n",
       "      <td>57.093926</td>\n",
       "      <td>9.798979</td>\n",
       "      <td>4429</td>\n",
       "      <td>4203</td>\n",
       "      <td>...</td>\n",
       "      <td>0.0</td>\n",
       "      <td>1.0</td>\n",
       "      <td>0.0</td>\n",
       "      <td>0.0</td>\n",
       "      <td>0</td>\n",
       "      <td>1</td>\n",
       "      <td>1</td>\n",
       "      <td>31</td>\n",
       "      <td>12</td>\n",
       "      <td>2012</td>\n",
       "    </tr>\n",
       "  </tbody>\n",
       "</table>\n",
       "<p>731 rows × 22 columns</p>\n",
       "</div>"
      ],
      "text/plain": [
       "      datetime  holiday  workingday  weather       temp      atemp   humidity  \\\n",
       "0   2011-01-01      0.0         0.0        0  16.489909  20.405660  79.678173   \n",
       "1   2011-01-02      0.0         0.0        1  14.415006  16.837996  67.141074   \n",
       "2   2011-01-03      0.0         1.0        0   8.440104  10.139789  40.287620   \n",
       "3   2011-01-04      0.0         1.0        0   9.051498  11.263326  56.411012   \n",
       "4   2011-01-05      0.0         1.0        0   9.649350  11.463716  38.230000   \n",
       "..         ...      ...         ...      ...        ...        ...        ...   \n",
       "726 2012-12-27      0.0         1.0        0  10.475495  11.515609  59.472229   \n",
       "727 2012-12-28      0.0         1.0        0  10.448490  12.771144  58.453446   \n",
       "728 2012-12-29      0.0         0.0        0  10.684172  12.120000  77.426304   \n",
       "729 2012-12-30      0.0         0.0        0  10.983624  12.108261  44.246362   \n",
       "730 2012-12-31      0.0         1.0        0   9.167559  11.673123  57.093926   \n",
       "\n",
       "     windspeed  Bookings  registered_customer  ...  weather_clear, few clouds  \\\n",
       "0    16.226271       985                  654  ...                        0.0   \n",
       "1    15.875136       801                  670  ...                        0.0   \n",
       "2    14.724723      1349                 1229  ...                        1.0   \n",
       "3    12.351703      1562                 1454  ...                        1.0   \n",
       "4    14.113182      1600                 1518  ...                        1.0   \n",
       "..         ...       ...                  ...  ...                        ...   \n",
       "726  22.242182      4231                 4024  ...                        1.0   \n",
       "727  10.219380      4629                 4381  ...                        0.0   \n",
       "728   7.881757      3087                 2777  ...                        0.0   \n",
       "729  24.581467      2886                 2440  ...                        1.0   \n",
       "730   9.798979      4429                 4203  ...                        0.0   \n",
       "\n",
       "    weather_cloudy, mist  \\\n",
       "0                    1.0   \n",
       "1                    1.0   \n",
       "2                    0.0   \n",
       "3                    0.0   \n",
       "4                    0.0   \n",
       "..                   ...   \n",
       "726                  0.0   \n",
       "727                  1.0   \n",
       "728                  1.0   \n",
       "729                  0.0   \n",
       "730                  1.0   \n",
       "\n",
       "     weather_heavy rain or thunderstorm or snow or ice pallets  \\\n",
       "0                                                  0.0           \n",
       "1                                                  0.0           \n",
       "2                                                  0.0           \n",
       "3                                                  0.0           \n",
       "4                                                  0.0           \n",
       "..                                                 ...           \n",
       "726                                                0.0           \n",
       "727                                                0.0           \n",
       "728                                                0.0           \n",
       "729                                                0.0           \n",
       "730                                                0.0           \n",
       "\n",
       "     weather_light snow or rain or thunderstorm  day_of_week  season  \\\n",
       "0                                           0.0            5       1   \n",
       "1                                           0.0            6       1   \n",
       "2                                           0.0            0       1   \n",
       "3                                           0.0            1       1   \n",
       "4                                           0.0            2       1   \n",
       "..                                          ...          ...     ...   \n",
       "726                                         0.0            3       1   \n",
       "727                                         0.0            4       1   \n",
       "728                                         0.0            5       1   \n",
       "729                                         0.0            6       1   \n",
       "730                                         0.0            0       1   \n",
       "\n",
       "     week_of_year  day  month  year  \n",
       "0              52    1      1  2011  \n",
       "1              52    2      1  2011  \n",
       "2               1    3      1  2011  \n",
       "3               1    4      1  2011  \n",
       "4               1    5      1  2011  \n",
       "..            ...  ...    ...   ...  \n",
       "726            52   27     12  2012  \n",
       "727            52   28     12  2012  \n",
       "728            52   29     12  2012  \n",
       "729            52   30     12  2012  \n",
       "730             1   31     12  2012  \n",
       "\n",
       "[731 rows x 22 columns]"
      ]
     },
     "execution_count": 29,
     "metadata": {},
     "output_type": "execute_result"
    }
   ],
   "source": [
    "# Zeitwerte werden hinzugefügt\n",
    "df_day['day_of_week'] = df_day['datetime'].dt.dayofweek\n",
    "df_day['season'] =  df_day['datetime'].dt.month%12 // 3 + 1\n",
    "df_day['week_of_year'] =  df_day['datetime'].dt.isocalendar().week\n",
    "df_day['day'] = df_day['datetime'].dt.day\n",
    "df_day['month'] = df_day['datetime'].dt.month\n",
    "df_day['year'] =  df_day['datetime'].dt.year\n",
    "df_day"
   ]
  },
  {
   "cell_type": "code",
   "execution_count": 30,
   "metadata": {},
   "outputs": [],
   "source": [
    "# Beschriftung der Abbildung mit median min max"
   ]
  },
  {
   "cell_type": "markdown",
   "metadata": {},
   "source": [
    "## Buchungen 2011 vs 2012"
   ]
  },
  {
   "cell_type": "code",
   "execution_count": null,
   "metadata": {},
   "outputs": [],
   "source": [
    "df_daily_19 = df_day[df_day['year'] == 2011]\n",
    "df_daily_20 = df_day[df_day['year'] == 2012]\n",
    "df_daily_19.head()"
   ]
  },
  {
   "cell_type": "code",
   "execution_count": null,
   "metadata": {},
   "outputs": [],
   "source": [
    "df_month_19 = df_daily_19[['month','Bookings']].groupby('month').sum()\n",
    "df_month_20 = df_daily_20[['month','Bookings']].groupby('month').sum()"
   ]
  },
  {
   "cell_type": "code",
   "execution_count": null,
   "metadata": {},
   "outputs": [],
   "source": [
    "# Umbennenung Legende und Y-Achse"
   ]
  },
  {
   "cell_type": "code",
   "execution_count": null,
   "metadata": {},
   "outputs": [],
   "source": [
    "fig = px.line(df_month_19.reset_index(), x='month', y=['Bookings',df_month_20['Bookings']], title = 'Vergleich der Buchungen 2011 und 2012 auf Monatsbasis')\n",
    "fig.show()"
   ]
  },
  {
   "cell_type": "markdown",
   "metadata": {},
   "source": [
    "## Histogram Count -> skewed towards right -> Normalisation?"
   ]
  },
  {
   "cell_type": "code",
   "execution_count": null,
   "metadata": {},
   "outputs": [],
   "source": [
    "# px histonorm = 'probability density' \n",
    "# Aussage Diagramm ?"
   ]
  },
  {
   "cell_type": "code",
   "execution_count": null,
   "metadata": {},
   "outputs": [],
   "source": [
    "plt.figure(figsize=(16,8))\n",
    "sns.displot(df_hourly['Bookings'], kde = True)\n",
    "plt.show()\n",
    "# Normalisieren"
   ]
  },
  {
   "cell_type": "markdown",
   "metadata": {},
   "source": [
    "## Analyse der Wetterdaten"
   ]
  },
  {
   "cell_type": "code",
   "execution_count": null,
   "metadata": {},
   "outputs": [],
   "source": [
    "df_year = df.resample('1Y', on='datetime')[['temp','atemp','humidity','windspeed']].agg(['mean','min','max'])\n",
    "df_year.T"
   ]
  },
  {
   "cell_type": "code",
   "execution_count": null,
   "metadata": {},
   "outputs": [],
   "source": [
    "\n",
    "fig = plt.figure(figsize=[12,10])\n",
    "ax1 = fig.add_subplot(2,2,1)\n",
    "ax1 = sns.displot(df.temp,bins=range(int(df.temp.min()),int(df.temp.max())),kde=True)\n",
    "\n",
    "\n",
    "ax2 = fig.add_subplot(2,2,2)\n",
    "ax2 = sns.displot(df.atemp,bins=range(int(df.atemp.min()),int(df.atemp.max())),kde=True)\n",
    "\n",
    "\n",
    "ax3 = fig.add_subplot(2,2,3)\n",
    "ax3 = sns.displot(df.humidity,bins=range(int(df.humidity.min()),int(df.humidity.max())),kde=True)\n",
    "\n",
    "\n",
    "ax4 = fig.add_subplot(2,2,4)\n",
    "ax4 = sns.displot(df.windspeed,bins=range(int(df.windspeed.min()),int(df.windspeed.max())),kde=True)"
   ]
  },
  {
   "cell_type": "code",
   "execution_count": null,
   "metadata": {},
   "outputs": [],
   "source": [
    "df_count = df_hourly['Bookings'].groupby(df_hourly['weather']).mean()\n",
    "df_count"
   ]
  },
  {
   "cell_type": "code",
   "execution_count": null,
   "metadata": {},
   "outputs": [],
   "source": [
    "# Verteilung der Buchung über die einzelnen Wetterkategorien\n",
    "\n",
    "df_weather_cat_sum = df[['datetime','weather']].groupby('weather')['datetime'].count().reset_index(name='Bookings')\n",
    "df_weather_cat_sum['%'] = df_weather_cat_sum['Bookings'] / len(df) * 100\n",
    "df_weather_cat_sum['weather_name'] = df_weather_cat_sum['weather'].map({0:'clear, few clouds',1:'cloudy, mist',2:'light snow or rain or thunderstorm',3:'heavy rain or thunderstorm or snow or ice pallets'})\n",
    "df_weather_cat_sum"
   ]
  },
  {
   "cell_type": "code",
   "execution_count": null,
   "metadata": {},
   "outputs": [],
   "source": [
    "df_day.head()"
   ]
  },
  {
   "cell_type": "code",
   "execution_count": null,
   "metadata": {},
   "outputs": [],
   "source": [
    "# Nur 3 Stunden im Jahr bei denen es stark regnet oder stürmt\n",
    "df_w_2 = df_hourly[df_hourly['weather'] == 3]\n",
    "df_w_2"
   ]
  },
  {
   "cell_type": "code",
   "execution_count": null,
   "metadata": {},
   "outputs": [],
   "source": [
    "fig = plt.figure(figsize=[12,10])\n",
    "ax1 = fig.add_subplot(2,1,1)\n",
    "ax1 = sns.pointplot(x='month',y='Bookings',hue='weather',data=df_hourly.groupby(['weather','month'])['Bookings'].mean().reset_index())"
   ]
  },
  {
   "cell_type": "code",
   "execution_count": null,
   "metadata": {},
   "outputs": [],
   "source": [
    "fig,(ax1,ax2,ax3,ax4) = plt.subplots(ncols=4)\n",
    "fig.set_size_inches(12, 5)\n",
    "sns.regplot(x=\"temp\", y=\"Bookings\", data=df_day,ax=ax1)\n",
    "sns.regplot(x=\"atemp\", y=\"Bookings\", data=df_day,ax=ax2)\n",
    "sns.regplot(x=\"windspeed\", y=\"Bookings\", data=df_day,ax=ax3)\n",
    "sns.regplot(x=\"humidity\", y=\"Bookings\", data=df_day,ax=ax4)"
   ]
  },
  {
   "cell_type": "code",
   "execution_count": null,
   "metadata": {},
   "outputs": [],
   "source": [
    "df_temp = df_hourly.copy()\n",
    "df_temp.reset_index(inplace=True)\n",
    "df_temp['bin_temp'] = pd.cut(df_temp['temp'], [0, 5,10,15,20,25,30,35,40,45])\n",
    "plt.figure(figsize=(8,4))\n",
    "ax = sns.barplot(x=\"bin_temp\", y=\"Bookings\", data=df_temp,\n",
    "                 palette=\"flare\")\n",
    "ax.set(xlabel='Temperatur in °C', ylabel='Anzahl der Buchungen', title='Übersicht Anzahl der Buchungen je Temperatur')"
   ]
  },
  {
   "cell_type": "code",
   "execution_count": null,
   "metadata": {},
   "outputs": [],
   "source": [
    "df_temp[df_temp['temp'] >= 40]"
   ]
  },
  {
   "cell_type": "markdown",
   "metadata": {},
   "source": [
    "### Wetterdatenauswertung auf die einzelnen Jahre bezogen"
   ]
  },
  {
   "cell_type": "markdown",
   "metadata": {},
   "source": [
    "# Registrierte vs nicht registrierte User"
   ]
  },
  {
   "cell_type": "code",
   "execution_count": null,
   "metadata": {},
   "outputs": [],
   "source": [
    "# Customers overall\n",
    "sum_of_cust = df['registered_customer'].count()\n",
    "sum_of_cust"
   ]
  },
  {
   "cell_type": "code",
   "execution_count": null,
   "metadata": {},
   "outputs": [],
   "source": [
    "# Overview\n",
    "df.registered_customer.value_counts()"
   ]
  },
  {
   "cell_type": "code",
   "execution_count": null,
   "metadata": {},
   "outputs": [],
   "source": [
    "# Number of registered customers\n",
    "number_reg_cust = df.registered_customer[df.registered_customer==True].count()\n",
    "number_reg_cust"
   ]
  },
  {
   "cell_type": "code",
   "execution_count": null,
   "metadata": {},
   "outputs": [],
   "source": [
    "# Number of not registered customers\n",
    "number_N_reg_cust = df.registered_customer[df.registered_customer==False].count()\n",
    "number_N_reg_cust"
   ]
  },
  {
   "cell_type": "code",
   "execution_count": null,
   "metadata": {},
   "outputs": [],
   "source": [
    "# Ratio registered to all customers\n",
    "ratio_reg_cust = number_reg_cust / sum_of_cust\n",
    "ratio_reg_cust"
   ]
  },
  {
   "cell_type": "code",
   "execution_count": null,
   "metadata": {},
   "outputs": [],
   "source": [
    "\n",
    "# Ratio not registered to all customers\n",
    "ratio_N_reg_cust = number_N_reg_cust / sum_of_cust\n",
    "ratio_N_reg_cust"
   ]
  },
  {
   "cell_type": "code",
   "execution_count": null,
   "metadata": {},
   "outputs": [],
   "source": [
    "# daily overview registered_customer\n",
    "df_registered = df_day[['Bookings', 'registered_customer']]\n",
    "df_registered"
   ]
  },
  {
   "cell_type": "code",
   "execution_count": null,
   "metadata": {},
   "outputs": [],
   "source": [
    "# calculation registration_rate per day\n",
    "df_customers_d = df_registered.copy()\n",
    "df_customers_d['unregistered_customers'] = df_day['Bookings']-df_day['registered_customer']\n",
    "df_customers_d['registration_rate'] = df_day['registered_customer'] / df_customers_d['Bookings']\n",
    "df_customers_d"
   ]
  },
  {
   "cell_type": "code",
   "execution_count": null,
   "metadata": {},
   "outputs": [],
   "source": [
    "# monthly overview registered_customer\n",
    "df_month = df_day.groupby(['year','month'])[['Bookings', 'registered_customer']].agg({'Bookings':'sum','registered_customer':'sum'}).reset_index()\n",
    "df_month.sort_values(['year', 'month'], ascending=True)"
   ]
  },
  {
   "cell_type": "code",
   "execution_count": null,
   "metadata": {},
   "outputs": [],
   "source": [
    "# calculation registration_rate per month\n",
    "df_customers_m = df_month.copy()\n",
    "df_customers_m['unregistered_customers'] = df_month['Bookings']-df_month['registered_customer']\n",
    "df_customers_m['registration_rate'] = df_month['registered_customer'] / df_customers_m['Bookings']\n",
    "df_customers_m"
   ]
  },
  {
   "cell_type": "code",
   "execution_count": null,
   "metadata": {},
   "outputs": [],
   "source": [
    "# quarter overview registered_customer\n",
    "df_season = df_day.groupby(['year','season'])[['Bookings', 'registered_customer']].agg({'Bookings':'sum','registered_customer':'sum'}).reset_index()\n",
    "df_season.sort_values(['year', 'season'], ascending=True)"
   ]
  },
  {
   "cell_type": "code",
   "execution_count": null,
   "metadata": {},
   "outputs": [],
   "source": [
    "df_customers_q = df_season.copy()\n",
    "df_customers_q['unregistered_customers'] = df_season['Bookings']-df_season['registered_customer']\n",
    "df_customers_q['registration_rate'] = df_season['registered_customer'] / df_customers_q['Bookings']\n",
    "df_customers_q"
   ]
  },
  {
   "cell_type": "code",
   "execution_count": null,
   "metadata": {},
   "outputs": [],
   "source": [
    "# year overview registered_customer\n",
    "df_year = df_day.groupby(['year'])[['Bookings', 'registered_customer']].agg({'Bookings':'sum','registered_customer':'sum'}).reset_index()\n",
    "df_year"
   ]
  },
  {
   "cell_type": "code",
   "execution_count": null,
   "metadata": {},
   "outputs": [],
   "source": [
    "df_customers_y = df_year.copy()\n",
    "df_customers_y['unregistered_customers'] = df_year['Bookings']-df_year['registered_customer']\n",
    "df_customers_y['registration_rate'] = df_year['registered_customer'] / df_customers_y['Bookings']\n",
    "df_customers_y"
   ]
  },
  {
   "cell_type": "code",
   "execution_count": null,
   "metadata": {},
   "outputs": [],
   "source": [
    "df_holiday = df_day.groupby(['year', 'holiday'])[['Bookings', 'registered_customer']].agg({'Bookings':'sum','registered_customer':'sum'}).reset_index()\n",
    "df_holiday"
   ]
  },
  {
   "cell_type": "code",
   "execution_count": null,
   "metadata": {},
   "outputs": [],
   "source": [
    "# calculation registration_rate holiday\n",
    "df_customers_h = df_holiday.copy()\n",
    "df_customers_h['unregistered_customers'] = df_holiday['Bookings']-df_holiday['registered_customer']\n",
    "df_customers_h['registration_rate'] = df_holiday['registered_customer'] / df_customers_h['Bookings']\n",
    "df_customers_h"
   ]
  },
  {
   "cell_type": "code",
   "execution_count": null,
   "metadata": {},
   "outputs": [],
   "source": [
    "df_workingday = df_day.groupby(['year', 'workingday'])[['Bookings', 'registered_customer']].agg({'Bookings':'sum','registered_customer':'sum'}).reset_index()\n",
    "df_workingday"
   ]
  },
  {
   "cell_type": "code",
   "execution_count": null,
   "metadata": {},
   "outputs": [],
   "source": [
    "# calculation registration_rate workingday\n",
    "df_customers_w = df_workingday.copy()\n",
    "df_customers_w['unregistered_customers'] = df_workingday['Bookings']-df_workingday['registered_customer']\n",
    "df_customers_w['registration_rate'] = df_workingday['registered_customer'] / df_customers_w['Bookings']\n",
    "df_customers_w"
   ]
  },
  {
   "cell_type": "code",
   "execution_count": null,
   "metadata": {},
   "outputs": [],
   "source": [
    "df"
   ]
  },
  {
   "cell_type": "code",
   "execution_count": null,
   "metadata": {},
   "outputs": [],
   "source": [
    "df['Jahr'] = df.datetime.dt.year"
   ]
  },
  {
   "cell_type": "code",
   "execution_count": null,
   "metadata": {},
   "outputs": [],
   "source": [
    "pd.crosstab(df['Jahr'], df['registered_customer'], margins=True, normalize=True)"
   ]
  },
  {
   "cell_type": "code",
   "execution_count": null,
   "metadata": {},
   "outputs": [],
   "source": [
    "sns.countplot(data=df, x='registered_customer')"
   ]
  },
  {
   "cell_type": "code",
   "execution_count": null,
   "metadata": {},
   "outputs": [],
   "source": [
    "df['tag'] = df.datetime.dt.day_name()\n",
    "px.histogram(df, x='tag', histnorm='probability density', color='registered_customer')"
   ]
  },
  {
   "cell_type": "code",
   "execution_count": null,
   "metadata": {},
   "outputs": [],
   "source": [
    "df_hourly.groupby(['workingday', 'hour'])[['Bookings']].sum().reset_index()"
   ]
  },
  {
   "cell_type": "code",
   "execution_count": null,
   "metadata": {},
   "outputs": [],
   "source": [
    "df_hourly"
   ]
  },
  {
   "cell_type": "code",
   "execution_count": null,
   "metadata": {},
   "outputs": [],
   "source": [
    "df_hourly.groupby(['day_of_week', 'hour'])[['Bookings']].mean().reset_index()"
   ]
  },
  {
   "cell_type": "code",
   "execution_count": null,
   "metadata": {},
   "outputs": [],
   "source": [
    "df_hourly.groupby(['day_of_week', 'hour'])[['Bookings']].mean().reset_index()"
   ]
  },
  {
   "cell_type": "markdown",
   "metadata": {},
   "source": [
    "## Analysen"
   ]
  },
  {
   "cell_type": "code",
   "execution_count": null,
   "metadata": {},
   "outputs": [],
   "source": [
    "# Plots of average count across hour in a day for various categories\n",
    "\n",
    "f, axes = plt.subplots(nrows=2, ncols=1, figsize=(15, 18))\n",
    "group_work_hour = df_hourly.groupby(['workingday', 'hour'])[['Bookings']].mean().reset_index()\n",
    "sns.pointplot(data=group_work_hour, x='hour', y='Bookings', hue='workingday', ax=axes[0], legend=True)\n",
    "handles, _ = axes[0].get_legend_handles_labels()\n",
    "axes[0].legend(handles, ['Kein Arbeitstag', 'Arbeitstag'])\n",
    "axes[0].set(xlabel='Stunde des Tages', ylabel='Durchschnittliche Bookings', title='Durchschnittliche Bookings pro Stunde abhängig vom Arbeitstag')\n",
    "\n",
    "hue_order= ['Monday', 'Tuesday', 'Wednesday', 'Thursday', 'Friday', 'Saturday', 'Sunday']\n",
    "group_day_hour = df_hourly.groupby(['weekday', 'hour'])[['Bookings']].mean().reset_index()\n",
    "sns.pointplot(data=group_day_hour, x='hour', y='Bookings', hue='weekday', ax=axes[1], hue_order=hue_order)\n",
    "axes[1].set(xlabel='Stunde des Tages', ylabel='Durchschnittliche Bookings', title='Durchschnittliche Bookings pro Stunde abhängig vom Wochentag')\n",
    "\n",
    "\n",
    "plt.show()"
   ]
  },
  {
   "cell_type": "code",
   "execution_count": null,
   "metadata": {},
   "outputs": [],
   "source": [
    "group_work_hour"
   ]
  },
  {
   "cell_type": "code",
   "execution_count": null,
   "metadata": {},
   "outputs": [],
   "source": [
    "df_viz_h = df.groupby(['hour', 'registered_customer'], as_index=False)[['temp']].count()\n",
    "df_viz_h.columns = ['hour', 'registered_customer', 'Bookings']\n",
    "df_viz_h.head()"
   ]
  },
  {
   "cell_type": "code",
   "execution_count": null,
   "metadata": {},
   "outputs": [],
   "source": [
    "# Daily driving profile registered customers vs. not registered customers\n",
    "fig_h = px.line(df_viz_h, x='hour', y='Bookings', color='registered_customer', title=\" Nutzung registrierte vs. nicht registrierte Kunden auf Stundenbasis\")\n",
    "fig_h.show()"
   ]
  },
  {
   "cell_type": "code",
   "execution_count": null,
   "metadata": {},
   "outputs": [],
   "source": [
    "df['kalenderwoche'] = df.datetime.dt.isocalendar().week\n",
    "df_viz_cw2 = df.groupby(['Jahr','kalenderwoche', 'registered_customer'], as_index=False)[['temp']].count()\n",
    "df_viz_cw2.columns = ['Jahr','kalenderwoche', 'registered_customer', 'Bookings']\n",
    "df_viz_cw2.head()"
   ]
  },
  {
   "cell_type": "code",
   "execution_count": null,
   "metadata": {},
   "outputs": [],
   "source": [
    "df_viz_cw2['cw_year'] = df_viz_cw2['kalenderwoche'].astype(str) + ' / ' + df_viz_cw2['Jahr'].astype(str)\n",
    "df_viz_cw2 = df_viz_cw2.sort_values(['Jahr','kalenderwoche'], ascending=True).reset_index(drop=True)\n",
    "df_viz_cw2.head()"
   ]
  },
  {
   "cell_type": "code",
   "execution_count": null,
   "metadata": {},
   "outputs": [],
   "source": [
    "fig_cw2 = px.line(df_viz_cw2, x='cw_year',y='Bookings', color='registered_customer', title=\" Nutzung registrierte vs. nicht registrierte Kunden pro Kalenderwoche\")\n",
    "fig_cw2.show()\n",
    "# zu sehen, dass inbesondere bei den Ferientagen ein Einbruch registrierter Kunden stattfindet"
   ]
  },
  {
   "cell_type": "code",
   "execution_count": null,
   "metadata": {},
   "outputs": [],
   "source": [
    "# workaround um Wochentage in richtige Reihenfolge zu haben\n",
    "sorter = ['Monday', 'Tuesday', 'Wednesday', 'Thursday', 'Friday', 'Saturday', 'Sunday']\n",
    "sorterIndex = dict(zip(sorter,range(len(sorter))))\n",
    "sorterIndex"
   ]
  },
  {
   "cell_type": "code",
   "execution_count": null,
   "metadata": {},
   "outputs": [],
   "source": [
    "df['day_id'] = df.index\n",
    "df['day_id'] = df['tag'].map(sorterIndex)\n",
    "df"
   ]
  },
  {
   "cell_type": "code",
   "execution_count": null,
   "metadata": {},
   "outputs": [],
   "source": [
    "# Anzeige nach Wochentag über Season, Betrachtung saisonaler Einflüsse\n",
    "season_dict = { 1 : \"Winter\", 2 : \"Spring\", 3 : \"Summer\", 4 :\"Autumn\"}\n",
    "df[\"season\"] = df[\"datetime\"].dt.month % 12 // 3 + 1\n",
    "df[\"season\"] =  df[\"season\"].map(season_dict)\n",
    "df_viz_day_season = df.groupby(['season','tag', 'day_id', 'registered_customer'], as_index=False)[['temp']].count()\n",
    "df_viz_day_season.columns = ['season','tag', 'day_id', 'registered_customer', 'Bookings']\n",
    "df_viz_day_season.head()"
   ]
  },
  {
   "cell_type": "code",
   "execution_count": null,
   "metadata": {},
   "outputs": [],
   "source": [
    "df_viz_day_season['day_season'] = df_viz_day_season['tag'].astype(str) + ' / ' + df_viz_day_season['season'].astype(str)\n",
    "df_viz_day_season = df_viz_day_season.sort_values(['season','day_id'], ascending=True).reset_index(drop=True)\n",
    "df_viz_day_season.head()"
   ]
  },
  {
   "cell_type": "code",
   "execution_count": null,
   "metadata": {},
   "outputs": [],
   "source": [
    "fig_day_season = px.line(df_viz_day_season, x='day_season',y='Bookings', color='registered_customer', title=\" Nutzung registrierte vs. nicht registrierte Kunden pro Wochentag je Jahreszeit\")\n",
    "fig_day_season.show()\n",
    "# bei registrierten Nutzern sind im Winter und Frühling insbesondere Mittwochs stärkere Rückgänge zu sehen"
   ]
  },
  {
   "cell_type": "markdown",
   "metadata": {},
   "source": [
    "## Analyse der bedingten Häufigkeiten\n",
    "# Analyse mittels dem chi2 Test\n"
   ]
  },
  {
   "cell_type": "code",
   "execution_count": null,
   "metadata": {},
   "outputs": [],
   "source": [
    "from scipy.stats import chi2_contingency\n",
    "from scipy.stats import chi2\n"
   ]
  },
  {
   "cell_type": "markdown",
   "metadata": {},
   "source": [
    "### Abhängigkeit zwischen Jahr und Registered_customer\n"
   ]
  },
  {
   "cell_type": "code",
   "execution_count": null,
   "metadata": {},
   "outputs": [],
   "source": [
    "df_k = df.copy()\n",
    "df_k['Hour'] = df_k.datetime.dt.hour\n",
    "df_k['Jahr'] = df_k.datetime.dt.year\n",
    "table = pd.crosstab(df_k['registered_customer'], df_k['Jahr'])\n",
    "table\n"
   ]
  },
  {
   "cell_type": "code",
   "execution_count": null,
   "metadata": {},
   "outputs": [],
   "source": [
    "rel = pd.crosstab(df_k['registered_customer'], df_k['Jahr'], margins=True, normalize=True).round(2)\n",
    "rel\n"
   ]
  },
  {
   "cell_type": "code",
   "execution_count": null,
   "metadata": {},
   "outputs": [],
   "source": [
    "ch2, p, dof, expected = chi2_contingency(table)\n",
    "# Interpretation des Ergebnisses\n",
    "alpha = 0.05 # Standard level for \"significant\"\n",
    "prob = 1-alpha\n",
    "critical = chi2.ppf(prob, dof) # liefert das <prob>-Quantil der chi2-Verteilung mit <dof> Freiheitsgraden\n",
    "print(f'Bei einer Signifikanz von alpha={alpha}, ist die Testentscheidung:')\n",
    "if ch2 >= critical:\n",
    "\tprint(f'Abhängig (H0 kann wiederlegt werden)')\n",
    "else:\n",
    "\tprint('Unabhängig (fail to reject H0)')\n"
   ]
  },
  {
   "cell_type": "code",
   "execution_count": null,
   "metadata": {},
   "outputs": [],
   "source": [
    "# Jahr 2011 oder 2012\n",
    "# Registered_customer : 1 = Benutzer ist registiert\n",
    "#                       0 = Benutzer ist nicht registriert\n",
    "P2019_1 = rel.reset_index().iloc[1][2011]\n",
    "P2019 = rel.reset_index().iloc[2][2011]\n",
    "P1bed2019 =  P2019_1 / P2019\n",
    "P2020_1 = rel.reset_index().iloc[1][2012]\n",
    "P2020 = rel.reset_index().iloc[2][2012]\n",
    "P1bed2020 =  P2020_1 / P2020\n",
    "print(f'Wahrscheinlichkeit für P(1|2011) = {P1bed2019}')\n",
    "print(f'Wahrscheinlichkeit für P(1|2012) = {P1bed2020}')\n"
   ]
  },
  {
   "cell_type": "markdown",
   "metadata": {},
   "source": [
    "Da die bedingte Wahrscheinlichkeit bei einem Zufallsexperiment eine registrierte Person zu ziehen ist abhängig von dem Jahr. Unter der Bedingung, dass das Jahr bekannt ist verändert sich die Wahrscheinlichkeit. Außerdem kann hier erkannt werden, dass die Wahrscheinlichkeit für eine registrierte Person 2012 höher ist als 2011. \n"
   ]
  },
  {
   "cell_type": "markdown",
   "metadata": {},
   "source": [
    "### Abhängigkeit zwischen registered_customer und weather\n"
   ]
  },
  {
   "cell_type": "code",
   "execution_count": null,
   "metadata": {},
   "outputs": [],
   "source": [
    "table = pd.crosstab(df_k['registered_customer'], df_k['weather'])\n",
    "table\n"
   ]
  },
  {
   "cell_type": "code",
   "execution_count": null,
   "metadata": {},
   "outputs": [],
   "source": [
    "rel = pd.crosstab(df_k['registered_customer'], df_k['weather'], margins=True, normalize=True)\n",
    "rel\n"
   ]
  },
  {
   "cell_type": "code",
   "execution_count": null,
   "metadata": {},
   "outputs": [],
   "source": [
    "ch2, p, dof, expected = chi2_contingency(table)\n",
    "# Interpretation des Ergebnisses\n",
    "alpha = 0.05 # Standard level for \"significant\"\n",
    "prob = 1-alpha\n",
    "critical = chi2.ppf(prob, dof) # liefert das <prob>-Quantil der chi2-Verteilung mit <dof> Freiheitsgraden\n",
    "print(f'Bei einer Signifikanz von alpha={alpha}, ist die Testentscheidung:')\n",
    "if ch2 >= critical:\n",
    "\tprint(f'Abhängig (H0 kann wiederlegt werden)')\n",
    "else:\n",
    "\tprint('Unabhängig (fail to reject H0)')\n"
   ]
  },
  {
   "cell_type": "code",
   "execution_count": null,
   "metadata": {},
   "outputs": [],
   "source": [
    "# Weather : 1=clear, 2=cloudy, 3=snow, 4=heavy_rain\n",
    "# Registered_customer : 1 = Benutzer ist registiert\n",
    "#                       0 = Benutzer ist nicht registriert\n",
    "Pclear_1 = rel.reset_index().iloc[1][0]\n",
    "Pclear = rel.reset_index().iloc[2][0]\n",
    "P1bedclear =  Pclear_1 / Pclear\n",
    "Pcloudy_1 = rel.reset_index().iloc[1][1]\n",
    "Pcloudy = rel.reset_index().iloc[2][1]\n",
    "P1bedcloudy =  Pcloudy_1 / Pcloudy\n",
    "Pheavy_1 = rel.reset_index().iloc[1][3]\n",
    "Pheavy = rel.reset_index().iloc[2][3]\n",
    "P1bedheavy =  Pheavy_1 / Pheavy\n",
    "Psnow_1 = rel.reset_index().iloc[1][2]\n",
    "Psnow = rel.reset_index().iloc[2][2]\n",
    "P1bedsnow =  Psnow_1 / Psnow\n",
    "\n",
    "print(f'Wahrscheinlichkeit für P(1|clear) = {P1bedclear}')\n",
    "print(f'Wahrscheinlichkeit für P(1|cloudy) = {P1bedcloudy}')\n",
    "print(f'Wahrscheinlichkeit für P(1|heavy) = {P1bedheavy}')\n",
    "print(f'Wahrscheinlichkeit für P(1|snow) = {P1bedsnow}')\n"
   ]
  },
  {
   "cell_type": "markdown",
   "metadata": {},
   "source": [
    "Hier kann erkannt werden, dass gerade bei schlechtem Wetter die Wahrscheinlichkeit für eine registrierte Person steigt, beispielsweise sind bei der Wetterkategorie 'heavy rain or thunderstorm or snow or ice pallets' 96.25% der Kunden registriert.\n"
   ]
  },
  {
   "cell_type": "markdown",
   "metadata": {},
   "source": [
    "### Abhängigkeit zwischen registered_customer und workingday\n"
   ]
  },
  {
   "cell_type": "code",
   "execution_count": null,
   "metadata": {},
   "outputs": [],
   "source": [
    "table = pd.crosstab(df_k['registered_customer'], df_k['workingday'])\n",
    "table\n"
   ]
  },
  {
   "cell_type": "code",
   "execution_count": null,
   "metadata": {},
   "outputs": [],
   "source": [
    "rel = pd.crosstab(df_k['registered_customer'], df_k['workingday'], margins=True, normalize=True)\n",
    "rel\n"
   ]
  },
  {
   "cell_type": "code",
   "execution_count": null,
   "metadata": {},
   "outputs": [],
   "source": [
    "ch2, p, dof, expected = chi2_contingency(table)\n",
    "# Interpretation des Ergebnisses\n",
    "alpha = 0.05 # Standard level for \"significant\"\n",
    "prob = 1-alpha\n",
    "critical = chi2.ppf(prob, dof) # liefert das <prob>-Quantil der chi2-Verteilung mit <dof> Freiheitsgraden\n",
    "print(f'Bei einer Signifikanz von alpha={alpha}, ist die Testentscheidung:')\n",
    "if ch2 >= critical:\n",
    "\tprint(f'Abhängig (H0 kann wiederlegt werden)')\n",
    "else:\n",
    "\tprint('Unabhängig (H0 kann nicht wiederlegt werden)')\n"
   ]
  },
  {
   "cell_type": "code",
   "execution_count": null,
   "metadata": {},
   "outputs": [],
   "source": [
    "# Workingday : y / n\n",
    "# Registered_customer : 1 = Benutzer ist registiert\n",
    "#                       0 = Benutzer ist nicht registriert\n",
    "Pn_1 = rel.reset_index().iloc[1][0]\n",
    "Pn = rel.reset_index().iloc[2][0]\n",
    "P1bedn =  Pn_1 / Pn\n",
    "Py_1 = rel.reset_index().iloc[1][1]\n",
    "Py = rel.reset_index().iloc[2][1]\n",
    "P1bedy =  Py_1 / Py\n",
    "\n",
    "\n",
    "print(f'Wahrscheinlichkeit für P(1|no) = {P1bedn}')\n",
    "print(f'Wahrscheinlichkeit für P(1|yes) = {P1bedy}')\n"
   ]
  },
  {
   "cell_type": "markdown",
   "metadata": {},
   "source": [
    "Unter der Bedingung, dass es kein Arbeitstag ist, sinkt auch die Wahrscheinlichkeit für die registrierten Kunden, da nurnoch 68.7% der Kunden registriert sind. Prüft man wiederum in einem Zufallsexperiment an einem Arbeitstag ob es sich um einen registrierten Kunden handelt, so steigt die Wahrscheinlichkeit, das es sich um einen Registrierten Kunden handelt auf 86.9%. \n"
   ]
  },
  {
   "cell_type": "code",
   "execution_count": null,
   "metadata": {},
   "outputs": [],
   "source": [
    "### Abhängigkeit zwischen registered_customer und holiday\n",
    "table = pd.crosstab(df_k['registered_customer'], df_k['holiday'])\n",
    "table\n",
    "rel = pd.crosstab(df_k['registered_customer'], df_k['holiday'], margins=True, normalize=True)\n",
    "rel\n",
    "ch2, p, dof, expected = chi2_contingency(table)\n",
    "# Interpretation des Ergebnisses\n",
    "alpha = 0.05 # Standard level for \"significant\"\n",
    "prob = 1-alpha\n",
    "critical = chi2.ppf(prob, dof) # liefert das <prob>-Quantil der chi2-Verteilung mit <dof> Freiheitsgraden\n",
    "print(f'Bei einer Signifikanz von alpha={alpha}, ist die Testentscheidung:')\n",
    "if ch2 >= critical:\n",
    "\tprint(f'Abhängig (H0 kann wiederlegt werden)')\n",
    "else:\n",
    "\tprint('Unabhängig (H0 kann nicht wiederlegt werden)')\n"
   ]
  },
  {
   "cell_type": "code",
   "execution_count": null,
   "metadata": {},
   "outputs": [],
   "source": [
    "# Holiday : y / n\n",
    "# Registered_customer : 1 = Benutzer ist registiert\n",
    "#                       0 = Benutzer ist nicht registriert\n",
    "Pn_1 = rel.reset_index().iloc[1][0]\n",
    "Pn = rel.reset_index().iloc[2][0]\n",
    "P1bedn =  Pn_1 / Pn\n",
    "Py_1 = rel.reset_index().iloc[1][1]\n",
    "Py = rel.reset_index().iloc[2][1]\n",
    "P1bedy =  Py_1 / Py\n",
    "\n",
    "\n",
    "print(f'Wahrscheinlichkeit für P(1|no) = {P1bedn}')\n",
    "print(f'Wahrscheinlichkeit für P(1|yes) = {P1bedy}')\n"
   ]
  },
  {
   "cell_type": "markdown",
   "metadata": {},
   "source": [
    "Die Wahrscheinlichkeit bei einem Zufallexperiment für eine Person welche registriert ist, ist an einem Tag an dem keine Ferien ist 81.47% und damit größer als an einem Tag an dem Ferien sind, da hier die Wahrscheinlichkeit nur 74.5% beträgt.\n"
   ]
  },
  {
   "cell_type": "markdown",
   "metadata": {},
   "source": [
    "### Abhängigkeit zwischen workingday und weather \n"
   ]
  },
  {
   "cell_type": "code",
   "execution_count": null,
   "metadata": {},
   "outputs": [],
   "source": [
    "table = pd.crosstab(df_k['workingday'], df_k['weather'])\n",
    "table\n"
   ]
  },
  {
   "cell_type": "code",
   "execution_count": null,
   "metadata": {},
   "outputs": [],
   "source": [
    "rel = pd.crosstab(df_k['workingday'], df_k['weather'], margins=True, normalize=True)\n",
    "rel\n"
   ]
  },
  {
   "cell_type": "code",
   "execution_count": null,
   "metadata": {},
   "outputs": [],
   "source": [
    "ch2, p, dof, expected = chi2_contingency(table)\n",
    "# Interpretation des Ergebnisses\n",
    "alpha = 0.05 # Standard level for \"significant\"\n",
    "prob = 1-alpha\n",
    "critical = chi2.ppf(prob, dof) # liefert das <prob>-Quantil der chi2-Verteilung mit <dof> Freiheitsgraden\n",
    "print(f'Bei einer Signifikanz von alpha={alpha}, ist die Testentscheidung:')\n",
    "if ch2 >= critical:\n",
    "\tprint(f'Abhängig (H0 kann wiederlegt werden)')\n",
    "else:\n",
    "\tprint('Unabhängig (H0 kann nicht wiederlegt werden)')\n"
   ]
  },
  {
   "cell_type": "code",
   "execution_count": null,
   "metadata": {},
   "outputs": [],
   "source": [
    "# Weather : clear, cloudy, heavy_rain, snow\n",
    "# Workingday :          1 = Tag ist ein Arbeitstag\n",
    "#                       0 = Tag ist kein Arbeitstag\n",
    "Pclear_1 = rel.reset_index().iloc[1][0]\n",
    "Pclear = rel.reset_index().iloc[2][0]\n",
    "P1bedclear =  Pclear_1 / Pclear\n",
    "Pcloudy_1 = rel.reset_index().iloc[1][1]\n",
    "Pcloudy = rel.reset_index().iloc[2][1]\n",
    "P1bedcloudy =  Pcloudy_1 / Pcloudy\n",
    "Pheavy_1 = rel.reset_index().iloc[1][3]\n",
    "Pheavy = rel.reset_index().iloc[2][3]\n",
    "P1bedheavy =  Pheavy_1 / Pheavy\n",
    "Psnow_1 = rel.reset_index().iloc[1][2]\n",
    "Psnow = rel.reset_index().iloc[2][2]\n",
    "P1bedsnow =  Psnow_1 / Psnow\n",
    "\n",
    "print(f'Wahrscheinlichkeit für P(1|clear) = {P1bedclear}')\n",
    "print(f'Wahrscheinlichkeit für P(1|cloudy) = {P1bedcloudy}')\n",
    "print(f'Wahrscheinlichkeit für P(1|heavy) = {P1bedheavy}')\n",
    "print(f'Wahrscheinlichkeit für P(1|snow) = {P1bedsnow}')\n"
   ]
  },
  {
   "cell_type": "markdown",
   "metadata": {},
   "source": [
    "Bei diesen bedingten Häufigkeiten muss aufgepasst werden, dass nicht von einer Kausalen Abhängigkeit ausgegangen werden kann, da aus logischer Sicht keine Beeinflussung des Wetters und des Arbeitstags vorliegt. Der Zusammehang geht zwar aus den Zahlen hervor, allerdings ist der Wirkungszusammenhang in der Realität eher fragwürdig. \n"
   ]
  },
  {
   "cell_type": "markdown",
   "metadata": {},
   "source": [
    "### Abhängigkeit zwischen workingday und weather unter der Bedingung das registered_customer bekannt ist\n"
   ]
  },
  {
   "cell_type": "code",
   "execution_count": null,
   "metadata": {},
   "outputs": [],
   "source": [
    "mask = df_k.registered_customer == 1\n",
    "df_km = df_k[mask]\n",
    "table = pd.crosstab(df_km['workingday'], df_km['weather'])\n",
    "table\n"
   ]
  },
  {
   "cell_type": "code",
   "execution_count": null,
   "metadata": {},
   "outputs": [],
   "source": [
    "rel = pd.crosstab(df_km['workingday'], df_km['weather'], margins=True, normalize=True)\n",
    "rel\n"
   ]
  },
  {
   "cell_type": "code",
   "execution_count": null,
   "metadata": {},
   "outputs": [],
   "source": [
    "ch2, p, dof, expected = chi2_contingency(table)\n",
    "# Interpretation des Ergebnisses\n",
    "alpha = 0.05 # Standard level for \"significant\"\n",
    "prob = 1-alpha\n",
    "critical = chi2.ppf(prob, dof) # liefert das <prob>-Quantil der chi2-Verteilung mit <dof> Freiheitsgraden\n",
    "print(f'Bei einer Signifikanz von alpha={alpha}, ist die Testentscheidung:')\n",
    "if ch2 >= critical:\n",
    "\tprint(f'Abhängig (H0 kann wiederlegt werden)')\n",
    "else:\n",
    "\tprint('Unabhängig (H0 kann nicht wiederlegt werden)')\n"
   ]
  },
  {
   "cell_type": "code",
   "execution_count": null,
   "metadata": {},
   "outputs": [],
   "source": [
    "# Weather : clear, cloudy, heavy_rain, snow\n",
    "# Workingday :          1 = Tag ist ein Arbeitstag\n",
    "#                       0 = Tag ist kein Arbeitstag\n",
    "Pclear_1 = rel.reset_index().iloc[1][0]\n",
    "Pclear = rel.reset_index().iloc[2][0]\n",
    "P1bedclear =  Pclear_1 / Pclear\n",
    "Pcloudy_1 = rel.reset_index().iloc[1][1]\n",
    "Pcloudy = rel.reset_index().iloc[2][1]\n",
    "P1bedcloudy =  Pcloudy_1 / Pcloudy\n",
    "Pheavy_1 = rel.reset_index().iloc[1][3]\n",
    "Pheavy = rel.reset_index().iloc[2][3]\n",
    "P1bedheavy =  Pheavy_1 / Pheavy\n",
    "Psnow_1 = rel.reset_index().iloc[1][2]\n",
    "Psnow = rel.reset_index().iloc[2][2]\n",
    "P1bedsnow =  Psnow_1 / Psnow\n",
    "\n",
    "print(f'Wahrscheinlichkeit für P(1|clear) = {P1bedclear}')\n",
    "print(f'Wahrscheinlichkeit für P(1|cloudy) = {P1bedcloudy}')\n",
    "print(f'Wahrscheinlichkeit für P(1|heavy) = {P1bedheavy}')\n",
    "print(f'Wahrscheinlichkeit für P(1|snow) = {P1bedsnow}')\n"
   ]
  },
  {
   "cell_type": "markdown",
   "metadata": {},
   "source": [
    "Somit wurde auf folgendes Modell geprüft:\n",
    "weahter -> registrierten_kunden <- workingday\n",
    "Da allerdings weather und workingday im Datensatz eine abhängigkeit haben unabhängig ob die Kunden registriert sind oder nicht muss das Modell wiederlegt werden. "
   ]
  },
  {
   "cell_type": "markdown",
   "metadata": {},
   "source": [
    "# Welchen Einfluss hat das Wetter"
   ]
  },
  {
   "cell_type": "markdown",
   "metadata": {},
   "source": [
    "# Nutzungsverhalten in Zeit Dimension"
   ]
  },
  {
   "cell_type": "code",
   "execution_count": 60,
   "metadata": {},
   "outputs": [
    {
     "data": {
      "application/vnd.plotly.v1+json": {
       "config": {
        "plotlyServerURL": "https://plot.ly"
       },
       "data": [
        {
         "hovertemplate": "datetime=%{x}<br>Bookings=%{y}<extra></extra>",
         "legendgroup": "",
         "line": {
          "color": "#636efa",
          "dash": "solid"
         },
         "marker": {
          "symbol": "circle"
         },
         "mode": "lines",
         "name": "",
         "orientation": "v",
         "showlegend": false,
         "type": "scatter",
         "x": [
          "2011-01-01T00:00:00",
          "2011-01-02T00:00:00",
          "2011-01-03T00:00:00",
          "2011-01-04T00:00:00",
          "2011-01-05T00:00:00",
          "2011-01-06T00:00:00",
          "2011-01-07T00:00:00",
          "2011-01-08T00:00:00",
          "2011-01-09T00:00:00",
          "2011-01-10T00:00:00",
          "2011-01-11T00:00:00",
          "2011-01-12T00:00:00",
          "2011-01-13T00:00:00",
          "2011-01-14T00:00:00",
          "2011-01-15T00:00:00",
          "2011-01-16T00:00:00",
          "2011-01-17T00:00:00",
          "2011-01-18T00:00:00",
          "2011-01-19T00:00:00",
          "2011-01-20T00:00:00",
          "2011-01-21T00:00:00",
          "2011-01-22T00:00:00",
          "2011-01-23T00:00:00",
          "2011-01-24T00:00:00",
          "2011-01-25T00:00:00",
          "2011-01-26T00:00:00",
          "2011-01-27T00:00:00",
          "2011-01-28T00:00:00",
          "2011-01-29T00:00:00",
          "2011-01-30T00:00:00",
          "2011-01-31T00:00:00",
          "2011-02-01T00:00:00",
          "2011-02-02T00:00:00",
          "2011-02-03T00:00:00",
          "2011-02-04T00:00:00",
          "2011-02-05T00:00:00",
          "2011-02-06T00:00:00",
          "2011-02-07T00:00:00",
          "2011-02-08T00:00:00",
          "2011-02-09T00:00:00",
          "2011-02-10T00:00:00",
          "2011-02-11T00:00:00",
          "2011-02-12T00:00:00",
          "2011-02-13T00:00:00",
          "2011-02-14T00:00:00",
          "2011-02-15T00:00:00",
          "2011-02-16T00:00:00",
          "2011-02-17T00:00:00",
          "2011-02-18T00:00:00",
          "2011-02-19T00:00:00",
          "2011-02-20T00:00:00",
          "2011-02-21T00:00:00",
          "2011-02-22T00:00:00",
          "2011-02-23T00:00:00",
          "2011-02-24T00:00:00",
          "2011-02-25T00:00:00",
          "2011-02-26T00:00:00",
          "2011-02-27T00:00:00",
          "2011-02-28T00:00:00",
          "2011-03-01T00:00:00",
          "2011-03-02T00:00:00",
          "2011-03-03T00:00:00",
          "2011-03-04T00:00:00",
          "2011-03-05T00:00:00",
          "2011-03-06T00:00:00",
          "2011-03-07T00:00:00",
          "2011-03-08T00:00:00",
          "2011-03-09T00:00:00",
          "2011-03-10T00:00:00",
          "2011-03-11T00:00:00",
          "2011-03-12T00:00:00",
          "2011-03-13T00:00:00",
          "2011-03-14T00:00:00",
          "2011-03-15T00:00:00",
          "2011-03-16T00:00:00",
          "2011-03-17T00:00:00",
          "2011-03-18T00:00:00",
          "2011-03-19T00:00:00",
          "2011-03-20T00:00:00",
          "2011-03-21T00:00:00",
          "2011-03-22T00:00:00",
          "2011-03-23T00:00:00",
          "2011-03-24T00:00:00",
          "2011-03-25T00:00:00",
          "2011-03-26T00:00:00",
          "2011-03-27T00:00:00",
          "2011-03-28T00:00:00",
          "2011-03-29T00:00:00",
          "2011-03-30T00:00:00",
          "2011-03-31T00:00:00",
          "2011-04-01T00:00:00",
          "2011-04-02T00:00:00",
          "2011-04-03T00:00:00",
          "2011-04-04T00:00:00",
          "2011-04-05T00:00:00",
          "2011-04-06T00:00:00",
          "2011-04-07T00:00:00",
          "2011-04-08T00:00:00",
          "2011-04-09T00:00:00",
          "2011-04-10T00:00:00",
          "2011-04-11T00:00:00",
          "2011-04-12T00:00:00",
          "2011-04-13T00:00:00",
          "2011-04-14T00:00:00",
          "2011-04-15T00:00:00",
          "2011-04-16T00:00:00",
          "2011-04-17T00:00:00",
          "2011-04-18T00:00:00",
          "2011-04-19T00:00:00",
          "2011-04-20T00:00:00",
          "2011-04-21T00:00:00",
          "2011-04-22T00:00:00",
          "2011-04-23T00:00:00",
          "2011-04-24T00:00:00",
          "2011-04-25T00:00:00",
          "2011-04-26T00:00:00",
          "2011-04-27T00:00:00",
          "2011-04-28T00:00:00",
          "2011-04-29T00:00:00",
          "2011-04-30T00:00:00",
          "2011-05-01T00:00:00",
          "2011-05-02T00:00:00",
          "2011-05-03T00:00:00",
          "2011-05-04T00:00:00",
          "2011-05-05T00:00:00",
          "2011-05-06T00:00:00",
          "2011-05-07T00:00:00",
          "2011-05-08T00:00:00",
          "2011-05-09T00:00:00",
          "2011-05-10T00:00:00",
          "2011-05-11T00:00:00",
          "2011-05-12T00:00:00",
          "2011-05-13T00:00:00",
          "2011-05-14T00:00:00",
          "2011-05-15T00:00:00",
          "2011-05-16T00:00:00",
          "2011-05-17T00:00:00",
          "2011-05-18T00:00:00",
          "2011-05-19T00:00:00",
          "2011-05-20T00:00:00",
          "2011-05-21T00:00:00",
          "2011-05-22T00:00:00",
          "2011-05-23T00:00:00",
          "2011-05-24T00:00:00",
          "2011-05-25T00:00:00",
          "2011-05-26T00:00:00",
          "2011-05-27T00:00:00",
          "2011-05-28T00:00:00",
          "2011-05-29T00:00:00",
          "2011-05-30T00:00:00",
          "2011-05-31T00:00:00",
          "2011-06-01T00:00:00",
          "2011-06-02T00:00:00",
          "2011-06-03T00:00:00",
          "2011-06-04T00:00:00",
          "2011-06-05T00:00:00",
          "2011-06-06T00:00:00",
          "2011-06-07T00:00:00",
          "2011-06-08T00:00:00",
          "2011-06-09T00:00:00",
          "2011-06-10T00:00:00",
          "2011-06-11T00:00:00",
          "2011-06-12T00:00:00",
          "2011-06-13T00:00:00",
          "2011-06-14T00:00:00",
          "2011-06-15T00:00:00",
          "2011-06-16T00:00:00",
          "2011-06-17T00:00:00",
          "2011-06-18T00:00:00",
          "2011-06-19T00:00:00",
          "2011-06-20T00:00:00",
          "2011-06-21T00:00:00",
          "2011-06-22T00:00:00",
          "2011-06-23T00:00:00",
          "2011-06-24T00:00:00",
          "2011-06-25T00:00:00",
          "2011-06-26T00:00:00",
          "2011-06-27T00:00:00",
          "2011-06-28T00:00:00",
          "2011-06-29T00:00:00",
          "2011-06-30T00:00:00",
          "2011-07-01T00:00:00",
          "2011-07-02T00:00:00",
          "2011-07-03T00:00:00",
          "2011-07-04T00:00:00",
          "2011-07-05T00:00:00",
          "2011-07-06T00:00:00",
          "2011-07-07T00:00:00",
          "2011-07-08T00:00:00",
          "2011-07-09T00:00:00",
          "2011-07-10T00:00:00",
          "2011-07-11T00:00:00",
          "2011-07-12T00:00:00",
          "2011-07-13T00:00:00",
          "2011-07-14T00:00:00",
          "2011-07-15T00:00:00",
          "2011-07-16T00:00:00",
          "2011-07-17T00:00:00",
          "2011-07-18T00:00:00",
          "2011-07-19T00:00:00",
          "2011-07-20T00:00:00",
          "2011-07-21T00:00:00",
          "2011-07-22T00:00:00",
          "2011-07-23T00:00:00",
          "2011-07-24T00:00:00",
          "2011-07-25T00:00:00",
          "2011-07-26T00:00:00",
          "2011-07-27T00:00:00",
          "2011-07-28T00:00:00",
          "2011-07-29T00:00:00",
          "2011-07-30T00:00:00",
          "2011-07-31T00:00:00",
          "2011-08-01T00:00:00",
          "2011-08-02T00:00:00",
          "2011-08-03T00:00:00",
          "2011-08-04T00:00:00",
          "2011-08-05T00:00:00",
          "2011-08-06T00:00:00",
          "2011-08-07T00:00:00",
          "2011-08-08T00:00:00",
          "2011-08-09T00:00:00",
          "2011-08-10T00:00:00",
          "2011-08-11T00:00:00",
          "2011-08-12T00:00:00",
          "2011-08-13T00:00:00",
          "2011-08-14T00:00:00",
          "2011-08-15T00:00:00",
          "2011-08-16T00:00:00",
          "2011-08-17T00:00:00",
          "2011-08-18T00:00:00",
          "2011-08-19T00:00:00",
          "2011-08-20T00:00:00",
          "2011-08-21T00:00:00",
          "2011-08-22T00:00:00",
          "2011-08-23T00:00:00",
          "2011-08-24T00:00:00",
          "2011-08-25T00:00:00",
          "2011-08-26T00:00:00",
          "2011-08-27T00:00:00",
          "2011-08-28T00:00:00",
          "2011-08-29T00:00:00",
          "2011-08-30T00:00:00",
          "2011-08-31T00:00:00",
          "2011-09-01T00:00:00",
          "2011-09-02T00:00:00",
          "2011-09-03T00:00:00",
          "2011-09-04T00:00:00",
          "2011-09-05T00:00:00",
          "2011-09-06T00:00:00",
          "2011-09-07T00:00:00",
          "2011-09-08T00:00:00",
          "2011-09-09T00:00:00",
          "2011-09-10T00:00:00",
          "2011-09-11T00:00:00",
          "2011-09-12T00:00:00",
          "2011-09-13T00:00:00",
          "2011-09-14T00:00:00",
          "2011-09-15T00:00:00",
          "2011-09-16T00:00:00",
          "2011-09-17T00:00:00",
          "2011-09-18T00:00:00",
          "2011-09-19T00:00:00",
          "2011-09-20T00:00:00",
          "2011-09-21T00:00:00",
          "2011-09-22T00:00:00",
          "2011-09-23T00:00:00",
          "2011-09-24T00:00:00",
          "2011-09-25T00:00:00",
          "2011-09-26T00:00:00",
          "2011-09-27T00:00:00",
          "2011-09-28T00:00:00",
          "2011-09-29T00:00:00",
          "2011-09-30T00:00:00",
          "2011-10-01T00:00:00",
          "2011-10-02T00:00:00",
          "2011-10-03T00:00:00",
          "2011-10-04T00:00:00",
          "2011-10-05T00:00:00",
          "2011-10-06T00:00:00",
          "2011-10-07T00:00:00",
          "2011-10-08T00:00:00",
          "2011-10-09T00:00:00",
          "2011-10-10T00:00:00",
          "2011-10-11T00:00:00",
          "2011-10-12T00:00:00",
          "2011-10-13T00:00:00",
          "2011-10-14T00:00:00",
          "2011-10-15T00:00:00",
          "2011-10-16T00:00:00",
          "2011-10-17T00:00:00",
          "2011-10-18T00:00:00",
          "2011-10-19T00:00:00",
          "2011-10-20T00:00:00",
          "2011-10-21T00:00:00",
          "2011-10-22T00:00:00",
          "2011-10-23T00:00:00",
          "2011-10-24T00:00:00",
          "2011-10-25T00:00:00",
          "2011-10-26T00:00:00",
          "2011-10-27T00:00:00",
          "2011-10-28T00:00:00",
          "2011-10-29T00:00:00",
          "2011-10-30T00:00:00",
          "2011-10-31T00:00:00",
          "2011-11-01T00:00:00",
          "2011-11-02T00:00:00",
          "2011-11-03T00:00:00",
          "2011-11-04T00:00:00",
          "2011-11-05T00:00:00",
          "2011-11-06T00:00:00",
          "2011-11-07T00:00:00",
          "2011-11-08T00:00:00",
          "2011-11-09T00:00:00",
          "2011-11-10T00:00:00",
          "2011-11-11T00:00:00",
          "2011-11-12T00:00:00",
          "2011-11-13T00:00:00",
          "2011-11-14T00:00:00",
          "2011-11-15T00:00:00",
          "2011-11-16T00:00:00",
          "2011-11-17T00:00:00",
          "2011-11-18T00:00:00",
          "2011-11-19T00:00:00",
          "2011-11-20T00:00:00",
          "2011-11-21T00:00:00",
          "2011-11-22T00:00:00",
          "2011-11-23T00:00:00",
          "2011-11-24T00:00:00",
          "2011-11-25T00:00:00",
          "2011-11-26T00:00:00",
          "2011-11-27T00:00:00",
          "2011-11-28T00:00:00",
          "2011-11-29T00:00:00",
          "2011-11-30T00:00:00",
          "2011-12-01T00:00:00",
          "2011-12-02T00:00:00",
          "2011-12-03T00:00:00",
          "2011-12-04T00:00:00",
          "2011-12-05T00:00:00",
          "2011-12-06T00:00:00",
          "2011-12-07T00:00:00",
          "2011-12-08T00:00:00",
          "2011-12-09T00:00:00",
          "2011-12-10T00:00:00",
          "2011-12-11T00:00:00",
          "2011-12-12T00:00:00",
          "2011-12-13T00:00:00",
          "2011-12-14T00:00:00",
          "2011-12-15T00:00:00",
          "2011-12-16T00:00:00",
          "2011-12-17T00:00:00",
          "2011-12-18T00:00:00",
          "2011-12-19T00:00:00",
          "2011-12-20T00:00:00",
          "2011-12-21T00:00:00",
          "2011-12-22T00:00:00",
          "2011-12-23T00:00:00",
          "2011-12-24T00:00:00",
          "2011-12-25T00:00:00",
          "2011-12-26T00:00:00",
          "2011-12-27T00:00:00",
          "2011-12-28T00:00:00",
          "2011-12-29T00:00:00",
          "2011-12-30T00:00:00",
          "2011-12-31T00:00:00",
          "2012-01-01T00:00:00",
          "2012-01-02T00:00:00",
          "2012-01-03T00:00:00",
          "2012-01-04T00:00:00",
          "2012-01-05T00:00:00",
          "2012-01-06T00:00:00",
          "2012-01-07T00:00:00",
          "2012-01-08T00:00:00",
          "2012-01-09T00:00:00",
          "2012-01-10T00:00:00",
          "2012-01-11T00:00:00",
          "2012-01-12T00:00:00",
          "2012-01-13T00:00:00",
          "2012-01-14T00:00:00",
          "2012-01-15T00:00:00",
          "2012-01-16T00:00:00",
          "2012-01-17T00:00:00",
          "2012-01-18T00:00:00",
          "2012-01-19T00:00:00",
          "2012-01-20T00:00:00",
          "2012-01-21T00:00:00",
          "2012-01-22T00:00:00",
          "2012-01-23T00:00:00",
          "2012-01-24T00:00:00",
          "2012-01-25T00:00:00",
          "2012-01-26T00:00:00",
          "2012-01-27T00:00:00",
          "2012-01-28T00:00:00",
          "2012-01-29T00:00:00",
          "2012-01-30T00:00:00",
          "2012-01-31T00:00:00",
          "2012-02-01T00:00:00",
          "2012-02-02T00:00:00",
          "2012-02-03T00:00:00",
          "2012-02-04T00:00:00",
          "2012-02-05T00:00:00",
          "2012-02-06T00:00:00",
          "2012-02-07T00:00:00",
          "2012-02-08T00:00:00",
          "2012-02-09T00:00:00",
          "2012-02-10T00:00:00",
          "2012-02-11T00:00:00",
          "2012-02-12T00:00:00",
          "2012-02-13T00:00:00",
          "2012-02-14T00:00:00",
          "2012-02-15T00:00:00",
          "2012-02-16T00:00:00",
          "2012-02-17T00:00:00",
          "2012-02-18T00:00:00",
          "2012-02-19T00:00:00",
          "2012-02-20T00:00:00",
          "2012-02-21T00:00:00",
          "2012-02-22T00:00:00",
          "2012-02-23T00:00:00",
          "2012-02-24T00:00:00",
          "2012-02-25T00:00:00",
          "2012-02-26T00:00:00",
          "2012-02-27T00:00:00",
          "2012-02-28T00:00:00",
          "2012-02-29T00:00:00",
          "2012-03-01T00:00:00",
          "2012-03-02T00:00:00",
          "2012-03-03T00:00:00",
          "2012-03-04T00:00:00",
          "2012-03-05T00:00:00",
          "2012-03-06T00:00:00",
          "2012-03-07T00:00:00",
          "2012-03-08T00:00:00",
          "2012-03-09T00:00:00",
          "2012-03-10T00:00:00",
          "2012-03-11T00:00:00",
          "2012-03-12T00:00:00",
          "2012-03-13T00:00:00",
          "2012-03-14T00:00:00",
          "2012-03-15T00:00:00",
          "2012-03-16T00:00:00",
          "2012-03-17T00:00:00",
          "2012-03-18T00:00:00",
          "2012-03-19T00:00:00",
          "2012-03-20T00:00:00",
          "2012-03-21T00:00:00",
          "2012-03-22T00:00:00",
          "2012-03-23T00:00:00",
          "2012-03-24T00:00:00",
          "2012-03-25T00:00:00",
          "2012-03-26T00:00:00",
          "2012-03-27T00:00:00",
          "2012-03-28T00:00:00",
          "2012-03-29T00:00:00",
          "2012-03-30T00:00:00",
          "2012-03-31T00:00:00",
          "2012-04-01T00:00:00",
          "2012-04-02T00:00:00",
          "2012-04-03T00:00:00",
          "2012-04-04T00:00:00",
          "2012-04-05T00:00:00",
          "2012-04-06T00:00:00",
          "2012-04-07T00:00:00",
          "2012-04-08T00:00:00",
          "2012-04-09T00:00:00",
          "2012-04-10T00:00:00",
          "2012-04-11T00:00:00",
          "2012-04-12T00:00:00",
          "2012-04-13T00:00:00",
          "2012-04-14T00:00:00",
          "2012-04-15T00:00:00",
          "2012-04-16T00:00:00",
          "2012-04-17T00:00:00",
          "2012-04-18T00:00:00",
          "2012-04-19T00:00:00",
          "2012-04-20T00:00:00",
          "2012-04-21T00:00:00",
          "2012-04-22T00:00:00",
          "2012-04-23T00:00:00",
          "2012-04-24T00:00:00",
          "2012-04-25T00:00:00",
          "2012-04-26T00:00:00",
          "2012-04-27T00:00:00",
          "2012-04-28T00:00:00",
          "2012-04-29T00:00:00",
          "2012-04-30T00:00:00",
          "2012-05-01T00:00:00",
          "2012-05-02T00:00:00",
          "2012-05-03T00:00:00",
          "2012-05-04T00:00:00",
          "2012-05-05T00:00:00",
          "2012-05-06T00:00:00",
          "2012-05-07T00:00:00",
          "2012-05-08T00:00:00",
          "2012-05-09T00:00:00",
          "2012-05-10T00:00:00",
          "2012-05-11T00:00:00",
          "2012-05-12T00:00:00",
          "2012-05-13T00:00:00",
          "2012-05-14T00:00:00",
          "2012-05-15T00:00:00",
          "2012-05-16T00:00:00",
          "2012-05-17T00:00:00",
          "2012-05-18T00:00:00",
          "2012-05-19T00:00:00",
          "2012-05-20T00:00:00",
          "2012-05-21T00:00:00",
          "2012-05-22T00:00:00",
          "2012-05-23T00:00:00",
          "2012-05-24T00:00:00",
          "2012-05-25T00:00:00",
          "2012-05-26T00:00:00",
          "2012-05-27T00:00:00",
          "2012-05-28T00:00:00",
          "2012-05-29T00:00:00",
          "2012-05-30T00:00:00",
          "2012-05-31T00:00:00",
          "2012-06-01T00:00:00",
          "2012-06-02T00:00:00",
          "2012-06-03T00:00:00",
          "2012-06-04T00:00:00",
          "2012-06-05T00:00:00",
          "2012-06-06T00:00:00",
          "2012-06-07T00:00:00",
          "2012-06-08T00:00:00",
          "2012-06-09T00:00:00",
          "2012-06-10T00:00:00",
          "2012-06-11T00:00:00",
          "2012-06-12T00:00:00",
          "2012-06-13T00:00:00",
          "2012-06-14T00:00:00",
          "2012-06-15T00:00:00",
          "2012-06-16T00:00:00",
          "2012-06-17T00:00:00",
          "2012-06-18T00:00:00",
          "2012-06-19T00:00:00",
          "2012-06-20T00:00:00",
          "2012-06-21T00:00:00",
          "2012-06-22T00:00:00",
          "2012-06-23T00:00:00",
          "2012-06-24T00:00:00",
          "2012-06-25T00:00:00",
          "2012-06-26T00:00:00",
          "2012-06-27T00:00:00",
          "2012-06-28T00:00:00",
          "2012-06-29T00:00:00",
          "2012-06-30T00:00:00",
          "2012-07-01T00:00:00",
          "2012-07-02T00:00:00",
          "2012-07-03T00:00:00",
          "2012-07-04T00:00:00",
          "2012-07-05T00:00:00",
          "2012-07-06T00:00:00",
          "2012-07-07T00:00:00",
          "2012-07-08T00:00:00",
          "2012-07-09T00:00:00",
          "2012-07-10T00:00:00",
          "2012-07-11T00:00:00",
          "2012-07-12T00:00:00",
          "2012-07-13T00:00:00",
          "2012-07-14T00:00:00",
          "2012-07-15T00:00:00",
          "2012-07-16T00:00:00",
          "2012-07-17T00:00:00",
          "2012-07-18T00:00:00",
          "2012-07-19T00:00:00",
          "2012-07-20T00:00:00",
          "2012-07-21T00:00:00",
          "2012-07-22T00:00:00",
          "2012-07-23T00:00:00",
          "2012-07-24T00:00:00",
          "2012-07-25T00:00:00",
          "2012-07-26T00:00:00",
          "2012-07-27T00:00:00",
          "2012-07-28T00:00:00",
          "2012-07-29T00:00:00",
          "2012-07-30T00:00:00",
          "2012-07-31T00:00:00",
          "2012-08-01T00:00:00",
          "2012-08-02T00:00:00",
          "2012-08-03T00:00:00",
          "2012-08-04T00:00:00",
          "2012-08-05T00:00:00",
          "2012-08-06T00:00:00",
          "2012-08-07T00:00:00",
          "2012-08-08T00:00:00",
          "2012-08-09T00:00:00",
          "2012-08-10T00:00:00",
          "2012-08-11T00:00:00",
          "2012-08-12T00:00:00",
          "2012-08-13T00:00:00",
          "2012-08-14T00:00:00",
          "2012-08-15T00:00:00",
          "2012-08-16T00:00:00",
          "2012-08-17T00:00:00",
          "2012-08-18T00:00:00",
          "2012-08-19T00:00:00",
          "2012-08-20T00:00:00",
          "2012-08-21T00:00:00",
          "2012-08-22T00:00:00",
          "2012-08-23T00:00:00",
          "2012-08-24T00:00:00",
          "2012-08-25T00:00:00",
          "2012-08-26T00:00:00",
          "2012-08-27T00:00:00",
          "2012-08-28T00:00:00",
          "2012-08-29T00:00:00",
          "2012-08-30T00:00:00",
          "2012-08-31T00:00:00",
          "2012-09-01T00:00:00",
          "2012-09-02T00:00:00",
          "2012-09-03T00:00:00",
          "2012-09-04T00:00:00",
          "2012-09-05T00:00:00",
          "2012-09-06T00:00:00",
          "2012-09-07T00:00:00",
          "2012-09-08T00:00:00",
          "2012-09-09T00:00:00",
          "2012-09-10T00:00:00",
          "2012-09-11T00:00:00",
          "2012-09-12T00:00:00",
          "2012-09-13T00:00:00",
          "2012-09-14T00:00:00",
          "2012-09-15T00:00:00",
          "2012-09-16T00:00:00",
          "2012-09-17T00:00:00",
          "2012-09-18T00:00:00",
          "2012-09-19T00:00:00",
          "2012-09-20T00:00:00",
          "2012-09-21T00:00:00",
          "2012-09-22T00:00:00",
          "2012-09-23T00:00:00",
          "2012-09-24T00:00:00",
          "2012-09-25T00:00:00",
          "2012-09-26T00:00:00",
          "2012-09-27T00:00:00",
          "2012-09-28T00:00:00",
          "2012-09-29T00:00:00",
          "2012-09-30T00:00:00",
          "2012-10-01T00:00:00",
          "2012-10-02T00:00:00",
          "2012-10-03T00:00:00",
          "2012-10-04T00:00:00",
          "2012-10-05T00:00:00",
          "2012-10-06T00:00:00",
          "2012-10-07T00:00:00",
          "2012-10-08T00:00:00",
          "2012-10-09T00:00:00",
          "2012-10-10T00:00:00",
          "2012-10-11T00:00:00",
          "2012-10-12T00:00:00",
          "2012-10-13T00:00:00",
          "2012-10-14T00:00:00",
          "2012-10-15T00:00:00",
          "2012-10-16T00:00:00",
          "2012-10-17T00:00:00",
          "2012-10-18T00:00:00",
          "2012-10-19T00:00:00",
          "2012-10-20T00:00:00",
          "2012-10-21T00:00:00",
          "2012-10-22T00:00:00",
          "2012-10-23T00:00:00",
          "2012-10-24T00:00:00",
          "2012-10-25T00:00:00",
          "2012-10-26T00:00:00",
          "2012-10-27T00:00:00",
          "2012-10-28T00:00:00",
          "2012-10-29T00:00:00",
          "2012-10-30T00:00:00",
          "2012-10-31T00:00:00",
          "2012-11-01T00:00:00",
          "2012-11-02T00:00:00",
          "2012-11-03T00:00:00",
          "2012-11-04T00:00:00",
          "2012-11-05T00:00:00",
          "2012-11-06T00:00:00",
          "2012-11-07T00:00:00",
          "2012-11-08T00:00:00",
          "2012-11-09T00:00:00",
          "2012-11-10T00:00:00",
          "2012-11-11T00:00:00",
          "2012-11-12T00:00:00",
          "2012-11-13T00:00:00",
          "2012-11-14T00:00:00",
          "2012-11-15T00:00:00",
          "2012-11-16T00:00:00",
          "2012-11-17T00:00:00",
          "2012-11-18T00:00:00",
          "2012-11-19T00:00:00",
          "2012-11-20T00:00:00",
          "2012-11-21T00:00:00",
          "2012-11-22T00:00:00",
          "2012-11-23T00:00:00",
          "2012-11-24T00:00:00",
          "2012-11-25T00:00:00",
          "2012-11-26T00:00:00",
          "2012-11-27T00:00:00",
          "2012-11-28T00:00:00",
          "2012-11-29T00:00:00",
          "2012-11-30T00:00:00",
          "2012-12-01T00:00:00",
          "2012-12-02T00:00:00",
          "2012-12-03T00:00:00",
          "2012-12-04T00:00:00",
          "2012-12-05T00:00:00",
          "2012-12-06T00:00:00",
          "2012-12-07T00:00:00",
          "2012-12-08T00:00:00",
          "2012-12-09T00:00:00",
          "2012-12-10T00:00:00",
          "2012-12-11T00:00:00",
          "2012-12-12T00:00:00",
          "2012-12-13T00:00:00",
          "2012-12-14T00:00:00",
          "2012-12-15T00:00:00",
          "2012-12-16T00:00:00",
          "2012-12-17T00:00:00",
          "2012-12-18T00:00:00",
          "2012-12-19T00:00:00",
          "2012-12-20T00:00:00",
          "2012-12-21T00:00:00",
          "2012-12-22T00:00:00",
          "2012-12-23T00:00:00",
          "2012-12-24T00:00:00",
          "2012-12-25T00:00:00",
          "2012-12-26T00:00:00",
          "2012-12-27T00:00:00",
          "2012-12-28T00:00:00",
          "2012-12-29T00:00:00",
          "2012-12-30T00:00:00",
          "2012-12-31T00:00:00"
         ],
         "xaxis": "x",
         "y": [
          985,
          801,
          1349,
          1562,
          1600,
          1606,
          1510,
          959,
          822,
          1321,
          1263,
          1162,
          1406,
          1421,
          1248,
          1204,
          1000,
          683,
          1650,
          1487,
          1283,
          863,
          818,
          1206,
          1515,
          412,
          674,
          1184,
          1051,
          1086,
          1252,
          1360,
          1526,
          1550,
          1708,
          1005,
          1623,
          1712,
          1530,
          1605,
          1538,
          1746,
          1472,
          1589,
          1913,
          1815,
          2115,
          2475,
          2927,
          1635,
          1584,
          1359,
          1636,
          1788,
          1565,
          1592,
          1725,
          1826,
          1230,
          1851,
          2134,
          1685,
          1944,
          2077,
          605,
          1872,
          2133,
          1891,
          623,
          1977,
          2132,
          2417,
          2046,
          2056,
          2192,
          2744,
          3239,
          3117,
          2029,
          2713,
          2889,
          1733,
          1995,
          2271,
          2158,
          2025,
          2142,
          2488,
          1916,
          1722,
          2227,
          2252,
          3249,
          3115,
          1795,
          2808,
          3141,
          1471,
          2455,
          2895,
          3348,
          2034,
          2162,
          3267,
          3126,
          795,
          3744,
          3429,
          3204,
          3516,
          3149,
          1583,
          3165,
          3560,
          3493,
          3429,
          2726,
          3339,
          3559,
          3715,
          3351,
          4401,
          4451,
          2633,
          4433,
          4608,
          4714,
          4333,
          4362,
          4803,
          4182,
          4864,
          4105,
          3409,
          4553,
          3958,
          4123,
          3855,
          4575,
          4985,
          5472,
          4868,
          3829,
          4242,
          4660,
          4439,
          4787,
          5230,
          4446,
          4983,
          4186,
          3974,
          4968,
          5312,
          5342,
          4906,
          4548,
          4833,
          4401,
          3915,
          4586,
          4966,
          4460,
          5020,
          4891,
          5180,
          3767,
          4844,
          5119,
          4744,
          4272,
          4198,
          4472,
          4561,
          5213,
          5606,
          5402,
          4617,
          4449,
          4823,
          4982,
          5362,
          5119,
          4649,
          6043,
          4665,
          4629,
          4592,
          4040,
          5336,
          4881,
          4086,
          4258,
          4342,
          5084,
          5538,
          5923,
          5302,
          4458,
          4541,
          4279,
          3967,
          3973,
          3874,
          4040,
          3975,
          4613,
          4743,
          4570,
          3949,
          4689,
          4191,
          4266,
          4845,
          3574,
          4576,
          4866,
          4294,
          3785,
          4326,
          4602,
          4780,
          4792,
          4905,
          4150,
          3820,
          4338,
          4725,
          4694,
          3805,
          4153,
          4903,
          4054,
          4547,
          4848,
          4642,
          3704,
          4357,
          1737,
          4369,
          4606,
          4732,
          4625,
          5115,
          4727,
          4484,
          4940,
          3351,
          2710,
          1996,
          1842,
          3544,
          5345,
          5046,
          4713,
          4763,
          4785,
          3659,
          4760,
          4511,
          4274,
          4539,
          3026,
          2788,
          2933,
          2299,
          4072,
          4123,
          3835,
          3405,
          3123,
          4877,
          5026,
          2429,
          2918,
          3570,
          4456,
          4826,
          4765,
          4985,
          5409,
          5511,
          5117,
          4563,
          2416,
          2913,
          3644,
          5217,
          5041,
          4570,
          4748,
          2424,
          3966,
          4438,
          4388,
          4286,
          4120,
          4593,
          3987,
          3217,
          3567,
          1365,
          3668,
          3688,
          4068,
          4186,
          3974,
          4046,
          3926,
          3649,
          4035,
          4205,
          4109,
          2933,
          3368,
          4067,
          3717,
          4486,
          4195,
          1817,
          3053,
          3392,
          3663,
          4043,
          2693,
          2420,
          3045,
          3493,
          4291,
          3827,
          4388,
          4423,
          2846,
          3485,
          3727,
          3940,
          3614,
          3485,
          3811,
          2594,
          705,
          3322,
          3620,
          3190,
          2743,
          3310,
          3523,
          3740,
          3709,
          3577,
          2739,
          2431,
          3403,
          3967,
          1730,
          3030,
          2924,
          2589,
          2344,
          2514,
          2225,
          2792,
          2708,
          2948,
          3226,
          2294,
          1951,
          2236,
          2368,
          3272,
          4098,
          4521,
          3425,
          2376,
          3598,
          2177,
          4097,
          3214,
          2493,
          2311,
          2298,
          2935,
          3376,
          3292,
          3090,
          1877,
          2279,
          2683,
          3474,
          3638,
          3514,
          3221,
          3283,
          2568,
          3049,
          3963,
          4579,
          3761,
          4151,
          2832,
          2947,
          3784,
          4375,
          2802,
          3830,
          3831,
          2169,
          1529,
          3422,
          3922,
          4169,
          3005,
          4154,
          4318,
          2689,
          2750,
          3658,
          4130,
          4738,
          3421,
          2724,
          3129,
          3964,
          3889,
          2875,
          4990,
          3194,
          4066,
          3423,
          3333,
          3956,
          4916,
          5382,
          4569,
          4118,
          4911,
          5298,
          5847,
          6312,
          6192,
          4378,
          7836,
          5892,
          6153,
          5573,
          5580,
          6398,
          6675,
          2847,
          4277,
          5223,
          5138,
          6060,
          5763,
          4816,
          5262,
          6041,
          5936,
          6772,
          6436,
          6457,
          6460,
          6857,
          5169,
          5585,
          5918,
          4862,
          5409,
          6398,
          7460,
          7132,
          6370,
          6691,
          4367,
          6565,
          6903,
          6853,
          1855,
          2922,
          5739,
          6226,
          5254,
          6322,
          5342,
          6408,
          5484,
          5740,
          6169,
          6421,
          6296,
          6883,
          6359,
          6273,
          5728,
          4717,
          6572,
          7030,
          7429,
          6118,
          2843,
          5115,
          7424,
          7384,
          7639,
          8294,
          6875,
          4686,
          5943,
          5228,
          6622,
          6793,
          6803,
          6002,
          6481,
          5831,
          6592,
          7179,
          4127,
          8120,
          7641,
          6998,
          7001,
          7055,
          7494,
          7736,
          7498,
          6598,
          6664,
          4972,
          7421,
          7363,
          7665,
          7702,
          6978,
          5099,
          6825,
          6481,
          6500,
          6615,
          7522,
          6594,
          6892,
          7254,
          7233,
          7274,
          5619,
          6304,
          5531,
          6227,
          6660,
          7403,
          6241,
          6207,
          4840,
          4672,
          6569,
          6290,
          7264,
          7446,
          7499,
          6969,
          6031,
          6830,
          6786,
          5713,
          6591,
          4955,
          3468,
          6139,
          6475,
          6758,
          7289,
          6460,
          6797,
          6897,
          6446,
          6662,
          6708,
          7580,
          7261,
          7175,
          6824,
          5464,
          7013,
          7273,
          7534,
          7286,
          5786,
          6299,
          6544,
          6883,
          6784,
          7347,
          7605,
          7148,
          7865,
          4549,
          5948,
          6901,
          6623,
          7278,
          7249,
          6402,
          4258,
          6583,
          7177,
          7462,
          7440,
          7248,
          6140,
          5810,
          6034,
          6864,
          7112,
          6203,
          7504,
          5976,
          8227,
          7525,
          7767,
          7870,
          7804,
          8009,
          8714,
          7333,
          6869,
          4073,
          7591,
          7724,
          7972,
          8088,
          7178,
          7311,
          7950,
          7703,
          7012,
          7423,
          7898,
          6894,
          6778,
          4639,
          7572,
          7328,
          8156,
          7965,
          3510,
          5478,
          6392,
          7691,
          7570,
          7282,
          7109,
          6639,
          5875,
          7534,
          7461,
          7509,
          5424,
          7678,
          6965,
          7473,
          7942,
          7785,
          6170,
          6321,
          7181,
          4521,
          22,
          1745,
          5970,
          5986,
          5847,
          5138,
          5107,
          5259,
          5686,
          5035,
          5315,
          5992,
          6536,
          6852,
          6269,
          4094,
          5495,
          5445,
          5698,
          5629,
          4669,
          5499,
          5912,
          6012,
          5309,
          6153,
          4122,
          3762,
          5507,
          3480,
          5465,
          5547,
          5619,
          5191,
          4649,
          6234,
          6606,
          5729,
          5375,
          5008,
          5582,
          3228,
          5170,
          5501,
          5319,
          5532,
          5611,
          5047,
          3786,
          4585,
          5557,
          5267,
          4821,
          4476,
          3360,
          3805,
          3322,
          4577,
          1424,
          4231,
          4629,
          3087,
          2886,
          4429
         ],
         "yaxis": "y"
        }
       ],
       "layout": {
        "legend": {
         "tracegroupgap": 0
        },
        "template": {
         "data": {
          "bar": [
           {
            "error_x": {
             "color": "#2a3f5f"
            },
            "error_y": {
             "color": "#2a3f5f"
            },
            "marker": {
             "line": {
              "color": "#E5ECF6",
              "width": 0.5
             },
             "pattern": {
              "fillmode": "overlay",
              "size": 10,
              "solidity": 0.2
             }
            },
            "type": "bar"
           }
          ],
          "barpolar": [
           {
            "marker": {
             "line": {
              "color": "#E5ECF6",
              "width": 0.5
             },
             "pattern": {
              "fillmode": "overlay",
              "size": 10,
              "solidity": 0.2
             }
            },
            "type": "barpolar"
           }
          ],
          "carpet": [
           {
            "aaxis": {
             "endlinecolor": "#2a3f5f",
             "gridcolor": "white",
             "linecolor": "white",
             "minorgridcolor": "white",
             "startlinecolor": "#2a3f5f"
            },
            "baxis": {
             "endlinecolor": "#2a3f5f",
             "gridcolor": "white",
             "linecolor": "white",
             "minorgridcolor": "white",
             "startlinecolor": "#2a3f5f"
            },
            "type": "carpet"
           }
          ],
          "choropleth": [
           {
            "colorbar": {
             "outlinewidth": 0,
             "ticks": ""
            },
            "type": "choropleth"
           }
          ],
          "contour": [
           {
            "colorbar": {
             "outlinewidth": 0,
             "ticks": ""
            },
            "colorscale": [
             [
              0,
              "#0d0887"
             ],
             [
              0.1111111111111111,
              "#46039f"
             ],
             [
              0.2222222222222222,
              "#7201a8"
             ],
             [
              0.3333333333333333,
              "#9c179e"
             ],
             [
              0.4444444444444444,
              "#bd3786"
             ],
             [
              0.5555555555555556,
              "#d8576b"
             ],
             [
              0.6666666666666666,
              "#ed7953"
             ],
             [
              0.7777777777777778,
              "#fb9f3a"
             ],
             [
              0.8888888888888888,
              "#fdca26"
             ],
             [
              1,
              "#f0f921"
             ]
            ],
            "type": "contour"
           }
          ],
          "contourcarpet": [
           {
            "colorbar": {
             "outlinewidth": 0,
             "ticks": ""
            },
            "type": "contourcarpet"
           }
          ],
          "heatmap": [
           {
            "colorbar": {
             "outlinewidth": 0,
             "ticks": ""
            },
            "colorscale": [
             [
              0,
              "#0d0887"
             ],
             [
              0.1111111111111111,
              "#46039f"
             ],
             [
              0.2222222222222222,
              "#7201a8"
             ],
             [
              0.3333333333333333,
              "#9c179e"
             ],
             [
              0.4444444444444444,
              "#bd3786"
             ],
             [
              0.5555555555555556,
              "#d8576b"
             ],
             [
              0.6666666666666666,
              "#ed7953"
             ],
             [
              0.7777777777777778,
              "#fb9f3a"
             ],
             [
              0.8888888888888888,
              "#fdca26"
             ],
             [
              1,
              "#f0f921"
             ]
            ],
            "type": "heatmap"
           }
          ],
          "heatmapgl": [
           {
            "colorbar": {
             "outlinewidth": 0,
             "ticks": ""
            },
            "colorscale": [
             [
              0,
              "#0d0887"
             ],
             [
              0.1111111111111111,
              "#46039f"
             ],
             [
              0.2222222222222222,
              "#7201a8"
             ],
             [
              0.3333333333333333,
              "#9c179e"
             ],
             [
              0.4444444444444444,
              "#bd3786"
             ],
             [
              0.5555555555555556,
              "#d8576b"
             ],
             [
              0.6666666666666666,
              "#ed7953"
             ],
             [
              0.7777777777777778,
              "#fb9f3a"
             ],
             [
              0.8888888888888888,
              "#fdca26"
             ],
             [
              1,
              "#f0f921"
             ]
            ],
            "type": "heatmapgl"
           }
          ],
          "histogram": [
           {
            "marker": {
             "pattern": {
              "fillmode": "overlay",
              "size": 10,
              "solidity": 0.2
             }
            },
            "type": "histogram"
           }
          ],
          "histogram2d": [
           {
            "colorbar": {
             "outlinewidth": 0,
             "ticks": ""
            },
            "colorscale": [
             [
              0,
              "#0d0887"
             ],
             [
              0.1111111111111111,
              "#46039f"
             ],
             [
              0.2222222222222222,
              "#7201a8"
             ],
             [
              0.3333333333333333,
              "#9c179e"
             ],
             [
              0.4444444444444444,
              "#bd3786"
             ],
             [
              0.5555555555555556,
              "#d8576b"
             ],
             [
              0.6666666666666666,
              "#ed7953"
             ],
             [
              0.7777777777777778,
              "#fb9f3a"
             ],
             [
              0.8888888888888888,
              "#fdca26"
             ],
             [
              1,
              "#f0f921"
             ]
            ],
            "type": "histogram2d"
           }
          ],
          "histogram2dcontour": [
           {
            "colorbar": {
             "outlinewidth": 0,
             "ticks": ""
            },
            "colorscale": [
             [
              0,
              "#0d0887"
             ],
             [
              0.1111111111111111,
              "#46039f"
             ],
             [
              0.2222222222222222,
              "#7201a8"
             ],
             [
              0.3333333333333333,
              "#9c179e"
             ],
             [
              0.4444444444444444,
              "#bd3786"
             ],
             [
              0.5555555555555556,
              "#d8576b"
             ],
             [
              0.6666666666666666,
              "#ed7953"
             ],
             [
              0.7777777777777778,
              "#fb9f3a"
             ],
             [
              0.8888888888888888,
              "#fdca26"
             ],
             [
              1,
              "#f0f921"
             ]
            ],
            "type": "histogram2dcontour"
           }
          ],
          "mesh3d": [
           {
            "colorbar": {
             "outlinewidth": 0,
             "ticks": ""
            },
            "type": "mesh3d"
           }
          ],
          "parcoords": [
           {
            "line": {
             "colorbar": {
              "outlinewidth": 0,
              "ticks": ""
             }
            },
            "type": "parcoords"
           }
          ],
          "pie": [
           {
            "automargin": true,
            "type": "pie"
           }
          ],
          "scatter": [
           {
            "marker": {
             "colorbar": {
              "outlinewidth": 0,
              "ticks": ""
             }
            },
            "type": "scatter"
           }
          ],
          "scatter3d": [
           {
            "line": {
             "colorbar": {
              "outlinewidth": 0,
              "ticks": ""
             }
            },
            "marker": {
             "colorbar": {
              "outlinewidth": 0,
              "ticks": ""
             }
            },
            "type": "scatter3d"
           }
          ],
          "scattercarpet": [
           {
            "marker": {
             "colorbar": {
              "outlinewidth": 0,
              "ticks": ""
             }
            },
            "type": "scattercarpet"
           }
          ],
          "scattergeo": [
           {
            "marker": {
             "colorbar": {
              "outlinewidth": 0,
              "ticks": ""
             }
            },
            "type": "scattergeo"
           }
          ],
          "scattergl": [
           {
            "marker": {
             "colorbar": {
              "outlinewidth": 0,
              "ticks": ""
             }
            },
            "type": "scattergl"
           }
          ],
          "scattermapbox": [
           {
            "marker": {
             "colorbar": {
              "outlinewidth": 0,
              "ticks": ""
             }
            },
            "type": "scattermapbox"
           }
          ],
          "scatterpolar": [
           {
            "marker": {
             "colorbar": {
              "outlinewidth": 0,
              "ticks": ""
             }
            },
            "type": "scatterpolar"
           }
          ],
          "scatterpolargl": [
           {
            "marker": {
             "colorbar": {
              "outlinewidth": 0,
              "ticks": ""
             }
            },
            "type": "scatterpolargl"
           }
          ],
          "scatterternary": [
           {
            "marker": {
             "colorbar": {
              "outlinewidth": 0,
              "ticks": ""
             }
            },
            "type": "scatterternary"
           }
          ],
          "surface": [
           {
            "colorbar": {
             "outlinewidth": 0,
             "ticks": ""
            },
            "colorscale": [
             [
              0,
              "#0d0887"
             ],
             [
              0.1111111111111111,
              "#46039f"
             ],
             [
              0.2222222222222222,
              "#7201a8"
             ],
             [
              0.3333333333333333,
              "#9c179e"
             ],
             [
              0.4444444444444444,
              "#bd3786"
             ],
             [
              0.5555555555555556,
              "#d8576b"
             ],
             [
              0.6666666666666666,
              "#ed7953"
             ],
             [
              0.7777777777777778,
              "#fb9f3a"
             ],
             [
              0.8888888888888888,
              "#fdca26"
             ],
             [
              1,
              "#f0f921"
             ]
            ],
            "type": "surface"
           }
          ],
          "table": [
           {
            "cells": {
             "fill": {
              "color": "#EBF0F8"
             },
             "line": {
              "color": "white"
             }
            },
            "header": {
             "fill": {
              "color": "#C8D4E3"
             },
             "line": {
              "color": "white"
             }
            },
            "type": "table"
           }
          ]
         },
         "layout": {
          "annotationdefaults": {
           "arrowcolor": "#2a3f5f",
           "arrowhead": 0,
           "arrowwidth": 1
          },
          "autotypenumbers": "strict",
          "coloraxis": {
           "colorbar": {
            "outlinewidth": 0,
            "ticks": ""
           }
          },
          "colorscale": {
           "diverging": [
            [
             0,
             "#8e0152"
            ],
            [
             0.1,
             "#c51b7d"
            ],
            [
             0.2,
             "#de77ae"
            ],
            [
             0.3,
             "#f1b6da"
            ],
            [
             0.4,
             "#fde0ef"
            ],
            [
             0.5,
             "#f7f7f7"
            ],
            [
             0.6,
             "#e6f5d0"
            ],
            [
             0.7,
             "#b8e186"
            ],
            [
             0.8,
             "#7fbc41"
            ],
            [
             0.9,
             "#4d9221"
            ],
            [
             1,
             "#276419"
            ]
           ],
           "sequential": [
            [
             0,
             "#0d0887"
            ],
            [
             0.1111111111111111,
             "#46039f"
            ],
            [
             0.2222222222222222,
             "#7201a8"
            ],
            [
             0.3333333333333333,
             "#9c179e"
            ],
            [
             0.4444444444444444,
             "#bd3786"
            ],
            [
             0.5555555555555556,
             "#d8576b"
            ],
            [
             0.6666666666666666,
             "#ed7953"
            ],
            [
             0.7777777777777778,
             "#fb9f3a"
            ],
            [
             0.8888888888888888,
             "#fdca26"
            ],
            [
             1,
             "#f0f921"
            ]
           ],
           "sequentialminus": [
            [
             0,
             "#0d0887"
            ],
            [
             0.1111111111111111,
             "#46039f"
            ],
            [
             0.2222222222222222,
             "#7201a8"
            ],
            [
             0.3333333333333333,
             "#9c179e"
            ],
            [
             0.4444444444444444,
             "#bd3786"
            ],
            [
             0.5555555555555556,
             "#d8576b"
            ],
            [
             0.6666666666666666,
             "#ed7953"
            ],
            [
             0.7777777777777778,
             "#fb9f3a"
            ],
            [
             0.8888888888888888,
             "#fdca26"
            ],
            [
             1,
             "#f0f921"
            ]
           ]
          },
          "colorway": [
           "#636efa",
           "#EF553B",
           "#00cc96",
           "#ab63fa",
           "#FFA15A",
           "#19d3f3",
           "#FF6692",
           "#B6E880",
           "#FF97FF",
           "#FECB52"
          ],
          "font": {
           "color": "#2a3f5f"
          },
          "geo": {
           "bgcolor": "white",
           "lakecolor": "white",
           "landcolor": "#E5ECF6",
           "showlakes": true,
           "showland": true,
           "subunitcolor": "white"
          },
          "hoverlabel": {
           "align": "left"
          },
          "hovermode": "closest",
          "mapbox": {
           "style": "light"
          },
          "paper_bgcolor": "white",
          "plot_bgcolor": "#E5ECF6",
          "polar": {
           "angularaxis": {
            "gridcolor": "white",
            "linecolor": "white",
            "ticks": ""
           },
           "bgcolor": "#E5ECF6",
           "radialaxis": {
            "gridcolor": "white",
            "linecolor": "white",
            "ticks": ""
           }
          },
          "scene": {
           "xaxis": {
            "backgroundcolor": "#E5ECF6",
            "gridcolor": "white",
            "gridwidth": 2,
            "linecolor": "white",
            "showbackground": true,
            "ticks": "",
            "zerolinecolor": "white"
           },
           "yaxis": {
            "backgroundcolor": "#E5ECF6",
            "gridcolor": "white",
            "gridwidth": 2,
            "linecolor": "white",
            "showbackground": true,
            "ticks": "",
            "zerolinecolor": "white"
           },
           "zaxis": {
            "backgroundcolor": "#E5ECF6",
            "gridcolor": "white",
            "gridwidth": 2,
            "linecolor": "white",
            "showbackground": true,
            "ticks": "",
            "zerolinecolor": "white"
           }
          },
          "shapedefaults": {
           "line": {
            "color": "#2a3f5f"
           }
          },
          "ternary": {
           "aaxis": {
            "gridcolor": "white",
            "linecolor": "white",
            "ticks": ""
           },
           "baxis": {
            "gridcolor": "white",
            "linecolor": "white",
            "ticks": ""
           },
           "bgcolor": "#E5ECF6",
           "caxis": {
            "gridcolor": "white",
            "linecolor": "white",
            "ticks": ""
           }
          },
          "title": {
           "x": 0.05
          },
          "xaxis": {
           "automargin": true,
           "gridcolor": "white",
           "linecolor": "white",
           "ticks": "",
           "title": {
            "standoff": 15
           },
           "zerolinecolor": "white",
           "zerolinewidth": 2
          },
          "yaxis": {
           "automargin": true,
           "gridcolor": "white",
           "linecolor": "white",
           "ticks": "",
           "title": {
            "standoff": 15
           },
           "zerolinecolor": "white",
           "zerolinewidth": 2
          }
         }
        },
        "title": {
         "text": "Anzahl der Buchungen 2011-2012"
        },
        "xaxis": {
         "anchor": "y",
         "domain": [
          0,
          1
         ],
         "rangeselector": {
          "buttons": [
           {
            "count": 1,
            "label": "1m",
            "step": "month",
            "stepmode": "backward"
           },
           {
            "count": 3,
            "label": "3m",
            "step": "month",
            "stepmode": "backward"
           },
           {
            "count": 6,
            "label": "6m",
            "step": "month",
            "stepmode": "backward"
           },
           {
            "count": 1,
            "label": "1y",
            "step": "year",
            "stepmode": "backward"
           },
           {
            "step": "all"
           }
          ]
         },
         "rangeslider": {
          "visible": true
         },
         "title": {
          "text": "datetime"
         }
        },
        "yaxis": {
         "anchor": "x",
         "domain": [
          0,
          1
         ],
         "title": {
          "text": "Bookings"
         }
        }
       }
      }
     },
     "metadata": {},
     "output_type": "display_data"
    }
   ],
   "source": [
    "fig_overall_count = px.line(df_day.reset_index(),y='Bookings', x=\"datetime\", title = 'Anzahl der Buchungen 2011-2012')\n",
    "fig_overall_count.update_xaxes(\n",
    "    rangeslider_visible=True,\n",
    "    rangeselector=dict(\n",
    "        buttons=list([\n",
    "            dict(count=1, label=\"1m\", step=\"month\", stepmode=\"backward\"),\n",
    "            dict(count=3, label=\"3m\", step=\"month\", stepmode=\"backward\"),\n",
    "            dict(count=6, label=\"6m\", step=\"month\", stepmode=\"backward\"),\n",
    "            dict(count=1, label=\"1y\", step=\"year\", stepmode=\"backward\"),\n",
    "            dict(step=\"all\")])))\n",
    "fig_overall_count.show()"
   ]
  },
  {
   "cell_type": "code",
   "execution_count": 61,
   "metadata": {},
   "outputs": [
    {
     "data": {
      "text/html": [
       "<style type=\"text/css\">\n",
       "#T_49da9_row0_col1 {\n",
       "  background-color: #008000;\n",
       "  color: #f1f1f1;\n",
       "}\n",
       "#T_49da9_row1_col1 {\n",
       "  background-color: #2f972f;\n",
       "  color: #f1f1f1;\n",
       "}\n",
       "#T_49da9_row2_col1 {\n",
       "  background-color: #62b062;\n",
       "  color: #f1f1f1;\n",
       "}\n",
       "#T_49da9_row3_col1 {\n",
       "  background-color: #ebf3eb;\n",
       "  color: #000000;\n",
       "}\n",
       "</style>\n",
       "<table id=\"T_49da9_\">\n",
       "  <thead>\n",
       "    <tr>\n",
       "      <th class=\"blank level0\" >&nbsp;</th>\n",
       "      <th class=\"col_heading level0 col0\" >season</th>\n",
       "      <th class=\"col_heading level0 col1\" >Bookings</th>\n",
       "    </tr>\n",
       "  </thead>\n",
       "  <tbody>\n",
       "    <tr>\n",
       "      <th id=\"T_49da9_level0_row0\" class=\"row_heading level0 row0\" >0</th>\n",
       "      <td id=\"T_49da9_row0_col0\" class=\"data row0 col0\" >Summer</td>\n",
       "      <td id=\"T_49da9_row0_col1\" class=\"data row0 col1\" >1033359</td>\n",
       "    </tr>\n",
       "    <tr>\n",
       "      <th id=\"T_49da9_level0_row1\" class=\"row_heading level0 row1\" >1</th>\n",
       "      <td id=\"T_49da9_row1_col0\" class=\"data row1 col0\" >Autumn</td>\n",
       "      <td id=\"T_49da9_row1_col1\" class=\"data row1 col1\" >929961</td>\n",
       "    </tr>\n",
       "    <tr>\n",
       "      <th id=\"T_49da9_level0_row2\" class=\"row_heading level0 row2\" >2</th>\n",
       "      <td id=\"T_49da9_row2_col0\" class=\"data row2 col0\" >Spring</td>\n",
       "      <td id=\"T_49da9_row2_col1\" class=\"data row2 col1\" >816447</td>\n",
       "    </tr>\n",
       "    <tr>\n",
       "      <th id=\"T_49da9_level0_row3\" class=\"row_heading level0 row3\" >3</th>\n",
       "      <td id=\"T_49da9_row3_col0\" class=\"data row3 col0\" >Winter</td>\n",
       "      <td id=\"T_49da9_row3_col1\" class=\"data row3 col1\" >516254</td>\n",
       "    </tr>\n",
       "  </tbody>\n",
       "</table>\n"
      ],
      "text/plain": [
       "<pandas.io.formats.style.Styler at 0x16c06638700>"
      ]
     },
     "execution_count": 61,
     "metadata": {},
     "output_type": "execute_result"
    }
   ],
   "source": [
    "\n",
    "df_VizSeasons=pd.DataFrame(df_hourly.groupby('season').sum()['Bookings'].sort_values(ascending=False)).reset_index()\n",
    "df_VizSeasons.style.background_gradient(cmap=sns.light_palette(\"green\", as_cmap=True))"
   ]
  },
  {
   "cell_type": "code",
   "execution_count": 62,
   "metadata": {},
   "outputs": [
    {
     "data": {
      "application/vnd.plotly.v1+json": {
       "config": {
        "plotlyServerURL": "https://plot.ly"
       },
       "data": [
        {
         "domain": {
          "x": [
           0,
           1
          ],
          "y": [
           0,
           1
          ]
         },
         "hovertemplate": "season=%{label}<br>rented_bikes=%{value}<extra></extra>",
         "labels": [
          "Autumn",
          "Spring",
          "Summer",
          "Winter"
         ],
         "legendgroup": "",
         "name": "",
         "showlegend": true,
         "type": "pie",
         "values": [
          929961,
          816447,
          1033359,
          516254
         ]
        }
       ],
       "layout": {
        "legend": {
         "tracegroupgap": 0
        },
        "template": {
         "data": {
          "bar": [
           {
            "error_x": {
             "color": "#2a3f5f"
            },
            "error_y": {
             "color": "#2a3f5f"
            },
            "marker": {
             "line": {
              "color": "#E5ECF6",
              "width": 0.5
             },
             "pattern": {
              "fillmode": "overlay",
              "size": 10,
              "solidity": 0.2
             }
            },
            "type": "bar"
           }
          ],
          "barpolar": [
           {
            "marker": {
             "line": {
              "color": "#E5ECF6",
              "width": 0.5
             },
             "pattern": {
              "fillmode": "overlay",
              "size": 10,
              "solidity": 0.2
             }
            },
            "type": "barpolar"
           }
          ],
          "carpet": [
           {
            "aaxis": {
             "endlinecolor": "#2a3f5f",
             "gridcolor": "white",
             "linecolor": "white",
             "minorgridcolor": "white",
             "startlinecolor": "#2a3f5f"
            },
            "baxis": {
             "endlinecolor": "#2a3f5f",
             "gridcolor": "white",
             "linecolor": "white",
             "minorgridcolor": "white",
             "startlinecolor": "#2a3f5f"
            },
            "type": "carpet"
           }
          ],
          "choropleth": [
           {
            "colorbar": {
             "outlinewidth": 0,
             "ticks": ""
            },
            "type": "choropleth"
           }
          ],
          "contour": [
           {
            "colorbar": {
             "outlinewidth": 0,
             "ticks": ""
            },
            "colorscale": [
             [
              0,
              "#0d0887"
             ],
             [
              0.1111111111111111,
              "#46039f"
             ],
             [
              0.2222222222222222,
              "#7201a8"
             ],
             [
              0.3333333333333333,
              "#9c179e"
             ],
             [
              0.4444444444444444,
              "#bd3786"
             ],
             [
              0.5555555555555556,
              "#d8576b"
             ],
             [
              0.6666666666666666,
              "#ed7953"
             ],
             [
              0.7777777777777778,
              "#fb9f3a"
             ],
             [
              0.8888888888888888,
              "#fdca26"
             ],
             [
              1,
              "#f0f921"
             ]
            ],
            "type": "contour"
           }
          ],
          "contourcarpet": [
           {
            "colorbar": {
             "outlinewidth": 0,
             "ticks": ""
            },
            "type": "contourcarpet"
           }
          ],
          "heatmap": [
           {
            "colorbar": {
             "outlinewidth": 0,
             "ticks": ""
            },
            "colorscale": [
             [
              0,
              "#0d0887"
             ],
             [
              0.1111111111111111,
              "#46039f"
             ],
             [
              0.2222222222222222,
              "#7201a8"
             ],
             [
              0.3333333333333333,
              "#9c179e"
             ],
             [
              0.4444444444444444,
              "#bd3786"
             ],
             [
              0.5555555555555556,
              "#d8576b"
             ],
             [
              0.6666666666666666,
              "#ed7953"
             ],
             [
              0.7777777777777778,
              "#fb9f3a"
             ],
             [
              0.8888888888888888,
              "#fdca26"
             ],
             [
              1,
              "#f0f921"
             ]
            ],
            "type": "heatmap"
           }
          ],
          "heatmapgl": [
           {
            "colorbar": {
             "outlinewidth": 0,
             "ticks": ""
            },
            "colorscale": [
             [
              0,
              "#0d0887"
             ],
             [
              0.1111111111111111,
              "#46039f"
             ],
             [
              0.2222222222222222,
              "#7201a8"
             ],
             [
              0.3333333333333333,
              "#9c179e"
             ],
             [
              0.4444444444444444,
              "#bd3786"
             ],
             [
              0.5555555555555556,
              "#d8576b"
             ],
             [
              0.6666666666666666,
              "#ed7953"
             ],
             [
              0.7777777777777778,
              "#fb9f3a"
             ],
             [
              0.8888888888888888,
              "#fdca26"
             ],
             [
              1,
              "#f0f921"
             ]
            ],
            "type": "heatmapgl"
           }
          ],
          "histogram": [
           {
            "marker": {
             "pattern": {
              "fillmode": "overlay",
              "size": 10,
              "solidity": 0.2
             }
            },
            "type": "histogram"
           }
          ],
          "histogram2d": [
           {
            "colorbar": {
             "outlinewidth": 0,
             "ticks": ""
            },
            "colorscale": [
             [
              0,
              "#0d0887"
             ],
             [
              0.1111111111111111,
              "#46039f"
             ],
             [
              0.2222222222222222,
              "#7201a8"
             ],
             [
              0.3333333333333333,
              "#9c179e"
             ],
             [
              0.4444444444444444,
              "#bd3786"
             ],
             [
              0.5555555555555556,
              "#d8576b"
             ],
             [
              0.6666666666666666,
              "#ed7953"
             ],
             [
              0.7777777777777778,
              "#fb9f3a"
             ],
             [
              0.8888888888888888,
              "#fdca26"
             ],
             [
              1,
              "#f0f921"
             ]
            ],
            "type": "histogram2d"
           }
          ],
          "histogram2dcontour": [
           {
            "colorbar": {
             "outlinewidth": 0,
             "ticks": ""
            },
            "colorscale": [
             [
              0,
              "#0d0887"
             ],
             [
              0.1111111111111111,
              "#46039f"
             ],
             [
              0.2222222222222222,
              "#7201a8"
             ],
             [
              0.3333333333333333,
              "#9c179e"
             ],
             [
              0.4444444444444444,
              "#bd3786"
             ],
             [
              0.5555555555555556,
              "#d8576b"
             ],
             [
              0.6666666666666666,
              "#ed7953"
             ],
             [
              0.7777777777777778,
              "#fb9f3a"
             ],
             [
              0.8888888888888888,
              "#fdca26"
             ],
             [
              1,
              "#f0f921"
             ]
            ],
            "type": "histogram2dcontour"
           }
          ],
          "mesh3d": [
           {
            "colorbar": {
             "outlinewidth": 0,
             "ticks": ""
            },
            "type": "mesh3d"
           }
          ],
          "parcoords": [
           {
            "line": {
             "colorbar": {
              "outlinewidth": 0,
              "ticks": ""
             }
            },
            "type": "parcoords"
           }
          ],
          "pie": [
           {
            "automargin": true,
            "type": "pie"
           }
          ],
          "scatter": [
           {
            "marker": {
             "colorbar": {
              "outlinewidth": 0,
              "ticks": ""
             }
            },
            "type": "scatter"
           }
          ],
          "scatter3d": [
           {
            "line": {
             "colorbar": {
              "outlinewidth": 0,
              "ticks": ""
             }
            },
            "marker": {
             "colorbar": {
              "outlinewidth": 0,
              "ticks": ""
             }
            },
            "type": "scatter3d"
           }
          ],
          "scattercarpet": [
           {
            "marker": {
             "colorbar": {
              "outlinewidth": 0,
              "ticks": ""
             }
            },
            "type": "scattercarpet"
           }
          ],
          "scattergeo": [
           {
            "marker": {
             "colorbar": {
              "outlinewidth": 0,
              "ticks": ""
             }
            },
            "type": "scattergeo"
           }
          ],
          "scattergl": [
           {
            "marker": {
             "colorbar": {
              "outlinewidth": 0,
              "ticks": ""
             }
            },
            "type": "scattergl"
           }
          ],
          "scattermapbox": [
           {
            "marker": {
             "colorbar": {
              "outlinewidth": 0,
              "ticks": ""
             }
            },
            "type": "scattermapbox"
           }
          ],
          "scatterpolar": [
           {
            "marker": {
             "colorbar": {
              "outlinewidth": 0,
              "ticks": ""
             }
            },
            "type": "scatterpolar"
           }
          ],
          "scatterpolargl": [
           {
            "marker": {
             "colorbar": {
              "outlinewidth": 0,
              "ticks": ""
             }
            },
            "type": "scatterpolargl"
           }
          ],
          "scatterternary": [
           {
            "marker": {
             "colorbar": {
              "outlinewidth": 0,
              "ticks": ""
             }
            },
            "type": "scatterternary"
           }
          ],
          "surface": [
           {
            "colorbar": {
             "outlinewidth": 0,
             "ticks": ""
            },
            "colorscale": [
             [
              0,
              "#0d0887"
             ],
             [
              0.1111111111111111,
              "#46039f"
             ],
             [
              0.2222222222222222,
              "#7201a8"
             ],
             [
              0.3333333333333333,
              "#9c179e"
             ],
             [
              0.4444444444444444,
              "#bd3786"
             ],
             [
              0.5555555555555556,
              "#d8576b"
             ],
             [
              0.6666666666666666,
              "#ed7953"
             ],
             [
              0.7777777777777778,
              "#fb9f3a"
             ],
             [
              0.8888888888888888,
              "#fdca26"
             ],
             [
              1,
              "#f0f921"
             ]
            ],
            "type": "surface"
           }
          ],
          "table": [
           {
            "cells": {
             "fill": {
              "color": "#EBF0F8"
             },
             "line": {
              "color": "white"
             }
            },
            "header": {
             "fill": {
              "color": "#C8D4E3"
             },
             "line": {
              "color": "white"
             }
            },
            "type": "table"
           }
          ]
         },
         "layout": {
          "annotationdefaults": {
           "arrowcolor": "#2a3f5f",
           "arrowhead": 0,
           "arrowwidth": 1
          },
          "autotypenumbers": "strict",
          "coloraxis": {
           "colorbar": {
            "outlinewidth": 0,
            "ticks": ""
           }
          },
          "colorscale": {
           "diverging": [
            [
             0,
             "#8e0152"
            ],
            [
             0.1,
             "#c51b7d"
            ],
            [
             0.2,
             "#de77ae"
            ],
            [
             0.3,
             "#f1b6da"
            ],
            [
             0.4,
             "#fde0ef"
            ],
            [
             0.5,
             "#f7f7f7"
            ],
            [
             0.6,
             "#e6f5d0"
            ],
            [
             0.7,
             "#b8e186"
            ],
            [
             0.8,
             "#7fbc41"
            ],
            [
             0.9,
             "#4d9221"
            ],
            [
             1,
             "#276419"
            ]
           ],
           "sequential": [
            [
             0,
             "#0d0887"
            ],
            [
             0.1111111111111111,
             "#46039f"
            ],
            [
             0.2222222222222222,
             "#7201a8"
            ],
            [
             0.3333333333333333,
             "#9c179e"
            ],
            [
             0.4444444444444444,
             "#bd3786"
            ],
            [
             0.5555555555555556,
             "#d8576b"
            ],
            [
             0.6666666666666666,
             "#ed7953"
            ],
            [
             0.7777777777777778,
             "#fb9f3a"
            ],
            [
             0.8888888888888888,
             "#fdca26"
            ],
            [
             1,
             "#f0f921"
            ]
           ],
           "sequentialminus": [
            [
             0,
             "#0d0887"
            ],
            [
             0.1111111111111111,
             "#46039f"
            ],
            [
             0.2222222222222222,
             "#7201a8"
            ],
            [
             0.3333333333333333,
             "#9c179e"
            ],
            [
             0.4444444444444444,
             "#bd3786"
            ],
            [
             0.5555555555555556,
             "#d8576b"
            ],
            [
             0.6666666666666666,
             "#ed7953"
            ],
            [
             0.7777777777777778,
             "#fb9f3a"
            ],
            [
             0.8888888888888888,
             "#fdca26"
            ],
            [
             1,
             "#f0f921"
            ]
           ]
          },
          "colorway": [
           "#636efa",
           "#EF553B",
           "#00cc96",
           "#ab63fa",
           "#FFA15A",
           "#19d3f3",
           "#FF6692",
           "#B6E880",
           "#FF97FF",
           "#FECB52"
          ],
          "font": {
           "color": "#2a3f5f"
          },
          "geo": {
           "bgcolor": "white",
           "lakecolor": "white",
           "landcolor": "#E5ECF6",
           "showlakes": true,
           "showland": true,
           "subunitcolor": "white"
          },
          "hoverlabel": {
           "align": "left"
          },
          "hovermode": "closest",
          "mapbox": {
           "style": "light"
          },
          "paper_bgcolor": "white",
          "plot_bgcolor": "#E5ECF6",
          "polar": {
           "angularaxis": {
            "gridcolor": "white",
            "linecolor": "white",
            "ticks": ""
           },
           "bgcolor": "#E5ECF6",
           "radialaxis": {
            "gridcolor": "white",
            "linecolor": "white",
            "ticks": ""
           }
          },
          "scene": {
           "xaxis": {
            "backgroundcolor": "#E5ECF6",
            "gridcolor": "white",
            "gridwidth": 2,
            "linecolor": "white",
            "showbackground": true,
            "ticks": "",
            "zerolinecolor": "white"
           },
           "yaxis": {
            "backgroundcolor": "#E5ECF6",
            "gridcolor": "white",
            "gridwidth": 2,
            "linecolor": "white",
            "showbackground": true,
            "ticks": "",
            "zerolinecolor": "white"
           },
           "zaxis": {
            "backgroundcolor": "#E5ECF6",
            "gridcolor": "white",
            "gridwidth": 2,
            "linecolor": "white",
            "showbackground": true,
            "ticks": "",
            "zerolinecolor": "white"
           }
          },
          "shapedefaults": {
           "line": {
            "color": "#2a3f5f"
           }
          },
          "ternary": {
           "aaxis": {
            "gridcolor": "white",
            "linecolor": "white",
            "ticks": ""
           },
           "baxis": {
            "gridcolor": "white",
            "linecolor": "white",
            "ticks": ""
           },
           "bgcolor": "#E5ECF6",
           "caxis": {
            "gridcolor": "white",
            "linecolor": "white",
            "ticks": ""
           }
          },
          "title": {
           "x": 0.05
          },
          "xaxis": {
           "automargin": true,
           "gridcolor": "white",
           "linecolor": "white",
           "ticks": "",
           "title": {
            "standoff": 15
           },
           "zerolinecolor": "white",
           "zerolinewidth": 2
          },
          "yaxis": {
           "automargin": true,
           "gridcolor": "white",
           "linecolor": "white",
           "ticks": "",
           "title": {
            "standoff": 15
           },
           "zerolinecolor": "white",
           "zerolinewidth": 2
          }
         }
        },
        "title": {
         "text": "Anzahl der ausgeliehenen E-Scooter pro Jahreszeit"
        }
       }
      }
     },
     "metadata": {},
     "output_type": "display_data"
    }
   ],
   "source": [
    "df_by_season = df_hourly.groupby(\"season\")[\"Bookings\"].sum().reset_index(name=\"rented_bikes\")\n",
    "fig_pie = px.pie(df_by_season,values=\"rented_bikes\",names=\"season\", title=\"Anzahl der ausgeliehenen E-Scooter pro Jahreszeit\")\n",
    "fig_pie.show()"
   ]
  },
  {
   "cell_type": "code",
   "execution_count": 91,
   "metadata": {},
   "outputs": [
    {
     "data": {
      "application/vnd.plotly.v1+json": {
       "config": {
        "plotlyServerURL": "https://plot.ly"
       },
       "data": [
        {
         "alignmentgroup": "True",
         "hovertemplate": "variable=Bookings<br>hour=%{x}<br>Gesamtanzahl der Buchungen pro Stunde=%{y}<extra></extra>",
         "legendgroup": "Bookings",
         "marker": {
          "color": "#636efa",
          "pattern": {
           "shape": ""
          }
         },
         "name": "Bookings",
         "offsetgroup": "Bookings",
         "orientation": "v",
         "showlegend": true,
         "textposition": "auto",
         "type": "bar",
         "x": [
          0,
          1,
          2,
          3,
          4,
          5,
          6,
          7,
          8,
          9,
          10,
          11,
          12,
          13,
          14,
          15,
          16,
          17,
          18,
          19,
          20,
          21,
          22,
          23
         ],
         "xaxis": "x",
         "y": [
          39441,
          24156,
          16029,
          8032,
          4609,
          14269,
          55705,
          152242,
          262351,
          159982,
          125613,
          150516,
          183955,
          184883,
          174186,
          181453,
          226328,
          340058,
          311525,
          228959,
          164778,
          125564,
          96620,
          64767
         ],
         "yaxis": "y"
        }
       ],
       "layout": {
        "barmode": "relative",
        "legend": {
         "title": {
          "text": "variable"
         },
         "tracegroupgap": 0
        },
        "showlegend": false,
        "template": {
         "data": {
          "bar": [
           {
            "error_x": {
             "color": "#2a3f5f"
            },
            "error_y": {
             "color": "#2a3f5f"
            },
            "marker": {
             "line": {
              "color": "#E5ECF6",
              "width": 0.5
             },
             "pattern": {
              "fillmode": "overlay",
              "size": 10,
              "solidity": 0.2
             }
            },
            "type": "bar"
           }
          ],
          "barpolar": [
           {
            "marker": {
             "line": {
              "color": "#E5ECF6",
              "width": 0.5
             },
             "pattern": {
              "fillmode": "overlay",
              "size": 10,
              "solidity": 0.2
             }
            },
            "type": "barpolar"
           }
          ],
          "carpet": [
           {
            "aaxis": {
             "endlinecolor": "#2a3f5f",
             "gridcolor": "white",
             "linecolor": "white",
             "minorgridcolor": "white",
             "startlinecolor": "#2a3f5f"
            },
            "baxis": {
             "endlinecolor": "#2a3f5f",
             "gridcolor": "white",
             "linecolor": "white",
             "minorgridcolor": "white",
             "startlinecolor": "#2a3f5f"
            },
            "type": "carpet"
           }
          ],
          "choropleth": [
           {
            "colorbar": {
             "outlinewidth": 0,
             "ticks": ""
            },
            "type": "choropleth"
           }
          ],
          "contour": [
           {
            "colorbar": {
             "outlinewidth": 0,
             "ticks": ""
            },
            "colorscale": [
             [
              0,
              "#0d0887"
             ],
             [
              0.1111111111111111,
              "#46039f"
             ],
             [
              0.2222222222222222,
              "#7201a8"
             ],
             [
              0.3333333333333333,
              "#9c179e"
             ],
             [
              0.4444444444444444,
              "#bd3786"
             ],
             [
              0.5555555555555556,
              "#d8576b"
             ],
             [
              0.6666666666666666,
              "#ed7953"
             ],
             [
              0.7777777777777778,
              "#fb9f3a"
             ],
             [
              0.8888888888888888,
              "#fdca26"
             ],
             [
              1,
              "#f0f921"
             ]
            ],
            "type": "contour"
           }
          ],
          "contourcarpet": [
           {
            "colorbar": {
             "outlinewidth": 0,
             "ticks": ""
            },
            "type": "contourcarpet"
           }
          ],
          "heatmap": [
           {
            "colorbar": {
             "outlinewidth": 0,
             "ticks": ""
            },
            "colorscale": [
             [
              0,
              "#0d0887"
             ],
             [
              0.1111111111111111,
              "#46039f"
             ],
             [
              0.2222222222222222,
              "#7201a8"
             ],
             [
              0.3333333333333333,
              "#9c179e"
             ],
             [
              0.4444444444444444,
              "#bd3786"
             ],
             [
              0.5555555555555556,
              "#d8576b"
             ],
             [
              0.6666666666666666,
              "#ed7953"
             ],
             [
              0.7777777777777778,
              "#fb9f3a"
             ],
             [
              0.8888888888888888,
              "#fdca26"
             ],
             [
              1,
              "#f0f921"
             ]
            ],
            "type": "heatmap"
           }
          ],
          "heatmapgl": [
           {
            "colorbar": {
             "outlinewidth": 0,
             "ticks": ""
            },
            "colorscale": [
             [
              0,
              "#0d0887"
             ],
             [
              0.1111111111111111,
              "#46039f"
             ],
             [
              0.2222222222222222,
              "#7201a8"
             ],
             [
              0.3333333333333333,
              "#9c179e"
             ],
             [
              0.4444444444444444,
              "#bd3786"
             ],
             [
              0.5555555555555556,
              "#d8576b"
             ],
             [
              0.6666666666666666,
              "#ed7953"
             ],
             [
              0.7777777777777778,
              "#fb9f3a"
             ],
             [
              0.8888888888888888,
              "#fdca26"
             ],
             [
              1,
              "#f0f921"
             ]
            ],
            "type": "heatmapgl"
           }
          ],
          "histogram": [
           {
            "marker": {
             "pattern": {
              "fillmode": "overlay",
              "size": 10,
              "solidity": 0.2
             }
            },
            "type": "histogram"
           }
          ],
          "histogram2d": [
           {
            "colorbar": {
             "outlinewidth": 0,
             "ticks": ""
            },
            "colorscale": [
             [
              0,
              "#0d0887"
             ],
             [
              0.1111111111111111,
              "#46039f"
             ],
             [
              0.2222222222222222,
              "#7201a8"
             ],
             [
              0.3333333333333333,
              "#9c179e"
             ],
             [
              0.4444444444444444,
              "#bd3786"
             ],
             [
              0.5555555555555556,
              "#d8576b"
             ],
             [
              0.6666666666666666,
              "#ed7953"
             ],
             [
              0.7777777777777778,
              "#fb9f3a"
             ],
             [
              0.8888888888888888,
              "#fdca26"
             ],
             [
              1,
              "#f0f921"
             ]
            ],
            "type": "histogram2d"
           }
          ],
          "histogram2dcontour": [
           {
            "colorbar": {
             "outlinewidth": 0,
             "ticks": ""
            },
            "colorscale": [
             [
              0,
              "#0d0887"
             ],
             [
              0.1111111111111111,
              "#46039f"
             ],
             [
              0.2222222222222222,
              "#7201a8"
             ],
             [
              0.3333333333333333,
              "#9c179e"
             ],
             [
              0.4444444444444444,
              "#bd3786"
             ],
             [
              0.5555555555555556,
              "#d8576b"
             ],
             [
              0.6666666666666666,
              "#ed7953"
             ],
             [
              0.7777777777777778,
              "#fb9f3a"
             ],
             [
              0.8888888888888888,
              "#fdca26"
             ],
             [
              1,
              "#f0f921"
             ]
            ],
            "type": "histogram2dcontour"
           }
          ],
          "mesh3d": [
           {
            "colorbar": {
             "outlinewidth": 0,
             "ticks": ""
            },
            "type": "mesh3d"
           }
          ],
          "parcoords": [
           {
            "line": {
             "colorbar": {
              "outlinewidth": 0,
              "ticks": ""
             }
            },
            "type": "parcoords"
           }
          ],
          "pie": [
           {
            "automargin": true,
            "type": "pie"
           }
          ],
          "scatter": [
           {
            "marker": {
             "colorbar": {
              "outlinewidth": 0,
              "ticks": ""
             }
            },
            "type": "scatter"
           }
          ],
          "scatter3d": [
           {
            "line": {
             "colorbar": {
              "outlinewidth": 0,
              "ticks": ""
             }
            },
            "marker": {
             "colorbar": {
              "outlinewidth": 0,
              "ticks": ""
             }
            },
            "type": "scatter3d"
           }
          ],
          "scattercarpet": [
           {
            "marker": {
             "colorbar": {
              "outlinewidth": 0,
              "ticks": ""
             }
            },
            "type": "scattercarpet"
           }
          ],
          "scattergeo": [
           {
            "marker": {
             "colorbar": {
              "outlinewidth": 0,
              "ticks": ""
             }
            },
            "type": "scattergeo"
           }
          ],
          "scattergl": [
           {
            "marker": {
             "colorbar": {
              "outlinewidth": 0,
              "ticks": ""
             }
            },
            "type": "scattergl"
           }
          ],
          "scattermapbox": [
           {
            "marker": {
             "colorbar": {
              "outlinewidth": 0,
              "ticks": ""
             }
            },
            "type": "scattermapbox"
           }
          ],
          "scatterpolar": [
           {
            "marker": {
             "colorbar": {
              "outlinewidth": 0,
              "ticks": ""
             }
            },
            "type": "scatterpolar"
           }
          ],
          "scatterpolargl": [
           {
            "marker": {
             "colorbar": {
              "outlinewidth": 0,
              "ticks": ""
             }
            },
            "type": "scatterpolargl"
           }
          ],
          "scatterternary": [
           {
            "marker": {
             "colorbar": {
              "outlinewidth": 0,
              "ticks": ""
             }
            },
            "type": "scatterternary"
           }
          ],
          "surface": [
           {
            "colorbar": {
             "outlinewidth": 0,
             "ticks": ""
            },
            "colorscale": [
             [
              0,
              "#0d0887"
             ],
             [
              0.1111111111111111,
              "#46039f"
             ],
             [
              0.2222222222222222,
              "#7201a8"
             ],
             [
              0.3333333333333333,
              "#9c179e"
             ],
             [
              0.4444444444444444,
              "#bd3786"
             ],
             [
              0.5555555555555556,
              "#d8576b"
             ],
             [
              0.6666666666666666,
              "#ed7953"
             ],
             [
              0.7777777777777778,
              "#fb9f3a"
             ],
             [
              0.8888888888888888,
              "#fdca26"
             ],
             [
              1,
              "#f0f921"
             ]
            ],
            "type": "surface"
           }
          ],
          "table": [
           {
            "cells": {
             "fill": {
              "color": "#EBF0F8"
             },
             "line": {
              "color": "white"
             }
            },
            "header": {
             "fill": {
              "color": "#C8D4E3"
             },
             "line": {
              "color": "white"
             }
            },
            "type": "table"
           }
          ]
         },
         "layout": {
          "annotationdefaults": {
           "arrowcolor": "#2a3f5f",
           "arrowhead": 0,
           "arrowwidth": 1
          },
          "autotypenumbers": "strict",
          "coloraxis": {
           "colorbar": {
            "outlinewidth": 0,
            "ticks": ""
           }
          },
          "colorscale": {
           "diverging": [
            [
             0,
             "#8e0152"
            ],
            [
             0.1,
             "#c51b7d"
            ],
            [
             0.2,
             "#de77ae"
            ],
            [
             0.3,
             "#f1b6da"
            ],
            [
             0.4,
             "#fde0ef"
            ],
            [
             0.5,
             "#f7f7f7"
            ],
            [
             0.6,
             "#e6f5d0"
            ],
            [
             0.7,
             "#b8e186"
            ],
            [
             0.8,
             "#7fbc41"
            ],
            [
             0.9,
             "#4d9221"
            ],
            [
             1,
             "#276419"
            ]
           ],
           "sequential": [
            [
             0,
             "#0d0887"
            ],
            [
             0.1111111111111111,
             "#46039f"
            ],
            [
             0.2222222222222222,
             "#7201a8"
            ],
            [
             0.3333333333333333,
             "#9c179e"
            ],
            [
             0.4444444444444444,
             "#bd3786"
            ],
            [
             0.5555555555555556,
             "#d8576b"
            ],
            [
             0.6666666666666666,
             "#ed7953"
            ],
            [
             0.7777777777777778,
             "#fb9f3a"
            ],
            [
             0.8888888888888888,
             "#fdca26"
            ],
            [
             1,
             "#f0f921"
            ]
           ],
           "sequentialminus": [
            [
             0,
             "#0d0887"
            ],
            [
             0.1111111111111111,
             "#46039f"
            ],
            [
             0.2222222222222222,
             "#7201a8"
            ],
            [
             0.3333333333333333,
             "#9c179e"
            ],
            [
             0.4444444444444444,
             "#bd3786"
            ],
            [
             0.5555555555555556,
             "#d8576b"
            ],
            [
             0.6666666666666666,
             "#ed7953"
            ],
            [
             0.7777777777777778,
             "#fb9f3a"
            ],
            [
             0.8888888888888888,
             "#fdca26"
            ],
            [
             1,
             "#f0f921"
            ]
           ]
          },
          "colorway": [
           "#636efa",
           "#EF553B",
           "#00cc96",
           "#ab63fa",
           "#FFA15A",
           "#19d3f3",
           "#FF6692",
           "#B6E880",
           "#FF97FF",
           "#FECB52"
          ],
          "font": {
           "color": "#2a3f5f"
          },
          "geo": {
           "bgcolor": "white",
           "lakecolor": "white",
           "landcolor": "#E5ECF6",
           "showlakes": true,
           "showland": true,
           "subunitcolor": "white"
          },
          "hoverlabel": {
           "align": "left"
          },
          "hovermode": "closest",
          "mapbox": {
           "style": "light"
          },
          "paper_bgcolor": "white",
          "plot_bgcolor": "#E5ECF6",
          "polar": {
           "angularaxis": {
            "gridcolor": "white",
            "linecolor": "white",
            "ticks": ""
           },
           "bgcolor": "#E5ECF6",
           "radialaxis": {
            "gridcolor": "white",
            "linecolor": "white",
            "ticks": ""
           }
          },
          "scene": {
           "xaxis": {
            "backgroundcolor": "#E5ECF6",
            "gridcolor": "white",
            "gridwidth": 2,
            "linecolor": "white",
            "showbackground": true,
            "ticks": "",
            "zerolinecolor": "white"
           },
           "yaxis": {
            "backgroundcolor": "#E5ECF6",
            "gridcolor": "white",
            "gridwidth": 2,
            "linecolor": "white",
            "showbackground": true,
            "ticks": "",
            "zerolinecolor": "white"
           },
           "zaxis": {
            "backgroundcolor": "#E5ECF6",
            "gridcolor": "white",
            "gridwidth": 2,
            "linecolor": "white",
            "showbackground": true,
            "ticks": "",
            "zerolinecolor": "white"
           }
          },
          "shapedefaults": {
           "line": {
            "color": "#2a3f5f"
           }
          },
          "ternary": {
           "aaxis": {
            "gridcolor": "white",
            "linecolor": "white",
            "ticks": ""
           },
           "baxis": {
            "gridcolor": "white",
            "linecolor": "white",
            "ticks": ""
           },
           "bgcolor": "#E5ECF6",
           "caxis": {
            "gridcolor": "white",
            "linecolor": "white",
            "ticks": ""
           }
          },
          "title": {
           "x": 0.05
          },
          "xaxis": {
           "automargin": true,
           "gridcolor": "white",
           "linecolor": "white",
           "ticks": "",
           "title": {
            "standoff": 15
           },
           "zerolinecolor": "white",
           "zerolinewidth": 2
          },
          "yaxis": {
           "automargin": true,
           "gridcolor": "white",
           "linecolor": "white",
           "ticks": "",
           "title": {
            "standoff": 15
           },
           "zerolinecolor": "white",
           "zerolinewidth": 2
          }
         }
        },
        "title": {
         "text": "Stündliche Verteilung der Buchungen innerhalb 2 Jahren"
        },
        "xaxis": {
         "anchor": "y",
         "domain": [
          0,
          1
         ],
         "title": {
          "text": "hour"
         }
        },
        "yaxis": {
         "anchor": "x",
         "domain": [
          0,
          1
         ],
         "title": {
          "text": "Gesamtanzahl der Buchungen pro Stunde"
         }
        }
       }
      }
     },
     "metadata": {},
     "output_type": "display_data"
    }
   ],
   "source": [
    "hourly_sum = df_hourly.groupby(df_hourly[\"hour\"]).agg({\"Bookings\": \"sum\"})\n",
    "fig = px.bar(hourly_sum, title=\"Stündliche Verteilung der Buchungen innerhalb 2 Jahren\", labels= {\"value\" : \"Gesamtanzahl der Buchungen pro Stunde\", \"datetime\": \"Uhrzeit in Stunde\"})\n",
    "fig.update_layout(showlegend=False)"
   ]
  },
  {
   "cell_type": "code",
   "execution_count": 63,
   "metadata": {},
   "outputs": [
    {
     "data": {
      "application/vnd.plotly.v1+json": {
       "config": {
        "plotlyServerURL": "https://plot.ly"
       },
       "data": [
        {
         "hovertemplate": "year=2010<br>week=%{x}<br>Durchschnitt pro Woche=%{y}<extra></extra>",
         "legendgroup": "2010",
         "line": {
          "color": "#636efa",
          "dash": "solid"
         },
         "marker": {
          "symbol": "circle"
         },
         "mode": "lines+markers",
         "name": "2010",
         "orientation": "v",
         "showlegend": true,
         "type": "scatter",
         "x": [
          52
         ],
         "xaxis": "x",
         "y": [
          662
         ],
         "yaxis": "y"
        },
        {
         "hovertemplate": "year=2011<br>week=%{x}<br>Durchschnitt pro Woche=%{y}<extra></extra>",
         "legendgroup": "2011",
         "line": {
          "color": "#EF553B",
          "dash": "solid"
         },
         "marker": {
          "symbol": "circle"
         },
         "mode": "lines+markers",
         "name": "2011",
         "orientation": "v",
         "showlegend": true,
         "type": "scatter",
         "x": [
          1,
          2,
          3,
          4,
          5,
          6,
          7,
          8,
          9,
          10,
          11,
          12,
          13,
          14,
          15,
          16,
          17,
          18,
          19,
          20,
          21,
          22,
          23,
          24,
          25,
          26,
          27,
          28,
          29,
          30,
          31,
          32,
          33,
          34,
          35,
          36,
          37,
          38,
          39,
          40,
          41,
          42,
          43,
          44,
          45,
          46,
          47,
          48,
          49,
          50,
          51,
          52
         ],
         "xaxis": "x",
         "y": [
          1248.5714285714287,
          1193,
          1040.4285714285713,
          939.4285714285714,
          1320.2857142857142,
          1439.142857142857,
          1739.142857142857,
          1429,
          1419.857142857143,
          1470.7142857142858,
          1881.2857142857142,
          1859.142857142857,
          1732.857142857143,
          1936.5714285714287,
          2043.5714285714287,
          2432,
          2642.5714285714284,
          3335.285714285714,
          3499.8571428571427,
          3509.714285714286,
          3538.285714285714,
          3670.4285714285716,
          3574.714285714286,
          3764.5714285714284,
          3703.285714285714,
          3598.5714285714284,
          3447,
          3681.4285714285716,
          3309.5714285714284,
          3410.285714285714,
          3366.8571428571427,
          3433.285714285714,
          3400,
          3223.1428571428573,
          3556.714285714286,
          2617.5714285714284,
          3638.5714285714284,
          2663.8571428571427,
          3126.4285714285716,
          3703.8571428571427,
          3149.5714285714284,
          3394,
          3097.714285714286,
          3366,
          3210.1428571428573,
          3002.5714285714284,
          2840.8571428571427,
          3264.714285714286,
          2612.285714285714,
          3099.8571428571427,
          2524.1428571428573,
          2257.4285714285716
         ],
         "yaxis": "y"
        },
        {
         "hovertemplate": "year=2012<br>week=%{x}<br>Durchschnitt pro Woche=%{y}<extra></extra>",
         "legendgroup": "2012",
         "line": {
          "color": "#00cc96",
          "dash": "solid"
         },
         "marker": {
          "symbol": "circle"
         },
         "mode": "lines+markers",
         "name": "2012",
         "orientation": "v",
         "showlegend": true,
         "type": "scatter",
         "x": [
          1,
          2,
          3,
          4,
          5,
          6,
          7,
          8,
          9,
          10,
          11,
          12,
          13,
          14,
          15,
          16,
          17,
          18,
          19,
          20,
          21,
          22,
          23,
          24,
          25,
          26,
          27,
          28,
          29,
          30,
          31,
          32,
          33,
          34,
          35,
          36,
          37,
          38,
          39,
          40,
          41,
          42,
          43,
          44,
          45,
          46,
          47,
          48,
          49,
          50,
          51,
          52
         ],
         "xaxis": "x",
         "y": [
          2761,
          2690.714285714286,
          2562.714285714286,
          2824.714285714286,
          3321.5714285714284,
          3021.5714285714284,
          3261.8571428571427,
          3090,
          3327.714285714286,
          3824.285714285714,
          4606.142857142857,
          4385.285714285715,
          4263.857142857143,
          4570.285714285715,
          4714.571428571428,
          4539.428571428572,
          4203.285714285715,
          4964.857142857143,
          4908.857142857143,
          4988.428571428572,
          4742,
          5046.428571428572,
          5693.714285714285,
          5394,
          5105.285714285715,
          5254.142857142857,
          4615.714285714285,
          5474.714285714285,
          4713.857142857143,
          5238.428571428572,
          5446.285714285715,
          5324.428571428572,
          5398.857142857143,
          5112.428571428572,
          5286.857142857143,
          5496.142857142857,
          6289.285714285715,
          5633.285714285715,
          6000.571428571428,
          5417.571428571428,
          5668.571428571428,
          5577.571428571428,
          5591.428571428572,
          3711.1428571428573,
          4868,
          4637.571428571428,
          4600.428571428572,
          4561.571428571428,
          4863.142857142857,
          4698,
          4154.285714285715,
          3142.5714285714284
         ],
         "yaxis": "y"
        },
        {
         "hovertemplate": "year=2013<br>week=%{x}<br>Durchschnitt pro Woche=%{y}<extra></extra>",
         "legendgroup": "2013",
         "line": {
          "color": "#ab63fa",
          "dash": "solid"
         },
         "marker": {
          "symbol": "circle"
         },
         "mode": "lines+markers",
         "name": "2013",
         "orientation": "v",
         "showlegend": true,
         "type": "scatter",
         "x": [
          1
         ],
         "xaxis": "x",
         "y": [
          4203
         ],
         "yaxis": "y"
        }
       ],
       "layout": {
        "legend": {
         "title": {
          "text": "year"
         },
         "tracegroupgap": 0
        },
        "template": {
         "data": {
          "bar": [
           {
            "error_x": {
             "color": "#2a3f5f"
            },
            "error_y": {
             "color": "#2a3f5f"
            },
            "marker": {
             "line": {
              "color": "#E5ECF6",
              "width": 0.5
             },
             "pattern": {
              "fillmode": "overlay",
              "size": 10,
              "solidity": 0.2
             }
            },
            "type": "bar"
           }
          ],
          "barpolar": [
           {
            "marker": {
             "line": {
              "color": "#E5ECF6",
              "width": 0.5
             },
             "pattern": {
              "fillmode": "overlay",
              "size": 10,
              "solidity": 0.2
             }
            },
            "type": "barpolar"
           }
          ],
          "carpet": [
           {
            "aaxis": {
             "endlinecolor": "#2a3f5f",
             "gridcolor": "white",
             "linecolor": "white",
             "minorgridcolor": "white",
             "startlinecolor": "#2a3f5f"
            },
            "baxis": {
             "endlinecolor": "#2a3f5f",
             "gridcolor": "white",
             "linecolor": "white",
             "minorgridcolor": "white",
             "startlinecolor": "#2a3f5f"
            },
            "type": "carpet"
           }
          ],
          "choropleth": [
           {
            "colorbar": {
             "outlinewidth": 0,
             "ticks": ""
            },
            "type": "choropleth"
           }
          ],
          "contour": [
           {
            "colorbar": {
             "outlinewidth": 0,
             "ticks": ""
            },
            "colorscale": [
             [
              0,
              "#0d0887"
             ],
             [
              0.1111111111111111,
              "#46039f"
             ],
             [
              0.2222222222222222,
              "#7201a8"
             ],
             [
              0.3333333333333333,
              "#9c179e"
             ],
             [
              0.4444444444444444,
              "#bd3786"
             ],
             [
              0.5555555555555556,
              "#d8576b"
             ],
             [
              0.6666666666666666,
              "#ed7953"
             ],
             [
              0.7777777777777778,
              "#fb9f3a"
             ],
             [
              0.8888888888888888,
              "#fdca26"
             ],
             [
              1,
              "#f0f921"
             ]
            ],
            "type": "contour"
           }
          ],
          "contourcarpet": [
           {
            "colorbar": {
             "outlinewidth": 0,
             "ticks": ""
            },
            "type": "contourcarpet"
           }
          ],
          "heatmap": [
           {
            "colorbar": {
             "outlinewidth": 0,
             "ticks": ""
            },
            "colorscale": [
             [
              0,
              "#0d0887"
             ],
             [
              0.1111111111111111,
              "#46039f"
             ],
             [
              0.2222222222222222,
              "#7201a8"
             ],
             [
              0.3333333333333333,
              "#9c179e"
             ],
             [
              0.4444444444444444,
              "#bd3786"
             ],
             [
              0.5555555555555556,
              "#d8576b"
             ],
             [
              0.6666666666666666,
              "#ed7953"
             ],
             [
              0.7777777777777778,
              "#fb9f3a"
             ],
             [
              0.8888888888888888,
              "#fdca26"
             ],
             [
              1,
              "#f0f921"
             ]
            ],
            "type": "heatmap"
           }
          ],
          "heatmapgl": [
           {
            "colorbar": {
             "outlinewidth": 0,
             "ticks": ""
            },
            "colorscale": [
             [
              0,
              "#0d0887"
             ],
             [
              0.1111111111111111,
              "#46039f"
             ],
             [
              0.2222222222222222,
              "#7201a8"
             ],
             [
              0.3333333333333333,
              "#9c179e"
             ],
             [
              0.4444444444444444,
              "#bd3786"
             ],
             [
              0.5555555555555556,
              "#d8576b"
             ],
             [
              0.6666666666666666,
              "#ed7953"
             ],
             [
              0.7777777777777778,
              "#fb9f3a"
             ],
             [
              0.8888888888888888,
              "#fdca26"
             ],
             [
              1,
              "#f0f921"
             ]
            ],
            "type": "heatmapgl"
           }
          ],
          "histogram": [
           {
            "marker": {
             "pattern": {
              "fillmode": "overlay",
              "size": 10,
              "solidity": 0.2
             }
            },
            "type": "histogram"
           }
          ],
          "histogram2d": [
           {
            "colorbar": {
             "outlinewidth": 0,
             "ticks": ""
            },
            "colorscale": [
             [
              0,
              "#0d0887"
             ],
             [
              0.1111111111111111,
              "#46039f"
             ],
             [
              0.2222222222222222,
              "#7201a8"
             ],
             [
              0.3333333333333333,
              "#9c179e"
             ],
             [
              0.4444444444444444,
              "#bd3786"
             ],
             [
              0.5555555555555556,
              "#d8576b"
             ],
             [
              0.6666666666666666,
              "#ed7953"
             ],
             [
              0.7777777777777778,
              "#fb9f3a"
             ],
             [
              0.8888888888888888,
              "#fdca26"
             ],
             [
              1,
              "#f0f921"
             ]
            ],
            "type": "histogram2d"
           }
          ],
          "histogram2dcontour": [
           {
            "colorbar": {
             "outlinewidth": 0,
             "ticks": ""
            },
            "colorscale": [
             [
              0,
              "#0d0887"
             ],
             [
              0.1111111111111111,
              "#46039f"
             ],
             [
              0.2222222222222222,
              "#7201a8"
             ],
             [
              0.3333333333333333,
              "#9c179e"
             ],
             [
              0.4444444444444444,
              "#bd3786"
             ],
             [
              0.5555555555555556,
              "#d8576b"
             ],
             [
              0.6666666666666666,
              "#ed7953"
             ],
             [
              0.7777777777777778,
              "#fb9f3a"
             ],
             [
              0.8888888888888888,
              "#fdca26"
             ],
             [
              1,
              "#f0f921"
             ]
            ],
            "type": "histogram2dcontour"
           }
          ],
          "mesh3d": [
           {
            "colorbar": {
             "outlinewidth": 0,
             "ticks": ""
            },
            "type": "mesh3d"
           }
          ],
          "parcoords": [
           {
            "line": {
             "colorbar": {
              "outlinewidth": 0,
              "ticks": ""
             }
            },
            "type": "parcoords"
           }
          ],
          "pie": [
           {
            "automargin": true,
            "type": "pie"
           }
          ],
          "scatter": [
           {
            "marker": {
             "colorbar": {
              "outlinewidth": 0,
              "ticks": ""
             }
            },
            "type": "scatter"
           }
          ],
          "scatter3d": [
           {
            "line": {
             "colorbar": {
              "outlinewidth": 0,
              "ticks": ""
             }
            },
            "marker": {
             "colorbar": {
              "outlinewidth": 0,
              "ticks": ""
             }
            },
            "type": "scatter3d"
           }
          ],
          "scattercarpet": [
           {
            "marker": {
             "colorbar": {
              "outlinewidth": 0,
              "ticks": ""
             }
            },
            "type": "scattercarpet"
           }
          ],
          "scattergeo": [
           {
            "marker": {
             "colorbar": {
              "outlinewidth": 0,
              "ticks": ""
             }
            },
            "type": "scattergeo"
           }
          ],
          "scattergl": [
           {
            "marker": {
             "colorbar": {
              "outlinewidth": 0,
              "ticks": ""
             }
            },
            "type": "scattergl"
           }
          ],
          "scattermapbox": [
           {
            "marker": {
             "colorbar": {
              "outlinewidth": 0,
              "ticks": ""
             }
            },
            "type": "scattermapbox"
           }
          ],
          "scatterpolar": [
           {
            "marker": {
             "colorbar": {
              "outlinewidth": 0,
              "ticks": ""
             }
            },
            "type": "scatterpolar"
           }
          ],
          "scatterpolargl": [
           {
            "marker": {
             "colorbar": {
              "outlinewidth": 0,
              "ticks": ""
             }
            },
            "type": "scatterpolargl"
           }
          ],
          "scatterternary": [
           {
            "marker": {
             "colorbar": {
              "outlinewidth": 0,
              "ticks": ""
             }
            },
            "type": "scatterternary"
           }
          ],
          "surface": [
           {
            "colorbar": {
             "outlinewidth": 0,
             "ticks": ""
            },
            "colorscale": [
             [
              0,
              "#0d0887"
             ],
             [
              0.1111111111111111,
              "#46039f"
             ],
             [
              0.2222222222222222,
              "#7201a8"
             ],
             [
              0.3333333333333333,
              "#9c179e"
             ],
             [
              0.4444444444444444,
              "#bd3786"
             ],
             [
              0.5555555555555556,
              "#d8576b"
             ],
             [
              0.6666666666666666,
              "#ed7953"
             ],
             [
              0.7777777777777778,
              "#fb9f3a"
             ],
             [
              0.8888888888888888,
              "#fdca26"
             ],
             [
              1,
              "#f0f921"
             ]
            ],
            "type": "surface"
           }
          ],
          "table": [
           {
            "cells": {
             "fill": {
              "color": "#EBF0F8"
             },
             "line": {
              "color": "white"
             }
            },
            "header": {
             "fill": {
              "color": "#C8D4E3"
             },
             "line": {
              "color": "white"
             }
            },
            "type": "table"
           }
          ]
         },
         "layout": {
          "annotationdefaults": {
           "arrowcolor": "#2a3f5f",
           "arrowhead": 0,
           "arrowwidth": 1
          },
          "autotypenumbers": "strict",
          "coloraxis": {
           "colorbar": {
            "outlinewidth": 0,
            "ticks": ""
           }
          },
          "colorscale": {
           "diverging": [
            [
             0,
             "#8e0152"
            ],
            [
             0.1,
             "#c51b7d"
            ],
            [
             0.2,
             "#de77ae"
            ],
            [
             0.3,
             "#f1b6da"
            ],
            [
             0.4,
             "#fde0ef"
            ],
            [
             0.5,
             "#f7f7f7"
            ],
            [
             0.6,
             "#e6f5d0"
            ],
            [
             0.7,
             "#b8e186"
            ],
            [
             0.8,
             "#7fbc41"
            ],
            [
             0.9,
             "#4d9221"
            ],
            [
             1,
             "#276419"
            ]
           ],
           "sequential": [
            [
             0,
             "#0d0887"
            ],
            [
             0.1111111111111111,
             "#46039f"
            ],
            [
             0.2222222222222222,
             "#7201a8"
            ],
            [
             0.3333333333333333,
             "#9c179e"
            ],
            [
             0.4444444444444444,
             "#bd3786"
            ],
            [
             0.5555555555555556,
             "#d8576b"
            ],
            [
             0.6666666666666666,
             "#ed7953"
            ],
            [
             0.7777777777777778,
             "#fb9f3a"
            ],
            [
             0.8888888888888888,
             "#fdca26"
            ],
            [
             1,
             "#f0f921"
            ]
           ],
           "sequentialminus": [
            [
             0,
             "#0d0887"
            ],
            [
             0.1111111111111111,
             "#46039f"
            ],
            [
             0.2222222222222222,
             "#7201a8"
            ],
            [
             0.3333333333333333,
             "#9c179e"
            ],
            [
             0.4444444444444444,
             "#bd3786"
            ],
            [
             0.5555555555555556,
             "#d8576b"
            ],
            [
             0.6666666666666666,
             "#ed7953"
            ],
            [
             0.7777777777777778,
             "#fb9f3a"
            ],
            [
             0.8888888888888888,
             "#fdca26"
            ],
            [
             1,
             "#f0f921"
            ]
           ]
          },
          "colorway": [
           "#636efa",
           "#EF553B",
           "#00cc96",
           "#ab63fa",
           "#FFA15A",
           "#19d3f3",
           "#FF6692",
           "#B6E880",
           "#FF97FF",
           "#FECB52"
          ],
          "font": {
           "color": "#2a3f5f"
          },
          "geo": {
           "bgcolor": "white",
           "lakecolor": "white",
           "landcolor": "#E5ECF6",
           "showlakes": true,
           "showland": true,
           "subunitcolor": "white"
          },
          "hoverlabel": {
           "align": "left"
          },
          "hovermode": "closest",
          "mapbox": {
           "style": "light"
          },
          "paper_bgcolor": "white",
          "plot_bgcolor": "#E5ECF6",
          "polar": {
           "angularaxis": {
            "gridcolor": "white",
            "linecolor": "white",
            "ticks": ""
           },
           "bgcolor": "#E5ECF6",
           "radialaxis": {
            "gridcolor": "white",
            "linecolor": "white",
            "ticks": ""
           }
          },
          "scene": {
           "xaxis": {
            "backgroundcolor": "#E5ECF6",
            "gridcolor": "white",
            "gridwidth": 2,
            "linecolor": "white",
            "showbackground": true,
            "ticks": "",
            "zerolinecolor": "white"
           },
           "yaxis": {
            "backgroundcolor": "#E5ECF6",
            "gridcolor": "white",
            "gridwidth": 2,
            "linecolor": "white",
            "showbackground": true,
            "ticks": "",
            "zerolinecolor": "white"
           },
           "zaxis": {
            "backgroundcolor": "#E5ECF6",
            "gridcolor": "white",
            "gridwidth": 2,
            "linecolor": "white",
            "showbackground": true,
            "ticks": "",
            "zerolinecolor": "white"
           }
          },
          "shapedefaults": {
           "line": {
            "color": "#2a3f5f"
           }
          },
          "ternary": {
           "aaxis": {
            "gridcolor": "white",
            "linecolor": "white",
            "ticks": ""
           },
           "baxis": {
            "gridcolor": "white",
            "linecolor": "white",
            "ticks": ""
           },
           "bgcolor": "#E5ECF6",
           "caxis": {
            "gridcolor": "white",
            "linecolor": "white",
            "ticks": ""
           }
          },
          "title": {
           "x": 0.05
          },
          "xaxis": {
           "automargin": true,
           "gridcolor": "white",
           "linecolor": "white",
           "ticks": "",
           "title": {
            "standoff": 15
           },
           "zerolinecolor": "white",
           "zerolinewidth": 2
          },
          "yaxis": {
           "automargin": true,
           "gridcolor": "white",
           "linecolor": "white",
           "ticks": "",
           "title": {
            "standoff": 15
           },
           "zerolinecolor": "white",
           "zerolinewidth": 2
          }
         }
        },
        "title": {
         "text": "Durchschnittliche Buchungen pro Woche für 2011 und 2012"
        },
        "xaxis": {
         "anchor": "y",
         "domain": [
          0,
          1
         ],
         "title": {
          "text": "week"
         }
        },
        "yaxis": {
         "anchor": "x",
         "domain": [
          0,
          1
         ],
         "title": {
          "text": "Durchschnitt pro Woche"
         }
        }
       }
      }
     },
     "metadata": {},
     "output_type": "display_data"
    }
   ],
   "source": [
    "\n",
    "df_avg_per_day_all = df.groupby([df[\"datetime\"].dt.isocalendar().year,df[\"datetime\"].dt.isocalendar().week,df[\"datetime\"].dt.isocalendar().day])[\"registered_customer\"].sum().reset_index(name=\"sum_of_rentals_per_day\")\n",
    "df_avg_per_day_all  = df_avg_per_day_all.groupby([\"year\",\"week\"])[\"sum_of_rentals_per_day\"].mean().reset_index(name=\"avg_per_wk\")\n",
    "px.line(df_avg_per_day_all,x=\"week\",y=\"avg_per_wk\",color=\"year\",markers=True, title='Durchschnittliche Buchungen pro Woche für 2011 und 2012',\n",
    "        labels = {'avg_per_wk' : 'Durchschnitt pro Woche'})"
   ]
  },
  {
   "cell_type": "code",
   "execution_count": 93,
   "metadata": {},
   "outputs": [
    {
     "data": {
      "text/html": [
       "<div>\n",
       "<style scoped>\n",
       "    .dataframe tbody tr th:only-of-type {\n",
       "        vertical-align: middle;\n",
       "    }\n",
       "\n",
       "    .dataframe tbody tr th {\n",
       "        vertical-align: top;\n",
       "    }\n",
       "\n",
       "    .dataframe thead th {\n",
       "        text-align: right;\n",
       "    }\n",
       "</style>\n",
       "<table border=\"1\" class=\"dataframe\">\n",
       "  <thead>\n",
       "    <tr style=\"text-align: right;\">\n",
       "      <th></th>\n",
       "      <th>week</th>\n",
       "      <th>avg_per_wk</th>\n",
       "    </tr>\n",
       "    <tr>\n",
       "      <th>year</th>\n",
       "      <th></th>\n",
       "      <th></th>\n",
       "    </tr>\n",
       "  </thead>\n",
       "  <tbody>\n",
       "    <tr>\n",
       "      <th>2010</th>\n",
       "      <td>52.0</td>\n",
       "      <td>662.000000</td>\n",
       "    </tr>\n",
       "    <tr>\n",
       "      <th>2011</th>\n",
       "      <td>26.5</td>\n",
       "      <td>2737.695055</td>\n",
       "    </tr>\n",
       "    <tr>\n",
       "      <th>2012</th>\n",
       "      <td>26.5</td>\n",
       "      <td>4607.489011</td>\n",
       "    </tr>\n",
       "    <tr>\n",
       "      <th>2013</th>\n",
       "      <td>1.0</td>\n",
       "      <td>4203.000000</td>\n",
       "    </tr>\n",
       "  </tbody>\n",
       "</table>\n",
       "</div>"
      ],
      "text/plain": [
       "      week   avg_per_wk\n",
       "year                   \n",
       "2010  52.0   662.000000\n",
       "2011  26.5  2737.695055\n",
       "2012  26.5  4607.489011\n",
       "2013   1.0  4203.000000"
      ]
     },
     "execution_count": 93,
     "metadata": {},
     "output_type": "execute_result"
    }
   ],
   "source": [
    "df_avg_per_day_all.groupby(\"year\").mean()"
   ]
  },
  {
   "cell_type": "code",
   "execution_count": 87,
   "metadata": {},
   "outputs": [
    {
     "data": {
      "application/vnd.plotly.v1+json": {
       "config": {
        "plotlyServerURL": "https://plot.ly"
       },
       "data": [
        {
         "hovertemplate": "color=2011<br>datetime=%{x}<br>registered_customer=%{y}<extra></extra>",
         "legendgroup": "2011",
         "line": {
          "color": "#636efa",
          "dash": "solid"
         },
         "marker": {
          "symbol": "circle"
         },
         "mode": "lines",
         "name": "2011",
         "orientation": "v",
         "showlegend": true,
         "type": "scatter",
         "x": [
          "2011-01-02T00:00:00",
          "2011-01-09T00:00:00",
          "2011-01-16T00:00:00",
          "2011-01-23T00:00:00",
          "2011-01-30T00:00:00",
          "2011-02-06T00:00:00",
          "2011-02-13T00:00:00",
          "2011-02-20T00:00:00",
          "2011-02-27T00:00:00",
          "2011-03-06T00:00:00",
          "2011-03-13T00:00:00",
          "2011-03-20T00:00:00",
          "2011-03-27T00:00:00",
          "2011-04-03T00:00:00",
          "2011-04-10T00:00:00",
          "2011-04-17T00:00:00",
          "2011-04-24T00:00:00",
          "2011-05-01T00:00:00",
          "2011-05-08T00:00:00",
          "2011-05-15T00:00:00",
          "2011-05-22T00:00:00",
          "2011-05-29T00:00:00",
          "2011-06-05T00:00:00",
          "2011-06-12T00:00:00",
          "2011-06-19T00:00:00",
          "2011-06-26T00:00:00",
          "2011-07-03T00:00:00",
          "2011-07-10T00:00:00",
          "2011-07-17T00:00:00",
          "2011-07-24T00:00:00",
          "2011-07-31T00:00:00",
          "2011-08-07T00:00:00",
          "2011-08-14T00:00:00",
          "2011-08-21T00:00:00",
          "2011-08-28T00:00:00",
          "2011-09-04T00:00:00",
          "2011-09-11T00:00:00",
          "2011-09-18T00:00:00",
          "2011-09-25T00:00:00",
          "2011-10-02T00:00:00",
          "2011-10-09T00:00:00",
          "2011-10-16T00:00:00",
          "2011-10-23T00:00:00",
          "2011-10-30T00:00:00",
          "2011-11-06T00:00:00",
          "2011-11-13T00:00:00",
          "2011-11-20T00:00:00",
          "2011-11-27T00:00:00",
          "2011-12-04T00:00:00",
          "2011-12-11T00:00:00",
          "2011-12-18T00:00:00",
          "2011-12-25T00:00:00"
         ],
         "xaxis": "x",
         "y": [
          1786,
          9408,
          9025,
          7784,
          7128,
          10024,
          11192,
          14464,
          11491,
          11526,
          13045,
          17423,
          15784,
          15996,
          17680,
          18476,
          21606,
          23612,
          29573,
          30278,
          31836,
          31633,
          33671,
          31709,
          33565,
          33724,
          34001,
          34186,
          34533,
          29132,
          30730,
          30206,
          31375,
          30672,
          28204,
          33229,
          23834,
          31465,
          23780,
          25613,
          33522,
          28911,
          28820,
          24517,
          27537,
          26434,
          24649,
          24157,
          25520,
          19985,
          23029,
          19987
         ],
         "yaxis": "y"
        },
        {
         "hovertemplate": "color=2012<br>datetime=%{x}<br>registered_customer=%{y}<extra></extra>",
         "legendgroup": "2012",
         "line": {
          "color": "#EF553B",
          "dash": "solid"
         },
         "marker": {
          "symbol": "circle"
         },
         "mode": "lines",
         "name": "2012",
         "orientation": "v",
         "showlegend": true,
         "type": "scatter",
         "x": [
          "2012-01-01T00:00:00",
          "2012-01-08T00:00:00",
          "2012-01-15T00:00:00",
          "2012-01-22T00:00:00",
          "2012-01-29T00:00:00",
          "2012-02-05T00:00:00",
          "2012-02-12T00:00:00",
          "2012-02-19T00:00:00",
          "2012-02-26T00:00:00",
          "2012-03-04T00:00:00",
          "2012-03-11T00:00:00",
          "2012-03-18T00:00:00",
          "2012-03-25T00:00:00",
          "2012-04-01T00:00:00",
          "2012-04-08T00:00:00",
          "2012-04-15T00:00:00",
          "2012-04-22T00:00:00",
          "2012-04-29T00:00:00",
          "2012-05-06T00:00:00",
          "2012-05-13T00:00:00",
          "2012-05-20T00:00:00",
          "2012-05-27T00:00:00",
          "2012-06-03T00:00:00",
          "2012-06-10T00:00:00",
          "2012-06-17T00:00:00",
          "2012-06-24T00:00:00",
          "2012-07-01T00:00:00",
          "2012-07-08T00:00:00",
          "2012-07-15T00:00:00",
          "2012-07-22T00:00:00",
          "2012-07-29T00:00:00",
          "2012-08-05T00:00:00",
          "2012-08-12T00:00:00",
          "2012-08-19T00:00:00",
          "2012-08-26T00:00:00",
          "2012-09-02T00:00:00",
          "2012-09-09T00:00:00",
          "2012-09-16T00:00:00",
          "2012-09-23T00:00:00",
          "2012-09-30T00:00:00",
          "2012-10-07T00:00:00",
          "2012-10-14T00:00:00",
          "2012-10-21T00:00:00",
          "2012-10-28T00:00:00",
          "2012-11-04T00:00:00",
          "2012-11-11T00:00:00",
          "2012-11-18T00:00:00",
          "2012-11-25T00:00:00",
          "2012-12-02T00:00:00",
          "2012-12-09T00:00:00",
          "2012-12-16T00:00:00",
          "2012-12-23T00:00:00",
          "2012-12-30T00:00:00"
         ],
         "xaxis": "x",
         "y": [
          18707,
          21871,
          20266,
          19147,
          22381,
          25282,
          22320,
          25679,
          24550,
          26401,
          31185,
          41755,
          37503,
          38303,
          44087,
          42764,
          39604,
          38213,
          43352,
          43867,
          45574,
          42077,
          45971,
          50380,
          48765,
          45636,
          46107,
          42250,
          48068,
          40482,
          47122,
          47674,
          47735,
          48181,
          44659,
          47860,
          47920,
          55022,
          49495,
          52191,
          45948,
          48161,
          48446,
          47393,
          29815,
          40675,
          37299,
          36769,
          35458,
          37762,
          35966,
          31871,
          24156
         ],
         "yaxis": "y"
        },
        {
         "hovertemplate": "color=2013<br>datetime=%{x}<br>registered_customer=%{y}<extra></extra>",
         "legendgroup": "2013",
         "line": {
          "color": "#00cc96",
          "dash": "solid"
         },
         "marker": {
          "symbol": "circle"
         },
         "mode": "lines",
         "name": "2013",
         "orientation": "v",
         "showlegend": true,
         "type": "scatter",
         "x": [
          "2013-01-06T00:00:00"
         ],
         "xaxis": "x",
         "y": [
          4429
         ],
         "yaxis": "y"
        }
       ],
       "layout": {
        "legend": {
         "title": {
          "text": "color"
         },
         "tracegroupgap": 0
        },
        "margin": {
         "t": 60
        },
        "template": {
         "data": {
          "bar": [
           {
            "error_x": {
             "color": "#2a3f5f"
            },
            "error_y": {
             "color": "#2a3f5f"
            },
            "marker": {
             "line": {
              "color": "#E5ECF6",
              "width": 0.5
             },
             "pattern": {
              "fillmode": "overlay",
              "size": 10,
              "solidity": 0.2
             }
            },
            "type": "bar"
           }
          ],
          "barpolar": [
           {
            "marker": {
             "line": {
              "color": "#E5ECF6",
              "width": 0.5
             },
             "pattern": {
              "fillmode": "overlay",
              "size": 10,
              "solidity": 0.2
             }
            },
            "type": "barpolar"
           }
          ],
          "carpet": [
           {
            "aaxis": {
             "endlinecolor": "#2a3f5f",
             "gridcolor": "white",
             "linecolor": "white",
             "minorgridcolor": "white",
             "startlinecolor": "#2a3f5f"
            },
            "baxis": {
             "endlinecolor": "#2a3f5f",
             "gridcolor": "white",
             "linecolor": "white",
             "minorgridcolor": "white",
             "startlinecolor": "#2a3f5f"
            },
            "type": "carpet"
           }
          ],
          "choropleth": [
           {
            "colorbar": {
             "outlinewidth": 0,
             "ticks": ""
            },
            "type": "choropleth"
           }
          ],
          "contour": [
           {
            "colorbar": {
             "outlinewidth": 0,
             "ticks": ""
            },
            "colorscale": [
             [
              0,
              "#0d0887"
             ],
             [
              0.1111111111111111,
              "#46039f"
             ],
             [
              0.2222222222222222,
              "#7201a8"
             ],
             [
              0.3333333333333333,
              "#9c179e"
             ],
             [
              0.4444444444444444,
              "#bd3786"
             ],
             [
              0.5555555555555556,
              "#d8576b"
             ],
             [
              0.6666666666666666,
              "#ed7953"
             ],
             [
              0.7777777777777778,
              "#fb9f3a"
             ],
             [
              0.8888888888888888,
              "#fdca26"
             ],
             [
              1,
              "#f0f921"
             ]
            ],
            "type": "contour"
           }
          ],
          "contourcarpet": [
           {
            "colorbar": {
             "outlinewidth": 0,
             "ticks": ""
            },
            "type": "contourcarpet"
           }
          ],
          "heatmap": [
           {
            "colorbar": {
             "outlinewidth": 0,
             "ticks": ""
            },
            "colorscale": [
             [
              0,
              "#0d0887"
             ],
             [
              0.1111111111111111,
              "#46039f"
             ],
             [
              0.2222222222222222,
              "#7201a8"
             ],
             [
              0.3333333333333333,
              "#9c179e"
             ],
             [
              0.4444444444444444,
              "#bd3786"
             ],
             [
              0.5555555555555556,
              "#d8576b"
             ],
             [
              0.6666666666666666,
              "#ed7953"
             ],
             [
              0.7777777777777778,
              "#fb9f3a"
             ],
             [
              0.8888888888888888,
              "#fdca26"
             ],
             [
              1,
              "#f0f921"
             ]
            ],
            "type": "heatmap"
           }
          ],
          "heatmapgl": [
           {
            "colorbar": {
             "outlinewidth": 0,
             "ticks": ""
            },
            "colorscale": [
             [
              0,
              "#0d0887"
             ],
             [
              0.1111111111111111,
              "#46039f"
             ],
             [
              0.2222222222222222,
              "#7201a8"
             ],
             [
              0.3333333333333333,
              "#9c179e"
             ],
             [
              0.4444444444444444,
              "#bd3786"
             ],
             [
              0.5555555555555556,
              "#d8576b"
             ],
             [
              0.6666666666666666,
              "#ed7953"
             ],
             [
              0.7777777777777778,
              "#fb9f3a"
             ],
             [
              0.8888888888888888,
              "#fdca26"
             ],
             [
              1,
              "#f0f921"
             ]
            ],
            "type": "heatmapgl"
           }
          ],
          "histogram": [
           {
            "marker": {
             "pattern": {
              "fillmode": "overlay",
              "size": 10,
              "solidity": 0.2
             }
            },
            "type": "histogram"
           }
          ],
          "histogram2d": [
           {
            "colorbar": {
             "outlinewidth": 0,
             "ticks": ""
            },
            "colorscale": [
             [
              0,
              "#0d0887"
             ],
             [
              0.1111111111111111,
              "#46039f"
             ],
             [
              0.2222222222222222,
              "#7201a8"
             ],
             [
              0.3333333333333333,
              "#9c179e"
             ],
             [
              0.4444444444444444,
              "#bd3786"
             ],
             [
              0.5555555555555556,
              "#d8576b"
             ],
             [
              0.6666666666666666,
              "#ed7953"
             ],
             [
              0.7777777777777778,
              "#fb9f3a"
             ],
             [
              0.8888888888888888,
              "#fdca26"
             ],
             [
              1,
              "#f0f921"
             ]
            ],
            "type": "histogram2d"
           }
          ],
          "histogram2dcontour": [
           {
            "colorbar": {
             "outlinewidth": 0,
             "ticks": ""
            },
            "colorscale": [
             [
              0,
              "#0d0887"
             ],
             [
              0.1111111111111111,
              "#46039f"
             ],
             [
              0.2222222222222222,
              "#7201a8"
             ],
             [
              0.3333333333333333,
              "#9c179e"
             ],
             [
              0.4444444444444444,
              "#bd3786"
             ],
             [
              0.5555555555555556,
              "#d8576b"
             ],
             [
              0.6666666666666666,
              "#ed7953"
             ],
             [
              0.7777777777777778,
              "#fb9f3a"
             ],
             [
              0.8888888888888888,
              "#fdca26"
             ],
             [
              1,
              "#f0f921"
             ]
            ],
            "type": "histogram2dcontour"
           }
          ],
          "mesh3d": [
           {
            "colorbar": {
             "outlinewidth": 0,
             "ticks": ""
            },
            "type": "mesh3d"
           }
          ],
          "parcoords": [
           {
            "line": {
             "colorbar": {
              "outlinewidth": 0,
              "ticks": ""
             }
            },
            "type": "parcoords"
           }
          ],
          "pie": [
           {
            "automargin": true,
            "type": "pie"
           }
          ],
          "scatter": [
           {
            "marker": {
             "colorbar": {
              "outlinewidth": 0,
              "ticks": ""
             }
            },
            "type": "scatter"
           }
          ],
          "scatter3d": [
           {
            "line": {
             "colorbar": {
              "outlinewidth": 0,
              "ticks": ""
             }
            },
            "marker": {
             "colorbar": {
              "outlinewidth": 0,
              "ticks": ""
             }
            },
            "type": "scatter3d"
           }
          ],
          "scattercarpet": [
           {
            "marker": {
             "colorbar": {
              "outlinewidth": 0,
              "ticks": ""
             }
            },
            "type": "scattercarpet"
           }
          ],
          "scattergeo": [
           {
            "marker": {
             "colorbar": {
              "outlinewidth": 0,
              "ticks": ""
             }
            },
            "type": "scattergeo"
           }
          ],
          "scattergl": [
           {
            "marker": {
             "colorbar": {
              "outlinewidth": 0,
              "ticks": ""
             }
            },
            "type": "scattergl"
           }
          ],
          "scattermapbox": [
           {
            "marker": {
             "colorbar": {
              "outlinewidth": 0,
              "ticks": ""
             }
            },
            "type": "scattermapbox"
           }
          ],
          "scatterpolar": [
           {
            "marker": {
             "colorbar": {
              "outlinewidth": 0,
              "ticks": ""
             }
            },
            "type": "scatterpolar"
           }
          ],
          "scatterpolargl": [
           {
            "marker": {
             "colorbar": {
              "outlinewidth": 0,
              "ticks": ""
             }
            },
            "type": "scatterpolargl"
           }
          ],
          "scatterternary": [
           {
            "marker": {
             "colorbar": {
              "outlinewidth": 0,
              "ticks": ""
             }
            },
            "type": "scatterternary"
           }
          ],
          "surface": [
           {
            "colorbar": {
             "outlinewidth": 0,
             "ticks": ""
            },
            "colorscale": [
             [
              0,
              "#0d0887"
             ],
             [
              0.1111111111111111,
              "#46039f"
             ],
             [
              0.2222222222222222,
              "#7201a8"
             ],
             [
              0.3333333333333333,
              "#9c179e"
             ],
             [
              0.4444444444444444,
              "#bd3786"
             ],
             [
              0.5555555555555556,
              "#d8576b"
             ],
             [
              0.6666666666666666,
              "#ed7953"
             ],
             [
              0.7777777777777778,
              "#fb9f3a"
             ],
             [
              0.8888888888888888,
              "#fdca26"
             ],
             [
              1,
              "#f0f921"
             ]
            ],
            "type": "surface"
           }
          ],
          "table": [
           {
            "cells": {
             "fill": {
              "color": "#EBF0F8"
             },
             "line": {
              "color": "white"
             }
            },
            "header": {
             "fill": {
              "color": "#C8D4E3"
             },
             "line": {
              "color": "white"
             }
            },
            "type": "table"
           }
          ]
         },
         "layout": {
          "annotationdefaults": {
           "arrowcolor": "#2a3f5f",
           "arrowhead": 0,
           "arrowwidth": 1
          },
          "autotypenumbers": "strict",
          "coloraxis": {
           "colorbar": {
            "outlinewidth": 0,
            "ticks": ""
           }
          },
          "colorscale": {
           "diverging": [
            [
             0,
             "#8e0152"
            ],
            [
             0.1,
             "#c51b7d"
            ],
            [
             0.2,
             "#de77ae"
            ],
            [
             0.3,
             "#f1b6da"
            ],
            [
             0.4,
             "#fde0ef"
            ],
            [
             0.5,
             "#f7f7f7"
            ],
            [
             0.6,
             "#e6f5d0"
            ],
            [
             0.7,
             "#b8e186"
            ],
            [
             0.8,
             "#7fbc41"
            ],
            [
             0.9,
             "#4d9221"
            ],
            [
             1,
             "#276419"
            ]
           ],
           "sequential": [
            [
             0,
             "#0d0887"
            ],
            [
             0.1111111111111111,
             "#46039f"
            ],
            [
             0.2222222222222222,
             "#7201a8"
            ],
            [
             0.3333333333333333,
             "#9c179e"
            ],
            [
             0.4444444444444444,
             "#bd3786"
            ],
            [
             0.5555555555555556,
             "#d8576b"
            ],
            [
             0.6666666666666666,
             "#ed7953"
            ],
            [
             0.7777777777777778,
             "#fb9f3a"
            ],
            [
             0.8888888888888888,
             "#fdca26"
            ],
            [
             1,
             "#f0f921"
            ]
           ],
           "sequentialminus": [
            [
             0,
             "#0d0887"
            ],
            [
             0.1111111111111111,
             "#46039f"
            ],
            [
             0.2222222222222222,
             "#7201a8"
            ],
            [
             0.3333333333333333,
             "#9c179e"
            ],
            [
             0.4444444444444444,
             "#bd3786"
            ],
            [
             0.5555555555555556,
             "#d8576b"
            ],
            [
             0.6666666666666666,
             "#ed7953"
            ],
            [
             0.7777777777777778,
             "#fb9f3a"
            ],
            [
             0.8888888888888888,
             "#fdca26"
            ],
            [
             1,
             "#f0f921"
            ]
           ]
          },
          "colorway": [
           "#636efa",
           "#EF553B",
           "#00cc96",
           "#ab63fa",
           "#FFA15A",
           "#19d3f3",
           "#FF6692",
           "#B6E880",
           "#FF97FF",
           "#FECB52"
          ],
          "font": {
           "color": "#2a3f5f"
          },
          "geo": {
           "bgcolor": "white",
           "lakecolor": "white",
           "landcolor": "#E5ECF6",
           "showlakes": true,
           "showland": true,
           "subunitcolor": "white"
          },
          "hoverlabel": {
           "align": "left"
          },
          "hovermode": "closest",
          "mapbox": {
           "style": "light"
          },
          "paper_bgcolor": "white",
          "plot_bgcolor": "#E5ECF6",
          "polar": {
           "angularaxis": {
            "gridcolor": "white",
            "linecolor": "white",
            "ticks": ""
           },
           "bgcolor": "#E5ECF6",
           "radialaxis": {
            "gridcolor": "white",
            "linecolor": "white",
            "ticks": ""
           }
          },
          "scene": {
           "xaxis": {
            "backgroundcolor": "#E5ECF6",
            "gridcolor": "white",
            "gridwidth": 2,
            "linecolor": "white",
            "showbackground": true,
            "ticks": "",
            "zerolinecolor": "white"
           },
           "yaxis": {
            "backgroundcolor": "#E5ECF6",
            "gridcolor": "white",
            "gridwidth": 2,
            "linecolor": "white",
            "showbackground": true,
            "ticks": "",
            "zerolinecolor": "white"
           },
           "zaxis": {
            "backgroundcolor": "#E5ECF6",
            "gridcolor": "white",
            "gridwidth": 2,
            "linecolor": "white",
            "showbackground": true,
            "ticks": "",
            "zerolinecolor": "white"
           }
          },
          "shapedefaults": {
           "line": {
            "color": "#2a3f5f"
           }
          },
          "ternary": {
           "aaxis": {
            "gridcolor": "white",
            "linecolor": "white",
            "ticks": ""
           },
           "baxis": {
            "gridcolor": "white",
            "linecolor": "white",
            "ticks": ""
           },
           "bgcolor": "#E5ECF6",
           "caxis": {
            "gridcolor": "white",
            "linecolor": "white",
            "ticks": ""
           }
          },
          "title": {
           "x": 0.05
          },
          "xaxis": {
           "automargin": true,
           "gridcolor": "white",
           "linecolor": "white",
           "ticks": "",
           "title": {
            "standoff": 15
           },
           "zerolinecolor": "white",
           "zerolinewidth": 2
          },
          "yaxis": {
           "automargin": true,
           "gridcolor": "white",
           "linecolor": "white",
           "ticks": "",
           "title": {
            "standoff": 15
           },
           "zerolinecolor": "white",
           "zerolinewidth": 2
          }
         }
        },
        "xaxis": {
         "anchor": "y",
         "domain": [
          0,
          1
         ],
         "title": {
          "text": "datetime"
         }
        },
        "yaxis": {
         "anchor": "x",
         "domain": [
          0,
          1
         ],
         "title": {
          "text": "registered_customer"
         }
        }
       }
      }
     },
     "metadata": {},
     "output_type": "display_data"
    }
   ],
   "source": [
    "df_time_index = df.set_index('datetime')\n",
    "df_viz = df_time_index.groupby([pd.Grouper(freq='1W')]).agg({'registered_customer':'count'}).reset_index()\n",
    "fig = px.line(df_viz,x=\"datetime\",y=\"registered_customer\",color=df_viz[\"datetime\"].dt.year)\n",
    "# fig.update_layout(legend = {'2011' : '2011', '2012' : '2012'}) \n",
    "# legende Bearbeiten!\n",
    "fig.show()"
   ]
  },
  {
   "cell_type": "code",
   "execution_count": 31,
   "metadata": {},
   "outputs": [
    {
     "data": {
      "application/vnd.plotly.v1+json": {
       "config": {
        "plotlyServerURL": "https://plot.ly"
       },
       "data": [
        {
         "alignmentgroup": "True",
         "hovertemplate": "variable=Bookings<br>day_of_week=%{x}<br>value=%{y}<extra></extra>",
         "legendgroup": "Bookings",
         "marker": {
          "color": "#636efa",
          "pattern": {
           "shape": ""
          }
         },
         "name": "Bookings",
         "offsetgroup": "Bookings",
         "orientation": "v",
         "showlegend": true,
         "textposition": "auto",
         "type": "bar",
         "x": [
          0,
          1,
          2,
          3,
          4
         ],
         "xaxis": "x",
         "y": [
          458659,
          467304,
          467287,
          486013,
          489050
         ],
         "yaxis": "y"
        }
       ],
       "layout": {
        "barmode": "relative",
        "legend": {
         "title": {
          "text": "variable"
         },
         "tracegroupgap": 0
        },
        "margin": {
         "t": 60
        },
        "template": {
         "data": {
          "bar": [
           {
            "error_x": {
             "color": "#2a3f5f"
            },
            "error_y": {
             "color": "#2a3f5f"
            },
            "marker": {
             "line": {
              "color": "#E5ECF6",
              "width": 0.5
             },
             "pattern": {
              "fillmode": "overlay",
              "size": 10,
              "solidity": 0.2
             }
            },
            "type": "bar"
           }
          ],
          "barpolar": [
           {
            "marker": {
             "line": {
              "color": "#E5ECF6",
              "width": 0.5
             },
             "pattern": {
              "fillmode": "overlay",
              "size": 10,
              "solidity": 0.2
             }
            },
            "type": "barpolar"
           }
          ],
          "carpet": [
           {
            "aaxis": {
             "endlinecolor": "#2a3f5f",
             "gridcolor": "white",
             "linecolor": "white",
             "minorgridcolor": "white",
             "startlinecolor": "#2a3f5f"
            },
            "baxis": {
             "endlinecolor": "#2a3f5f",
             "gridcolor": "white",
             "linecolor": "white",
             "minorgridcolor": "white",
             "startlinecolor": "#2a3f5f"
            },
            "type": "carpet"
           }
          ],
          "choropleth": [
           {
            "colorbar": {
             "outlinewidth": 0,
             "ticks": ""
            },
            "type": "choropleth"
           }
          ],
          "contour": [
           {
            "colorbar": {
             "outlinewidth": 0,
             "ticks": ""
            },
            "colorscale": [
             [
              0,
              "#0d0887"
             ],
             [
              0.1111111111111111,
              "#46039f"
             ],
             [
              0.2222222222222222,
              "#7201a8"
             ],
             [
              0.3333333333333333,
              "#9c179e"
             ],
             [
              0.4444444444444444,
              "#bd3786"
             ],
             [
              0.5555555555555556,
              "#d8576b"
             ],
             [
              0.6666666666666666,
              "#ed7953"
             ],
             [
              0.7777777777777778,
              "#fb9f3a"
             ],
             [
              0.8888888888888888,
              "#fdca26"
             ],
             [
              1,
              "#f0f921"
             ]
            ],
            "type": "contour"
           }
          ],
          "contourcarpet": [
           {
            "colorbar": {
             "outlinewidth": 0,
             "ticks": ""
            },
            "type": "contourcarpet"
           }
          ],
          "heatmap": [
           {
            "colorbar": {
             "outlinewidth": 0,
             "ticks": ""
            },
            "colorscale": [
             [
              0,
              "#0d0887"
             ],
             [
              0.1111111111111111,
              "#46039f"
             ],
             [
              0.2222222222222222,
              "#7201a8"
             ],
             [
              0.3333333333333333,
              "#9c179e"
             ],
             [
              0.4444444444444444,
              "#bd3786"
             ],
             [
              0.5555555555555556,
              "#d8576b"
             ],
             [
              0.6666666666666666,
              "#ed7953"
             ],
             [
              0.7777777777777778,
              "#fb9f3a"
             ],
             [
              0.8888888888888888,
              "#fdca26"
             ],
             [
              1,
              "#f0f921"
             ]
            ],
            "type": "heatmap"
           }
          ],
          "heatmapgl": [
           {
            "colorbar": {
             "outlinewidth": 0,
             "ticks": ""
            },
            "colorscale": [
             [
              0,
              "#0d0887"
             ],
             [
              0.1111111111111111,
              "#46039f"
             ],
             [
              0.2222222222222222,
              "#7201a8"
             ],
             [
              0.3333333333333333,
              "#9c179e"
             ],
             [
              0.4444444444444444,
              "#bd3786"
             ],
             [
              0.5555555555555556,
              "#d8576b"
             ],
             [
              0.6666666666666666,
              "#ed7953"
             ],
             [
              0.7777777777777778,
              "#fb9f3a"
             ],
             [
              0.8888888888888888,
              "#fdca26"
             ],
             [
              1,
              "#f0f921"
             ]
            ],
            "type": "heatmapgl"
           }
          ],
          "histogram": [
           {
            "marker": {
             "pattern": {
              "fillmode": "overlay",
              "size": 10,
              "solidity": 0.2
             }
            },
            "type": "histogram"
           }
          ],
          "histogram2d": [
           {
            "colorbar": {
             "outlinewidth": 0,
             "ticks": ""
            },
            "colorscale": [
             [
              0,
              "#0d0887"
             ],
             [
              0.1111111111111111,
              "#46039f"
             ],
             [
              0.2222222222222222,
              "#7201a8"
             ],
             [
              0.3333333333333333,
              "#9c179e"
             ],
             [
              0.4444444444444444,
              "#bd3786"
             ],
             [
              0.5555555555555556,
              "#d8576b"
             ],
             [
              0.6666666666666666,
              "#ed7953"
             ],
             [
              0.7777777777777778,
              "#fb9f3a"
             ],
             [
              0.8888888888888888,
              "#fdca26"
             ],
             [
              1,
              "#f0f921"
             ]
            ],
            "type": "histogram2d"
           }
          ],
          "histogram2dcontour": [
           {
            "colorbar": {
             "outlinewidth": 0,
             "ticks": ""
            },
            "colorscale": [
             [
              0,
              "#0d0887"
             ],
             [
              0.1111111111111111,
              "#46039f"
             ],
             [
              0.2222222222222222,
              "#7201a8"
             ],
             [
              0.3333333333333333,
              "#9c179e"
             ],
             [
              0.4444444444444444,
              "#bd3786"
             ],
             [
              0.5555555555555556,
              "#d8576b"
             ],
             [
              0.6666666666666666,
              "#ed7953"
             ],
             [
              0.7777777777777778,
              "#fb9f3a"
             ],
             [
              0.8888888888888888,
              "#fdca26"
             ],
             [
              1,
              "#f0f921"
             ]
            ],
            "type": "histogram2dcontour"
           }
          ],
          "mesh3d": [
           {
            "colorbar": {
             "outlinewidth": 0,
             "ticks": ""
            },
            "type": "mesh3d"
           }
          ],
          "parcoords": [
           {
            "line": {
             "colorbar": {
              "outlinewidth": 0,
              "ticks": ""
             }
            },
            "type": "parcoords"
           }
          ],
          "pie": [
           {
            "automargin": true,
            "type": "pie"
           }
          ],
          "scatter": [
           {
            "marker": {
             "colorbar": {
              "outlinewidth": 0,
              "ticks": ""
             }
            },
            "type": "scatter"
           }
          ],
          "scatter3d": [
           {
            "line": {
             "colorbar": {
              "outlinewidth": 0,
              "ticks": ""
             }
            },
            "marker": {
             "colorbar": {
              "outlinewidth": 0,
              "ticks": ""
             }
            },
            "type": "scatter3d"
           }
          ],
          "scattercarpet": [
           {
            "marker": {
             "colorbar": {
              "outlinewidth": 0,
              "ticks": ""
             }
            },
            "type": "scattercarpet"
           }
          ],
          "scattergeo": [
           {
            "marker": {
             "colorbar": {
              "outlinewidth": 0,
              "ticks": ""
             }
            },
            "type": "scattergeo"
           }
          ],
          "scattergl": [
           {
            "marker": {
             "colorbar": {
              "outlinewidth": 0,
              "ticks": ""
             }
            },
            "type": "scattergl"
           }
          ],
          "scattermapbox": [
           {
            "marker": {
             "colorbar": {
              "outlinewidth": 0,
              "ticks": ""
             }
            },
            "type": "scattermapbox"
           }
          ],
          "scatterpolar": [
           {
            "marker": {
             "colorbar": {
              "outlinewidth": 0,
              "ticks": ""
             }
            },
            "type": "scatterpolar"
           }
          ],
          "scatterpolargl": [
           {
            "marker": {
             "colorbar": {
              "outlinewidth": 0,
              "ticks": ""
             }
            },
            "type": "scatterpolargl"
           }
          ],
          "scatterternary": [
           {
            "marker": {
             "colorbar": {
              "outlinewidth": 0,
              "ticks": ""
             }
            },
            "type": "scatterternary"
           }
          ],
          "surface": [
           {
            "colorbar": {
             "outlinewidth": 0,
             "ticks": ""
            },
            "colorscale": [
             [
              0,
              "#0d0887"
             ],
             [
              0.1111111111111111,
              "#46039f"
             ],
             [
              0.2222222222222222,
              "#7201a8"
             ],
             [
              0.3333333333333333,
              "#9c179e"
             ],
             [
              0.4444444444444444,
              "#bd3786"
             ],
             [
              0.5555555555555556,
              "#d8576b"
             ],
             [
              0.6666666666666666,
              "#ed7953"
             ],
             [
              0.7777777777777778,
              "#fb9f3a"
             ],
             [
              0.8888888888888888,
              "#fdca26"
             ],
             [
              1,
              "#f0f921"
             ]
            ],
            "type": "surface"
           }
          ],
          "table": [
           {
            "cells": {
             "fill": {
              "color": "#EBF0F8"
             },
             "line": {
              "color": "white"
             }
            },
            "header": {
             "fill": {
              "color": "#C8D4E3"
             },
             "line": {
              "color": "white"
             }
            },
            "type": "table"
           }
          ]
         },
         "layout": {
          "annotationdefaults": {
           "arrowcolor": "#2a3f5f",
           "arrowhead": 0,
           "arrowwidth": 1
          },
          "autotypenumbers": "strict",
          "coloraxis": {
           "colorbar": {
            "outlinewidth": 0,
            "ticks": ""
           }
          },
          "colorscale": {
           "diverging": [
            [
             0,
             "#8e0152"
            ],
            [
             0.1,
             "#c51b7d"
            ],
            [
             0.2,
             "#de77ae"
            ],
            [
             0.3,
             "#f1b6da"
            ],
            [
             0.4,
             "#fde0ef"
            ],
            [
             0.5,
             "#f7f7f7"
            ],
            [
             0.6,
             "#e6f5d0"
            ],
            [
             0.7,
             "#b8e186"
            ],
            [
             0.8,
             "#7fbc41"
            ],
            [
             0.9,
             "#4d9221"
            ],
            [
             1,
             "#276419"
            ]
           ],
           "sequential": [
            [
             0,
             "#0d0887"
            ],
            [
             0.1111111111111111,
             "#46039f"
            ],
            [
             0.2222222222222222,
             "#7201a8"
            ],
            [
             0.3333333333333333,
             "#9c179e"
            ],
            [
             0.4444444444444444,
             "#bd3786"
            ],
            [
             0.5555555555555556,
             "#d8576b"
            ],
            [
             0.6666666666666666,
             "#ed7953"
            ],
            [
             0.7777777777777778,
             "#fb9f3a"
            ],
            [
             0.8888888888888888,
             "#fdca26"
            ],
            [
             1,
             "#f0f921"
            ]
           ],
           "sequentialminus": [
            [
             0,
             "#0d0887"
            ],
            [
             0.1111111111111111,
             "#46039f"
            ],
            [
             0.2222222222222222,
             "#7201a8"
            ],
            [
             0.3333333333333333,
             "#9c179e"
            ],
            [
             0.4444444444444444,
             "#bd3786"
            ],
            [
             0.5555555555555556,
             "#d8576b"
            ],
            [
             0.6666666666666666,
             "#ed7953"
            ],
            [
             0.7777777777777778,
             "#fb9f3a"
            ],
            [
             0.8888888888888888,
             "#fdca26"
            ],
            [
             1,
             "#f0f921"
            ]
           ]
          },
          "colorway": [
           "#636efa",
           "#EF553B",
           "#00cc96",
           "#ab63fa",
           "#FFA15A",
           "#19d3f3",
           "#FF6692",
           "#B6E880",
           "#FF97FF",
           "#FECB52"
          ],
          "font": {
           "color": "#2a3f5f"
          },
          "geo": {
           "bgcolor": "white",
           "lakecolor": "white",
           "landcolor": "#E5ECF6",
           "showlakes": true,
           "showland": true,
           "subunitcolor": "white"
          },
          "hoverlabel": {
           "align": "left"
          },
          "hovermode": "closest",
          "mapbox": {
           "style": "light"
          },
          "paper_bgcolor": "white",
          "plot_bgcolor": "#E5ECF6",
          "polar": {
           "angularaxis": {
            "gridcolor": "white",
            "linecolor": "white",
            "ticks": ""
           },
           "bgcolor": "#E5ECF6",
           "radialaxis": {
            "gridcolor": "white",
            "linecolor": "white",
            "ticks": ""
           }
          },
          "scene": {
           "xaxis": {
            "backgroundcolor": "#E5ECF6",
            "gridcolor": "white",
            "gridwidth": 2,
            "linecolor": "white",
            "showbackground": true,
            "ticks": "",
            "zerolinecolor": "white"
           },
           "yaxis": {
            "backgroundcolor": "#E5ECF6",
            "gridcolor": "white",
            "gridwidth": 2,
            "linecolor": "white",
            "showbackground": true,
            "ticks": "",
            "zerolinecolor": "white"
           },
           "zaxis": {
            "backgroundcolor": "#E5ECF6",
            "gridcolor": "white",
            "gridwidth": 2,
            "linecolor": "white",
            "showbackground": true,
            "ticks": "",
            "zerolinecolor": "white"
           }
          },
          "shapedefaults": {
           "line": {
            "color": "#2a3f5f"
           }
          },
          "ternary": {
           "aaxis": {
            "gridcolor": "white",
            "linecolor": "white",
            "ticks": ""
           },
           "baxis": {
            "gridcolor": "white",
            "linecolor": "white",
            "ticks": ""
           },
           "bgcolor": "#E5ECF6",
           "caxis": {
            "gridcolor": "white",
            "linecolor": "white",
            "ticks": ""
           }
          },
          "title": {
           "x": 0.05
          },
          "xaxis": {
           "automargin": true,
           "gridcolor": "white",
           "linecolor": "white",
           "ticks": "",
           "title": {
            "standoff": 15
           },
           "zerolinecolor": "white",
           "zerolinewidth": 2
          },
          "yaxis": {
           "automargin": true,
           "gridcolor": "white",
           "linecolor": "white",
           "ticks": "",
           "title": {
            "standoff": 15
           },
           "zerolinecolor": "white",
           "zerolinewidth": 2
          }
         }
        },
        "xaxis": {
         "anchor": "y",
         "domain": [
          0,
          1
         ],
         "title": {
          "text": "day_of_week"
         }
        },
        "yaxis": {
         "anchor": "x",
         "domain": [
          0,
          1
         ],
         "title": {
          "text": "value"
         }
        }
       }
      }
     },
     "metadata": {},
     "output_type": "display_data"
    }
   ],
   "source": [
    "df_week = df_day[(df_day[\"day_of_week\"] != 5) & (df_day[\"day_of_week\"] != 6)]\n",
    "df_viz_pW = df_week.groupby(\"day_of_week\")[\"Bookings\"].sum()\n",
    "px.bar(df_viz_pW)"
   ]
  },
  {
   "cell_type": "code",
   "execution_count": 32,
   "metadata": {},
   "outputs": [
    {
     "data": {
      "application/vnd.plotly.v1+json": {
       "config": {
        "plotlyServerURL": "https://plot.ly"
       },
       "data": [
        {
         "alignmentgroup": "True",
         "hovertemplate": "variable=Bookings<br>day_of_week=%{x}<br>value=%{y}<extra></extra>",
         "legendgroup": "Bookings",
         "marker": {
          "color": "#636efa",
          "pattern": {
           "shape": ""
          }
         },
         "name": "Bookings",
         "offsetgroup": "Bookings",
         "orientation": "v",
         "showlegend": true,
         "textposition": "auto",
         "type": "bar",
         "x": [
          5,
          6
         ],
         "xaxis": "x",
         "y": [
          482171,
          445537
         ],
         "yaxis": "y"
        }
       ],
       "layout": {
        "barmode": "relative",
        "legend": {
         "title": {
          "text": "variable"
         },
         "tracegroupgap": 0
        },
        "margin": {
         "t": 60
        },
        "template": {
         "data": {
          "bar": [
           {
            "error_x": {
             "color": "#2a3f5f"
            },
            "error_y": {
             "color": "#2a3f5f"
            },
            "marker": {
             "line": {
              "color": "#E5ECF6",
              "width": 0.5
             },
             "pattern": {
              "fillmode": "overlay",
              "size": 10,
              "solidity": 0.2
             }
            },
            "type": "bar"
           }
          ],
          "barpolar": [
           {
            "marker": {
             "line": {
              "color": "#E5ECF6",
              "width": 0.5
             },
             "pattern": {
              "fillmode": "overlay",
              "size": 10,
              "solidity": 0.2
             }
            },
            "type": "barpolar"
           }
          ],
          "carpet": [
           {
            "aaxis": {
             "endlinecolor": "#2a3f5f",
             "gridcolor": "white",
             "linecolor": "white",
             "minorgridcolor": "white",
             "startlinecolor": "#2a3f5f"
            },
            "baxis": {
             "endlinecolor": "#2a3f5f",
             "gridcolor": "white",
             "linecolor": "white",
             "minorgridcolor": "white",
             "startlinecolor": "#2a3f5f"
            },
            "type": "carpet"
           }
          ],
          "choropleth": [
           {
            "colorbar": {
             "outlinewidth": 0,
             "ticks": ""
            },
            "type": "choropleth"
           }
          ],
          "contour": [
           {
            "colorbar": {
             "outlinewidth": 0,
             "ticks": ""
            },
            "colorscale": [
             [
              0,
              "#0d0887"
             ],
             [
              0.1111111111111111,
              "#46039f"
             ],
             [
              0.2222222222222222,
              "#7201a8"
             ],
             [
              0.3333333333333333,
              "#9c179e"
             ],
             [
              0.4444444444444444,
              "#bd3786"
             ],
             [
              0.5555555555555556,
              "#d8576b"
             ],
             [
              0.6666666666666666,
              "#ed7953"
             ],
             [
              0.7777777777777778,
              "#fb9f3a"
             ],
             [
              0.8888888888888888,
              "#fdca26"
             ],
             [
              1,
              "#f0f921"
             ]
            ],
            "type": "contour"
           }
          ],
          "contourcarpet": [
           {
            "colorbar": {
             "outlinewidth": 0,
             "ticks": ""
            },
            "type": "contourcarpet"
           }
          ],
          "heatmap": [
           {
            "colorbar": {
             "outlinewidth": 0,
             "ticks": ""
            },
            "colorscale": [
             [
              0,
              "#0d0887"
             ],
             [
              0.1111111111111111,
              "#46039f"
             ],
             [
              0.2222222222222222,
              "#7201a8"
             ],
             [
              0.3333333333333333,
              "#9c179e"
             ],
             [
              0.4444444444444444,
              "#bd3786"
             ],
             [
              0.5555555555555556,
              "#d8576b"
             ],
             [
              0.6666666666666666,
              "#ed7953"
             ],
             [
              0.7777777777777778,
              "#fb9f3a"
             ],
             [
              0.8888888888888888,
              "#fdca26"
             ],
             [
              1,
              "#f0f921"
             ]
            ],
            "type": "heatmap"
           }
          ],
          "heatmapgl": [
           {
            "colorbar": {
             "outlinewidth": 0,
             "ticks": ""
            },
            "colorscale": [
             [
              0,
              "#0d0887"
             ],
             [
              0.1111111111111111,
              "#46039f"
             ],
             [
              0.2222222222222222,
              "#7201a8"
             ],
             [
              0.3333333333333333,
              "#9c179e"
             ],
             [
              0.4444444444444444,
              "#bd3786"
             ],
             [
              0.5555555555555556,
              "#d8576b"
             ],
             [
              0.6666666666666666,
              "#ed7953"
             ],
             [
              0.7777777777777778,
              "#fb9f3a"
             ],
             [
              0.8888888888888888,
              "#fdca26"
             ],
             [
              1,
              "#f0f921"
             ]
            ],
            "type": "heatmapgl"
           }
          ],
          "histogram": [
           {
            "marker": {
             "pattern": {
              "fillmode": "overlay",
              "size": 10,
              "solidity": 0.2
             }
            },
            "type": "histogram"
           }
          ],
          "histogram2d": [
           {
            "colorbar": {
             "outlinewidth": 0,
             "ticks": ""
            },
            "colorscale": [
             [
              0,
              "#0d0887"
             ],
             [
              0.1111111111111111,
              "#46039f"
             ],
             [
              0.2222222222222222,
              "#7201a8"
             ],
             [
              0.3333333333333333,
              "#9c179e"
             ],
             [
              0.4444444444444444,
              "#bd3786"
             ],
             [
              0.5555555555555556,
              "#d8576b"
             ],
             [
              0.6666666666666666,
              "#ed7953"
             ],
             [
              0.7777777777777778,
              "#fb9f3a"
             ],
             [
              0.8888888888888888,
              "#fdca26"
             ],
             [
              1,
              "#f0f921"
             ]
            ],
            "type": "histogram2d"
           }
          ],
          "histogram2dcontour": [
           {
            "colorbar": {
             "outlinewidth": 0,
             "ticks": ""
            },
            "colorscale": [
             [
              0,
              "#0d0887"
             ],
             [
              0.1111111111111111,
              "#46039f"
             ],
             [
              0.2222222222222222,
              "#7201a8"
             ],
             [
              0.3333333333333333,
              "#9c179e"
             ],
             [
              0.4444444444444444,
              "#bd3786"
             ],
             [
              0.5555555555555556,
              "#d8576b"
             ],
             [
              0.6666666666666666,
              "#ed7953"
             ],
             [
              0.7777777777777778,
              "#fb9f3a"
             ],
             [
              0.8888888888888888,
              "#fdca26"
             ],
             [
              1,
              "#f0f921"
             ]
            ],
            "type": "histogram2dcontour"
           }
          ],
          "mesh3d": [
           {
            "colorbar": {
             "outlinewidth": 0,
             "ticks": ""
            },
            "type": "mesh3d"
           }
          ],
          "parcoords": [
           {
            "line": {
             "colorbar": {
              "outlinewidth": 0,
              "ticks": ""
             }
            },
            "type": "parcoords"
           }
          ],
          "pie": [
           {
            "automargin": true,
            "type": "pie"
           }
          ],
          "scatter": [
           {
            "marker": {
             "colorbar": {
              "outlinewidth": 0,
              "ticks": ""
             }
            },
            "type": "scatter"
           }
          ],
          "scatter3d": [
           {
            "line": {
             "colorbar": {
              "outlinewidth": 0,
              "ticks": ""
             }
            },
            "marker": {
             "colorbar": {
              "outlinewidth": 0,
              "ticks": ""
             }
            },
            "type": "scatter3d"
           }
          ],
          "scattercarpet": [
           {
            "marker": {
             "colorbar": {
              "outlinewidth": 0,
              "ticks": ""
             }
            },
            "type": "scattercarpet"
           }
          ],
          "scattergeo": [
           {
            "marker": {
             "colorbar": {
              "outlinewidth": 0,
              "ticks": ""
             }
            },
            "type": "scattergeo"
           }
          ],
          "scattergl": [
           {
            "marker": {
             "colorbar": {
              "outlinewidth": 0,
              "ticks": ""
             }
            },
            "type": "scattergl"
           }
          ],
          "scattermapbox": [
           {
            "marker": {
             "colorbar": {
              "outlinewidth": 0,
              "ticks": ""
             }
            },
            "type": "scattermapbox"
           }
          ],
          "scatterpolar": [
           {
            "marker": {
             "colorbar": {
              "outlinewidth": 0,
              "ticks": ""
             }
            },
            "type": "scatterpolar"
           }
          ],
          "scatterpolargl": [
           {
            "marker": {
             "colorbar": {
              "outlinewidth": 0,
              "ticks": ""
             }
            },
            "type": "scatterpolargl"
           }
          ],
          "scatterternary": [
           {
            "marker": {
             "colorbar": {
              "outlinewidth": 0,
              "ticks": ""
             }
            },
            "type": "scatterternary"
           }
          ],
          "surface": [
           {
            "colorbar": {
             "outlinewidth": 0,
             "ticks": ""
            },
            "colorscale": [
             [
              0,
              "#0d0887"
             ],
             [
              0.1111111111111111,
              "#46039f"
             ],
             [
              0.2222222222222222,
              "#7201a8"
             ],
             [
              0.3333333333333333,
              "#9c179e"
             ],
             [
              0.4444444444444444,
              "#bd3786"
             ],
             [
              0.5555555555555556,
              "#d8576b"
             ],
             [
              0.6666666666666666,
              "#ed7953"
             ],
             [
              0.7777777777777778,
              "#fb9f3a"
             ],
             [
              0.8888888888888888,
              "#fdca26"
             ],
             [
              1,
              "#f0f921"
             ]
            ],
            "type": "surface"
           }
          ],
          "table": [
           {
            "cells": {
             "fill": {
              "color": "#EBF0F8"
             },
             "line": {
              "color": "white"
             }
            },
            "header": {
             "fill": {
              "color": "#C8D4E3"
             },
             "line": {
              "color": "white"
             }
            },
            "type": "table"
           }
          ]
         },
         "layout": {
          "annotationdefaults": {
           "arrowcolor": "#2a3f5f",
           "arrowhead": 0,
           "arrowwidth": 1
          },
          "autotypenumbers": "strict",
          "coloraxis": {
           "colorbar": {
            "outlinewidth": 0,
            "ticks": ""
           }
          },
          "colorscale": {
           "diverging": [
            [
             0,
             "#8e0152"
            ],
            [
             0.1,
             "#c51b7d"
            ],
            [
             0.2,
             "#de77ae"
            ],
            [
             0.3,
             "#f1b6da"
            ],
            [
             0.4,
             "#fde0ef"
            ],
            [
             0.5,
             "#f7f7f7"
            ],
            [
             0.6,
             "#e6f5d0"
            ],
            [
             0.7,
             "#b8e186"
            ],
            [
             0.8,
             "#7fbc41"
            ],
            [
             0.9,
             "#4d9221"
            ],
            [
             1,
             "#276419"
            ]
           ],
           "sequential": [
            [
             0,
             "#0d0887"
            ],
            [
             0.1111111111111111,
             "#46039f"
            ],
            [
             0.2222222222222222,
             "#7201a8"
            ],
            [
             0.3333333333333333,
             "#9c179e"
            ],
            [
             0.4444444444444444,
             "#bd3786"
            ],
            [
             0.5555555555555556,
             "#d8576b"
            ],
            [
             0.6666666666666666,
             "#ed7953"
            ],
            [
             0.7777777777777778,
             "#fb9f3a"
            ],
            [
             0.8888888888888888,
             "#fdca26"
            ],
            [
             1,
             "#f0f921"
            ]
           ],
           "sequentialminus": [
            [
             0,
             "#0d0887"
            ],
            [
             0.1111111111111111,
             "#46039f"
            ],
            [
             0.2222222222222222,
             "#7201a8"
            ],
            [
             0.3333333333333333,
             "#9c179e"
            ],
            [
             0.4444444444444444,
             "#bd3786"
            ],
            [
             0.5555555555555556,
             "#d8576b"
            ],
            [
             0.6666666666666666,
             "#ed7953"
            ],
            [
             0.7777777777777778,
             "#fb9f3a"
            ],
            [
             0.8888888888888888,
             "#fdca26"
            ],
            [
             1,
             "#f0f921"
            ]
           ]
          },
          "colorway": [
           "#636efa",
           "#EF553B",
           "#00cc96",
           "#ab63fa",
           "#FFA15A",
           "#19d3f3",
           "#FF6692",
           "#B6E880",
           "#FF97FF",
           "#FECB52"
          ],
          "font": {
           "color": "#2a3f5f"
          },
          "geo": {
           "bgcolor": "white",
           "lakecolor": "white",
           "landcolor": "#E5ECF6",
           "showlakes": true,
           "showland": true,
           "subunitcolor": "white"
          },
          "hoverlabel": {
           "align": "left"
          },
          "hovermode": "closest",
          "mapbox": {
           "style": "light"
          },
          "paper_bgcolor": "white",
          "plot_bgcolor": "#E5ECF6",
          "polar": {
           "angularaxis": {
            "gridcolor": "white",
            "linecolor": "white",
            "ticks": ""
           },
           "bgcolor": "#E5ECF6",
           "radialaxis": {
            "gridcolor": "white",
            "linecolor": "white",
            "ticks": ""
           }
          },
          "scene": {
           "xaxis": {
            "backgroundcolor": "#E5ECF6",
            "gridcolor": "white",
            "gridwidth": 2,
            "linecolor": "white",
            "showbackground": true,
            "ticks": "",
            "zerolinecolor": "white"
           },
           "yaxis": {
            "backgroundcolor": "#E5ECF6",
            "gridcolor": "white",
            "gridwidth": 2,
            "linecolor": "white",
            "showbackground": true,
            "ticks": "",
            "zerolinecolor": "white"
           },
           "zaxis": {
            "backgroundcolor": "#E5ECF6",
            "gridcolor": "white",
            "gridwidth": 2,
            "linecolor": "white",
            "showbackground": true,
            "ticks": "",
            "zerolinecolor": "white"
           }
          },
          "shapedefaults": {
           "line": {
            "color": "#2a3f5f"
           }
          },
          "ternary": {
           "aaxis": {
            "gridcolor": "white",
            "linecolor": "white",
            "ticks": ""
           },
           "baxis": {
            "gridcolor": "white",
            "linecolor": "white",
            "ticks": ""
           },
           "bgcolor": "#E5ECF6",
           "caxis": {
            "gridcolor": "white",
            "linecolor": "white",
            "ticks": ""
           }
          },
          "title": {
           "x": 0.05
          },
          "xaxis": {
           "automargin": true,
           "gridcolor": "white",
           "linecolor": "white",
           "ticks": "",
           "title": {
            "standoff": 15
           },
           "zerolinecolor": "white",
           "zerolinewidth": 2
          },
          "yaxis": {
           "automargin": true,
           "gridcolor": "white",
           "linecolor": "white",
           "ticks": "",
           "title": {
            "standoff": 15
           },
           "zerolinecolor": "white",
           "zerolinewidth": 2
          }
         }
        },
        "xaxis": {
         "anchor": "y",
         "domain": [
          0,
          1
         ],
         "title": {
          "text": "day_of_week"
         }
        },
        "yaxis": {
         "anchor": "x",
         "domain": [
          0,
          1
         ],
         "title": {
          "text": "value"
         }
        }
       }
      }
     },
     "metadata": {},
     "output_type": "display_data"
    }
   ],
   "source": [
    "df_weekend = df_day[~((df_day[\"day_of_week\"] != 5) & (df_day[\"day_of_week\"] != 6))]\n",
    "df_viz_WeEnd = df_weekend.groupby(\"day_of_week\")[\"Bookings\"].sum()\n",
    "px.bar(df_viz_WeEnd)"
   ]
  },
  {
   "cell_type": "code",
   "execution_count": 83,
   "metadata": {},
   "outputs": [
    {
     "data": {
      "application/vnd.plotly.v1+json": {
       "config": {
        "plotlyServerURL": "https://plot.ly"
       },
       "data": [
        {
         "alignmentgroup": "True",
         "bingroup": "x",
         "histfunc": "sum",
         "hovertemplate": "temp=%{x}<br>sum of Bookings=%{y}<extra></extra>",
         "legendgroup": "",
         "marker": {
          "color": "#636efa",
          "pattern": {
           "shape": ""
          }
         },
         "name": "",
         "nbinsx": 15,
         "offsetgroup": "",
         "orientation": "v",
         "showlegend": false,
         "type": "histogram",
         "x": [
          0.82,
          0.8200000000000001,
          1.6399999999999997,
          1.64,
          2.46,
          3.2799999999999994,
          3.28,
          3.2800000000000002,
          4.1,
          4.92,
          5.739999999999999,
          5.74,
          5.740000000000001,
          6.559999999999999,
          6.56,
          6.5600000000000005,
          7.379999999999999,
          7.38,
          7.380000000000001,
          8.2,
          9.02,
          9.839999999999998,
          9.84,
          9.840000000000002,
          10.659999999999998,
          10.66,
          10.660000000000002,
          11.479999999999999,
          11.48,
          11.480000000000002,
          12.299999999999999,
          12.3,
          12.300000000000002,
          13.119999999999997,
          13.12,
          13.120000000000001,
          13.939999999999998,
          13.94,
          13.940000000000001,
          14.759999999999998,
          14.76,
          14.760000000000002,
          15.579999999999998,
          15.58,
          15.580000000000002,
          16.4,
          17.219999999999995,
          17.22,
          18.04,
          18.859999999999996,
          18.86,
          18.860000000000003,
          19.679999999999996,
          19.68,
          19.680000000000003,
          20.5,
          21.319999999999997,
          21.32,
          21.320000000000004,
          22.139999999999997,
          22.14,
          22.140000000000004,
          22.959999999999997,
          22.96,
          22.960000000000004,
          23.779999999999998,
          23.78,
          23.780000000000005,
          24.599999999999998,
          24.6,
          24.600000000000005,
          25.419999999999998,
          25.42,
          25.420000000000005,
          26.239999999999995,
          26.24,
          26.240000000000002,
          27.059999999999995,
          27.06,
          27.060000000000002,
          27.879999999999995,
          27.88,
          27.880000000000003,
          28.699999999999996,
          28.7,
          28.700000000000003,
          29.519999999999996,
          29.52,
          29.520000000000003,
          30.339999999999996,
          30.34,
          30.340000000000003,
          31.159999999999997,
          31.16,
          31.160000000000004,
          31.979999999999997,
          31.98,
          31.980000000000004,
          32.8,
          33.62,
          34.44,
          35.26,
          36.08,
          36.9,
          37.72,
          38.54,
          39.35999999999999,
          39.36,
          39.36000000000001,
          40.18,
          41
         ],
         "xaxis": "x",
         "y": [
          378,
          315,
          182,
          394,
          613,
          91,
          327,
          26,
          2461,
          4552,
          268,
          7326,
          311,
          108,
          14701,
          729,
          767,
          8463,
          463,
          29283,
          31310,
          549,
          47958,
          770,
          1199,
          52735,
          1110,
          328,
          32908,
          1232,
          3998,
          68148,
          5505,
          7119,
          71084,
          7256,
          8282,
          74132,
          7024,
          10424,
          80603,
          9646,
          7020,
          44192,
          11430,
          103560,
          1500,
          95716,
          79594,
          1474,
          89174,
          1071,
          856,
          53809,
          476,
          104650,
          1999,
          104887,
          4427,
          2645,
          106408,
          2391,
          5795,
          111921,
          3729,
          3485,
          60081,
          2792,
          7783,
          129802,
          7521,
          9695,
          128443,
          7388,
          15838,
          128224,
          7451,
          13336,
          122639,
          17091,
          3545,
          60404,
          7450,
          20018,
          143182,
          11480,
          20999,
          123572,
          15925,
          20834,
          122898,
          15589,
          16271,
          103203,
          15085,
          5051,
          37022,
          10464,
          113227,
          72436,
          45640,
          43465,
          20365,
          28153,
          15962,
          3585,
          121,
          3505,
          421,
          484,
          294
         ],
         "yaxis": "y"
        }
       ],
       "layout": {
        "bargap": 0.25,
        "barmode": "relative",
        "legend": {
         "tracegroupgap": 0
        },
        "margin": {
         "t": 60
        },
        "showlegend": false,
        "template": {
         "data": {
          "bar": [
           {
            "error_x": {
             "color": "#2a3f5f"
            },
            "error_y": {
             "color": "#2a3f5f"
            },
            "marker": {
             "line": {
              "color": "#E5ECF6",
              "width": 0.5
             },
             "pattern": {
              "fillmode": "overlay",
              "size": 10,
              "solidity": 0.2
             }
            },
            "type": "bar"
           }
          ],
          "barpolar": [
           {
            "marker": {
             "line": {
              "color": "#E5ECF6",
              "width": 0.5
             },
             "pattern": {
              "fillmode": "overlay",
              "size": 10,
              "solidity": 0.2
             }
            },
            "type": "barpolar"
           }
          ],
          "carpet": [
           {
            "aaxis": {
             "endlinecolor": "#2a3f5f",
             "gridcolor": "white",
             "linecolor": "white",
             "minorgridcolor": "white",
             "startlinecolor": "#2a3f5f"
            },
            "baxis": {
             "endlinecolor": "#2a3f5f",
             "gridcolor": "white",
             "linecolor": "white",
             "minorgridcolor": "white",
             "startlinecolor": "#2a3f5f"
            },
            "type": "carpet"
           }
          ],
          "choropleth": [
           {
            "colorbar": {
             "outlinewidth": 0,
             "ticks": ""
            },
            "type": "choropleth"
           }
          ],
          "contour": [
           {
            "colorbar": {
             "outlinewidth": 0,
             "ticks": ""
            },
            "colorscale": [
             [
              0,
              "#0d0887"
             ],
             [
              0.1111111111111111,
              "#46039f"
             ],
             [
              0.2222222222222222,
              "#7201a8"
             ],
             [
              0.3333333333333333,
              "#9c179e"
             ],
             [
              0.4444444444444444,
              "#bd3786"
             ],
             [
              0.5555555555555556,
              "#d8576b"
             ],
             [
              0.6666666666666666,
              "#ed7953"
             ],
             [
              0.7777777777777778,
              "#fb9f3a"
             ],
             [
              0.8888888888888888,
              "#fdca26"
             ],
             [
              1,
              "#f0f921"
             ]
            ],
            "type": "contour"
           }
          ],
          "contourcarpet": [
           {
            "colorbar": {
             "outlinewidth": 0,
             "ticks": ""
            },
            "type": "contourcarpet"
           }
          ],
          "heatmap": [
           {
            "colorbar": {
             "outlinewidth": 0,
             "ticks": ""
            },
            "colorscale": [
             [
              0,
              "#0d0887"
             ],
             [
              0.1111111111111111,
              "#46039f"
             ],
             [
              0.2222222222222222,
              "#7201a8"
             ],
             [
              0.3333333333333333,
              "#9c179e"
             ],
             [
              0.4444444444444444,
              "#bd3786"
             ],
             [
              0.5555555555555556,
              "#d8576b"
             ],
             [
              0.6666666666666666,
              "#ed7953"
             ],
             [
              0.7777777777777778,
              "#fb9f3a"
             ],
             [
              0.8888888888888888,
              "#fdca26"
             ],
             [
              1,
              "#f0f921"
             ]
            ],
            "type": "heatmap"
           }
          ],
          "heatmapgl": [
           {
            "colorbar": {
             "outlinewidth": 0,
             "ticks": ""
            },
            "colorscale": [
             [
              0,
              "#0d0887"
             ],
             [
              0.1111111111111111,
              "#46039f"
             ],
             [
              0.2222222222222222,
              "#7201a8"
             ],
             [
              0.3333333333333333,
              "#9c179e"
             ],
             [
              0.4444444444444444,
              "#bd3786"
             ],
             [
              0.5555555555555556,
              "#d8576b"
             ],
             [
              0.6666666666666666,
              "#ed7953"
             ],
             [
              0.7777777777777778,
              "#fb9f3a"
             ],
             [
              0.8888888888888888,
              "#fdca26"
             ],
             [
              1,
              "#f0f921"
             ]
            ],
            "type": "heatmapgl"
           }
          ],
          "histogram": [
           {
            "marker": {
             "pattern": {
              "fillmode": "overlay",
              "size": 10,
              "solidity": 0.2
             }
            },
            "type": "histogram"
           }
          ],
          "histogram2d": [
           {
            "colorbar": {
             "outlinewidth": 0,
             "ticks": ""
            },
            "colorscale": [
             [
              0,
              "#0d0887"
             ],
             [
              0.1111111111111111,
              "#46039f"
             ],
             [
              0.2222222222222222,
              "#7201a8"
             ],
             [
              0.3333333333333333,
              "#9c179e"
             ],
             [
              0.4444444444444444,
              "#bd3786"
             ],
             [
              0.5555555555555556,
              "#d8576b"
             ],
             [
              0.6666666666666666,
              "#ed7953"
             ],
             [
              0.7777777777777778,
              "#fb9f3a"
             ],
             [
              0.8888888888888888,
              "#fdca26"
             ],
             [
              1,
              "#f0f921"
             ]
            ],
            "type": "histogram2d"
           }
          ],
          "histogram2dcontour": [
           {
            "colorbar": {
             "outlinewidth": 0,
             "ticks": ""
            },
            "colorscale": [
             [
              0,
              "#0d0887"
             ],
             [
              0.1111111111111111,
              "#46039f"
             ],
             [
              0.2222222222222222,
              "#7201a8"
             ],
             [
              0.3333333333333333,
              "#9c179e"
             ],
             [
              0.4444444444444444,
              "#bd3786"
             ],
             [
              0.5555555555555556,
              "#d8576b"
             ],
             [
              0.6666666666666666,
              "#ed7953"
             ],
             [
              0.7777777777777778,
              "#fb9f3a"
             ],
             [
              0.8888888888888888,
              "#fdca26"
             ],
             [
              1,
              "#f0f921"
             ]
            ],
            "type": "histogram2dcontour"
           }
          ],
          "mesh3d": [
           {
            "colorbar": {
             "outlinewidth": 0,
             "ticks": ""
            },
            "type": "mesh3d"
           }
          ],
          "parcoords": [
           {
            "line": {
             "colorbar": {
              "outlinewidth": 0,
              "ticks": ""
             }
            },
            "type": "parcoords"
           }
          ],
          "pie": [
           {
            "automargin": true,
            "type": "pie"
           }
          ],
          "scatter": [
           {
            "marker": {
             "colorbar": {
              "outlinewidth": 0,
              "ticks": ""
             }
            },
            "type": "scatter"
           }
          ],
          "scatter3d": [
           {
            "line": {
             "colorbar": {
              "outlinewidth": 0,
              "ticks": ""
             }
            },
            "marker": {
             "colorbar": {
              "outlinewidth": 0,
              "ticks": ""
             }
            },
            "type": "scatter3d"
           }
          ],
          "scattercarpet": [
           {
            "marker": {
             "colorbar": {
              "outlinewidth": 0,
              "ticks": ""
             }
            },
            "type": "scattercarpet"
           }
          ],
          "scattergeo": [
           {
            "marker": {
             "colorbar": {
              "outlinewidth": 0,
              "ticks": ""
             }
            },
            "type": "scattergeo"
           }
          ],
          "scattergl": [
           {
            "marker": {
             "colorbar": {
              "outlinewidth": 0,
              "ticks": ""
             }
            },
            "type": "scattergl"
           }
          ],
          "scattermapbox": [
           {
            "marker": {
             "colorbar": {
              "outlinewidth": 0,
              "ticks": ""
             }
            },
            "type": "scattermapbox"
           }
          ],
          "scatterpolar": [
           {
            "marker": {
             "colorbar": {
              "outlinewidth": 0,
              "ticks": ""
             }
            },
            "type": "scatterpolar"
           }
          ],
          "scatterpolargl": [
           {
            "marker": {
             "colorbar": {
              "outlinewidth": 0,
              "ticks": ""
             }
            },
            "type": "scatterpolargl"
           }
          ],
          "scatterternary": [
           {
            "marker": {
             "colorbar": {
              "outlinewidth": 0,
              "ticks": ""
             }
            },
            "type": "scatterternary"
           }
          ],
          "surface": [
           {
            "colorbar": {
             "outlinewidth": 0,
             "ticks": ""
            },
            "colorscale": [
             [
              0,
              "#0d0887"
             ],
             [
              0.1111111111111111,
              "#46039f"
             ],
             [
              0.2222222222222222,
              "#7201a8"
             ],
             [
              0.3333333333333333,
              "#9c179e"
             ],
             [
              0.4444444444444444,
              "#bd3786"
             ],
             [
              0.5555555555555556,
              "#d8576b"
             ],
             [
              0.6666666666666666,
              "#ed7953"
             ],
             [
              0.7777777777777778,
              "#fb9f3a"
             ],
             [
              0.8888888888888888,
              "#fdca26"
             ],
             [
              1,
              "#f0f921"
             ]
            ],
            "type": "surface"
           }
          ],
          "table": [
           {
            "cells": {
             "fill": {
              "color": "#EBF0F8"
             },
             "line": {
              "color": "white"
             }
            },
            "header": {
             "fill": {
              "color": "#C8D4E3"
             },
             "line": {
              "color": "white"
             }
            },
            "type": "table"
           }
          ]
         },
         "layout": {
          "annotationdefaults": {
           "arrowcolor": "#2a3f5f",
           "arrowhead": 0,
           "arrowwidth": 1
          },
          "autotypenumbers": "strict",
          "coloraxis": {
           "colorbar": {
            "outlinewidth": 0,
            "ticks": ""
           }
          },
          "colorscale": {
           "diverging": [
            [
             0,
             "#8e0152"
            ],
            [
             0.1,
             "#c51b7d"
            ],
            [
             0.2,
             "#de77ae"
            ],
            [
             0.3,
             "#f1b6da"
            ],
            [
             0.4,
             "#fde0ef"
            ],
            [
             0.5,
             "#f7f7f7"
            ],
            [
             0.6,
             "#e6f5d0"
            ],
            [
             0.7,
             "#b8e186"
            ],
            [
             0.8,
             "#7fbc41"
            ],
            [
             0.9,
             "#4d9221"
            ],
            [
             1,
             "#276419"
            ]
           ],
           "sequential": [
            [
             0,
             "#0d0887"
            ],
            [
             0.1111111111111111,
             "#46039f"
            ],
            [
             0.2222222222222222,
             "#7201a8"
            ],
            [
             0.3333333333333333,
             "#9c179e"
            ],
            [
             0.4444444444444444,
             "#bd3786"
            ],
            [
             0.5555555555555556,
             "#d8576b"
            ],
            [
             0.6666666666666666,
             "#ed7953"
            ],
            [
             0.7777777777777778,
             "#fb9f3a"
            ],
            [
             0.8888888888888888,
             "#fdca26"
            ],
            [
             1,
             "#f0f921"
            ]
           ],
           "sequentialminus": [
            [
             0,
             "#0d0887"
            ],
            [
             0.1111111111111111,
             "#46039f"
            ],
            [
             0.2222222222222222,
             "#7201a8"
            ],
            [
             0.3333333333333333,
             "#9c179e"
            ],
            [
             0.4444444444444444,
             "#bd3786"
            ],
            [
             0.5555555555555556,
             "#d8576b"
            ],
            [
             0.6666666666666666,
             "#ed7953"
            ],
            [
             0.7777777777777778,
             "#fb9f3a"
            ],
            [
             0.8888888888888888,
             "#fdca26"
            ],
            [
             1,
             "#f0f921"
            ]
           ]
          },
          "colorway": [
           "#636efa",
           "#EF553B",
           "#00cc96",
           "#ab63fa",
           "#FFA15A",
           "#19d3f3",
           "#FF6692",
           "#B6E880",
           "#FF97FF",
           "#FECB52"
          ],
          "font": {
           "color": "#2a3f5f"
          },
          "geo": {
           "bgcolor": "white",
           "lakecolor": "white",
           "landcolor": "#E5ECF6",
           "showlakes": true,
           "showland": true,
           "subunitcolor": "white"
          },
          "hoverlabel": {
           "align": "left"
          },
          "hovermode": "closest",
          "mapbox": {
           "style": "light"
          },
          "paper_bgcolor": "white",
          "plot_bgcolor": "#E5ECF6",
          "polar": {
           "angularaxis": {
            "gridcolor": "white",
            "linecolor": "white",
            "ticks": ""
           },
           "bgcolor": "#E5ECF6",
           "radialaxis": {
            "gridcolor": "white",
            "linecolor": "white",
            "ticks": ""
           }
          },
          "scene": {
           "xaxis": {
            "backgroundcolor": "#E5ECF6",
            "gridcolor": "white",
            "gridwidth": 2,
            "linecolor": "white",
            "showbackground": true,
            "ticks": "",
            "zerolinecolor": "white"
           },
           "yaxis": {
            "backgroundcolor": "#E5ECF6",
            "gridcolor": "white",
            "gridwidth": 2,
            "linecolor": "white",
            "showbackground": true,
            "ticks": "",
            "zerolinecolor": "white"
           },
           "zaxis": {
            "backgroundcolor": "#E5ECF6",
            "gridcolor": "white",
            "gridwidth": 2,
            "linecolor": "white",
            "showbackground": true,
            "ticks": "",
            "zerolinecolor": "white"
           }
          },
          "shapedefaults": {
           "line": {
            "color": "#2a3f5f"
           }
          },
          "ternary": {
           "aaxis": {
            "gridcolor": "white",
            "linecolor": "white",
            "ticks": ""
           },
           "baxis": {
            "gridcolor": "white",
            "linecolor": "white",
            "ticks": ""
           },
           "bgcolor": "#E5ECF6",
           "caxis": {
            "gridcolor": "white",
            "linecolor": "white",
            "ticks": ""
           }
          },
          "title": {
           "x": 0.05
          },
          "xaxis": {
           "automargin": true,
           "gridcolor": "white",
           "linecolor": "white",
           "ticks": "",
           "title": {
            "standoff": 15
           },
           "zerolinecolor": "white",
           "zerolinewidth": 2
          },
          "yaxis": {
           "automargin": true,
           "gridcolor": "white",
           "linecolor": "white",
           "ticks": "",
           "title": {
            "standoff": 15
           },
           "zerolinecolor": "white",
           "zerolinewidth": 2
          }
         }
        },
        "xaxis": {
         "anchor": "y",
         "domain": [
          0,
          1
         ],
         "title": {
          "text": "temp"
         }
        },
        "yaxis": {
         "anchor": "x",
         "domain": [
          0,
          1
         ],
         "title": {
          "text": "sum of Bookings"
         }
        }
       }
      }
     },
     "metadata": {},
     "output_type": "display_data"
    }
   ],
   "source": [
    "df_vizT = df_hourly.groupby([\"temp\"])[[\"Bookings\"]].sum().reset_index()\n",
    "figT = px.histogram(df_vizT, x=\"temp\", y=\"Bookings\", nbins=15 )\n",
    "figT.update_layout(showlegend=False,bargap=0.25)"
   ]
  },
  {
   "cell_type": "code",
   "execution_count": 85,
   "metadata": {},
   "outputs": [
    {
     "data": {
      "application/vnd.plotly.v1+json": {
       "config": {
        "plotlyServerURL": "https://plot.ly"
       },
       "data": [
        {
         "alignmentgroup": "True",
         "bingroup": "x",
         "histfunc": "sum",
         "hovertemplate": "atemp=%{x}<br>sum of Bookings=%{y}<extra></extra>",
         "legendgroup": "",
         "marker": {
          "color": "#636efa",
          "pattern": {
           "shape": ""
          }
         },
         "name": "",
         "nbinsx": 15,
         "offsetgroup": "",
         "orientation": "v",
         "showlegend": false,
         "type": "histogram",
         "x": [
          0,
          0.76,
          0.7600000000000001,
          1.515,
          2.275,
          3.0299999999999994,
          3.03,
          3.7899999999999996,
          3.79,
          3.7900000000000005,
          4.545,
          5.304999999999999,
          5.305,
          5.305000000000001,
          6.059999999999999,
          6.06,
          6.0600000000000005,
          6.819999999999999,
          6.82,
          6.820000000000001,
          7.574999999999999,
          7.575,
          7.575000000000001,
          8.335,
          9.09,
          9.849999999999998,
          9.85,
          10.604999999999999,
          10.605,
          10.605000000000002,
          11.364999999999998,
          11.365,
          11.365000000000002,
          12.119999999999997,
          12.12,
          12.120000000000001,
          12.879999999999999,
          12.88,
          12.880000000000003,
          13.634999999999998,
          13.635,
          13.635000000000002,
          14.394999999999998,
          14.395,
          14.395000000000001,
          15.149999999999999,
          15.15,
          15.150000000000002,
          15.909999999999998,
          15.91,
          15.910000000000002,
          16.665,
          17.425,
          18.179999999999996,
          18.18,
          18.94,
          19.694999999999997,
          19.695,
          19.695000000000004,
          20.454999999999995,
          20.455,
          20.455000000000002,
          21.209999999999997,
          21.21,
          21.210000000000004,
          21.969999999999995,
          21.97,
          21.970000000000002,
          22.724999999999998,
          22.725,
          22.725000000000005,
          23.484999999999996,
          23.485,
          23.485000000000003,
          24.239999999999995,
          24.24,
          24.240000000000002,
          25,
          25.759999999999998,
          25.76,
          25.760000000000005,
          26.514999999999997,
          26.515,
          26.515000000000004,
          27.274999999999995,
          27.275,
          27.275000000000002,
          28.029999999999998,
          28.03,
          28.030000000000005,
          28.789999999999996,
          28.79,
          28.790000000000003,
          29.544999999999998,
          29.545,
          29.545000000000005,
          30.304999999999996,
          30.305,
          30.305000000000003,
          31.059999999999995,
          31.06,
          31.060000000000002,
          31.819999999999997,
          31.82,
          31.820000000000004,
          32.575,
          33.335,
          34.09,
          34.09000000000001,
          34.85,
          35.60499999999999,
          35.605,
          36.365,
          37.11999999999999,
          37.12,
          37.120000000000005,
          37.879999999999995,
          37.88,
          37.88000000000001,
          38.63499999999999,
          38.635,
          38.635000000000005,
          39.394999999999996,
          39.395,
          39.39500000000001,
          40.14999999999999,
          40.15,
          40.90999999999999,
          40.91,
          40.910000000000004,
          41.66499999999999,
          41.665,
          42.42499999999999,
          42.425,
          43.18,
          43.18000000000001,
          43.93999999999999,
          43.94,
          43.940000000000005,
          44.695,
          45.455,
          45.455000000000005,
          46.21,
          47.725,
          49.24,
          50
         ],
         "xaxis": "x",
         "y": [
          31,
          3,
          6,
          106,
          297,
          27,
          655,
          110,
          729,
          90,
          792,
          30,
          1939,
          52,
          394,
          5148,
          398,
          427,
          4423,
          381,
          439,
          6052,
          1422,
          4823,
          12086,
          413,
          14598,
          510,
          27764,
          568,
          1908,
          41514,
          631,
          2320,
          28477,
          1698,
          3049,
          32784,
          4824,
          2963,
          33815,
          3162,
          3746,
          40693,
          5351,
          6399,
          54128,
          10807,
          9891,
          36135,
          6240,
          87775,
          63945,
          121,
          23287,
          11850,
          476,
          60961,
          1205,
          1948,
          99025,
          2587,
          1782,
          93050,
          2384,
          2697,
          73387,
          3510,
          460,
          87994,
          3265,
          2600,
          51062,
          1479,
          4225,
          94525,
          5900,
          112770,
          5880,
          96544,
          11865,
          9318,
          103508,
          8619,
          7925,
          70985,
          4750,
          1110,
          18206,
          2173,
          3847,
          40320,
          3883,
          5944,
          52988,
          8265,
          17676,
          95272,
          14199,
          42356,
          227424,
          41267,
          16610,
          80974,
          15733,
          159528,
          153803,
          115021,
          499,
          126173,
          711,
          78564,
          64772,
          115,
          60981,
          956,
          478,
          48230,
          230,
          926,
          42421,
          1319,
          339,
          36942,
          1585,
          52,
          27666,
          499,
          19267,
          212,
          203,
          10163,
          1257,
          8372,
          5658,
          196,
          466,
          3995,
          398,
          3624,
          1252,
          193,
          1264,
          133,
          270,
          129
         ],
         "yaxis": "y"
        }
       ],
       "layout": {
        "bargap": 0.25,
        "barmode": "relative",
        "legend": {
         "tracegroupgap": 0
        },
        "margin": {
         "t": 60
        },
        "showlegend": false,
        "template": {
         "data": {
          "bar": [
           {
            "error_x": {
             "color": "#2a3f5f"
            },
            "error_y": {
             "color": "#2a3f5f"
            },
            "marker": {
             "line": {
              "color": "#E5ECF6",
              "width": 0.5
             },
             "pattern": {
              "fillmode": "overlay",
              "size": 10,
              "solidity": 0.2
             }
            },
            "type": "bar"
           }
          ],
          "barpolar": [
           {
            "marker": {
             "line": {
              "color": "#E5ECF6",
              "width": 0.5
             },
             "pattern": {
              "fillmode": "overlay",
              "size": 10,
              "solidity": 0.2
             }
            },
            "type": "barpolar"
           }
          ],
          "carpet": [
           {
            "aaxis": {
             "endlinecolor": "#2a3f5f",
             "gridcolor": "white",
             "linecolor": "white",
             "minorgridcolor": "white",
             "startlinecolor": "#2a3f5f"
            },
            "baxis": {
             "endlinecolor": "#2a3f5f",
             "gridcolor": "white",
             "linecolor": "white",
             "minorgridcolor": "white",
             "startlinecolor": "#2a3f5f"
            },
            "type": "carpet"
           }
          ],
          "choropleth": [
           {
            "colorbar": {
             "outlinewidth": 0,
             "ticks": ""
            },
            "type": "choropleth"
           }
          ],
          "contour": [
           {
            "colorbar": {
             "outlinewidth": 0,
             "ticks": ""
            },
            "colorscale": [
             [
              0,
              "#0d0887"
             ],
             [
              0.1111111111111111,
              "#46039f"
             ],
             [
              0.2222222222222222,
              "#7201a8"
             ],
             [
              0.3333333333333333,
              "#9c179e"
             ],
             [
              0.4444444444444444,
              "#bd3786"
             ],
             [
              0.5555555555555556,
              "#d8576b"
             ],
             [
              0.6666666666666666,
              "#ed7953"
             ],
             [
              0.7777777777777778,
              "#fb9f3a"
             ],
             [
              0.8888888888888888,
              "#fdca26"
             ],
             [
              1,
              "#f0f921"
             ]
            ],
            "type": "contour"
           }
          ],
          "contourcarpet": [
           {
            "colorbar": {
             "outlinewidth": 0,
             "ticks": ""
            },
            "type": "contourcarpet"
           }
          ],
          "heatmap": [
           {
            "colorbar": {
             "outlinewidth": 0,
             "ticks": ""
            },
            "colorscale": [
             [
              0,
              "#0d0887"
             ],
             [
              0.1111111111111111,
              "#46039f"
             ],
             [
              0.2222222222222222,
              "#7201a8"
             ],
             [
              0.3333333333333333,
              "#9c179e"
             ],
             [
              0.4444444444444444,
              "#bd3786"
             ],
             [
              0.5555555555555556,
              "#d8576b"
             ],
             [
              0.6666666666666666,
              "#ed7953"
             ],
             [
              0.7777777777777778,
              "#fb9f3a"
             ],
             [
              0.8888888888888888,
              "#fdca26"
             ],
             [
              1,
              "#f0f921"
             ]
            ],
            "type": "heatmap"
           }
          ],
          "heatmapgl": [
           {
            "colorbar": {
             "outlinewidth": 0,
             "ticks": ""
            },
            "colorscale": [
             [
              0,
              "#0d0887"
             ],
             [
              0.1111111111111111,
              "#46039f"
             ],
             [
              0.2222222222222222,
              "#7201a8"
             ],
             [
              0.3333333333333333,
              "#9c179e"
             ],
             [
              0.4444444444444444,
              "#bd3786"
             ],
             [
              0.5555555555555556,
              "#d8576b"
             ],
             [
              0.6666666666666666,
              "#ed7953"
             ],
             [
              0.7777777777777778,
              "#fb9f3a"
             ],
             [
              0.8888888888888888,
              "#fdca26"
             ],
             [
              1,
              "#f0f921"
             ]
            ],
            "type": "heatmapgl"
           }
          ],
          "histogram": [
           {
            "marker": {
             "pattern": {
              "fillmode": "overlay",
              "size": 10,
              "solidity": 0.2
             }
            },
            "type": "histogram"
           }
          ],
          "histogram2d": [
           {
            "colorbar": {
             "outlinewidth": 0,
             "ticks": ""
            },
            "colorscale": [
             [
              0,
              "#0d0887"
             ],
             [
              0.1111111111111111,
              "#46039f"
             ],
             [
              0.2222222222222222,
              "#7201a8"
             ],
             [
              0.3333333333333333,
              "#9c179e"
             ],
             [
              0.4444444444444444,
              "#bd3786"
             ],
             [
              0.5555555555555556,
              "#d8576b"
             ],
             [
              0.6666666666666666,
              "#ed7953"
             ],
             [
              0.7777777777777778,
              "#fb9f3a"
             ],
             [
              0.8888888888888888,
              "#fdca26"
             ],
             [
              1,
              "#f0f921"
             ]
            ],
            "type": "histogram2d"
           }
          ],
          "histogram2dcontour": [
           {
            "colorbar": {
             "outlinewidth": 0,
             "ticks": ""
            },
            "colorscale": [
             [
              0,
              "#0d0887"
             ],
             [
              0.1111111111111111,
              "#46039f"
             ],
             [
              0.2222222222222222,
              "#7201a8"
             ],
             [
              0.3333333333333333,
              "#9c179e"
             ],
             [
              0.4444444444444444,
              "#bd3786"
             ],
             [
              0.5555555555555556,
              "#d8576b"
             ],
             [
              0.6666666666666666,
              "#ed7953"
             ],
             [
              0.7777777777777778,
              "#fb9f3a"
             ],
             [
              0.8888888888888888,
              "#fdca26"
             ],
             [
              1,
              "#f0f921"
             ]
            ],
            "type": "histogram2dcontour"
           }
          ],
          "mesh3d": [
           {
            "colorbar": {
             "outlinewidth": 0,
             "ticks": ""
            },
            "type": "mesh3d"
           }
          ],
          "parcoords": [
           {
            "line": {
             "colorbar": {
              "outlinewidth": 0,
              "ticks": ""
             }
            },
            "type": "parcoords"
           }
          ],
          "pie": [
           {
            "automargin": true,
            "type": "pie"
           }
          ],
          "scatter": [
           {
            "marker": {
             "colorbar": {
              "outlinewidth": 0,
              "ticks": ""
             }
            },
            "type": "scatter"
           }
          ],
          "scatter3d": [
           {
            "line": {
             "colorbar": {
              "outlinewidth": 0,
              "ticks": ""
             }
            },
            "marker": {
             "colorbar": {
              "outlinewidth": 0,
              "ticks": ""
             }
            },
            "type": "scatter3d"
           }
          ],
          "scattercarpet": [
           {
            "marker": {
             "colorbar": {
              "outlinewidth": 0,
              "ticks": ""
             }
            },
            "type": "scattercarpet"
           }
          ],
          "scattergeo": [
           {
            "marker": {
             "colorbar": {
              "outlinewidth": 0,
              "ticks": ""
             }
            },
            "type": "scattergeo"
           }
          ],
          "scattergl": [
           {
            "marker": {
             "colorbar": {
              "outlinewidth": 0,
              "ticks": ""
             }
            },
            "type": "scattergl"
           }
          ],
          "scattermapbox": [
           {
            "marker": {
             "colorbar": {
              "outlinewidth": 0,
              "ticks": ""
             }
            },
            "type": "scattermapbox"
           }
          ],
          "scatterpolar": [
           {
            "marker": {
             "colorbar": {
              "outlinewidth": 0,
              "ticks": ""
             }
            },
            "type": "scatterpolar"
           }
          ],
          "scatterpolargl": [
           {
            "marker": {
             "colorbar": {
              "outlinewidth": 0,
              "ticks": ""
             }
            },
            "type": "scatterpolargl"
           }
          ],
          "scatterternary": [
           {
            "marker": {
             "colorbar": {
              "outlinewidth": 0,
              "ticks": ""
             }
            },
            "type": "scatterternary"
           }
          ],
          "surface": [
           {
            "colorbar": {
             "outlinewidth": 0,
             "ticks": ""
            },
            "colorscale": [
             [
              0,
              "#0d0887"
             ],
             [
              0.1111111111111111,
              "#46039f"
             ],
             [
              0.2222222222222222,
              "#7201a8"
             ],
             [
              0.3333333333333333,
              "#9c179e"
             ],
             [
              0.4444444444444444,
              "#bd3786"
             ],
             [
              0.5555555555555556,
              "#d8576b"
             ],
             [
              0.6666666666666666,
              "#ed7953"
             ],
             [
              0.7777777777777778,
              "#fb9f3a"
             ],
             [
              0.8888888888888888,
              "#fdca26"
             ],
             [
              1,
              "#f0f921"
             ]
            ],
            "type": "surface"
           }
          ],
          "table": [
           {
            "cells": {
             "fill": {
              "color": "#EBF0F8"
             },
             "line": {
              "color": "white"
             }
            },
            "header": {
             "fill": {
              "color": "#C8D4E3"
             },
             "line": {
              "color": "white"
             }
            },
            "type": "table"
           }
          ]
         },
         "layout": {
          "annotationdefaults": {
           "arrowcolor": "#2a3f5f",
           "arrowhead": 0,
           "arrowwidth": 1
          },
          "autotypenumbers": "strict",
          "coloraxis": {
           "colorbar": {
            "outlinewidth": 0,
            "ticks": ""
           }
          },
          "colorscale": {
           "diverging": [
            [
             0,
             "#8e0152"
            ],
            [
             0.1,
             "#c51b7d"
            ],
            [
             0.2,
             "#de77ae"
            ],
            [
             0.3,
             "#f1b6da"
            ],
            [
             0.4,
             "#fde0ef"
            ],
            [
             0.5,
             "#f7f7f7"
            ],
            [
             0.6,
             "#e6f5d0"
            ],
            [
             0.7,
             "#b8e186"
            ],
            [
             0.8,
             "#7fbc41"
            ],
            [
             0.9,
             "#4d9221"
            ],
            [
             1,
             "#276419"
            ]
           ],
           "sequential": [
            [
             0,
             "#0d0887"
            ],
            [
             0.1111111111111111,
             "#46039f"
            ],
            [
             0.2222222222222222,
             "#7201a8"
            ],
            [
             0.3333333333333333,
             "#9c179e"
            ],
            [
             0.4444444444444444,
             "#bd3786"
            ],
            [
             0.5555555555555556,
             "#d8576b"
            ],
            [
             0.6666666666666666,
             "#ed7953"
            ],
            [
             0.7777777777777778,
             "#fb9f3a"
            ],
            [
             0.8888888888888888,
             "#fdca26"
            ],
            [
             1,
             "#f0f921"
            ]
           ],
           "sequentialminus": [
            [
             0,
             "#0d0887"
            ],
            [
             0.1111111111111111,
             "#46039f"
            ],
            [
             0.2222222222222222,
             "#7201a8"
            ],
            [
             0.3333333333333333,
             "#9c179e"
            ],
            [
             0.4444444444444444,
             "#bd3786"
            ],
            [
             0.5555555555555556,
             "#d8576b"
            ],
            [
             0.6666666666666666,
             "#ed7953"
            ],
            [
             0.7777777777777778,
             "#fb9f3a"
            ],
            [
             0.8888888888888888,
             "#fdca26"
            ],
            [
             1,
             "#f0f921"
            ]
           ]
          },
          "colorway": [
           "#636efa",
           "#EF553B",
           "#00cc96",
           "#ab63fa",
           "#FFA15A",
           "#19d3f3",
           "#FF6692",
           "#B6E880",
           "#FF97FF",
           "#FECB52"
          ],
          "font": {
           "color": "#2a3f5f"
          },
          "geo": {
           "bgcolor": "white",
           "lakecolor": "white",
           "landcolor": "#E5ECF6",
           "showlakes": true,
           "showland": true,
           "subunitcolor": "white"
          },
          "hoverlabel": {
           "align": "left"
          },
          "hovermode": "closest",
          "mapbox": {
           "style": "light"
          },
          "paper_bgcolor": "white",
          "plot_bgcolor": "#E5ECF6",
          "polar": {
           "angularaxis": {
            "gridcolor": "white",
            "linecolor": "white",
            "ticks": ""
           },
           "bgcolor": "#E5ECF6",
           "radialaxis": {
            "gridcolor": "white",
            "linecolor": "white",
            "ticks": ""
           }
          },
          "scene": {
           "xaxis": {
            "backgroundcolor": "#E5ECF6",
            "gridcolor": "white",
            "gridwidth": 2,
            "linecolor": "white",
            "showbackground": true,
            "ticks": "",
            "zerolinecolor": "white"
           },
           "yaxis": {
            "backgroundcolor": "#E5ECF6",
            "gridcolor": "white",
            "gridwidth": 2,
            "linecolor": "white",
            "showbackground": true,
            "ticks": "",
            "zerolinecolor": "white"
           },
           "zaxis": {
            "backgroundcolor": "#E5ECF6",
            "gridcolor": "white",
            "gridwidth": 2,
            "linecolor": "white",
            "showbackground": true,
            "ticks": "",
            "zerolinecolor": "white"
           }
          },
          "shapedefaults": {
           "line": {
            "color": "#2a3f5f"
           }
          },
          "ternary": {
           "aaxis": {
            "gridcolor": "white",
            "linecolor": "white",
            "ticks": ""
           },
           "baxis": {
            "gridcolor": "white",
            "linecolor": "white",
            "ticks": ""
           },
           "bgcolor": "#E5ECF6",
           "caxis": {
            "gridcolor": "white",
            "linecolor": "white",
            "ticks": ""
           }
          },
          "title": {
           "x": 0.05
          },
          "xaxis": {
           "automargin": true,
           "gridcolor": "white",
           "linecolor": "white",
           "ticks": "",
           "title": {
            "standoff": 15
           },
           "zerolinecolor": "white",
           "zerolinewidth": 2
          },
          "yaxis": {
           "automargin": true,
           "gridcolor": "white",
           "linecolor": "white",
           "ticks": "",
           "title": {
            "standoff": 15
           },
           "zerolinecolor": "white",
           "zerolinewidth": 2
          }
         }
        },
        "xaxis": {
         "anchor": "y",
         "domain": [
          0,
          1
         ],
         "title": {
          "text": "atemp"
         }
        },
        "yaxis": {
         "anchor": "x",
         "domain": [
          0,
          1
         ],
         "title": {
          "text": "sum of Bookings"
         }
        }
       }
      }
     },
     "metadata": {},
     "output_type": "display_data"
    }
   ],
   "source": [
    "df_vizAt = df_hourly.groupby([\"atemp\"])[[\"Bookings\"]].sum().reset_index()\n",
    "figAt = px.histogram(df_vizAt, x=\"atemp\", y=\"Bookings\", nbins=15 )\n",
    "figAt.update_layout(showlegend=False,bargap=0.25)"
   ]
  },
  {
   "cell_type": "markdown",
   "metadata": {},
   "source": [
    "# Korrelationsmatrix"
   ]
  },
  {
   "cell_type": "code",
   "execution_count": null,
   "metadata": {},
   "outputs": [],
   "source": [
    "corrMatt = df_day[['holiday', 'workingday', 'temp', 'atemp', 'humidity', 'windspeed', 'registered_customer', 'unregistered_customer','Bookings', 'year',\n",
    "                   'season', 'weather', 'week_of_year']].corr()\n",
    "mask = np.array(corrMatt)\n",
    "mask[np.tril_indices_from(mask)] = False\n",
    "# fig,ax= plt.subplots()\n",
    "# fig.set_size_inches(20,10)\n",
    "sns.set(rc = {'figure.figsize' : (20,10)})\n",
    "sns.heatmap(corrMatt, annot=True, cmap='coolwarm', mask = mask).set(title='Korrelationsmatrix über ausgwählte Features')"
   ]
  },
  {
   "cell_type": "markdown",
   "metadata": {},
   "source": [
    "# Prognose\n",
    "## Zeitreihenanalyse"
   ]
  },
  {
   "cell_type": "markdown",
   "metadata": {},
   "source": [
    "### Preprocessing"
   ]
  },
  {
   "cell_type": "code",
   "execution_count": null,
   "metadata": {},
   "outputs": [],
   "source": [
    "# Resample des DF auf den Monat\n",
    "df_time = df.set_index('datetime') \n",
    "df_time.index = pd.to_datetime(df_time.index) # Sichergehen, dass Index das richtige Format hat. \n",
    "df_time = df_time.resample('M').count()[['temp']]\n",
    "df_time.columns = ['Bookings']\n",
    "df_time['Vorheriger_Monat'] = df_time['Bookings'].shift()\n",
    "\n",
    "# Einfügen von Mulitplikativen und Additiven Unterschieden\n",
    "df_time['Mul'] = df_time['Bookings'] / df_time['Vorheriger_Monat']\n",
    "df_time['Add'] = df_time['Bookings'] - df_time['Vorheriger_Monat']\n",
    "\n",
    "# Einfügen des Rolling Average\n",
    "df_time['Rol_avg'] = df_time['Bookings'].rolling(window = 3).mean().round(2)\n",
    "df_time['Monat_t'] = range(1,25)\n",
    "df_time"
   ]
  },
  {
   "cell_type": "markdown",
   "metadata": {},
   "source": [
    "Eine weitere Möglichkeit zur Analyse der Daten in Bezug auf die Bookings ist das Betrachten als Zeitreihe. Hier werden die Bookings über die 2 Jahre hinweg Beobachtet und die Entwicklung der Größe analysiert. Die Folgende Grafik zeigt die Zeitliche Entwicklung der Verkäufe, aggregiert auf den Monat und die gleitenden Durchschnitte der Zeitreihe der Ordnung drei. "
   ]
  },
  {
   "cell_type": "code",
   "execution_count": null,
   "metadata": {},
   "outputs": [],
   "source": [
    "fig = px.line(df_time.reset_index(),x = 'datetime', y = ['Bookings', 'Rol_avg'])\n",
    "fig.show()"
   ]
  },
  {
   "cell_type": "code",
   "execution_count": null,
   "metadata": {},
   "outputs": [],
   "source": [
    "print(f\"Max von 2011 : {df_time.loc['2011']['Bookings'].idxmax()} mit {df_time.loc['2011']['Bookings'].max()} Bookings\")\n",
    "print(f\"Min von 2011 : {df_time.loc['2011']['Bookings'].idxmin()} mit {df_time.loc['2011']['Bookings'].min()} Bookings\")\n",
    "print(f\"Max von 2012 : {df_time.loc['2012']['Bookings'].idxmax()} mit {df_time.loc['2012']['Bookings'].max()} Bookings\")\n",
    "print(f\"Min von 2012 : {df_time.loc['2012']['Bookings'].idxmin()} mit {df_time.loc['2012']['Bookings'].min()} Bookings\")"
   ]
  },
  {
   "cell_type": "markdown",
   "metadata": {},
   "source": [
    "Auf beiden Kurven kann ein positiver Trend gesehen werden, jedoch können auch Saisonale Einflüsse erkannt werden, welche je nach Monat die Verkaufszahlen beeinflussen. In den Jahren 2011 und 2012 war der Monat Januar jeweils der Monat mit den meisten Verkäufen, während 2011 im Juli und 2012 im Semptember die Menge der Bookings am größten war. Allerdings konnten selbst im Januar 2012  die Bookings um 255%(56588) im Vergleich zum Januar 2011 gesteigert werden. "
   ]
  },
  {
   "cell_type": "markdown",
   "metadata": {},
   "source": [
    "Im Folgenden werden die Additiven und die Multiplikativen Veränderungen der Zeitreihe zwischen den Monaten angeschaut, die Rote Linie in den Diagrammen signalisiert hierbei ob der absolute Wert größer oder kleiner als im voerherigen Monat ist, abhängig ob der Wert auf dem Diagramm über oder unter der Linie ist. "
   ]
  },
  {
   "cell_type": "code",
   "execution_count": null,
   "metadata": {},
   "outputs": [],
   "source": [
    "fig = px.line(df_time.reset_index(), x = 'datetime', y = 'Mul', title='Relative Veränderung von Bookings pro Monat')\n",
    "fig.add_shape(type = 'line', xref='paper', x0=0, x1=12, opacity=0.5, line_color = 'red', \n",
    "              y0=1, y1=1)\n",
    "fig.show()"
   ]
  },
  {
   "cell_type": "code",
   "execution_count": null,
   "metadata": {},
   "outputs": [],
   "source": [
    "fig = px.line(df_time.reset_index(), x = 'datetime', y = 'Add', title='Additive Veränderung von Bookings pro Monat')\n",
    "fig.add_shape(type = 'line', xref='paper', x0=0, x1=12, opacity=0.5, line_color = 'red', \n",
    "              y0=0, y1=0)\n",
    "fig.show()"
   ]
  },
  {
   "cell_type": "code",
   "execution_count": null,
   "metadata": {},
   "outputs": [],
   "source": [
    "# Ermittlung der Regressionsgerade\n",
    "from sklearn.linear_model import LinearRegression\n",
    "\n",
    "X = df_time[['Monat_t']]\n",
    "y = df_time[['Bookings']]\n",
    "\n",
    "model = LinearRegression(fit_intercept=True) # Verschiebung auf der y-Achse wird zugelassen\n",
    "model.fit(X,y)\n",
    "df_time['Prediction'] = model.predict(X)\n",
    "print('Regressionsfunktion aus Statistik : y = ax + b')\n",
    "print(f\"Koeffizient a = {round(float(model.coef_), 2)}\")\n",
    "print(f\"Koeffizient b = {round(float(model.intercept_), 2)}\")"
   ]
  },
  {
   "cell_type": "markdown",
   "metadata": {},
   "source": [
    "Mittles Sklearn lässt sich die Regressionsgerade für die Bookings ermitteln, dise stellt eine Trendgerade für die Zeitreihe dar. Für die Trendgerade ergibt sich die Gleichung, y = 5760.29 * t + 65330.56, also pro Monat erhöht sich der Trend um 5760.29 Bookings mit einem Anfangswert von 65330.56 Bookings.  "
   ]
  },
  {
   "cell_type": "code",
   "execution_count": null,
   "metadata": {},
   "outputs": [],
   "source": [
    "# Visualierung der Trendgerade und den monatlichen Werten\n",
    "px.line(df_time.reset_index(), x = 'datetime', y = ['Bookings', 'Prediction'], title = 'Bookings pro Monat und die Trendkomponente der Zeitreihe')"
   ]
  },
  {
   "cell_type": "code",
   "execution_count": null,
   "metadata": {},
   "outputs": [],
   "source": [
    "# Visualierung des Unterschieds zwischen den Trendgeraden und den monatlichen Werten\n",
    "df_time['Unterschied_Prognose'] = df_time['Bookings'] - df_time['Prediction']\n",
    "fig = px.area(df_time.reset_index(), x = 'datetime', y = 'Unterschied_Prognose', title='Unterschied zum Trend')\n",
    "fig.add_shape(type = 'line', xref='paper', x0=0, x1=12, opacity=0.5, line_color = 'red', \n",
    "              y0=0, y1=0)"
   ]
  },
  {
   "cell_type": "markdown",
   "metadata": {},
   "source": [
    "Auf dem Diagramm können die Schwankungen der Zeitreihe um die Trendgerade beobachtet werden, man erkennt hier, dass die Schwankungen periodisch sind, also in manchen Perioden liegt der eigentliche Wert über dem Trend und in manchen Phasen unter dem Trend. "
   ]
  },
  {
   "cell_type": "code",
   "execution_count": null,
   "metadata": {},
   "outputs": [],
   "source": [
    "# Ermittlung der Saisonalen Einflüsse\n",
    "df_time['Monat'] = pd.DatetimeIndex(df_time.index).month # Monat wird aus dem Index extrahiert. \n",
    "\n",
    "# Gruppierung nach dem Monat liefert die durschnittliche Abweichung pro Monat\n",
    "df_time_seasonal = df_time.groupby(['Monat'], as_index=False)[['Unterschied_Prognose']].mean()\n",
    "df_time_seasonal.columns = ['Monat', 'Saisonale_Komponente']\n",
    "\n",
    "# Die durchschnittliche Abweichung wird dem df hinzugefügt\n",
    "df_time_sc = pd.merge(df_time.reset_index(), df_time_seasonal, on = 'Monat').sort_values('datetime')\n",
    "df_time_sc = df_time_sc.set_index('datetime')\n",
    "\n",
    "# durch Addition des Trends mit den monatlichen Werten ergibt sich ein erster Verlauf\n",
    "df_time_sc['Seasonal_Prediction'] = df_time_sc['Prediction'] + df_time_sc['Saisonale_Komponente']\n",
    "df_time_sc"
   ]
  },
  {
   "cell_type": "code",
   "execution_count": null,
   "metadata": {},
   "outputs": [],
   "source": [
    "px.line(df_time_sc.reset_index(), x = 'datetime', y = ['Bookings','Prediction', 'Seasonal_Prediction'],\n",
    "         title = 'Bookings, Trendgerade und eine erste Vorsage für 2011 und 2012')"
   ]
  },
  {
   "cell_type": "markdown",
   "metadata": {},
   "source": [
    "## Vorhersage für die zukünftigen Monate\n",
    "### Werden die Saisonalen Werte zu dem jeweiligen Wert der Trendgerade addiert kann eine erste Vorhersage aufgestellt werden"
   ]
  },
  {
   "cell_type": "code",
   "execution_count": null,
   "metadata": {},
   "outputs": [],
   "source": [
    "# Erstellung eines DF welcher das Jahr 2013 enthält\n",
    "df_2013_22 = pd.DataFrame(pd.date_range(start = '2013-01-01', end='2013-12-31', freq='M'))\n",
    "df_2013_22.columns = ['datetime']\n",
    "df_2013_22['Jahr'] = df_2013_22.datetime.dt.year\n",
    "df_2013_22['Monat'] = df_2013_22.datetime.dt.month\n",
    "df_2013_22['Monat_t'] = range(25,37)  \n",
    "\n",
    "# Bildung der Trendgerade\n",
    "df_2013_22['Prediction'] = model.predict(df_2013_22[['Monat_t']])\n",
    "\n",
    "# monatliche Abweichungen werden zum df hinzugefügt und addiert\n",
    "df_2013_22 = pd.merge(df_2013_22, df_time_seasonal, on='Monat').sort_values('datetime')\n",
    "df_2013_22['Seasonal_Prediction'] = df_2013_22['Prediction'] + df_2013_22['Saisonale_Komponente']\n",
    "df_2013_22['datetime'] = pd.to_datetime(df_2013_22['datetime'])\n",
    "df_2013_22 = df_2013_22.set_index('datetime')\n",
    "df_2013_22"
   ]
  },
  {
   "cell_type": "code",
   "execution_count": null,
   "metadata": {},
   "outputs": [],
   "source": [
    "# die Prognose für das Jahr 2013 wird an den monatlichen DF angeheftet\n",
    "df_viz = df_time_sc[['Bookings', 'Seasonal_Prediction', 'Prediction']]\n",
    "df_viz = pd.concat([df_viz, df_2013_22[['Seasonal_Prediction', 'Prediction']]])\n",
    "df_viz"
   ]
  },
  {
   "cell_type": "code",
   "execution_count": null,
   "metadata": {},
   "outputs": [],
   "source": [
    "# Änderung der Formatierung\n",
    "fig = px.line(df_viz.reset_index(), x = 'datetime', y = ['Seasonal_Prediction', 'Prediction', 'Bookings'],\n",
    "        title='Bookings bis 2013 und Trend/Vorhersage bis Ende 2014')\n",
    "\n",
    "# fig.update_layout(plot_bgcolor = \"#fff\", x_axis = 15)\n",
    "# fig.update_traces(line = {'color' : 'Black', 'width' : 2})\n",
    "fig"
   ]
  },
  {
   "cell_type": "code",
   "execution_count": null,
   "metadata": {},
   "outputs": [],
   "source": [
    "from statsmodels.tsa.holtwinters import ExponentialSmoothing\n",
    "from statsmodels.tsa.ar_model import AutoReg\n",
    "\n",
    "model1 = ExponentialSmoothing(df_time_sc['Bookings'],\n",
    "                             freq = 'M',\n",
    "                             trend = 'add', \n",
    "                             seasonal = 'add',\n",
    "                             seasonal_periods = 12).fit(smoothing_level = 0.9)\n",
    "\n",
    "model2 = ExponentialSmoothing(df_time_sc['Bookings'],\n",
    "                             freq = 'M',\n",
    "                             trend = 'add', \n",
    "                             seasonal = 'add',\n",
    "                             seasonal_periods = 12).fit(smoothing_level = 0.1)\n",
    "\n",
    "df_time_sc.index = pd.to_datetime(df_time_sc.index)\n",
    "\n",
    "model_autoreg = AutoReg(df_time_sc['Bookings'],None,trend='ct', seasonal=True, period = 12) # period in DF information\n",
    "res = model_autoreg.fit()\n",
    "\n",
    "\n",
    "df_viz['Exponential_Smoothing0.9'] = model1.predict(start = 0, end = 36)\n",
    "df_viz['Exponential_Smoothing0.1'] = model2.predict(start = 0, end = 36)\n",
    "df_viz['AutoReg'] = res.predict(start = 0, end = 36)"
   ]
  },
  {
   "cell_type": "code",
   "execution_count": null,
   "metadata": {},
   "outputs": [],
   "source": [
    "# Hintergrundfarbe ändern\n",
    "fig = px.line(df_viz.reset_index(), x = 'datetime', y = ['Seasonal_Prediction', 'Prediction', 'Bookings', 'Exponential_Smoothing0.9', 'Exponential_Smoothing0.1', 'AutoReg'],\n",
    "        title='Bookings bis 2013 und Trend/Vorhersage bis Ende 2014', markers = True)\n",
    "\n",
    "fig.show()"
   ]
  },
  {
   "cell_type": "code",
   "execution_count": null,
   "metadata": {},
   "outputs": [],
   "source": [
    "fig = px.area(df_viz.loc[ : '2012'], y = 'Bookings',\n",
    "        title='Bookings bis 2013 und Trend/Vorhersage bis Ende 2014')\n",
    "\n",
    "fig.update_traces(line = {'color' : 'lightGreen', 'width' : 0.3})\n",
    "\n",
    "fig.add_scatter(x = df_viz.reset_index()['datetime'], y = df_viz.reset_index()['Prediction'], line = {'dash' : 'dot'}, name='Trend')\n",
    "fig.add_scatter(x = df_viz.reset_index()['datetime'], y = df_viz.reset_index()['Seasonal_Prediction'], line = {'color' : 'purple'}, name='Prognose' )\n",
    "fig.add_scatter(x = df_viz.reset_index()['datetime'], y = df_viz.reset_index()['Exponential_Smoothing0.9'], line = {'color' : 'blue'}, name='Exponentielle_Glättung_0.9')\n",
    "fig.add_scatter(x = df_viz.reset_index()['datetime'], y = df_viz.reset_index()['Exponential_Smoothing0.1'], line = {'color' : '#2E8B57'}, name='Exponentielle_Glättung_0.1')\n",
    "\n",
    "\n",
    "fig.show()"
   ]
  },
  {
   "cell_type": "code",
   "execution_count": null,
   "metadata": {},
   "outputs": [],
   "source": [
    "# Ermittlung des Modells mit geringster Abweichung\n",
    "from sklearn.metrics import r2_score\n",
    "\n",
    "df_met = df_viz.loc[ : '2012']\n",
    "print(r2_score(df_met['Bookings'], df_met['Seasonal_Prediction'])) # -> am höchsten da es nicht geglättet ist!\n",
    "print(r2_score(df_met['Bookings'], df_met['Exponential_Smoothing0.9']))\n",
    "print(r2_score(df_met['Bookings'], df_met['Exponential_Smoothing0.1']))\n",
    "print(r2_score(df_met['Bookings'], df_met['Exponential_Smoothing0.1']))\n",
    "print(r2_score(df_met['Bookings'], df_met['AutoReg']))"
   ]
  },
  {
   "cell_type": "code",
   "execution_count": null,
   "metadata": {},
   "outputs": [],
   "source": [
    "print(f\"Max von 2013 : {df_viz.loc['2013' : ]['AutoReg'].idxmax()} mit {df_viz.loc['2013' : ]['AutoReg'].max()} Bookings\")\n",
    "print(f\"Min von 2013 : {df_viz.loc['2013' : ]['AutoReg'].idxmin()} mit {df_viz.loc['2013' : ]['AutoReg'].min()} Bookings\")\n",
    "print(f\"Durchschnitt von 2013 : Average = {df_viz.loc['2013' : ]['AutoReg'].mean()} Bookings\")\n",
    "print(f\"Summe von 2013 : Summe = {df_viz.loc['2013' : ]['AutoReg'].sum()} Bookings\")\n",
    "print(f\"Die Prozentuale Veränderung gegenüber 2012 : {round((df_viz.loc['2013' : ]['AutoReg'].sum() / df_viz.loc['2012']['Bookings'].sum() -1 ) * 100,2)}%\")"
   ]
  },
  {
   "cell_type": "markdown",
   "metadata": {},
   "source": [
    "Die Bildung einer Prognose für die zukünftigen Jahre ist dabei möglich durch die lineare Fortschreibung sowie mit der exponentiellen Glättung. Man erhält hier je nach Parameter und Methode verschiedene Prognosewerte für 2013 mit der Annahme, dass die bisherige Entwicklung in der Zukunft weiterläuft. Ein Modell sieht dabei für 2013 den Januar mit 168362 Buchungen als schwächsten Monat und den Juni mit 277493 Buchungen als stärksten Monat. Des Weiteren werden 241019 Buchungen im Schnitt vorhergesagt und für das gesamte Jahr 2892233 Buchungen. Dies entspricht einem Wachstum gegenüber 2012 von 40.53%. "
   ]
  },
  {
   "cell_type": "markdown",
   "metadata": {},
   "source": [
    "## Tägliche Vorhersage mittels der Regressionsanalyse"
   ]
  },
  {
   "cell_type": "markdown",
   "metadata": {},
   "source": [
    "Eine Fragestellung, welche sich eher auf das operationale Tagesgeschäft bezieht und dabei die einzelnen Elemente unserer Analyse vereint, ist die Vorhersage der täglichen Nutzung der Scooter und dessen Einflussfaktoren."
   ]
  },
  {
   "cell_type": "code",
   "execution_count": null,
   "metadata": {},
   "outputs": [],
   "source": [
    "df_day['weather_name']\n",
    "px.scatter(df_day, x = 'atemp', y = 'Bookings', color = 'year')"
   ]
  },
  {
   "cell_type": "markdown",
   "metadata": {},
   "source": [
    "Auf dem Scatterplot kann bereits erkannt werden,dass ein Zusammenhang zwischen der gefühlten Temperatur und den Bookings vorliegt. Da die Bookings über die Jahre hinweg zugenommen haben, wird der Zusammenhang noch größer wenn man ihn abhängig vom Jahr betrachtet"
   ]
  },
  {
   "cell_type": "code",
   "execution_count": null,
   "metadata": {},
   "outputs": [],
   "source": [
    "print(f\"Korrelation zwischen Bookings und atemp : {np.corrcoef(df_day['Bookings'], df_day['atemp'])[0,1]}\")\n",
    "mask = (df_day.year == 2011) \n",
    "print(f\"Korrelation zwischen Bookings und atemp im Jahr 2011 : {np.corrcoef(df_day[mask]['Bookings'], df_day[mask]['atemp'])[0,1]}\")\n",
    "mask = df_day.year == 2012\n",
    "print(f\"Korrelation zwischen Bookings und atemp im Jahr 2012 : {np.corrcoef(df_day[mask]['Bookings'], df_day[mask]['atemp'])[0,1]}\")\n"
   ]
  },
  {
   "cell_type": "markdown",
   "metadata": {},
   "source": [
    "\n",
    "Wird die allgemeine Steigerung der Bookings zwischen 2019 und 2020 beachtet, also dass im Durchschnitt täglich 65.8% mehr gefahren wurde, so ergibt sich eine Korrelation zwischen „atemp“ und „Bookings“ für das Jahr 2011 von 0.79 und für 2012 ergibt sich 0.72. \n"
   ]
  },
  {
   "cell_type": "code",
   "execution_count": null,
   "metadata": {},
   "outputs": [],
   "source": [
    "\n",
    "mask = df_day['year'] == 2011\n",
    "px.scatter(df_day[mask], x = 'atemp', y = 'Bookings', color = 'month')\n"
   ]
  },
  {
   "cell_type": "code",
   "execution_count": null,
   "metadata": {},
   "outputs": [],
   "source": [
    "Des Weiteren muss auch die monatliche Steigerung der Bookings beachtet werden, da es einen allgemeinen Trend über das Jahr gibt. Bei Betrachtung des Scatterplots kann man erkennen, dass spätere Monate im Jahr oftmals bei einer selben gefühlten Temperatur eine höhere Zahl an Bookings haben. Betrachtet man beispielsweise den Januar und den Dezember, hat der Dezember oft bei gleicher Temperatur, über viele Werte hinweg, mehr Bookings. \n"
   ]
  },
  {
   "cell_type": "code",
   "execution_count": null,
   "metadata": {},
   "outputs": [],
   "source": [
    "\n",
    "df_day.groupby(['weather_clear, few clouds'])['Bookings'].mean()\n",
    "df_day.groupby(['weather_cloudy, mist'])['Bookings'].mean()\n",
    "df_day.groupby(['weather_light snow or rain or thunderstorm'])['Bookings'].mean()\n"
   ]
  },
  {
   "cell_type": "code",
   "execution_count": null,
   "metadata": {},
   "outputs": [],
   "source": [
    "\n",
    "from sklearn.linear_model import LinearRegression, Ridge, Lasso\n",
    "from sklearn.preprocessing import MinMaxScaler\n",
    "from sklearn.model_selection import train_test_split\n",
    "from sklearn.metrics import r2_score\n",
    "\n",
    "x = df_day[['atemp', 'year', 'weather_clear, few clouds',    \n",
    "            'weather_light snow or rain or thunderstorm','month']]\n",
    "y = df_day[['Bookings']]\n",
    "\n",
    "scaler = MinMaxScaler()\n",
    "scaler.fit(x, y)\n",
    "x = scaler.transform(x)\n",
    "\n",
    "# poly = PolynomialFeatures()\n",
    "# x = poly.fit_transform(x)\n",
    "\n",
    "X_train, X_test, y_train, y_test = train_test_split(x, y , test_size=0.8, random_state=42)\n",
    "\n",
    "model = Lasso()\n",
    "model.fit(x,y)\n",
    "print(r2_score(y_train, model.predict(X_train)))\n",
    "print(r2_score(y_test, model.predict(X_test)))\n",
    "model.coef_\n"
   ]
  },
  {
   "cell_type": "code",
   "execution_count": null,
   "metadata": {},
   "outputs": [],
   "source": [
    "\n",
    "df_coef = pd.DataFrame(model.coef_.reshape(1,-1), columns=['atemp', 'Jahr', 'weather_clear, few clouds', \n",
    "            'weather_light snow or rain or thunderstorm', 'Monat'] )\n",
    "df_coef\n"
   ]
  },
  {
   "cell_type": "code",
   "execution_count": null,
   "metadata": {},
   "outputs": [],
   "source": [
    "\n",
    "df_day['Predict'] = model.predict(x)\n",
    "px.line(df_day, x = 'datetime', y = ['Bookings', 'Predict'])\n"
   ]
  },
  {
   "cell_type": "markdown",
   "metadata": {},
   "source": [
    "\n",
    "## Modell mit besserem r2 Score\n"
   ]
  },
  {
   "cell_type": "markdown",
   "metadata": {},
   "source": [
    "\n",
    "Benutzt man bei dem Modell mehr Features wie Beispielsweise Workingday, Windspeed und Humidity wird das Modell zwar komplexer, allerdings wird hier die Annahme getroffen, dass das Modell durch die Erhöhung der Informationen auch genauere Vorhersgaen treffen kann. Außerdem kann mit der Wetterspalte der r2_score erhöht werden, dieser war zuvor Dummy-codiert wobei immer der Wert welcher an dem Tag am meisten vorgekommen ist eine 1 hatte und die anderen Werte eine 0. Mit der Verwendung von einer prozentualen Skalierung bekommt das Modell so mehr Informationen. Das Wetter am 1. Januar wäre zur Interpretation also zu 31.17% klar gewesen, so 61.45% bewölkt und so 7.36% hat es geschneit.\n"
   ]
  },
  {
   "cell_type": "code",
   "execution_count": null,
   "metadata": {},
   "outputs": [],
   "source": [
    "\n",
    "df_dummy = pd.get_dummies(df[['datetime', 'weather_name']], columns=['weather_name'])\n",
    "df_dummy = df_dummy.groupby(['datetime']).mean()\n",
    "df_dummy.index = pd.to_datetime(df_dummy.index)\n",
    "df_dummy = df_dummy.resample('d').mean()\n",
    "df_dummy = df_dummy.reset_index()\n",
    "df_dummy.columns = ['datetime', 'weather_clear', 'weather_cloudy', 'weather_heavy', 'weather_snow']\n",
    "df_dummy.head()\n"
   ]
  },
  {
   "cell_type": "code",
   "execution_count": null,
   "metadata": {},
   "outputs": [],
   "source": [
    "\n",
    "df_reg = pd.merge(df_day, df_dummy, on = 'datetime')\n",
    "df_reg.head()\n"
   ]
  },
  {
   "cell_type": "code",
   "execution_count": null,
   "metadata": {},
   "outputs": [],
   "source": [
    "\n",
    "from sklearn.preprocessing import MinMaxScaler, PolynomialFeatures\n",
    "\n",
    "col = ['atemp', 'humidity','windspeed', 'year',\n",
    "       'workingday', 'weather_clear', 'weather_cloudy', 'weather_heavy', 'weather_snow', 'month']\n",
    "xdf_wm = df_reg[col]\n",
    "xdf_wm = pd.get_dummies(xdf_wm, columns=['month', 'year'])\n",
    "ydf_wm = df_reg[['Bookings']]\n",
    "\n",
    "# Linear Regression\n",
    "X_train, X_test, y_train, y_test = train_test_split(xdf_wm, ydf_wm, test_size=0.2, random_state=42)\n",
    "\n",
    "model = LinearRegression()\n",
    "model.fit(X_train, y_train)\n",
    "print(r2_score(y_train, model.predict(X_train)))\n",
    "print(r2_score(y_test, model.predict(X_test)))\n"
   ]
  },
  {
   "cell_type": "code",
   "execution_count": null,
   "metadata": {},
   "outputs": [],
   "source": [
    "\n",
    "df_day['Prediction'] = model.predict(xdf_wm)\n",
    "px.line(df_day, x = 'Datum', y = ['Bookings', 'Prediction'])\n"
   ]
  },
  {
   "cell_type": "markdown",
   "metadata": {},
   "source": [
    "\n",
    "Das neue Modell mit einer erhöhten Anzahl an Features erreicht auf den Trainingsdaten einen Wert von 0.8945 und auf den Testdaten von 0.8893, die Features erhöhen also das Modell. Den besten R2_Score erziehlt das Modell wenn Interaktionen zwischen den Features erlaubt werden. Dies klappt unter anderem gut weil wir einen Spezialfall der Interaktion zwischen qualitativen Features welche Dummy-Kodiert sind und quantitativen Features haben. Das Modell erreicht einen R2_Score von 0.9518 auf den Trainingsdaten und 0.941 auf den Testdaten. Werden in einem Liniendiagramm die eigentlichen Werte mit den Predictions des Modells verglichen, kann erkannt werden, dass das Modell zwar nicht die gesamte Varianz der Daten erklären kann, allerdings ist die Tendenz des Modells nahe an den eigentlichen Werten und das sogar bei Ausreiserwerten. Gerade stärkere Schwankunden kann das Modell so erkennen. \n"
   ]
  },
  {
   "cell_type": "code",
   "execution_count": null,
   "metadata": {},
   "outputs": [],
   "source": [
    "\n",
    "from sklearn.preprocessing import MinMaxScaler, PolynomialFeatures\n",
    "\n",
    "col = ['atemp', 'humidity','windspeed', 'year',\n",
    "       'workingday', 'weather_clear', 'weather_cloudy', 'weather_heavy', 'weather_snow', 'month']\n",
    "xdf_wm = df_reg[col]\n",
    "xdf_wm = pd.get_dummies(xdf_wm, columns=['month', 'year'])\n",
    "ydf_wm = df_reg[['Bookings']]\n",
    "\n",
    "# Interaction Term\n",
    "poly = PolynomialFeatures(interaction_only=True)\n",
    "xdf_wm = poly.fit_transform(xdf_wm)\n",
    "\n",
    "# Linear Regression\n",
    "X_train, X_test, y_train, y_test = train_test_split(xdf_wm, ydf_wm, test_size=0.33, random_state=42)\n",
    "\n",
    "model = Ridge()\n",
    "model.fit(X_train, y_train)\n",
    "print(r2_score(y_train, model.predict(X_train)))\n",
    "print(r2_score(y_test, model.predict(X_test)))\n"
   ]
  },
  {
   "cell_type": "code",
   "execution_count": null,
   "metadata": {},
   "outputs": [],
   "source": [
    "\n",
    "df_day['Prediction'] = model.predict(xdf_wm)\n",
    "px.line(df_day, x = 'Datum', y = ['Bookings', 'Prediction'], title = 'Vergleich zwischen Modell und eigentlichen Werten')\n"
   ]
  },
  {
   "cell_type": "markdown",
   "metadata": {},
   "source": [
    "\n",
    "# Regression auf Stunde\n"
   ]
  },
  {
   "cell_type": "markdown",
   "metadata": {},
   "source": [
    "\n",
    "Da nun ein Modell besteht welches die täglichen Werte prognostiziert steht natürlich die Vermutung im Raum ob es auch ein Modell gibt welches die stündlichen Werte vorhersagt. Gerade da eine Abhängigkeit besteht zwischen der Tageszeit und den Bookings zu dieser Tageszeit, welche durch Bedingungen wie, ob es sich um einen Arbeitstag handelt, verstärkt werden kann.(Verweis auf vorherige Analysen.) Da die Werte zu den jeweiligen Tageszeiten stündlichen Schwankungen unterliegen werden diese durch die Bildung von Dummy-Variablen beachtet. Das Modell erreicht hier einen Score von 0.9 auf den Trainingsdaten und 0.8878 auf den Testdaten. Bei genauerer Betrachtung des Modells fällt allerdings auf, dass oftmals in den frühen Morgestunden in denen die niedrigste tägliche Nutzung vorliegt, das Modell negative Werte prognostiziert. Damit diser Effekt verhindert werden kann, werden alle Prognosen welche kleiner als 0 sind als 0 angenommen, also das zu dieser Stunde niemand fährt. Nichtsdestotrotz, wird in den Daten nach einem spezifischen Kalenderwoche gefiltert(Beispiel KW:32, 2011), sieht man, dass das Modell die stündlichen Schwankungen erkennt. Beispielsweise erkennt das Modell die Entwicklung an einem Arbeitstag und das morgentliche und abendliche Hoch in der Nutzung. Auch das Wochenende und die veränderte stündliche Nutzung am Wochenende kann hier erkannt werden. "
   ]
  },
  {
   "cell_type": "code",
   "execution_count": null,
   "metadata": {},
   "outputs": [],
   "source": [
    "df_dummy = pd.get_dummies(df[['datetime', 'weather_name']], columns=['weather_name'])\n",
    "df_dummy = df_dummy.groupby(['datetime']).mean()\n",
    "df_dummy.index = pd.to_datetime(df_dummy.index)\n",
    "df_dummy = df_dummy.resample('h').mean()\n",
    "df_dummy = df_dummy.reset_index()\n",
    "df_dummy.head()\n"
   ]
  },
  {
   "cell_type": "code",
   "execution_count": null,
   "metadata": {},
   "outputs": [],
   "source": [
    "df_hourlyy = pd.merge(df_hourly, df_dummy, on = 'datetime')\n"
   ]
  },
  {
   "cell_type": "code",
   "execution_count": null,
   "metadata": {},
   "outputs": [],
   "source": [
    "\n",
    "from sklearn.preprocessing import MinMaxScaler, PolynomialFeatures\n",
    "\n",
    "col = ['atemp', 'humidity','windspeed', 'year','workingday', \n",
    "       'month', 'hour', 'weather_name_clear, few clouds', 'weather_name_cloudy, mist', 'weather_name_heavy rain or thunderstorm or snow or ice pallets', 'weather_name_light snow or rain or thunderstorm']\n",
    "xdf_wm = df_hourlyy[col]\n",
    "ydf_wm = df_hourlyy[['Bookings']]\n",
    "xdf_wm = pd.get_dummies(xdf_wm, columns=['month', 'hour'])\n",
    "\n",
    "# Interaction Term\n",
    "poly = PolynomialFeatures(interaction_only=True)\n",
    "xdf_wm = poly.fit_transform(xdf_wm)\n",
    "\n",
    "# Linear Regression\n",
    "X_train, X_test, y_train, y_test = train_test_split(xdf_wm, ydf_wm, test_size=0.35, random_state=42)\n",
    "\n",
    "model = Ridge()\n",
    "model.fit(X_train, y_train)\n",
    "print(r2_score(y_train, model.predict(X_train)))\n",
    "print(r2_score(y_test, model.predict(X_test)))\n"
   ]
  },
  {
   "cell_type": "code",
   "execution_count": null,
   "metadata": {},
   "outputs": [],
   "source": [
    "\n",
    "df_hourlyy['Prediction'] = model.predict(xdf_wm).round()\n",
    "df_hourlyy.head()\n",
    "def get_null(val):\n",
    "    if val < 0:\n",
    "        return 0\n",
    "    else:\n",
    "        return val\n",
    "df_hourlyy['Prediction'] = df_hourlyy['Prediction'].apply(get_null)\n",
    "print(r2_score(df_hourlyy['Bookings'], df_hourlyy['Prediction']))\n"
   ]
  },
  {
   "cell_type": "code",
   "execution_count": null,
   "metadata": {},
   "outputs": [],
   "source": [
    "\n",
    "mask = (df_hourlyy['year'] == 2011) & (df_hourlyy['month'] == 8)\n",
    "px.line(df_hourlyy[mask], x = 'datetime', y = ['Bookings', 'Prediciton'])\n"
   ]
  },
  {
   "cell_type": "code",
   "execution_count": null,
   "metadata": {},
   "outputs": [],
   "source": [
    "\n",
    "mask = (df_hourlyy['year'] == 2011) & (df_hourlyy['month'] == 8) & (df_hourlyy['week_of_year'] == 32)\n",
    "fig = px.line(df_hourlyy[mask].reset_index(), x = 'datetime', y = 'Bookings',\n",
    "        title = 'Vergleich zwischen den stündlichen Bookings und der Prognose in der Kalenderwoche 32 im Jahr 2011')\n",
    "fig.add_scatter(x = df_hourlyy[mask].reset_index()['datetime'], y = df_hourlyy[mask]['Prediction'], line = {'dash' : 'dot'}, name='Trend')\n"
   ]
  },
  {
   "cell_type": "code",
   "execution_count": null,
   "metadata": {},
   "outputs": [],
   "source": [
    "\n",
    "## Resampling auf Tagesebene\n",
    "\n",
    "df_hourlyy = df_hourlyy.set_index('datetime')\n",
    "df_day_pred = df_hourlyy.resample('d').sum()\n",
    "df_day_pred.head()\n"
   ]
  },
  {
   "cell_type": "code",
   "execution_count": null,
   "metadata": {},
   "outputs": [],
   "source": [
    "\n",
    "px.line(df_day_pred.reset_index(), x = 'datetime', y = ['Bookings', 'Prediciton'])\n"
   ]
  },
  {
   "cell_type": "code",
   "execution_count": null,
   "metadata": {},
   "outputs": [],
   "source": [
    "\n",
    "r2_score(df_day_pred['Bookings'], df_day_pred['Prediction'])\n"
   ]
  },
  {
   "cell_type": "code",
   "execution_count": null,
   "metadata": {},
   "outputs": [],
   "source": [
    "col = ['atemp', 'humidity','windspeed', 'year', 'month', 'workingday']\n",
    "xdf_wm = df_day[col]\n",
    "ydf_wm = df_day[['Bookings']]\n",
    "# Interaction Term\n",
    "poly = PolynomialFeatures()\n",
    "xdf_wm = poly.fit_transform(xdf_wm)\n",
    "\n",
    "X_train, X_test, y_train, y_test = train_test_split(xdf_wm, ydf_wm, test_size=0.2, random_state=42)\n",
    "\n",
    "model = LinearRegression(fit_intercept=True)\n",
    "model.fit(X_train, y_train)\n",
    "print(r2_score(y_train, model.predict(X_train)))\n",
    "print(r2_score(y_test, model.predict(X_test)))\n"
   ]
  },
  {
   "cell_type": "code",
   "execution_count": null,
   "metadata": {},
   "outputs": [],
   "source": [
    "\n",
    "df_dummy = pd.get_dummies(df[['datetime', 'weather']])\n",
    "df_dummy['Datum'] = df_dummy.datetime.dt.date\n",
    "df_dummy = df_dummy.groupby(['Datum']).mean()\n",
    "df_dummy = df_dummy.reset_index()\n",
    "df_dummy"
   ]
  }
 ],
 "metadata": {
  "kernelspec": {
   "display_name": "Python 3",
   "language": "python",
   "name": "python3"
  },
  "language_info": {
   "codemirror_mode": {
    "name": "ipython",
    "version": 3
   },
   "file_extension": ".py",
   "mimetype": "text/x-python",
   "name": "python",
   "nbconvert_exporter": "python",
   "pygments_lexer": "ipython3",
   "version": "3.9.7"
  }
 },
 "nbformat": 4,
 "nbformat_minor": 4
}
